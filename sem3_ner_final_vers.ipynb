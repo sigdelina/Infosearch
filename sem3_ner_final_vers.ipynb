{
  "nbformat": 4,
  "nbformat_minor": 0,
  "metadata": {
    "kernelspec": {
      "display_name": "Python 3",
      "language": "python",
      "name": "python3"
    },
    "language_info": {
      "codemirror_mode": {
        "name": "ipython",
        "version": 3
      },
      "file_extension": ".py",
      "mimetype": "text/x-python",
      "name": "python",
      "nbconvert_exporter": "python",
      "pygments_lexer": "ipython3",
      "version": "3.7.6"
    },
    "colab": {
      "name": "sem3_ner.ipynb",
      "provenance": [],
      "toc_visible": true
    },
    "widgets": {
      "application/vnd.jupyter.widget-state+json": {
        "760f4526b5d843e2a4c3b7aaedcb0c02": {
          "model_module": "@jupyter-widgets/controls",
          "model_name": "HBoxModel",
          "state": {
            "_view_name": "HBoxView",
            "_dom_classes": [],
            "_model_name": "HBoxModel",
            "_view_module": "@jupyter-widgets/controls",
            "_model_module_version": "1.5.0",
            "_view_count": null,
            "_view_module_version": "1.5.0",
            "box_style": "",
            "layout": "IPY_MODEL_51c2a94208aa4810910fd8ff9ac69815",
            "_model_module": "@jupyter-widgets/controls",
            "children": [
              "IPY_MODEL_9f762ee02aa245028528670b898a2312",
              "IPY_MODEL_6842ccafb2d14e88a25cd0a3876262fb"
            ]
          }
        },
        "51c2a94208aa4810910fd8ff9ac69815": {
          "model_module": "@jupyter-widgets/base",
          "model_name": "LayoutModel",
          "state": {
            "_view_name": "LayoutView",
            "grid_template_rows": null,
            "right": null,
            "justify_content": null,
            "_view_module": "@jupyter-widgets/base",
            "overflow": null,
            "_model_module_version": "1.2.0",
            "_view_count": null,
            "flex_flow": null,
            "width": null,
            "min_width": null,
            "border": null,
            "align_items": null,
            "bottom": null,
            "_model_module": "@jupyter-widgets/base",
            "top": null,
            "grid_column": null,
            "overflow_y": null,
            "overflow_x": null,
            "grid_auto_flow": null,
            "grid_area": null,
            "grid_template_columns": null,
            "flex": null,
            "_model_name": "LayoutModel",
            "justify_items": null,
            "grid_row": null,
            "max_height": null,
            "align_content": null,
            "visibility": null,
            "align_self": null,
            "height": null,
            "min_height": null,
            "padding": null,
            "grid_auto_rows": null,
            "grid_gap": null,
            "max_width": null,
            "order": null,
            "_view_module_version": "1.2.0",
            "grid_template_areas": null,
            "object_position": null,
            "object_fit": null,
            "grid_auto_columns": null,
            "margin": null,
            "display": null,
            "left": null
          }
        },
        "9f762ee02aa245028528670b898a2312": {
          "model_module": "@jupyter-widgets/controls",
          "model_name": "FloatProgressModel",
          "state": {
            "_view_name": "ProgressView",
            "style": "IPY_MODEL_1cb87a25903f41c0b6b956a5dd41521e",
            "_dom_classes": [],
            "description": "",
            "_model_name": "FloatProgressModel",
            "bar_style": "success",
            "max": 1,
            "_view_module": "@jupyter-widgets/controls",
            "_model_module_version": "1.5.0",
            "value": 1,
            "_view_count": null,
            "_view_module_version": "1.5.0",
            "orientation": "horizontal",
            "min": 0,
            "description_tooltip": null,
            "_model_module": "@jupyter-widgets/controls",
            "layout": "IPY_MODEL_407396bbc0bb4a3ea2137a22191ccd98"
          }
        },
        "6842ccafb2d14e88a25cd0a3876262fb": {
          "model_module": "@jupyter-widgets/controls",
          "model_name": "HTMLModel",
          "state": {
            "_view_name": "HTMLView",
            "style": "IPY_MODEL_9fe27707127c43b1b7c99f2afd984975",
            "_dom_classes": [],
            "description": "",
            "_model_name": "HTMLModel",
            "placeholder": "​",
            "_view_module": "@jupyter-widgets/controls",
            "_model_module_version": "1.5.0",
            "value": " 43/? [00:10&lt;00:00,  4.16it/s]",
            "_view_count": null,
            "_view_module_version": "1.5.0",
            "description_tooltip": null,
            "_model_module": "@jupyter-widgets/controls",
            "layout": "IPY_MODEL_091789ca9faa425eb8b630517df25662"
          }
        },
        "1cb87a25903f41c0b6b956a5dd41521e": {
          "model_module": "@jupyter-widgets/controls",
          "model_name": "ProgressStyleModel",
          "state": {
            "_view_name": "StyleView",
            "_model_name": "ProgressStyleModel",
            "description_width": "initial",
            "_view_module": "@jupyter-widgets/base",
            "_model_module_version": "1.5.0",
            "_view_count": null,
            "_view_module_version": "1.2.0",
            "bar_color": null,
            "_model_module": "@jupyter-widgets/controls"
          }
        },
        "407396bbc0bb4a3ea2137a22191ccd98": {
          "model_module": "@jupyter-widgets/base",
          "model_name": "LayoutModel",
          "state": {
            "_view_name": "LayoutView",
            "grid_template_rows": null,
            "right": null,
            "justify_content": null,
            "_view_module": "@jupyter-widgets/base",
            "overflow": null,
            "_model_module_version": "1.2.0",
            "_view_count": null,
            "flex_flow": null,
            "width": null,
            "min_width": null,
            "border": null,
            "align_items": null,
            "bottom": null,
            "_model_module": "@jupyter-widgets/base",
            "top": null,
            "grid_column": null,
            "overflow_y": null,
            "overflow_x": null,
            "grid_auto_flow": null,
            "grid_area": null,
            "grid_template_columns": null,
            "flex": null,
            "_model_name": "LayoutModel",
            "justify_items": null,
            "grid_row": null,
            "max_height": null,
            "align_content": null,
            "visibility": null,
            "align_self": null,
            "height": null,
            "min_height": null,
            "padding": null,
            "grid_auto_rows": null,
            "grid_gap": null,
            "max_width": null,
            "order": null,
            "_view_module_version": "1.2.0",
            "grid_template_areas": null,
            "object_position": null,
            "object_fit": null,
            "grid_auto_columns": null,
            "margin": null,
            "display": null,
            "left": null
          }
        },
        "9fe27707127c43b1b7c99f2afd984975": {
          "model_module": "@jupyter-widgets/controls",
          "model_name": "DescriptionStyleModel",
          "state": {
            "_view_name": "StyleView",
            "_model_name": "DescriptionStyleModel",
            "description_width": "",
            "_view_module": "@jupyter-widgets/base",
            "_model_module_version": "1.5.0",
            "_view_count": null,
            "_view_module_version": "1.2.0",
            "_model_module": "@jupyter-widgets/controls"
          }
        },
        "091789ca9faa425eb8b630517df25662": {
          "model_module": "@jupyter-widgets/base",
          "model_name": "LayoutModel",
          "state": {
            "_view_name": "LayoutView",
            "grid_template_rows": null,
            "right": null,
            "justify_content": null,
            "_view_module": "@jupyter-widgets/base",
            "overflow": null,
            "_model_module_version": "1.2.0",
            "_view_count": null,
            "flex_flow": null,
            "width": null,
            "min_width": null,
            "border": null,
            "align_items": null,
            "bottom": null,
            "_model_module": "@jupyter-widgets/base",
            "top": null,
            "grid_column": null,
            "overflow_y": null,
            "overflow_x": null,
            "grid_auto_flow": null,
            "grid_area": null,
            "grid_template_columns": null,
            "flex": null,
            "_model_name": "LayoutModel",
            "justify_items": null,
            "grid_row": null,
            "max_height": null,
            "align_content": null,
            "visibility": null,
            "align_self": null,
            "height": null,
            "min_height": null,
            "padding": null,
            "grid_auto_rows": null,
            "grid_gap": null,
            "max_width": null,
            "order": null,
            "_view_module_version": "1.2.0",
            "grid_template_areas": null,
            "object_position": null,
            "object_fit": null,
            "grid_auto_columns": null,
            "margin": null,
            "display": null,
            "left": null
          }
        },
        "cd10dd35cc794ebf8e95851cc2a88507": {
          "model_module": "@jupyter-widgets/controls",
          "model_name": "HBoxModel",
          "state": {
            "_view_name": "HBoxView",
            "_dom_classes": [],
            "_model_name": "HBoxModel",
            "_view_module": "@jupyter-widgets/controls",
            "_model_module_version": "1.5.0",
            "_view_count": null,
            "_view_module_version": "1.5.0",
            "box_style": "",
            "layout": "IPY_MODEL_bfcb471f26854a3c8e3bea53a512d98f",
            "_model_module": "@jupyter-widgets/controls",
            "children": [
              "IPY_MODEL_221b12ad683c474381ee68762ee071f3",
              "IPY_MODEL_36439fd7d67749f5a9e5ffd87632f370"
            ]
          }
        },
        "bfcb471f26854a3c8e3bea53a512d98f": {
          "model_module": "@jupyter-widgets/base",
          "model_name": "LayoutModel",
          "state": {
            "_view_name": "LayoutView",
            "grid_template_rows": null,
            "right": null,
            "justify_content": null,
            "_view_module": "@jupyter-widgets/base",
            "overflow": null,
            "_model_module_version": "1.2.0",
            "_view_count": null,
            "flex_flow": null,
            "width": null,
            "min_width": null,
            "border": null,
            "align_items": null,
            "bottom": null,
            "_model_module": "@jupyter-widgets/base",
            "top": null,
            "grid_column": null,
            "overflow_y": null,
            "overflow_x": null,
            "grid_auto_flow": null,
            "grid_area": null,
            "grid_template_columns": null,
            "flex": null,
            "_model_name": "LayoutModel",
            "justify_items": null,
            "grid_row": null,
            "max_height": null,
            "align_content": null,
            "visibility": null,
            "align_self": null,
            "height": null,
            "min_height": null,
            "padding": null,
            "grid_auto_rows": null,
            "grid_gap": null,
            "max_width": null,
            "order": null,
            "_view_module_version": "1.2.0",
            "grid_template_areas": null,
            "object_position": null,
            "object_fit": null,
            "grid_auto_columns": null,
            "margin": null,
            "display": null,
            "left": null
          }
        },
        "221b12ad683c474381ee68762ee071f3": {
          "model_module": "@jupyter-widgets/controls",
          "model_name": "FloatProgressModel",
          "state": {
            "_view_name": "ProgressView",
            "style": "IPY_MODEL_1ce10b53d18d49a89bbb9b0da4d1c9c1",
            "_dom_classes": [],
            "description": "",
            "_model_name": "FloatProgressModel",
            "bar_style": "success",
            "max": 1,
            "_view_module": "@jupyter-widgets/controls",
            "_model_module_version": "1.5.0",
            "value": 1,
            "_view_count": null,
            "_view_module_version": "1.5.0",
            "orientation": "horizontal",
            "min": 0,
            "description_tooltip": null,
            "_model_module": "@jupyter-widgets/controls",
            "layout": "IPY_MODEL_c5987041ec5e42c6a399ffaa8c4f5a41"
          }
        },
        "36439fd7d67749f5a9e5ffd87632f370": {
          "model_module": "@jupyter-widgets/controls",
          "model_name": "HTMLModel",
          "state": {
            "_view_name": "HTMLView",
            "style": "IPY_MODEL_a4b44251dc06427cbfd0c8669808a7e8",
            "_dom_classes": [],
            "description": "",
            "_model_name": "HTMLModel",
            "placeholder": "​",
            "_view_module": "@jupyter-widgets/controls",
            "_model_module_version": "1.5.0",
            "value": " 2299/? [12:35&lt;00:00,  3.04it/s]",
            "_view_count": null,
            "_view_module_version": "1.5.0",
            "description_tooltip": null,
            "_model_module": "@jupyter-widgets/controls",
            "layout": "IPY_MODEL_2211a4d8f228403a8e8021df21173f4c"
          }
        },
        "1ce10b53d18d49a89bbb9b0da4d1c9c1": {
          "model_module": "@jupyter-widgets/controls",
          "model_name": "ProgressStyleModel",
          "state": {
            "_view_name": "StyleView",
            "_model_name": "ProgressStyleModel",
            "description_width": "initial",
            "_view_module": "@jupyter-widgets/base",
            "_model_module_version": "1.5.0",
            "_view_count": null,
            "_view_module_version": "1.2.0",
            "bar_color": null,
            "_model_module": "@jupyter-widgets/controls"
          }
        },
        "c5987041ec5e42c6a399ffaa8c4f5a41": {
          "model_module": "@jupyter-widgets/base",
          "model_name": "LayoutModel",
          "state": {
            "_view_name": "LayoutView",
            "grid_template_rows": null,
            "right": null,
            "justify_content": null,
            "_view_module": "@jupyter-widgets/base",
            "overflow": null,
            "_model_module_version": "1.2.0",
            "_view_count": null,
            "flex_flow": null,
            "width": null,
            "min_width": null,
            "border": null,
            "align_items": null,
            "bottom": null,
            "_model_module": "@jupyter-widgets/base",
            "top": null,
            "grid_column": null,
            "overflow_y": null,
            "overflow_x": null,
            "grid_auto_flow": null,
            "grid_area": null,
            "grid_template_columns": null,
            "flex": null,
            "_model_name": "LayoutModel",
            "justify_items": null,
            "grid_row": null,
            "max_height": null,
            "align_content": null,
            "visibility": null,
            "align_self": null,
            "height": null,
            "min_height": null,
            "padding": null,
            "grid_auto_rows": null,
            "grid_gap": null,
            "max_width": null,
            "order": null,
            "_view_module_version": "1.2.0",
            "grid_template_areas": null,
            "object_position": null,
            "object_fit": null,
            "grid_auto_columns": null,
            "margin": null,
            "display": null,
            "left": null
          }
        },
        "a4b44251dc06427cbfd0c8669808a7e8": {
          "model_module": "@jupyter-widgets/controls",
          "model_name": "DescriptionStyleModel",
          "state": {
            "_view_name": "StyleView",
            "_model_name": "DescriptionStyleModel",
            "description_width": "",
            "_view_module": "@jupyter-widgets/base",
            "_model_module_version": "1.5.0",
            "_view_count": null,
            "_view_module_version": "1.2.0",
            "_model_module": "@jupyter-widgets/controls"
          }
        },
        "2211a4d8f228403a8e8021df21173f4c": {
          "model_module": "@jupyter-widgets/base",
          "model_name": "LayoutModel",
          "state": {
            "_view_name": "LayoutView",
            "grid_template_rows": null,
            "right": null,
            "justify_content": null,
            "_view_module": "@jupyter-widgets/base",
            "overflow": null,
            "_model_module_version": "1.2.0",
            "_view_count": null,
            "flex_flow": null,
            "width": null,
            "min_width": null,
            "border": null,
            "align_items": null,
            "bottom": null,
            "_model_module": "@jupyter-widgets/base",
            "top": null,
            "grid_column": null,
            "overflow_y": null,
            "overflow_x": null,
            "grid_auto_flow": null,
            "grid_area": null,
            "grid_template_columns": null,
            "flex": null,
            "_model_name": "LayoutModel",
            "justify_items": null,
            "grid_row": null,
            "max_height": null,
            "align_content": null,
            "visibility": null,
            "align_self": null,
            "height": null,
            "min_height": null,
            "padding": null,
            "grid_auto_rows": null,
            "grid_gap": null,
            "max_width": null,
            "order": null,
            "_view_module_version": "1.2.0",
            "grid_template_areas": null,
            "object_position": null,
            "object_fit": null,
            "grid_auto_columns": null,
            "margin": null,
            "display": null,
            "left": null
          }
        },
        "c13b17a2fba0485b9d922846a5db55b5": {
          "model_module": "@jupyter-widgets/controls",
          "model_name": "HBoxModel",
          "state": {
            "_view_name": "HBoxView",
            "_dom_classes": [],
            "_model_name": "HBoxModel",
            "_view_module": "@jupyter-widgets/controls",
            "_model_module_version": "1.5.0",
            "_view_count": null,
            "_view_module_version": "1.5.0",
            "box_style": "",
            "layout": "IPY_MODEL_a7835dc6f5a041c2bb93a1129561ac7e",
            "_model_module": "@jupyter-widgets/controls",
            "children": [
              "IPY_MODEL_79b95562a59d4a1b9ab20d2cc6c6361e",
              "IPY_MODEL_9f96732fa2d84684b4aafa1d8a3b1cbc"
            ]
          }
        },
        "a7835dc6f5a041c2bb93a1129561ac7e": {
          "model_module": "@jupyter-widgets/base",
          "model_name": "LayoutModel",
          "state": {
            "_view_name": "LayoutView",
            "grid_template_rows": null,
            "right": null,
            "justify_content": null,
            "_view_module": "@jupyter-widgets/base",
            "overflow": null,
            "_model_module_version": "1.2.0",
            "_view_count": null,
            "flex_flow": null,
            "width": null,
            "min_width": null,
            "border": null,
            "align_items": null,
            "bottom": null,
            "_model_module": "@jupyter-widgets/base",
            "top": null,
            "grid_column": null,
            "overflow_y": null,
            "overflow_x": null,
            "grid_auto_flow": null,
            "grid_area": null,
            "grid_template_columns": null,
            "flex": null,
            "_model_name": "LayoutModel",
            "justify_items": null,
            "grid_row": null,
            "max_height": null,
            "align_content": null,
            "visibility": null,
            "align_self": null,
            "height": null,
            "min_height": null,
            "padding": null,
            "grid_auto_rows": null,
            "grid_gap": null,
            "max_width": null,
            "order": null,
            "_view_module_version": "1.2.0",
            "grid_template_areas": null,
            "object_position": null,
            "object_fit": null,
            "grid_auto_columns": null,
            "margin": null,
            "display": null,
            "left": null
          }
        },
        "79b95562a59d4a1b9ab20d2cc6c6361e": {
          "model_module": "@jupyter-widgets/controls",
          "model_name": "FloatProgressModel",
          "state": {
            "_view_name": "ProgressView",
            "style": "IPY_MODEL_fd8010f2f5c64a6f98f589bdfcdcaff9",
            "_dom_classes": [],
            "description": "",
            "_model_name": "FloatProgressModel",
            "bar_style": "success",
            "max": 1,
            "_view_module": "@jupyter-widgets/controls",
            "_model_module_version": "1.5.0",
            "value": 1,
            "_view_count": null,
            "_view_module_version": "1.5.0",
            "orientation": "horizontal",
            "min": 0,
            "description_tooltip": null,
            "_model_module": "@jupyter-widgets/controls",
            "layout": "IPY_MODEL_3ac9c8bbe76f48418e1934e3bfbdb5a7"
          }
        },
        "9f96732fa2d84684b4aafa1d8a3b1cbc": {
          "model_module": "@jupyter-widgets/controls",
          "model_name": "HTMLModel",
          "state": {
            "_view_name": "HTMLView",
            "style": "IPY_MODEL_253ee40b16f14106b0e166b3f963b8dc",
            "_dom_classes": [],
            "description": "",
            "_model_name": "HTMLModel",
            "placeholder": "​",
            "_view_module": "@jupyter-widgets/controls",
            "_model_module_version": "1.5.0",
            "value": " 43/? [01:48&lt;00:00,  2.51s/it]",
            "_view_count": null,
            "_view_module_version": "1.5.0",
            "description_tooltip": null,
            "_model_module": "@jupyter-widgets/controls",
            "layout": "IPY_MODEL_a561ec053f26420380e7d0fb98b0143e"
          }
        },
        "fd8010f2f5c64a6f98f589bdfcdcaff9": {
          "model_module": "@jupyter-widgets/controls",
          "model_name": "ProgressStyleModel",
          "state": {
            "_view_name": "StyleView",
            "_model_name": "ProgressStyleModel",
            "description_width": "initial",
            "_view_module": "@jupyter-widgets/base",
            "_model_module_version": "1.5.0",
            "_view_count": null,
            "_view_module_version": "1.2.0",
            "bar_color": null,
            "_model_module": "@jupyter-widgets/controls"
          }
        },
        "3ac9c8bbe76f48418e1934e3bfbdb5a7": {
          "model_module": "@jupyter-widgets/base",
          "model_name": "LayoutModel",
          "state": {
            "_view_name": "LayoutView",
            "grid_template_rows": null,
            "right": null,
            "justify_content": null,
            "_view_module": "@jupyter-widgets/base",
            "overflow": null,
            "_model_module_version": "1.2.0",
            "_view_count": null,
            "flex_flow": null,
            "width": null,
            "min_width": null,
            "border": null,
            "align_items": null,
            "bottom": null,
            "_model_module": "@jupyter-widgets/base",
            "top": null,
            "grid_column": null,
            "overflow_y": null,
            "overflow_x": null,
            "grid_auto_flow": null,
            "grid_area": null,
            "grid_template_columns": null,
            "flex": null,
            "_model_name": "LayoutModel",
            "justify_items": null,
            "grid_row": null,
            "max_height": null,
            "align_content": null,
            "visibility": null,
            "align_self": null,
            "height": null,
            "min_height": null,
            "padding": null,
            "grid_auto_rows": null,
            "grid_gap": null,
            "max_width": null,
            "order": null,
            "_view_module_version": "1.2.0",
            "grid_template_areas": null,
            "object_position": null,
            "object_fit": null,
            "grid_auto_columns": null,
            "margin": null,
            "display": null,
            "left": null
          }
        },
        "253ee40b16f14106b0e166b3f963b8dc": {
          "model_module": "@jupyter-widgets/controls",
          "model_name": "DescriptionStyleModel",
          "state": {
            "_view_name": "StyleView",
            "_model_name": "DescriptionStyleModel",
            "description_width": "",
            "_view_module": "@jupyter-widgets/base",
            "_model_module_version": "1.5.0",
            "_view_count": null,
            "_view_module_version": "1.2.0",
            "_model_module": "@jupyter-widgets/controls"
          }
        },
        "a561ec053f26420380e7d0fb98b0143e": {
          "model_module": "@jupyter-widgets/base",
          "model_name": "LayoutModel",
          "state": {
            "_view_name": "LayoutView",
            "grid_template_rows": null,
            "right": null,
            "justify_content": null,
            "_view_module": "@jupyter-widgets/base",
            "overflow": null,
            "_model_module_version": "1.2.0",
            "_view_count": null,
            "flex_flow": null,
            "width": null,
            "min_width": null,
            "border": null,
            "align_items": null,
            "bottom": null,
            "_model_module": "@jupyter-widgets/base",
            "top": null,
            "grid_column": null,
            "overflow_y": null,
            "overflow_x": null,
            "grid_auto_flow": null,
            "grid_area": null,
            "grid_template_columns": null,
            "flex": null,
            "_model_name": "LayoutModel",
            "justify_items": null,
            "grid_row": null,
            "max_height": null,
            "align_content": null,
            "visibility": null,
            "align_self": null,
            "height": null,
            "min_height": null,
            "padding": null,
            "grid_auto_rows": null,
            "grid_gap": null,
            "max_width": null,
            "order": null,
            "_view_module_version": "1.2.0",
            "grid_template_areas": null,
            "object_position": null,
            "object_fit": null,
            "grid_auto_columns": null,
            "margin": null,
            "display": null,
            "left": null
          }
        },
        "16aaf349e4ff4bfdb46815f8f7d3a345": {
          "model_module": "@jupyter-widgets/controls",
          "model_name": "HBoxModel",
          "state": {
            "_view_name": "HBoxView",
            "_dom_classes": [],
            "_model_name": "HBoxModel",
            "_view_module": "@jupyter-widgets/controls",
            "_model_module_version": "1.5.0",
            "_view_count": null,
            "_view_module_version": "1.5.0",
            "box_style": "",
            "layout": "IPY_MODEL_e6e63e885df64b99832bf81c0fddd55a",
            "_model_module": "@jupyter-widgets/controls",
            "children": [
              "IPY_MODEL_67bb48c657124104bb468e38a3c50737",
              "IPY_MODEL_9771de63d8d543d19ef5ceb2c36b3dc1"
            ]
          }
        },
        "e6e63e885df64b99832bf81c0fddd55a": {
          "model_module": "@jupyter-widgets/base",
          "model_name": "LayoutModel",
          "state": {
            "_view_name": "LayoutView",
            "grid_template_rows": null,
            "right": null,
            "justify_content": null,
            "_view_module": "@jupyter-widgets/base",
            "overflow": null,
            "_model_module_version": "1.2.0",
            "_view_count": null,
            "flex_flow": null,
            "width": null,
            "min_width": null,
            "border": null,
            "align_items": null,
            "bottom": null,
            "_model_module": "@jupyter-widgets/base",
            "top": null,
            "grid_column": null,
            "overflow_y": null,
            "overflow_x": null,
            "grid_auto_flow": null,
            "grid_area": null,
            "grid_template_columns": null,
            "flex": null,
            "_model_name": "LayoutModel",
            "justify_items": null,
            "grid_row": null,
            "max_height": null,
            "align_content": null,
            "visibility": null,
            "align_self": null,
            "height": null,
            "min_height": null,
            "padding": null,
            "grid_auto_rows": null,
            "grid_gap": null,
            "max_width": null,
            "order": null,
            "_view_module_version": "1.2.0",
            "grid_template_areas": null,
            "object_position": null,
            "object_fit": null,
            "grid_auto_columns": null,
            "margin": null,
            "display": null,
            "left": null
          }
        },
        "67bb48c657124104bb468e38a3c50737": {
          "model_module": "@jupyter-widgets/controls",
          "model_name": "FloatProgressModel",
          "state": {
            "_view_name": "ProgressView",
            "style": "IPY_MODEL_887fa6060d0244aa92b9fdf6f0751dd8",
            "_dom_classes": [],
            "description": "",
            "_model_name": "FloatProgressModel",
            "bar_style": "success",
            "max": 1,
            "_view_module": "@jupyter-widgets/controls",
            "_model_module_version": "1.5.0",
            "value": 1,
            "_view_count": null,
            "_view_module_version": "1.5.0",
            "orientation": "horizontal",
            "min": 0,
            "description_tooltip": null,
            "_model_module": "@jupyter-widgets/controls",
            "layout": "IPY_MODEL_54c26303855f4e47a3402b1f79c25946"
          }
        },
        "9771de63d8d543d19ef5ceb2c36b3dc1": {
          "model_module": "@jupyter-widgets/controls",
          "model_name": "HTMLModel",
          "state": {
            "_view_name": "HTMLView",
            "style": "IPY_MODEL_86c9a46f3e8c4ababdf6be61b24c672b",
            "_dom_classes": [],
            "description": "",
            "_model_name": "HTMLModel",
            "placeholder": "​",
            "_view_module": "@jupyter-widgets/controls",
            "_model_module_version": "1.5.0",
            "value": " 2299/? [45:09&lt;00:00,  1.18s/it]",
            "_view_count": null,
            "_view_module_version": "1.5.0",
            "description_tooltip": null,
            "_model_module": "@jupyter-widgets/controls",
            "layout": "IPY_MODEL_06daf4f599674255b15086369c845dc1"
          }
        },
        "887fa6060d0244aa92b9fdf6f0751dd8": {
          "model_module": "@jupyter-widgets/controls",
          "model_name": "ProgressStyleModel",
          "state": {
            "_view_name": "StyleView",
            "_model_name": "ProgressStyleModel",
            "description_width": "initial",
            "_view_module": "@jupyter-widgets/base",
            "_model_module_version": "1.5.0",
            "_view_count": null,
            "_view_module_version": "1.2.0",
            "bar_color": null,
            "_model_module": "@jupyter-widgets/controls"
          }
        },
        "54c26303855f4e47a3402b1f79c25946": {
          "model_module": "@jupyter-widgets/base",
          "model_name": "LayoutModel",
          "state": {
            "_view_name": "LayoutView",
            "grid_template_rows": null,
            "right": null,
            "justify_content": null,
            "_view_module": "@jupyter-widgets/base",
            "overflow": null,
            "_model_module_version": "1.2.0",
            "_view_count": null,
            "flex_flow": null,
            "width": null,
            "min_width": null,
            "border": null,
            "align_items": null,
            "bottom": null,
            "_model_module": "@jupyter-widgets/base",
            "top": null,
            "grid_column": null,
            "overflow_y": null,
            "overflow_x": null,
            "grid_auto_flow": null,
            "grid_area": null,
            "grid_template_columns": null,
            "flex": null,
            "_model_name": "LayoutModel",
            "justify_items": null,
            "grid_row": null,
            "max_height": null,
            "align_content": null,
            "visibility": null,
            "align_self": null,
            "height": null,
            "min_height": null,
            "padding": null,
            "grid_auto_rows": null,
            "grid_gap": null,
            "max_width": null,
            "order": null,
            "_view_module_version": "1.2.0",
            "grid_template_areas": null,
            "object_position": null,
            "object_fit": null,
            "grid_auto_columns": null,
            "margin": null,
            "display": null,
            "left": null
          }
        },
        "86c9a46f3e8c4ababdf6be61b24c672b": {
          "model_module": "@jupyter-widgets/controls",
          "model_name": "DescriptionStyleModel",
          "state": {
            "_view_name": "StyleView",
            "_model_name": "DescriptionStyleModel",
            "description_width": "",
            "_view_module": "@jupyter-widgets/base",
            "_model_module_version": "1.5.0",
            "_view_count": null,
            "_view_module_version": "1.2.0",
            "_model_module": "@jupyter-widgets/controls"
          }
        },
        "06daf4f599674255b15086369c845dc1": {
          "model_module": "@jupyter-widgets/base",
          "model_name": "LayoutModel",
          "state": {
            "_view_name": "LayoutView",
            "grid_template_rows": null,
            "right": null,
            "justify_content": null,
            "_view_module": "@jupyter-widgets/base",
            "overflow": null,
            "_model_module_version": "1.2.0",
            "_view_count": null,
            "flex_flow": null,
            "width": null,
            "min_width": null,
            "border": null,
            "align_items": null,
            "bottom": null,
            "_model_module": "@jupyter-widgets/base",
            "top": null,
            "grid_column": null,
            "overflow_y": null,
            "overflow_x": null,
            "grid_auto_flow": null,
            "grid_area": null,
            "grid_template_columns": null,
            "flex": null,
            "_model_name": "LayoutModel",
            "justify_items": null,
            "grid_row": null,
            "max_height": null,
            "align_content": null,
            "visibility": null,
            "align_self": null,
            "height": null,
            "min_height": null,
            "padding": null,
            "grid_auto_rows": null,
            "grid_gap": null,
            "max_width": null,
            "order": null,
            "_view_module_version": "1.2.0",
            "grid_template_areas": null,
            "object_position": null,
            "object_fit": null,
            "grid_auto_columns": null,
            "margin": null,
            "display": null,
            "left": null
          }
        },
        "821a310732a140f9a4fb82f4794d670e": {
          "model_module": "@jupyter-widgets/controls",
          "model_name": "HBoxModel",
          "state": {
            "_view_name": "HBoxView",
            "_dom_classes": [],
            "_model_name": "HBoxModel",
            "_view_module": "@jupyter-widgets/controls",
            "_model_module_version": "1.5.0",
            "_view_count": null,
            "_view_module_version": "1.5.0",
            "box_style": "",
            "layout": "IPY_MODEL_6ff241a44b3d4b30b75e1efca08b29ea",
            "_model_module": "@jupyter-widgets/controls",
            "children": [
              "IPY_MODEL_baf198b1c97d45549e4fcd2259d63b78",
              "IPY_MODEL_cd35903e69e94fb28ba807186b27ea23"
            ]
          }
        },
        "6ff241a44b3d4b30b75e1efca08b29ea": {
          "model_module": "@jupyter-widgets/base",
          "model_name": "LayoutModel",
          "state": {
            "_view_name": "LayoutView",
            "grid_template_rows": null,
            "right": null,
            "justify_content": null,
            "_view_module": "@jupyter-widgets/base",
            "overflow": null,
            "_model_module_version": "1.2.0",
            "_view_count": null,
            "flex_flow": null,
            "width": null,
            "min_width": null,
            "border": null,
            "align_items": null,
            "bottom": null,
            "_model_module": "@jupyter-widgets/base",
            "top": null,
            "grid_column": null,
            "overflow_y": null,
            "overflow_x": null,
            "grid_auto_flow": null,
            "grid_area": null,
            "grid_template_columns": null,
            "flex": null,
            "_model_name": "LayoutModel",
            "justify_items": null,
            "grid_row": null,
            "max_height": null,
            "align_content": null,
            "visibility": null,
            "align_self": null,
            "height": null,
            "min_height": null,
            "padding": null,
            "grid_auto_rows": null,
            "grid_gap": null,
            "max_width": null,
            "order": null,
            "_view_module_version": "1.2.0",
            "grid_template_areas": null,
            "object_position": null,
            "object_fit": null,
            "grid_auto_columns": null,
            "margin": null,
            "display": null,
            "left": null
          }
        },
        "baf198b1c97d45549e4fcd2259d63b78": {
          "model_module": "@jupyter-widgets/controls",
          "model_name": "FloatProgressModel",
          "state": {
            "_view_name": "ProgressView",
            "style": "IPY_MODEL_e6b4d07570724afbbbed62d7cd269df3",
            "_dom_classes": [],
            "description": "100%",
            "_model_name": "FloatProgressModel",
            "bar_style": "success",
            "max": 1652,
            "_view_module": "@jupyter-widgets/controls",
            "_model_module_version": "1.5.0",
            "value": 1652,
            "_view_count": null,
            "_view_module_version": "1.5.0",
            "orientation": "horizontal",
            "min": 0,
            "description_tooltip": null,
            "_model_module": "@jupyter-widgets/controls",
            "layout": "IPY_MODEL_e7e28a0a379346fb9bb89b698510e364"
          }
        },
        "cd35903e69e94fb28ba807186b27ea23": {
          "model_module": "@jupyter-widgets/controls",
          "model_name": "HTMLModel",
          "state": {
            "_view_name": "HTMLView",
            "style": "IPY_MODEL_183707d5b17f4afa80b6b65956bfe831",
            "_dom_classes": [],
            "description": "",
            "_model_name": "HTMLModel",
            "placeholder": "​",
            "_view_module": "@jupyter-widgets/controls",
            "_model_module_version": "1.5.0",
            "value": " 1652/1652 [03:58&lt;00:00,  6.93it/s]",
            "_view_count": null,
            "_view_module_version": "1.5.0",
            "description_tooltip": null,
            "_model_module": "@jupyter-widgets/controls",
            "layout": "IPY_MODEL_e86e0ad0012a4a0b9137680fe9a48d96"
          }
        },
        "e6b4d07570724afbbbed62d7cd269df3": {
          "model_module": "@jupyter-widgets/controls",
          "model_name": "ProgressStyleModel",
          "state": {
            "_view_name": "StyleView",
            "_model_name": "ProgressStyleModel",
            "description_width": "initial",
            "_view_module": "@jupyter-widgets/base",
            "_model_module_version": "1.5.0",
            "_view_count": null,
            "_view_module_version": "1.2.0",
            "bar_color": null,
            "_model_module": "@jupyter-widgets/controls"
          }
        },
        "e7e28a0a379346fb9bb89b698510e364": {
          "model_module": "@jupyter-widgets/base",
          "model_name": "LayoutModel",
          "state": {
            "_view_name": "LayoutView",
            "grid_template_rows": null,
            "right": null,
            "justify_content": null,
            "_view_module": "@jupyter-widgets/base",
            "overflow": null,
            "_model_module_version": "1.2.0",
            "_view_count": null,
            "flex_flow": null,
            "width": null,
            "min_width": null,
            "border": null,
            "align_items": null,
            "bottom": null,
            "_model_module": "@jupyter-widgets/base",
            "top": null,
            "grid_column": null,
            "overflow_y": null,
            "overflow_x": null,
            "grid_auto_flow": null,
            "grid_area": null,
            "grid_template_columns": null,
            "flex": null,
            "_model_name": "LayoutModel",
            "justify_items": null,
            "grid_row": null,
            "max_height": null,
            "align_content": null,
            "visibility": null,
            "align_self": null,
            "height": null,
            "min_height": null,
            "padding": null,
            "grid_auto_rows": null,
            "grid_gap": null,
            "max_width": null,
            "order": null,
            "_view_module_version": "1.2.0",
            "grid_template_areas": null,
            "object_position": null,
            "object_fit": null,
            "grid_auto_columns": null,
            "margin": null,
            "display": null,
            "left": null
          }
        },
        "183707d5b17f4afa80b6b65956bfe831": {
          "model_module": "@jupyter-widgets/controls",
          "model_name": "DescriptionStyleModel",
          "state": {
            "_view_name": "StyleView",
            "_model_name": "DescriptionStyleModel",
            "description_width": "",
            "_view_module": "@jupyter-widgets/base",
            "_model_module_version": "1.5.0",
            "_view_count": null,
            "_view_module_version": "1.2.0",
            "_model_module": "@jupyter-widgets/controls"
          }
        },
        "e86e0ad0012a4a0b9137680fe9a48d96": {
          "model_module": "@jupyter-widgets/base",
          "model_name": "LayoutModel",
          "state": {
            "_view_name": "LayoutView",
            "grid_template_rows": null,
            "right": null,
            "justify_content": null,
            "_view_module": "@jupyter-widgets/base",
            "overflow": null,
            "_model_module_version": "1.2.0",
            "_view_count": null,
            "flex_flow": null,
            "width": null,
            "min_width": null,
            "border": null,
            "align_items": null,
            "bottom": null,
            "_model_module": "@jupyter-widgets/base",
            "top": null,
            "grid_column": null,
            "overflow_y": null,
            "overflow_x": null,
            "grid_auto_flow": null,
            "grid_area": null,
            "grid_template_columns": null,
            "flex": null,
            "_model_name": "LayoutModel",
            "justify_items": null,
            "grid_row": null,
            "max_height": null,
            "align_content": null,
            "visibility": null,
            "align_self": null,
            "height": null,
            "min_height": null,
            "padding": null,
            "grid_auto_rows": null,
            "grid_gap": null,
            "max_width": null,
            "order": null,
            "_view_module_version": "1.2.0",
            "grid_template_areas": null,
            "object_position": null,
            "object_fit": null,
            "grid_auto_columns": null,
            "margin": null,
            "display": null,
            "left": null
          }
        },
        "0b8878ce5dc84ab48aaac40187f65cb5": {
          "model_module": "@jupyter-widgets/controls",
          "model_name": "HBoxModel",
          "state": {
            "_view_name": "HBoxView",
            "_dom_classes": [],
            "_model_name": "HBoxModel",
            "_view_module": "@jupyter-widgets/controls",
            "_model_module_version": "1.5.0",
            "_view_count": null,
            "_view_module_version": "1.5.0",
            "box_style": "",
            "layout": "IPY_MODEL_361647da36cb4b05879afacd81150a1b",
            "_model_module": "@jupyter-widgets/controls",
            "children": [
              "IPY_MODEL_1ca7d59cacbb4858a5e182c7e406e457",
              "IPY_MODEL_1a1c33d109e544da91ad4549b8ab370b"
            ]
          }
        },
        "361647da36cb4b05879afacd81150a1b": {
          "model_module": "@jupyter-widgets/base",
          "model_name": "LayoutModel",
          "state": {
            "_view_name": "LayoutView",
            "grid_template_rows": null,
            "right": null,
            "justify_content": null,
            "_view_module": "@jupyter-widgets/base",
            "overflow": null,
            "_model_module_version": "1.2.0",
            "_view_count": null,
            "flex_flow": null,
            "width": null,
            "min_width": null,
            "border": null,
            "align_items": null,
            "bottom": null,
            "_model_module": "@jupyter-widgets/base",
            "top": null,
            "grid_column": null,
            "overflow_y": null,
            "overflow_x": null,
            "grid_auto_flow": null,
            "grid_area": null,
            "grid_template_columns": null,
            "flex": null,
            "_model_name": "LayoutModel",
            "justify_items": null,
            "grid_row": null,
            "max_height": null,
            "align_content": null,
            "visibility": null,
            "align_self": null,
            "height": null,
            "min_height": null,
            "padding": null,
            "grid_auto_rows": null,
            "grid_gap": null,
            "max_width": null,
            "order": null,
            "_view_module_version": "1.2.0",
            "grid_template_areas": null,
            "object_position": null,
            "object_fit": null,
            "grid_auto_columns": null,
            "margin": null,
            "display": null,
            "left": null
          }
        },
        "1ca7d59cacbb4858a5e182c7e406e457": {
          "model_module": "@jupyter-widgets/controls",
          "model_name": "FloatProgressModel",
          "state": {
            "_view_name": "ProgressView",
            "style": "IPY_MODEL_ffc2ce1bda0348909797f8800b83a14f",
            "_dom_classes": [],
            "description": "100%",
            "_model_name": "FloatProgressModel",
            "bar_style": "success",
            "max": 1652,
            "_view_module": "@jupyter-widgets/controls",
            "_model_module_version": "1.5.0",
            "value": 1652,
            "_view_count": null,
            "_view_module_version": "1.5.0",
            "orientation": "horizontal",
            "min": 0,
            "description_tooltip": null,
            "_model_module": "@jupyter-widgets/controls",
            "layout": "IPY_MODEL_8980f7e858dd46a7849b8a1417b0e696"
          }
        },
        "1a1c33d109e544da91ad4549b8ab370b": {
          "model_module": "@jupyter-widgets/controls",
          "model_name": "HTMLModel",
          "state": {
            "_view_name": "HTMLView",
            "style": "IPY_MODEL_b6d627847b42416e8c5fffab3e3cdca7",
            "_dom_classes": [],
            "description": "",
            "_model_name": "HTMLModel",
            "placeholder": "​",
            "_view_module": "@jupyter-widgets/controls",
            "_model_module_version": "1.5.0",
            "value": " 1652/1652 [02:36&lt;00:00, 10.54it/s]",
            "_view_count": null,
            "_view_module_version": "1.5.0",
            "description_tooltip": null,
            "_model_module": "@jupyter-widgets/controls",
            "layout": "IPY_MODEL_17f9ab837b97479b81b463fd26ace879"
          }
        },
        "ffc2ce1bda0348909797f8800b83a14f": {
          "model_module": "@jupyter-widgets/controls",
          "model_name": "ProgressStyleModel",
          "state": {
            "_view_name": "StyleView",
            "_model_name": "ProgressStyleModel",
            "description_width": "initial",
            "_view_module": "@jupyter-widgets/base",
            "_model_module_version": "1.5.0",
            "_view_count": null,
            "_view_module_version": "1.2.0",
            "bar_color": null,
            "_model_module": "@jupyter-widgets/controls"
          }
        },
        "8980f7e858dd46a7849b8a1417b0e696": {
          "model_module": "@jupyter-widgets/base",
          "model_name": "LayoutModel",
          "state": {
            "_view_name": "LayoutView",
            "grid_template_rows": null,
            "right": null,
            "justify_content": null,
            "_view_module": "@jupyter-widgets/base",
            "overflow": null,
            "_model_module_version": "1.2.0",
            "_view_count": null,
            "flex_flow": null,
            "width": null,
            "min_width": null,
            "border": null,
            "align_items": null,
            "bottom": null,
            "_model_module": "@jupyter-widgets/base",
            "top": null,
            "grid_column": null,
            "overflow_y": null,
            "overflow_x": null,
            "grid_auto_flow": null,
            "grid_area": null,
            "grid_template_columns": null,
            "flex": null,
            "_model_name": "LayoutModel",
            "justify_items": null,
            "grid_row": null,
            "max_height": null,
            "align_content": null,
            "visibility": null,
            "align_self": null,
            "height": null,
            "min_height": null,
            "padding": null,
            "grid_auto_rows": null,
            "grid_gap": null,
            "max_width": null,
            "order": null,
            "_view_module_version": "1.2.0",
            "grid_template_areas": null,
            "object_position": null,
            "object_fit": null,
            "grid_auto_columns": null,
            "margin": null,
            "display": null,
            "left": null
          }
        },
        "b6d627847b42416e8c5fffab3e3cdca7": {
          "model_module": "@jupyter-widgets/controls",
          "model_name": "DescriptionStyleModel",
          "state": {
            "_view_name": "StyleView",
            "_model_name": "DescriptionStyleModel",
            "description_width": "",
            "_view_module": "@jupyter-widgets/base",
            "_model_module_version": "1.5.0",
            "_view_count": null,
            "_view_module_version": "1.2.0",
            "_model_module": "@jupyter-widgets/controls"
          }
        },
        "17f9ab837b97479b81b463fd26ace879": {
          "model_module": "@jupyter-widgets/base",
          "model_name": "LayoutModel",
          "state": {
            "_view_name": "LayoutView",
            "grid_template_rows": null,
            "right": null,
            "justify_content": null,
            "_view_module": "@jupyter-widgets/base",
            "overflow": null,
            "_model_module_version": "1.2.0",
            "_view_count": null,
            "flex_flow": null,
            "width": null,
            "min_width": null,
            "border": null,
            "align_items": null,
            "bottom": null,
            "_model_module": "@jupyter-widgets/base",
            "top": null,
            "grid_column": null,
            "overflow_y": null,
            "overflow_x": null,
            "grid_auto_flow": null,
            "grid_area": null,
            "grid_template_columns": null,
            "flex": null,
            "_model_name": "LayoutModel",
            "justify_items": null,
            "grid_row": null,
            "max_height": null,
            "align_content": null,
            "visibility": null,
            "align_self": null,
            "height": null,
            "min_height": null,
            "padding": null,
            "grid_auto_rows": null,
            "grid_gap": null,
            "max_width": null,
            "order": null,
            "_view_module_version": "1.2.0",
            "grid_template_areas": null,
            "object_position": null,
            "object_fit": null,
            "grid_auto_columns": null,
            "margin": null,
            "display": null,
            "left": null
          }
        },
        "c75c90c2a9984e79addec8e8111ec77f": {
          "model_module": "@jupyter-widgets/controls",
          "model_name": "HBoxModel",
          "state": {
            "_view_name": "HBoxView",
            "_dom_classes": [],
            "_model_name": "HBoxModel",
            "_view_module": "@jupyter-widgets/controls",
            "_model_module_version": "1.5.0",
            "_view_count": null,
            "_view_module_version": "1.5.0",
            "box_style": "",
            "layout": "IPY_MODEL_75198a6f5afc49c493dfec814db6fa37",
            "_model_module": "@jupyter-widgets/controls",
            "children": [
              "IPY_MODEL_29ce1b88d52c4fc8a48442f70564314f",
              "IPY_MODEL_2def057ed4b544599a11c1c3c49642ea"
            ]
          }
        },
        "75198a6f5afc49c493dfec814db6fa37": {
          "model_module": "@jupyter-widgets/base",
          "model_name": "LayoutModel",
          "state": {
            "_view_name": "LayoutView",
            "grid_template_rows": null,
            "right": null,
            "justify_content": null,
            "_view_module": "@jupyter-widgets/base",
            "overflow": null,
            "_model_module_version": "1.2.0",
            "_view_count": null,
            "flex_flow": null,
            "width": null,
            "min_width": null,
            "border": null,
            "align_items": null,
            "bottom": null,
            "_model_module": "@jupyter-widgets/base",
            "top": null,
            "grid_column": null,
            "overflow_y": null,
            "overflow_x": null,
            "grid_auto_flow": null,
            "grid_area": null,
            "grid_template_columns": null,
            "flex": null,
            "_model_name": "LayoutModel",
            "justify_items": null,
            "grid_row": null,
            "max_height": null,
            "align_content": null,
            "visibility": null,
            "align_self": null,
            "height": null,
            "min_height": null,
            "padding": null,
            "grid_auto_rows": null,
            "grid_gap": null,
            "max_width": null,
            "order": null,
            "_view_module_version": "1.2.0",
            "grid_template_areas": null,
            "object_position": null,
            "object_fit": null,
            "grid_auto_columns": null,
            "margin": null,
            "display": null,
            "left": null
          }
        },
        "29ce1b88d52c4fc8a48442f70564314f": {
          "model_module": "@jupyter-widgets/controls",
          "model_name": "FloatProgressModel",
          "state": {
            "_view_name": "ProgressView",
            "style": "IPY_MODEL_73c5255c17394e7ca1fc30260250fb15",
            "_dom_classes": [],
            "description": "100%",
            "_model_name": "FloatProgressModel",
            "bar_style": "success",
            "max": 1652,
            "_view_module": "@jupyter-widgets/controls",
            "_model_module_version": "1.5.0",
            "value": 1652,
            "_view_count": null,
            "_view_module_version": "1.5.0",
            "orientation": "horizontal",
            "min": 0,
            "description_tooltip": null,
            "_model_module": "@jupyter-widgets/controls",
            "layout": "IPY_MODEL_54dbc38d146f41a2a0d4bb6992fdf6e7"
          }
        },
        "2def057ed4b544599a11c1c3c49642ea": {
          "model_module": "@jupyter-widgets/controls",
          "model_name": "HTMLModel",
          "state": {
            "_view_name": "HTMLView",
            "style": "IPY_MODEL_42cdda959b324919a3f44f6336f59a02",
            "_dom_classes": [],
            "description": "",
            "_model_name": "HTMLModel",
            "placeholder": "​",
            "_view_module": "@jupyter-widgets/controls",
            "_model_module_version": "1.5.0",
            "value": " 1652/1652 [01:15&lt;00:00, 21.95it/s]",
            "_view_count": null,
            "_view_module_version": "1.5.0",
            "description_tooltip": null,
            "_model_module": "@jupyter-widgets/controls",
            "layout": "IPY_MODEL_64b2f22d84bd49cba9e922ce133fe343"
          }
        },
        "73c5255c17394e7ca1fc30260250fb15": {
          "model_module": "@jupyter-widgets/controls",
          "model_name": "ProgressStyleModel",
          "state": {
            "_view_name": "StyleView",
            "_model_name": "ProgressStyleModel",
            "description_width": "initial",
            "_view_module": "@jupyter-widgets/base",
            "_model_module_version": "1.5.0",
            "_view_count": null,
            "_view_module_version": "1.2.0",
            "bar_color": null,
            "_model_module": "@jupyter-widgets/controls"
          }
        },
        "54dbc38d146f41a2a0d4bb6992fdf6e7": {
          "model_module": "@jupyter-widgets/base",
          "model_name": "LayoutModel",
          "state": {
            "_view_name": "LayoutView",
            "grid_template_rows": null,
            "right": null,
            "justify_content": null,
            "_view_module": "@jupyter-widgets/base",
            "overflow": null,
            "_model_module_version": "1.2.0",
            "_view_count": null,
            "flex_flow": null,
            "width": null,
            "min_width": null,
            "border": null,
            "align_items": null,
            "bottom": null,
            "_model_module": "@jupyter-widgets/base",
            "top": null,
            "grid_column": null,
            "overflow_y": null,
            "overflow_x": null,
            "grid_auto_flow": null,
            "grid_area": null,
            "grid_template_columns": null,
            "flex": null,
            "_model_name": "LayoutModel",
            "justify_items": null,
            "grid_row": null,
            "max_height": null,
            "align_content": null,
            "visibility": null,
            "align_self": null,
            "height": null,
            "min_height": null,
            "padding": null,
            "grid_auto_rows": null,
            "grid_gap": null,
            "max_width": null,
            "order": null,
            "_view_module_version": "1.2.0",
            "grid_template_areas": null,
            "object_position": null,
            "object_fit": null,
            "grid_auto_columns": null,
            "margin": null,
            "display": null,
            "left": null
          }
        },
        "42cdda959b324919a3f44f6336f59a02": {
          "model_module": "@jupyter-widgets/controls",
          "model_name": "DescriptionStyleModel",
          "state": {
            "_view_name": "StyleView",
            "_model_name": "DescriptionStyleModel",
            "description_width": "",
            "_view_module": "@jupyter-widgets/base",
            "_model_module_version": "1.5.0",
            "_view_count": null,
            "_view_module_version": "1.2.0",
            "_model_module": "@jupyter-widgets/controls"
          }
        },
        "64b2f22d84bd49cba9e922ce133fe343": {
          "model_module": "@jupyter-widgets/base",
          "model_name": "LayoutModel",
          "state": {
            "_view_name": "LayoutView",
            "grid_template_rows": null,
            "right": null,
            "justify_content": null,
            "_view_module": "@jupyter-widgets/base",
            "overflow": null,
            "_model_module_version": "1.2.0",
            "_view_count": null,
            "flex_flow": null,
            "width": null,
            "min_width": null,
            "border": null,
            "align_items": null,
            "bottom": null,
            "_model_module": "@jupyter-widgets/base",
            "top": null,
            "grid_column": null,
            "overflow_y": null,
            "overflow_x": null,
            "grid_auto_flow": null,
            "grid_area": null,
            "grid_template_columns": null,
            "flex": null,
            "_model_name": "LayoutModel",
            "justify_items": null,
            "grid_row": null,
            "max_height": null,
            "align_content": null,
            "visibility": null,
            "align_self": null,
            "height": null,
            "min_height": null,
            "padding": null,
            "grid_auto_rows": null,
            "grid_gap": null,
            "max_width": null,
            "order": null,
            "_view_module_version": "1.2.0",
            "grid_template_areas": null,
            "object_position": null,
            "object_fit": null,
            "grid_auto_columns": null,
            "margin": null,
            "display": null,
            "left": null
          }
        },
        "6a0f52d8717146a59e2a9dc1f125a619": {
          "model_module": "@jupyter-widgets/controls",
          "model_name": "HBoxModel",
          "state": {
            "_view_name": "HBoxView",
            "_dom_classes": [],
            "_model_name": "HBoxModel",
            "_view_module": "@jupyter-widgets/controls",
            "_model_module_version": "1.5.0",
            "_view_count": null,
            "_view_module_version": "1.5.0",
            "box_style": "",
            "layout": "IPY_MODEL_99ca3d1bc15a4f17bbf754e7da66c199",
            "_model_module": "@jupyter-widgets/controls",
            "children": [
              "IPY_MODEL_fe5e2e6163264fdbbc4f4076db691df0",
              "IPY_MODEL_dd696bd0d3ed499a892ab9c9354eb82a"
            ]
          }
        },
        "99ca3d1bc15a4f17bbf754e7da66c199": {
          "model_module": "@jupyter-widgets/base",
          "model_name": "LayoutModel",
          "state": {
            "_view_name": "LayoutView",
            "grid_template_rows": null,
            "right": null,
            "justify_content": null,
            "_view_module": "@jupyter-widgets/base",
            "overflow": null,
            "_model_module_version": "1.2.0",
            "_view_count": null,
            "flex_flow": null,
            "width": null,
            "min_width": null,
            "border": null,
            "align_items": null,
            "bottom": null,
            "_model_module": "@jupyter-widgets/base",
            "top": null,
            "grid_column": null,
            "overflow_y": null,
            "overflow_x": null,
            "grid_auto_flow": null,
            "grid_area": null,
            "grid_template_columns": null,
            "flex": null,
            "_model_name": "LayoutModel",
            "justify_items": null,
            "grid_row": null,
            "max_height": null,
            "align_content": null,
            "visibility": null,
            "align_self": null,
            "height": null,
            "min_height": null,
            "padding": null,
            "grid_auto_rows": null,
            "grid_gap": null,
            "max_width": null,
            "order": null,
            "_view_module_version": "1.2.0",
            "grid_template_areas": null,
            "object_position": null,
            "object_fit": null,
            "grid_auto_columns": null,
            "margin": null,
            "display": null,
            "left": null
          }
        },
        "fe5e2e6163264fdbbc4f4076db691df0": {
          "model_module": "@jupyter-widgets/controls",
          "model_name": "FloatProgressModel",
          "state": {
            "_view_name": "ProgressView",
            "style": "IPY_MODEL_ab9ddaee760040d7bbfe7a40e3311ad0",
            "_dom_classes": [],
            "description": "100%",
            "_model_name": "FloatProgressModel",
            "bar_style": "success",
            "max": 690,
            "_view_module": "@jupyter-widgets/controls",
            "_model_module_version": "1.5.0",
            "value": 690,
            "_view_count": null,
            "_view_module_version": "1.5.0",
            "orientation": "horizontal",
            "min": 0,
            "description_tooltip": null,
            "_model_module": "@jupyter-widgets/controls",
            "layout": "IPY_MODEL_197849ed51084f86956eba357b14b662"
          }
        },
        "dd696bd0d3ed499a892ab9c9354eb82a": {
          "model_module": "@jupyter-widgets/controls",
          "model_name": "HTMLModel",
          "state": {
            "_view_name": "HTMLView",
            "style": "IPY_MODEL_eb48695116524b1584f6ceb09d0577a6",
            "_dom_classes": [],
            "description": "",
            "_model_name": "HTMLModel",
            "placeholder": "​",
            "_view_module": "@jupyter-widgets/controls",
            "_model_module_version": "1.5.0",
            "value": " 690/690 [00:13&lt;00:00, 50.87it/s]",
            "_view_count": null,
            "_view_module_version": "1.5.0",
            "description_tooltip": null,
            "_model_module": "@jupyter-widgets/controls",
            "layout": "IPY_MODEL_5ae87c5fa5fa402794b3b0731810c3dc"
          }
        },
        "ab9ddaee760040d7bbfe7a40e3311ad0": {
          "model_module": "@jupyter-widgets/controls",
          "model_name": "ProgressStyleModel",
          "state": {
            "_view_name": "StyleView",
            "_model_name": "ProgressStyleModel",
            "description_width": "initial",
            "_view_module": "@jupyter-widgets/base",
            "_model_module_version": "1.5.0",
            "_view_count": null,
            "_view_module_version": "1.2.0",
            "bar_color": null,
            "_model_module": "@jupyter-widgets/controls"
          }
        },
        "197849ed51084f86956eba357b14b662": {
          "model_module": "@jupyter-widgets/base",
          "model_name": "LayoutModel",
          "state": {
            "_view_name": "LayoutView",
            "grid_template_rows": null,
            "right": null,
            "justify_content": null,
            "_view_module": "@jupyter-widgets/base",
            "overflow": null,
            "_model_module_version": "1.2.0",
            "_view_count": null,
            "flex_flow": null,
            "width": null,
            "min_width": null,
            "border": null,
            "align_items": null,
            "bottom": null,
            "_model_module": "@jupyter-widgets/base",
            "top": null,
            "grid_column": null,
            "overflow_y": null,
            "overflow_x": null,
            "grid_auto_flow": null,
            "grid_area": null,
            "grid_template_columns": null,
            "flex": null,
            "_model_name": "LayoutModel",
            "justify_items": null,
            "grid_row": null,
            "max_height": null,
            "align_content": null,
            "visibility": null,
            "align_self": null,
            "height": null,
            "min_height": null,
            "padding": null,
            "grid_auto_rows": null,
            "grid_gap": null,
            "max_width": null,
            "order": null,
            "_view_module_version": "1.2.0",
            "grid_template_areas": null,
            "object_position": null,
            "object_fit": null,
            "grid_auto_columns": null,
            "margin": null,
            "display": null,
            "left": null
          }
        },
        "eb48695116524b1584f6ceb09d0577a6": {
          "model_module": "@jupyter-widgets/controls",
          "model_name": "DescriptionStyleModel",
          "state": {
            "_view_name": "StyleView",
            "_model_name": "DescriptionStyleModel",
            "description_width": "",
            "_view_module": "@jupyter-widgets/base",
            "_model_module_version": "1.5.0",
            "_view_count": null,
            "_view_module_version": "1.2.0",
            "_model_module": "@jupyter-widgets/controls"
          }
        },
        "5ae87c5fa5fa402794b3b0731810c3dc": {
          "model_module": "@jupyter-widgets/base",
          "model_name": "LayoutModel",
          "state": {
            "_view_name": "LayoutView",
            "grid_template_rows": null,
            "right": null,
            "justify_content": null,
            "_view_module": "@jupyter-widgets/base",
            "overflow": null,
            "_model_module_version": "1.2.0",
            "_view_count": null,
            "flex_flow": null,
            "width": null,
            "min_width": null,
            "border": null,
            "align_items": null,
            "bottom": null,
            "_model_module": "@jupyter-widgets/base",
            "top": null,
            "grid_column": null,
            "overflow_y": null,
            "overflow_x": null,
            "grid_auto_flow": null,
            "grid_area": null,
            "grid_template_columns": null,
            "flex": null,
            "_model_name": "LayoutModel",
            "justify_items": null,
            "grid_row": null,
            "max_height": null,
            "align_content": null,
            "visibility": null,
            "align_self": null,
            "height": null,
            "min_height": null,
            "padding": null,
            "grid_auto_rows": null,
            "grid_gap": null,
            "max_width": null,
            "order": null,
            "_view_module_version": "1.2.0",
            "grid_template_areas": null,
            "object_position": null,
            "object_fit": null,
            "grid_auto_columns": null,
            "margin": null,
            "display": null,
            "left": null
          }
        },
        "ea3378ace1f0422eb4d3379936df099f": {
          "model_module": "@jupyter-widgets/controls",
          "model_name": "HBoxModel",
          "state": {
            "_view_name": "HBoxView",
            "_dom_classes": [],
            "_model_name": "HBoxModel",
            "_view_module": "@jupyter-widgets/controls",
            "_model_module_version": "1.5.0",
            "_view_count": null,
            "_view_module_version": "1.5.0",
            "box_style": "",
            "layout": "IPY_MODEL_bee18c3f466b454a95fe40ba07f44d34",
            "_model_module": "@jupyter-widgets/controls",
            "children": [
              "IPY_MODEL_8145efb1edb748bda6ec53939bf788f6",
              "IPY_MODEL_892cb21b315b44129ebd4b1c43f45abb"
            ]
          }
        },
        "bee18c3f466b454a95fe40ba07f44d34": {
          "model_module": "@jupyter-widgets/base",
          "model_name": "LayoutModel",
          "state": {
            "_view_name": "LayoutView",
            "grid_template_rows": null,
            "right": null,
            "justify_content": null,
            "_view_module": "@jupyter-widgets/base",
            "overflow": null,
            "_model_module_version": "1.2.0",
            "_view_count": null,
            "flex_flow": null,
            "width": null,
            "min_width": null,
            "border": null,
            "align_items": null,
            "bottom": null,
            "_model_module": "@jupyter-widgets/base",
            "top": null,
            "grid_column": null,
            "overflow_y": null,
            "overflow_x": null,
            "grid_auto_flow": null,
            "grid_area": null,
            "grid_template_columns": null,
            "flex": null,
            "_model_name": "LayoutModel",
            "justify_items": null,
            "grid_row": null,
            "max_height": null,
            "align_content": null,
            "visibility": null,
            "align_self": null,
            "height": null,
            "min_height": null,
            "padding": null,
            "grid_auto_rows": null,
            "grid_gap": null,
            "max_width": null,
            "order": null,
            "_view_module_version": "1.2.0",
            "grid_template_areas": null,
            "object_position": null,
            "object_fit": null,
            "grid_auto_columns": null,
            "margin": null,
            "display": null,
            "left": null
          }
        },
        "8145efb1edb748bda6ec53939bf788f6": {
          "model_module": "@jupyter-widgets/controls",
          "model_name": "FloatProgressModel",
          "state": {
            "_view_name": "ProgressView",
            "style": "IPY_MODEL_410bd557686f46089636d84fd2b83b2b",
            "_dom_classes": [],
            "description": "100%",
            "_model_name": "FloatProgressModel",
            "bar_style": "success",
            "max": 690,
            "_view_module": "@jupyter-widgets/controls",
            "_model_module_version": "1.5.0",
            "value": 690,
            "_view_count": null,
            "_view_module_version": "1.5.0",
            "orientation": "horizontal",
            "min": 0,
            "description_tooltip": null,
            "_model_module": "@jupyter-widgets/controls",
            "layout": "IPY_MODEL_598e64e376134264be465b0e0e029a6d"
          }
        },
        "892cb21b315b44129ebd4b1c43f45abb": {
          "model_module": "@jupyter-widgets/controls",
          "model_name": "HTMLModel",
          "state": {
            "_view_name": "HTMLView",
            "style": "IPY_MODEL_422b08b08b714d169b037af6b787da07",
            "_dom_classes": [],
            "description": "",
            "_model_name": "HTMLModel",
            "placeholder": "​",
            "_view_module": "@jupyter-widgets/controls",
            "_model_module_version": "1.5.0",
            "value": " 690/690 [00:54&lt;00:00, 12.72it/s]",
            "_view_count": null,
            "_view_module_version": "1.5.0",
            "description_tooltip": null,
            "_model_module": "@jupyter-widgets/controls",
            "layout": "IPY_MODEL_fe07c89ccd7e4d41946b5949ed20a560"
          }
        },
        "410bd557686f46089636d84fd2b83b2b": {
          "model_module": "@jupyter-widgets/controls",
          "model_name": "ProgressStyleModel",
          "state": {
            "_view_name": "StyleView",
            "_model_name": "ProgressStyleModel",
            "description_width": "initial",
            "_view_module": "@jupyter-widgets/base",
            "_model_module_version": "1.5.0",
            "_view_count": null,
            "_view_module_version": "1.2.0",
            "bar_color": null,
            "_model_module": "@jupyter-widgets/controls"
          }
        },
        "598e64e376134264be465b0e0e029a6d": {
          "model_module": "@jupyter-widgets/base",
          "model_name": "LayoutModel",
          "state": {
            "_view_name": "LayoutView",
            "grid_template_rows": null,
            "right": null,
            "justify_content": null,
            "_view_module": "@jupyter-widgets/base",
            "overflow": null,
            "_model_module_version": "1.2.0",
            "_view_count": null,
            "flex_flow": null,
            "width": null,
            "min_width": null,
            "border": null,
            "align_items": null,
            "bottom": null,
            "_model_module": "@jupyter-widgets/base",
            "top": null,
            "grid_column": null,
            "overflow_y": null,
            "overflow_x": null,
            "grid_auto_flow": null,
            "grid_area": null,
            "grid_template_columns": null,
            "flex": null,
            "_model_name": "LayoutModel",
            "justify_items": null,
            "grid_row": null,
            "max_height": null,
            "align_content": null,
            "visibility": null,
            "align_self": null,
            "height": null,
            "min_height": null,
            "padding": null,
            "grid_auto_rows": null,
            "grid_gap": null,
            "max_width": null,
            "order": null,
            "_view_module_version": "1.2.0",
            "grid_template_areas": null,
            "object_position": null,
            "object_fit": null,
            "grid_auto_columns": null,
            "margin": null,
            "display": null,
            "left": null
          }
        },
        "422b08b08b714d169b037af6b787da07": {
          "model_module": "@jupyter-widgets/controls",
          "model_name": "DescriptionStyleModel",
          "state": {
            "_view_name": "StyleView",
            "_model_name": "DescriptionStyleModel",
            "description_width": "",
            "_view_module": "@jupyter-widgets/base",
            "_model_module_version": "1.5.0",
            "_view_count": null,
            "_view_module_version": "1.2.0",
            "_model_module": "@jupyter-widgets/controls"
          }
        },
        "fe07c89ccd7e4d41946b5949ed20a560": {
          "model_module": "@jupyter-widgets/base",
          "model_name": "LayoutModel",
          "state": {
            "_view_name": "LayoutView",
            "grid_template_rows": null,
            "right": null,
            "justify_content": null,
            "_view_module": "@jupyter-widgets/base",
            "overflow": null,
            "_model_module_version": "1.2.0",
            "_view_count": null,
            "flex_flow": null,
            "width": null,
            "min_width": null,
            "border": null,
            "align_items": null,
            "bottom": null,
            "_model_module": "@jupyter-widgets/base",
            "top": null,
            "grid_column": null,
            "overflow_y": null,
            "overflow_x": null,
            "grid_auto_flow": null,
            "grid_area": null,
            "grid_template_columns": null,
            "flex": null,
            "_model_name": "LayoutModel",
            "justify_items": null,
            "grid_row": null,
            "max_height": null,
            "align_content": null,
            "visibility": null,
            "align_self": null,
            "height": null,
            "min_height": null,
            "padding": null,
            "grid_auto_rows": null,
            "grid_gap": null,
            "max_width": null,
            "order": null,
            "_view_module_version": "1.2.0",
            "grid_template_areas": null,
            "object_position": null,
            "object_fit": null,
            "grid_auto_columns": null,
            "margin": null,
            "display": null,
            "left": null
          }
        },
        "83bd6daed2e4458884ac3ddd0733da77": {
          "model_module": "@jupyter-widgets/controls",
          "model_name": "HBoxModel",
          "state": {
            "_view_name": "HBoxView",
            "_dom_classes": [],
            "_model_name": "HBoxModel",
            "_view_module": "@jupyter-widgets/controls",
            "_model_module_version": "1.5.0",
            "_view_count": null,
            "_view_module_version": "1.5.0",
            "box_style": "",
            "layout": "IPY_MODEL_7bce45a21f184ae890cd875acf4031f8",
            "_model_module": "@jupyter-widgets/controls",
            "children": [
              "IPY_MODEL_e2e968284e554265a6d8349308e9e050",
              "IPY_MODEL_d65594da48874fef8083545628bdae93"
            ]
          }
        },
        "7bce45a21f184ae890cd875acf4031f8": {
          "model_module": "@jupyter-widgets/base",
          "model_name": "LayoutModel",
          "state": {
            "_view_name": "LayoutView",
            "grid_template_rows": null,
            "right": null,
            "justify_content": null,
            "_view_module": "@jupyter-widgets/base",
            "overflow": null,
            "_model_module_version": "1.2.0",
            "_view_count": null,
            "flex_flow": null,
            "width": null,
            "min_width": null,
            "border": null,
            "align_items": null,
            "bottom": null,
            "_model_module": "@jupyter-widgets/base",
            "top": null,
            "grid_column": null,
            "overflow_y": null,
            "overflow_x": null,
            "grid_auto_flow": null,
            "grid_area": null,
            "grid_template_columns": null,
            "flex": null,
            "_model_name": "LayoutModel",
            "justify_items": null,
            "grid_row": null,
            "max_height": null,
            "align_content": null,
            "visibility": null,
            "align_self": null,
            "height": null,
            "min_height": null,
            "padding": null,
            "grid_auto_rows": null,
            "grid_gap": null,
            "max_width": null,
            "order": null,
            "_view_module_version": "1.2.0",
            "grid_template_areas": null,
            "object_position": null,
            "object_fit": null,
            "grid_auto_columns": null,
            "margin": null,
            "display": null,
            "left": null
          }
        },
        "e2e968284e554265a6d8349308e9e050": {
          "model_module": "@jupyter-widgets/controls",
          "model_name": "FloatProgressModel",
          "state": {
            "_view_name": "ProgressView",
            "style": "IPY_MODEL_41c1e42bcfab466281586ed7861025db",
            "_dom_classes": [],
            "description": "100%",
            "_model_name": "FloatProgressModel",
            "bar_style": "success",
            "max": 690,
            "_view_module": "@jupyter-widgets/controls",
            "_model_module_version": "1.5.0",
            "value": 690,
            "_view_count": null,
            "_view_module_version": "1.5.0",
            "orientation": "horizontal",
            "min": 0,
            "description_tooltip": null,
            "_model_module": "@jupyter-widgets/controls",
            "layout": "IPY_MODEL_46ce6278ffb24c018b8003c002cb0b5e"
          }
        },
        "d65594da48874fef8083545628bdae93": {
          "model_module": "@jupyter-widgets/controls",
          "model_name": "HTMLModel",
          "state": {
            "_view_name": "HTMLView",
            "style": "IPY_MODEL_00f7350f5b1a4ca893cae560dfbbc0b0",
            "_dom_classes": [],
            "description": "",
            "_model_name": "HTMLModel",
            "placeholder": "​",
            "_view_module": "@jupyter-widgets/controls",
            "_model_module_version": "1.5.0",
            "value": " 690/690 [00:40&lt;00:00, 16.94it/s]",
            "_view_count": null,
            "_view_module_version": "1.5.0",
            "description_tooltip": null,
            "_model_module": "@jupyter-widgets/controls",
            "layout": "IPY_MODEL_8fd2f3dce1804560a01faf83c2b0a557"
          }
        },
        "41c1e42bcfab466281586ed7861025db": {
          "model_module": "@jupyter-widgets/controls",
          "model_name": "ProgressStyleModel",
          "state": {
            "_view_name": "StyleView",
            "_model_name": "ProgressStyleModel",
            "description_width": "initial",
            "_view_module": "@jupyter-widgets/base",
            "_model_module_version": "1.5.0",
            "_view_count": null,
            "_view_module_version": "1.2.0",
            "bar_color": null,
            "_model_module": "@jupyter-widgets/controls"
          }
        },
        "46ce6278ffb24c018b8003c002cb0b5e": {
          "model_module": "@jupyter-widgets/base",
          "model_name": "LayoutModel",
          "state": {
            "_view_name": "LayoutView",
            "grid_template_rows": null,
            "right": null,
            "justify_content": null,
            "_view_module": "@jupyter-widgets/base",
            "overflow": null,
            "_model_module_version": "1.2.0",
            "_view_count": null,
            "flex_flow": null,
            "width": null,
            "min_width": null,
            "border": null,
            "align_items": null,
            "bottom": null,
            "_model_module": "@jupyter-widgets/base",
            "top": null,
            "grid_column": null,
            "overflow_y": null,
            "overflow_x": null,
            "grid_auto_flow": null,
            "grid_area": null,
            "grid_template_columns": null,
            "flex": null,
            "_model_name": "LayoutModel",
            "justify_items": null,
            "grid_row": null,
            "max_height": null,
            "align_content": null,
            "visibility": null,
            "align_self": null,
            "height": null,
            "min_height": null,
            "padding": null,
            "grid_auto_rows": null,
            "grid_gap": null,
            "max_width": null,
            "order": null,
            "_view_module_version": "1.2.0",
            "grid_template_areas": null,
            "object_position": null,
            "object_fit": null,
            "grid_auto_columns": null,
            "margin": null,
            "display": null,
            "left": null
          }
        },
        "00f7350f5b1a4ca893cae560dfbbc0b0": {
          "model_module": "@jupyter-widgets/controls",
          "model_name": "DescriptionStyleModel",
          "state": {
            "_view_name": "StyleView",
            "_model_name": "DescriptionStyleModel",
            "description_width": "",
            "_view_module": "@jupyter-widgets/base",
            "_model_module_version": "1.5.0",
            "_view_count": null,
            "_view_module_version": "1.2.0",
            "_model_module": "@jupyter-widgets/controls"
          }
        },
        "8fd2f3dce1804560a01faf83c2b0a557": {
          "model_module": "@jupyter-widgets/base",
          "model_name": "LayoutModel",
          "state": {
            "_view_name": "LayoutView",
            "grid_template_rows": null,
            "right": null,
            "justify_content": null,
            "_view_module": "@jupyter-widgets/base",
            "overflow": null,
            "_model_module_version": "1.2.0",
            "_view_count": null,
            "flex_flow": null,
            "width": null,
            "min_width": null,
            "border": null,
            "align_items": null,
            "bottom": null,
            "_model_module": "@jupyter-widgets/base",
            "top": null,
            "grid_column": null,
            "overflow_y": null,
            "overflow_x": null,
            "grid_auto_flow": null,
            "grid_area": null,
            "grid_template_columns": null,
            "flex": null,
            "_model_name": "LayoutModel",
            "justify_items": null,
            "grid_row": null,
            "max_height": null,
            "align_content": null,
            "visibility": null,
            "align_self": null,
            "height": null,
            "min_height": null,
            "padding": null,
            "grid_auto_rows": null,
            "grid_gap": null,
            "max_width": null,
            "order": null,
            "_view_module_version": "1.2.0",
            "grid_template_areas": null,
            "object_position": null,
            "object_fit": null,
            "grid_auto_columns": null,
            "margin": null,
            "display": null,
            "left": null
          }
        },
        "b994e84c3cb042ca9eaf9154cb877aa1": {
          "model_module": "@jupyter-widgets/controls",
          "model_name": "HBoxModel",
          "state": {
            "_view_name": "HBoxView",
            "_dom_classes": [],
            "_model_name": "HBoxModel",
            "_view_module": "@jupyter-widgets/controls",
            "_model_module_version": "1.5.0",
            "_view_count": null,
            "_view_module_version": "1.5.0",
            "box_style": "",
            "layout": "IPY_MODEL_1320f4966480416dac9d27af75ec667c",
            "_model_module": "@jupyter-widgets/controls",
            "children": [
              "IPY_MODEL_b811cb052a9a4301a171b4fe0a420a98",
              "IPY_MODEL_1eb21816bced43e1bbfd16727fa60203"
            ]
          }
        },
        "1320f4966480416dac9d27af75ec667c": {
          "model_module": "@jupyter-widgets/base",
          "model_name": "LayoutModel",
          "state": {
            "_view_name": "LayoutView",
            "grid_template_rows": null,
            "right": null,
            "justify_content": null,
            "_view_module": "@jupyter-widgets/base",
            "overflow": null,
            "_model_module_version": "1.2.0",
            "_view_count": null,
            "flex_flow": null,
            "width": null,
            "min_width": null,
            "border": null,
            "align_items": null,
            "bottom": null,
            "_model_module": "@jupyter-widgets/base",
            "top": null,
            "grid_column": null,
            "overflow_y": null,
            "overflow_x": null,
            "grid_auto_flow": null,
            "grid_area": null,
            "grid_template_columns": null,
            "flex": null,
            "_model_name": "LayoutModel",
            "justify_items": null,
            "grid_row": null,
            "max_height": null,
            "align_content": null,
            "visibility": null,
            "align_self": null,
            "height": null,
            "min_height": null,
            "padding": null,
            "grid_auto_rows": null,
            "grid_gap": null,
            "max_width": null,
            "order": null,
            "_view_module_version": "1.2.0",
            "grid_template_areas": null,
            "object_position": null,
            "object_fit": null,
            "grid_auto_columns": null,
            "margin": null,
            "display": null,
            "left": null
          }
        },
        "b811cb052a9a4301a171b4fe0a420a98": {
          "model_module": "@jupyter-widgets/controls",
          "model_name": "FloatProgressModel",
          "state": {
            "_view_name": "ProgressView",
            "style": "IPY_MODEL_5930b9c488a04cdfacec3a57fd99ae15",
            "_dom_classes": [],
            "description": "",
            "_model_name": "FloatProgressModel",
            "bar_style": "success",
            "max": 1,
            "_view_module": "@jupyter-widgets/controls",
            "_model_module_version": "1.5.0",
            "value": 1,
            "_view_count": null,
            "_view_module_version": "1.5.0",
            "orientation": "horizontal",
            "min": 0,
            "description_tooltip": null,
            "_model_module": "@jupyter-widgets/controls",
            "layout": "IPY_MODEL_6a21f4b88e05452299bd43274df95c62"
          }
        },
        "1eb21816bced43e1bbfd16727fa60203": {
          "model_module": "@jupyter-widgets/controls",
          "model_name": "HTMLModel",
          "state": {
            "_view_name": "HTMLView",
            "style": "IPY_MODEL_334a0abe390c4978a65512c6c00f7228",
            "_dom_classes": [],
            "description": "",
            "_model_name": "HTMLModel",
            "placeholder": "​",
            "_view_module": "@jupyter-widgets/controls",
            "_model_module_version": "1.5.0",
            "value": " 690/? [01:03&lt;00:00, 10.88it/s]",
            "_view_count": null,
            "_view_module_version": "1.5.0",
            "description_tooltip": null,
            "_model_module": "@jupyter-widgets/controls",
            "layout": "IPY_MODEL_a65db830ce8342db9f9cea017d00f9de"
          }
        },
        "5930b9c488a04cdfacec3a57fd99ae15": {
          "model_module": "@jupyter-widgets/controls",
          "model_name": "ProgressStyleModel",
          "state": {
            "_view_name": "StyleView",
            "_model_name": "ProgressStyleModel",
            "description_width": "initial",
            "_view_module": "@jupyter-widgets/base",
            "_model_module_version": "1.5.0",
            "_view_count": null,
            "_view_module_version": "1.2.0",
            "bar_color": null,
            "_model_module": "@jupyter-widgets/controls"
          }
        },
        "6a21f4b88e05452299bd43274df95c62": {
          "model_module": "@jupyter-widgets/base",
          "model_name": "LayoutModel",
          "state": {
            "_view_name": "LayoutView",
            "grid_template_rows": null,
            "right": null,
            "justify_content": null,
            "_view_module": "@jupyter-widgets/base",
            "overflow": null,
            "_model_module_version": "1.2.0",
            "_view_count": null,
            "flex_flow": null,
            "width": null,
            "min_width": null,
            "border": null,
            "align_items": null,
            "bottom": null,
            "_model_module": "@jupyter-widgets/base",
            "top": null,
            "grid_column": null,
            "overflow_y": null,
            "overflow_x": null,
            "grid_auto_flow": null,
            "grid_area": null,
            "grid_template_columns": null,
            "flex": null,
            "_model_name": "LayoutModel",
            "justify_items": null,
            "grid_row": null,
            "max_height": null,
            "align_content": null,
            "visibility": null,
            "align_self": null,
            "height": null,
            "min_height": null,
            "padding": null,
            "grid_auto_rows": null,
            "grid_gap": null,
            "max_width": null,
            "order": null,
            "_view_module_version": "1.2.0",
            "grid_template_areas": null,
            "object_position": null,
            "object_fit": null,
            "grid_auto_columns": null,
            "margin": null,
            "display": null,
            "left": null
          }
        },
        "334a0abe390c4978a65512c6c00f7228": {
          "model_module": "@jupyter-widgets/controls",
          "model_name": "DescriptionStyleModel",
          "state": {
            "_view_name": "StyleView",
            "_model_name": "DescriptionStyleModel",
            "description_width": "",
            "_view_module": "@jupyter-widgets/base",
            "_model_module_version": "1.5.0",
            "_view_count": null,
            "_view_module_version": "1.2.0",
            "_model_module": "@jupyter-widgets/controls"
          }
        },
        "a65db830ce8342db9f9cea017d00f9de": {
          "model_module": "@jupyter-widgets/base",
          "model_name": "LayoutModel",
          "state": {
            "_view_name": "LayoutView",
            "grid_template_rows": null,
            "right": null,
            "justify_content": null,
            "_view_module": "@jupyter-widgets/base",
            "overflow": null,
            "_model_module_version": "1.2.0",
            "_view_count": null,
            "flex_flow": null,
            "width": null,
            "min_width": null,
            "border": null,
            "align_items": null,
            "bottom": null,
            "_model_module": "@jupyter-widgets/base",
            "top": null,
            "grid_column": null,
            "overflow_y": null,
            "overflow_x": null,
            "grid_auto_flow": null,
            "grid_area": null,
            "grid_template_columns": null,
            "flex": null,
            "_model_name": "LayoutModel",
            "justify_items": null,
            "grid_row": null,
            "max_height": null,
            "align_content": null,
            "visibility": null,
            "align_self": null,
            "height": null,
            "min_height": null,
            "padding": null,
            "grid_auto_rows": null,
            "grid_gap": null,
            "max_width": null,
            "order": null,
            "_view_module_version": "1.2.0",
            "grid_template_areas": null,
            "object_position": null,
            "object_fit": null,
            "grid_auto_columns": null,
            "margin": null,
            "display": null,
            "left": null
          }
        },
        "87acaa474311492db1b19f2c08326506": {
          "model_module": "@jupyter-widgets/controls",
          "model_name": "HBoxModel",
          "state": {
            "_view_name": "HBoxView",
            "_dom_classes": [],
            "_model_name": "HBoxModel",
            "_view_module": "@jupyter-widgets/controls",
            "_model_module_version": "1.5.0",
            "_view_count": null,
            "_view_module_version": "1.5.0",
            "box_style": "",
            "layout": "IPY_MODEL_18c4c0a33ee94cb6aba7785654bff5b0",
            "_model_module": "@jupyter-widgets/controls",
            "children": [
              "IPY_MODEL_0c6741ba84a640c48d5d85b8d0ef7a72",
              "IPY_MODEL_9c7ec286ff7343b7aa15fd785bba142f"
            ]
          }
        },
        "18c4c0a33ee94cb6aba7785654bff5b0": {
          "model_module": "@jupyter-widgets/base",
          "model_name": "LayoutModel",
          "state": {
            "_view_name": "LayoutView",
            "grid_template_rows": null,
            "right": null,
            "justify_content": null,
            "_view_module": "@jupyter-widgets/base",
            "overflow": null,
            "_model_module_version": "1.2.0",
            "_view_count": null,
            "flex_flow": null,
            "width": null,
            "min_width": null,
            "border": null,
            "align_items": null,
            "bottom": null,
            "_model_module": "@jupyter-widgets/base",
            "top": null,
            "grid_column": null,
            "overflow_y": null,
            "overflow_x": null,
            "grid_auto_flow": null,
            "grid_area": null,
            "grid_template_columns": null,
            "flex": null,
            "_model_name": "LayoutModel",
            "justify_items": null,
            "grid_row": null,
            "max_height": null,
            "align_content": null,
            "visibility": null,
            "align_self": null,
            "height": null,
            "min_height": null,
            "padding": null,
            "grid_auto_rows": null,
            "grid_gap": null,
            "max_width": null,
            "order": null,
            "_view_module_version": "1.2.0",
            "grid_template_areas": null,
            "object_position": null,
            "object_fit": null,
            "grid_auto_columns": null,
            "margin": null,
            "display": null,
            "left": null
          }
        },
        "0c6741ba84a640c48d5d85b8d0ef7a72": {
          "model_module": "@jupyter-widgets/controls",
          "model_name": "FloatProgressModel",
          "state": {
            "_view_name": "ProgressView",
            "style": "IPY_MODEL_a2fb7cb8294b45e6ac689d970b4c2f7b",
            "_dom_classes": [],
            "description": "",
            "_model_name": "FloatProgressModel",
            "bar_style": "success",
            "max": 1,
            "_view_module": "@jupyter-widgets/controls",
            "_model_module_version": "1.5.0",
            "value": 1,
            "_view_count": null,
            "_view_module_version": "1.5.0",
            "orientation": "horizontal",
            "min": 0,
            "description_tooltip": null,
            "_model_module": "@jupyter-widgets/controls",
            "layout": "IPY_MODEL_21aa56e162c94d35b2d4cbb20af86442"
          }
        },
        "9c7ec286ff7343b7aa15fd785bba142f": {
          "model_module": "@jupyter-widgets/controls",
          "model_name": "HTMLModel",
          "state": {
            "_view_name": "HTMLView",
            "style": "IPY_MODEL_8e879668688d458391c4f9bd923a8b3b",
            "_dom_classes": [],
            "description": "",
            "_model_name": "HTMLModel",
            "placeholder": "​",
            "_view_module": "@jupyter-widgets/controls",
            "_model_module_version": "1.5.0",
            "value": " 690/? [01:22&lt;00:00,  8.40it/s]",
            "_view_count": null,
            "_view_module_version": "1.5.0",
            "description_tooltip": null,
            "_model_module": "@jupyter-widgets/controls",
            "layout": "IPY_MODEL_9c4096e98126437f8d273607b2f537b9"
          }
        },
        "a2fb7cb8294b45e6ac689d970b4c2f7b": {
          "model_module": "@jupyter-widgets/controls",
          "model_name": "ProgressStyleModel",
          "state": {
            "_view_name": "StyleView",
            "_model_name": "ProgressStyleModel",
            "description_width": "initial",
            "_view_module": "@jupyter-widgets/base",
            "_model_module_version": "1.5.0",
            "_view_count": null,
            "_view_module_version": "1.2.0",
            "bar_color": null,
            "_model_module": "@jupyter-widgets/controls"
          }
        },
        "21aa56e162c94d35b2d4cbb20af86442": {
          "model_module": "@jupyter-widgets/base",
          "model_name": "LayoutModel",
          "state": {
            "_view_name": "LayoutView",
            "grid_template_rows": null,
            "right": null,
            "justify_content": null,
            "_view_module": "@jupyter-widgets/base",
            "overflow": null,
            "_model_module_version": "1.2.0",
            "_view_count": null,
            "flex_flow": null,
            "width": null,
            "min_width": null,
            "border": null,
            "align_items": null,
            "bottom": null,
            "_model_module": "@jupyter-widgets/base",
            "top": null,
            "grid_column": null,
            "overflow_y": null,
            "overflow_x": null,
            "grid_auto_flow": null,
            "grid_area": null,
            "grid_template_columns": null,
            "flex": null,
            "_model_name": "LayoutModel",
            "justify_items": null,
            "grid_row": null,
            "max_height": null,
            "align_content": null,
            "visibility": null,
            "align_self": null,
            "height": null,
            "min_height": null,
            "padding": null,
            "grid_auto_rows": null,
            "grid_gap": null,
            "max_width": null,
            "order": null,
            "_view_module_version": "1.2.0",
            "grid_template_areas": null,
            "object_position": null,
            "object_fit": null,
            "grid_auto_columns": null,
            "margin": null,
            "display": null,
            "left": null
          }
        },
        "8e879668688d458391c4f9bd923a8b3b": {
          "model_module": "@jupyter-widgets/controls",
          "model_name": "DescriptionStyleModel",
          "state": {
            "_view_name": "StyleView",
            "_model_name": "DescriptionStyleModel",
            "description_width": "",
            "_view_module": "@jupyter-widgets/base",
            "_model_module_version": "1.5.0",
            "_view_count": null,
            "_view_module_version": "1.2.0",
            "_model_module": "@jupyter-widgets/controls"
          }
        },
        "9c4096e98126437f8d273607b2f537b9": {
          "model_module": "@jupyter-widgets/base",
          "model_name": "LayoutModel",
          "state": {
            "_view_name": "LayoutView",
            "grid_template_rows": null,
            "right": null,
            "justify_content": null,
            "_view_module": "@jupyter-widgets/base",
            "overflow": null,
            "_model_module_version": "1.2.0",
            "_view_count": null,
            "flex_flow": null,
            "width": null,
            "min_width": null,
            "border": null,
            "align_items": null,
            "bottom": null,
            "_model_module": "@jupyter-widgets/base",
            "top": null,
            "grid_column": null,
            "overflow_y": null,
            "overflow_x": null,
            "grid_auto_flow": null,
            "grid_area": null,
            "grid_template_columns": null,
            "flex": null,
            "_model_name": "LayoutModel",
            "justify_items": null,
            "grid_row": null,
            "max_height": null,
            "align_content": null,
            "visibility": null,
            "align_self": null,
            "height": null,
            "min_height": null,
            "padding": null,
            "grid_auto_rows": null,
            "grid_gap": null,
            "max_width": null,
            "order": null,
            "_view_module_version": "1.2.0",
            "grid_template_areas": null,
            "object_position": null,
            "object_fit": null,
            "grid_auto_columns": null,
            "margin": null,
            "display": null,
            "left": null
          }
        },
        "fdf94bf847614ab28334eca4ba698154": {
          "model_module": "@jupyter-widgets/controls",
          "model_name": "HBoxModel",
          "state": {
            "_view_name": "HBoxView",
            "_dom_classes": [],
            "_model_name": "HBoxModel",
            "_view_module": "@jupyter-widgets/controls",
            "_model_module_version": "1.5.0",
            "_view_count": null,
            "_view_module_version": "1.5.0",
            "box_style": "",
            "layout": "IPY_MODEL_631c6bbe72424405905124215faf026c",
            "_model_module": "@jupyter-widgets/controls",
            "children": [
              "IPY_MODEL_b46bde97ae2e4afa95eee9b33e11a252",
              "IPY_MODEL_f811c37f33534841b631688803affd8e"
            ]
          }
        },
        "631c6bbe72424405905124215faf026c": {
          "model_module": "@jupyter-widgets/base",
          "model_name": "LayoutModel",
          "state": {
            "_view_name": "LayoutView",
            "grid_template_rows": null,
            "right": null,
            "justify_content": null,
            "_view_module": "@jupyter-widgets/base",
            "overflow": null,
            "_model_module_version": "1.2.0",
            "_view_count": null,
            "flex_flow": null,
            "width": null,
            "min_width": null,
            "border": null,
            "align_items": null,
            "bottom": null,
            "_model_module": "@jupyter-widgets/base",
            "top": null,
            "grid_column": null,
            "overflow_y": null,
            "overflow_x": null,
            "grid_auto_flow": null,
            "grid_area": null,
            "grid_template_columns": null,
            "flex": null,
            "_model_name": "LayoutModel",
            "justify_items": null,
            "grid_row": null,
            "max_height": null,
            "align_content": null,
            "visibility": null,
            "align_self": null,
            "height": null,
            "min_height": null,
            "padding": null,
            "grid_auto_rows": null,
            "grid_gap": null,
            "max_width": null,
            "order": null,
            "_view_module_version": "1.2.0",
            "grid_template_areas": null,
            "object_position": null,
            "object_fit": null,
            "grid_auto_columns": null,
            "margin": null,
            "display": null,
            "left": null
          }
        },
        "b46bde97ae2e4afa95eee9b33e11a252": {
          "model_module": "@jupyter-widgets/controls",
          "model_name": "FloatProgressModel",
          "state": {
            "_view_name": "ProgressView",
            "style": "IPY_MODEL_4dbefd4631794dcb8909e72b48d34e22",
            "_dom_classes": [],
            "description": "",
            "_model_name": "FloatProgressModel",
            "bar_style": "success",
            "max": 1,
            "_view_module": "@jupyter-widgets/controls",
            "_model_module_version": "1.5.0",
            "value": 1,
            "_view_count": null,
            "_view_module_version": "1.5.0",
            "orientation": "horizontal",
            "min": 0,
            "description_tooltip": null,
            "_model_module": "@jupyter-widgets/controls",
            "layout": "IPY_MODEL_5c1b34ed265944d59929a99a1cc41d31"
          }
        },
        "f811c37f33534841b631688803affd8e": {
          "model_module": "@jupyter-widgets/controls",
          "model_name": "HTMLModel",
          "state": {
            "_view_name": "HTMLView",
            "style": "IPY_MODEL_0fc46729f1654ae5ba2b131da01f47a4",
            "_dom_classes": [],
            "description": "",
            "_model_name": "HTMLModel",
            "placeholder": "​",
            "_view_module": "@jupyter-widgets/controls",
            "_model_module_version": "1.5.0",
            "value": " 690/? [01:42&lt;00:00,  6.75it/s]",
            "_view_count": null,
            "_view_module_version": "1.5.0",
            "description_tooltip": null,
            "_model_module": "@jupyter-widgets/controls",
            "layout": "IPY_MODEL_c6baafefe398426c9b43a160590894d2"
          }
        },
        "4dbefd4631794dcb8909e72b48d34e22": {
          "model_module": "@jupyter-widgets/controls",
          "model_name": "ProgressStyleModel",
          "state": {
            "_view_name": "StyleView",
            "_model_name": "ProgressStyleModel",
            "description_width": "initial",
            "_view_module": "@jupyter-widgets/base",
            "_model_module_version": "1.5.0",
            "_view_count": null,
            "_view_module_version": "1.2.0",
            "bar_color": null,
            "_model_module": "@jupyter-widgets/controls"
          }
        },
        "5c1b34ed265944d59929a99a1cc41d31": {
          "model_module": "@jupyter-widgets/base",
          "model_name": "LayoutModel",
          "state": {
            "_view_name": "LayoutView",
            "grid_template_rows": null,
            "right": null,
            "justify_content": null,
            "_view_module": "@jupyter-widgets/base",
            "overflow": null,
            "_model_module_version": "1.2.0",
            "_view_count": null,
            "flex_flow": null,
            "width": null,
            "min_width": null,
            "border": null,
            "align_items": null,
            "bottom": null,
            "_model_module": "@jupyter-widgets/base",
            "top": null,
            "grid_column": null,
            "overflow_y": null,
            "overflow_x": null,
            "grid_auto_flow": null,
            "grid_area": null,
            "grid_template_columns": null,
            "flex": null,
            "_model_name": "LayoutModel",
            "justify_items": null,
            "grid_row": null,
            "max_height": null,
            "align_content": null,
            "visibility": null,
            "align_self": null,
            "height": null,
            "min_height": null,
            "padding": null,
            "grid_auto_rows": null,
            "grid_gap": null,
            "max_width": null,
            "order": null,
            "_view_module_version": "1.2.0",
            "grid_template_areas": null,
            "object_position": null,
            "object_fit": null,
            "grid_auto_columns": null,
            "margin": null,
            "display": null,
            "left": null
          }
        },
        "0fc46729f1654ae5ba2b131da01f47a4": {
          "model_module": "@jupyter-widgets/controls",
          "model_name": "DescriptionStyleModel",
          "state": {
            "_view_name": "StyleView",
            "_model_name": "DescriptionStyleModel",
            "description_width": "",
            "_view_module": "@jupyter-widgets/base",
            "_model_module_version": "1.5.0",
            "_view_count": null,
            "_view_module_version": "1.2.0",
            "_model_module": "@jupyter-widgets/controls"
          }
        },
        "c6baafefe398426c9b43a160590894d2": {
          "model_module": "@jupyter-widgets/base",
          "model_name": "LayoutModel",
          "state": {
            "_view_name": "LayoutView",
            "grid_template_rows": null,
            "right": null,
            "justify_content": null,
            "_view_module": "@jupyter-widgets/base",
            "overflow": null,
            "_model_module_version": "1.2.0",
            "_view_count": null,
            "flex_flow": null,
            "width": null,
            "min_width": null,
            "border": null,
            "align_items": null,
            "bottom": null,
            "_model_module": "@jupyter-widgets/base",
            "top": null,
            "grid_column": null,
            "overflow_y": null,
            "overflow_x": null,
            "grid_auto_flow": null,
            "grid_area": null,
            "grid_template_columns": null,
            "flex": null,
            "_model_name": "LayoutModel",
            "justify_items": null,
            "grid_row": null,
            "max_height": null,
            "align_content": null,
            "visibility": null,
            "align_self": null,
            "height": null,
            "min_height": null,
            "padding": null,
            "grid_auto_rows": null,
            "grid_gap": null,
            "max_width": null,
            "order": null,
            "_view_module_version": "1.2.0",
            "grid_template_areas": null,
            "object_position": null,
            "object_fit": null,
            "grid_auto_columns": null,
            "margin": null,
            "display": null,
            "left": null
          }
        },
        "5354143d8db84d4b960533739ca85459": {
          "model_module": "@jupyter-widgets/controls",
          "model_name": "HBoxModel",
          "state": {
            "_view_name": "HBoxView",
            "_dom_classes": [],
            "_model_name": "HBoxModel",
            "_view_module": "@jupyter-widgets/controls",
            "_model_module_version": "1.5.0",
            "_view_count": null,
            "_view_module_version": "1.5.0",
            "box_style": "",
            "layout": "IPY_MODEL_d0bbb75a42b44e19bcd1d02902759602",
            "_model_module": "@jupyter-widgets/controls",
            "children": [
              "IPY_MODEL_19d05df9e1f34845b5b4d780377f491f",
              "IPY_MODEL_5aafc68f5e2441359b882b6916979397"
            ]
          }
        },
        "d0bbb75a42b44e19bcd1d02902759602": {
          "model_module": "@jupyter-widgets/base",
          "model_name": "LayoutModel",
          "state": {
            "_view_name": "LayoutView",
            "grid_template_rows": null,
            "right": null,
            "justify_content": null,
            "_view_module": "@jupyter-widgets/base",
            "overflow": null,
            "_model_module_version": "1.2.0",
            "_view_count": null,
            "flex_flow": null,
            "width": null,
            "min_width": null,
            "border": null,
            "align_items": null,
            "bottom": null,
            "_model_module": "@jupyter-widgets/base",
            "top": null,
            "grid_column": null,
            "overflow_y": null,
            "overflow_x": null,
            "grid_auto_flow": null,
            "grid_area": null,
            "grid_template_columns": null,
            "flex": null,
            "_model_name": "LayoutModel",
            "justify_items": null,
            "grid_row": null,
            "max_height": null,
            "align_content": null,
            "visibility": null,
            "align_self": null,
            "height": null,
            "min_height": null,
            "padding": null,
            "grid_auto_rows": null,
            "grid_gap": null,
            "max_width": null,
            "order": null,
            "_view_module_version": "1.2.0",
            "grid_template_areas": null,
            "object_position": null,
            "object_fit": null,
            "grid_auto_columns": null,
            "margin": null,
            "display": null,
            "left": null
          }
        },
        "19d05df9e1f34845b5b4d780377f491f": {
          "model_module": "@jupyter-widgets/controls",
          "model_name": "FloatProgressModel",
          "state": {
            "_view_name": "ProgressView",
            "style": "IPY_MODEL_5a347a78727b484e84140d7b2041af5e",
            "_dom_classes": [],
            "description": "",
            "_model_name": "FloatProgressModel",
            "bar_style": "success",
            "max": 1,
            "_view_module": "@jupyter-widgets/controls",
            "_model_module_version": "1.5.0",
            "value": 1,
            "_view_count": null,
            "_view_module_version": "1.5.0",
            "orientation": "horizontal",
            "min": 0,
            "description_tooltip": null,
            "_model_module": "@jupyter-widgets/controls",
            "layout": "IPY_MODEL_c7973e261dcc421bb461c674e8c0590b"
          }
        },
        "5aafc68f5e2441359b882b6916979397": {
          "model_module": "@jupyter-widgets/controls",
          "model_name": "HTMLModel",
          "state": {
            "_view_name": "HTMLView",
            "style": "IPY_MODEL_0445fe63cff94d5aa0d595c7671e61f1",
            "_dom_classes": [],
            "description": "",
            "_model_name": "HTMLModel",
            "placeholder": "​",
            "_view_module": "@jupyter-widgets/controls",
            "_model_module_version": "1.5.0",
            "value": " 690/? [00:48&lt;00:00, 14.28it/s]",
            "_view_count": null,
            "_view_module_version": "1.5.0",
            "description_tooltip": null,
            "_model_module": "@jupyter-widgets/controls",
            "layout": "IPY_MODEL_f711d6d25cf74395925ca1f9f5dddb0a"
          }
        },
        "5a347a78727b484e84140d7b2041af5e": {
          "model_module": "@jupyter-widgets/controls",
          "model_name": "ProgressStyleModel",
          "state": {
            "_view_name": "StyleView",
            "_model_name": "ProgressStyleModel",
            "description_width": "initial",
            "_view_module": "@jupyter-widgets/base",
            "_model_module_version": "1.5.0",
            "_view_count": null,
            "_view_module_version": "1.2.0",
            "bar_color": null,
            "_model_module": "@jupyter-widgets/controls"
          }
        },
        "c7973e261dcc421bb461c674e8c0590b": {
          "model_module": "@jupyter-widgets/base",
          "model_name": "LayoutModel",
          "state": {
            "_view_name": "LayoutView",
            "grid_template_rows": null,
            "right": null,
            "justify_content": null,
            "_view_module": "@jupyter-widgets/base",
            "overflow": null,
            "_model_module_version": "1.2.0",
            "_view_count": null,
            "flex_flow": null,
            "width": null,
            "min_width": null,
            "border": null,
            "align_items": null,
            "bottom": null,
            "_model_module": "@jupyter-widgets/base",
            "top": null,
            "grid_column": null,
            "overflow_y": null,
            "overflow_x": null,
            "grid_auto_flow": null,
            "grid_area": null,
            "grid_template_columns": null,
            "flex": null,
            "_model_name": "LayoutModel",
            "justify_items": null,
            "grid_row": null,
            "max_height": null,
            "align_content": null,
            "visibility": null,
            "align_self": null,
            "height": null,
            "min_height": null,
            "padding": null,
            "grid_auto_rows": null,
            "grid_gap": null,
            "max_width": null,
            "order": null,
            "_view_module_version": "1.2.0",
            "grid_template_areas": null,
            "object_position": null,
            "object_fit": null,
            "grid_auto_columns": null,
            "margin": null,
            "display": null,
            "left": null
          }
        },
        "0445fe63cff94d5aa0d595c7671e61f1": {
          "model_module": "@jupyter-widgets/controls",
          "model_name": "DescriptionStyleModel",
          "state": {
            "_view_name": "StyleView",
            "_model_name": "DescriptionStyleModel",
            "description_width": "",
            "_view_module": "@jupyter-widgets/base",
            "_model_module_version": "1.5.0",
            "_view_count": null,
            "_view_module_version": "1.2.0",
            "_model_module": "@jupyter-widgets/controls"
          }
        },
        "f711d6d25cf74395925ca1f9f5dddb0a": {
          "model_module": "@jupyter-widgets/base",
          "model_name": "LayoutModel",
          "state": {
            "_view_name": "LayoutView",
            "grid_template_rows": null,
            "right": null,
            "justify_content": null,
            "_view_module": "@jupyter-widgets/base",
            "overflow": null,
            "_model_module_version": "1.2.0",
            "_view_count": null,
            "flex_flow": null,
            "width": null,
            "min_width": null,
            "border": null,
            "align_items": null,
            "bottom": null,
            "_model_module": "@jupyter-widgets/base",
            "top": null,
            "grid_column": null,
            "overflow_y": null,
            "overflow_x": null,
            "grid_auto_flow": null,
            "grid_area": null,
            "grid_template_columns": null,
            "flex": null,
            "_model_name": "LayoutModel",
            "justify_items": null,
            "grid_row": null,
            "max_height": null,
            "align_content": null,
            "visibility": null,
            "align_self": null,
            "height": null,
            "min_height": null,
            "padding": null,
            "grid_auto_rows": null,
            "grid_gap": null,
            "max_width": null,
            "order": null,
            "_view_module_version": "1.2.0",
            "grid_template_areas": null,
            "object_position": null,
            "object_fit": null,
            "grid_auto_columns": null,
            "margin": null,
            "display": null,
            "left": null
          }
        },
        "fc660b70abc74668b91b126c19c282f7": {
          "model_module": "@jupyter-widgets/controls",
          "model_name": "HBoxModel",
          "state": {
            "_view_name": "HBoxView",
            "_dom_classes": [],
            "_model_name": "HBoxModel",
            "_view_module": "@jupyter-widgets/controls",
            "_model_module_version": "1.5.0",
            "_view_count": null,
            "_view_module_version": "1.5.0",
            "box_style": "",
            "layout": "IPY_MODEL_ac1d901df15f49fea51561eaf7053d40",
            "_model_module": "@jupyter-widgets/controls",
            "children": [
              "IPY_MODEL_224500f3e902458bad2362a0eb878b74",
              "IPY_MODEL_73452b7ae5a846979cb8e280960554be"
            ]
          }
        },
        "ac1d901df15f49fea51561eaf7053d40": {
          "model_module": "@jupyter-widgets/base",
          "model_name": "LayoutModel",
          "state": {
            "_view_name": "LayoutView",
            "grid_template_rows": null,
            "right": null,
            "justify_content": null,
            "_view_module": "@jupyter-widgets/base",
            "overflow": null,
            "_model_module_version": "1.2.0",
            "_view_count": null,
            "flex_flow": null,
            "width": null,
            "min_width": null,
            "border": null,
            "align_items": null,
            "bottom": null,
            "_model_module": "@jupyter-widgets/base",
            "top": null,
            "grid_column": null,
            "overflow_y": null,
            "overflow_x": null,
            "grid_auto_flow": null,
            "grid_area": null,
            "grid_template_columns": null,
            "flex": null,
            "_model_name": "LayoutModel",
            "justify_items": null,
            "grid_row": null,
            "max_height": null,
            "align_content": null,
            "visibility": null,
            "align_self": null,
            "height": null,
            "min_height": null,
            "padding": null,
            "grid_auto_rows": null,
            "grid_gap": null,
            "max_width": null,
            "order": null,
            "_view_module_version": "1.2.0",
            "grid_template_areas": null,
            "object_position": null,
            "object_fit": null,
            "grid_auto_columns": null,
            "margin": null,
            "display": null,
            "left": null
          }
        },
        "224500f3e902458bad2362a0eb878b74": {
          "model_module": "@jupyter-widgets/controls",
          "model_name": "FloatProgressModel",
          "state": {
            "_view_name": "ProgressView",
            "style": "IPY_MODEL_68acafd2dd844c459634cb46f11d4f6a",
            "_dom_classes": [],
            "description": "",
            "_model_name": "FloatProgressModel",
            "bar_style": "success",
            "max": 1,
            "_view_module": "@jupyter-widgets/controls",
            "_model_module_version": "1.5.0",
            "value": 1,
            "_view_count": null,
            "_view_module_version": "1.5.0",
            "orientation": "horizontal",
            "min": 0,
            "description_tooltip": null,
            "_model_module": "@jupyter-widgets/controls",
            "layout": "IPY_MODEL_f7cf04a2545f458b95c62e2a3e4de53f"
          }
        },
        "73452b7ae5a846979cb8e280960554be": {
          "model_module": "@jupyter-widgets/controls",
          "model_name": "HTMLModel",
          "state": {
            "_view_name": "HTMLView",
            "style": "IPY_MODEL_ce8a144351d64835967c9e46b1eb0034",
            "_dom_classes": [],
            "description": "",
            "_model_name": "HTMLModel",
            "placeholder": "​",
            "_view_module": "@jupyter-widgets/controls",
            "_model_module_version": "1.5.0",
            "value": " 690/? [00:27&lt;00:00, 25.19it/s]",
            "_view_count": null,
            "_view_module_version": "1.5.0",
            "description_tooltip": null,
            "_model_module": "@jupyter-widgets/controls",
            "layout": "IPY_MODEL_14d3e521b15541a2a222a7cae503a427"
          }
        },
        "68acafd2dd844c459634cb46f11d4f6a": {
          "model_module": "@jupyter-widgets/controls",
          "model_name": "ProgressStyleModel",
          "state": {
            "_view_name": "StyleView",
            "_model_name": "ProgressStyleModel",
            "description_width": "initial",
            "_view_module": "@jupyter-widgets/base",
            "_model_module_version": "1.5.0",
            "_view_count": null,
            "_view_module_version": "1.2.0",
            "bar_color": null,
            "_model_module": "@jupyter-widgets/controls"
          }
        },
        "f7cf04a2545f458b95c62e2a3e4de53f": {
          "model_module": "@jupyter-widgets/base",
          "model_name": "LayoutModel",
          "state": {
            "_view_name": "LayoutView",
            "grid_template_rows": null,
            "right": null,
            "justify_content": null,
            "_view_module": "@jupyter-widgets/base",
            "overflow": null,
            "_model_module_version": "1.2.0",
            "_view_count": null,
            "flex_flow": null,
            "width": null,
            "min_width": null,
            "border": null,
            "align_items": null,
            "bottom": null,
            "_model_module": "@jupyter-widgets/base",
            "top": null,
            "grid_column": null,
            "overflow_y": null,
            "overflow_x": null,
            "grid_auto_flow": null,
            "grid_area": null,
            "grid_template_columns": null,
            "flex": null,
            "_model_name": "LayoutModel",
            "justify_items": null,
            "grid_row": null,
            "max_height": null,
            "align_content": null,
            "visibility": null,
            "align_self": null,
            "height": null,
            "min_height": null,
            "padding": null,
            "grid_auto_rows": null,
            "grid_gap": null,
            "max_width": null,
            "order": null,
            "_view_module_version": "1.2.0",
            "grid_template_areas": null,
            "object_position": null,
            "object_fit": null,
            "grid_auto_columns": null,
            "margin": null,
            "display": null,
            "left": null
          }
        },
        "ce8a144351d64835967c9e46b1eb0034": {
          "model_module": "@jupyter-widgets/controls",
          "model_name": "DescriptionStyleModel",
          "state": {
            "_view_name": "StyleView",
            "_model_name": "DescriptionStyleModel",
            "description_width": "",
            "_view_module": "@jupyter-widgets/base",
            "_model_module_version": "1.5.0",
            "_view_count": null,
            "_view_module_version": "1.2.0",
            "_model_module": "@jupyter-widgets/controls"
          }
        },
        "14d3e521b15541a2a222a7cae503a427": {
          "model_module": "@jupyter-widgets/base",
          "model_name": "LayoutModel",
          "state": {
            "_view_name": "LayoutView",
            "grid_template_rows": null,
            "right": null,
            "justify_content": null,
            "_view_module": "@jupyter-widgets/base",
            "overflow": null,
            "_model_module_version": "1.2.0",
            "_view_count": null,
            "flex_flow": null,
            "width": null,
            "min_width": null,
            "border": null,
            "align_items": null,
            "bottom": null,
            "_model_module": "@jupyter-widgets/base",
            "top": null,
            "grid_column": null,
            "overflow_y": null,
            "overflow_x": null,
            "grid_auto_flow": null,
            "grid_area": null,
            "grid_template_columns": null,
            "flex": null,
            "_model_name": "LayoutModel",
            "justify_items": null,
            "grid_row": null,
            "max_height": null,
            "align_content": null,
            "visibility": null,
            "align_self": null,
            "height": null,
            "min_height": null,
            "padding": null,
            "grid_auto_rows": null,
            "grid_gap": null,
            "max_width": null,
            "order": null,
            "_view_module_version": "1.2.0",
            "grid_template_areas": null,
            "object_position": null,
            "object_fit": null,
            "grid_auto_columns": null,
            "margin": null,
            "display": null,
            "left": null
          }
        },
        "9c59e0243d164eeebd50f40e08e142ac": {
          "model_module": "@jupyter-widgets/controls",
          "model_name": "HBoxModel",
          "state": {
            "_view_name": "HBoxView",
            "_dom_classes": [],
            "_model_name": "HBoxModel",
            "_view_module": "@jupyter-widgets/controls",
            "_model_module_version": "1.5.0",
            "_view_count": null,
            "_view_module_version": "1.5.0",
            "box_style": "",
            "layout": "IPY_MODEL_f51976b3501a4ed38fa5f78110fbf9d2",
            "_model_module": "@jupyter-widgets/controls",
            "children": [
              "IPY_MODEL_b387336c84aa46aabe71ec0020e6ef7f",
              "IPY_MODEL_d4d6385b79154f36821e9f084353bcc3"
            ]
          }
        },
        "f51976b3501a4ed38fa5f78110fbf9d2": {
          "model_module": "@jupyter-widgets/base",
          "model_name": "LayoutModel",
          "state": {
            "_view_name": "LayoutView",
            "grid_template_rows": null,
            "right": null,
            "justify_content": null,
            "_view_module": "@jupyter-widgets/base",
            "overflow": null,
            "_model_module_version": "1.2.0",
            "_view_count": null,
            "flex_flow": null,
            "width": null,
            "min_width": null,
            "border": null,
            "align_items": null,
            "bottom": null,
            "_model_module": "@jupyter-widgets/base",
            "top": null,
            "grid_column": null,
            "overflow_y": null,
            "overflow_x": null,
            "grid_auto_flow": null,
            "grid_area": null,
            "grid_template_columns": null,
            "flex": null,
            "_model_name": "LayoutModel",
            "justify_items": null,
            "grid_row": null,
            "max_height": null,
            "align_content": null,
            "visibility": null,
            "align_self": null,
            "height": null,
            "min_height": null,
            "padding": null,
            "grid_auto_rows": null,
            "grid_gap": null,
            "max_width": null,
            "order": null,
            "_view_module_version": "1.2.0",
            "grid_template_areas": null,
            "object_position": null,
            "object_fit": null,
            "grid_auto_columns": null,
            "margin": null,
            "display": null,
            "left": null
          }
        },
        "b387336c84aa46aabe71ec0020e6ef7f": {
          "model_module": "@jupyter-widgets/controls",
          "model_name": "FloatProgressModel",
          "state": {
            "_view_name": "ProgressView",
            "style": "IPY_MODEL_dc3e84fa25344caf8cae04d37bbfad03",
            "_dom_classes": [],
            "description": "",
            "_model_name": "FloatProgressModel",
            "bar_style": "success",
            "max": 1,
            "_view_module": "@jupyter-widgets/controls",
            "_model_module_version": "1.5.0",
            "value": 1,
            "_view_count": null,
            "_view_module_version": "1.5.0",
            "orientation": "horizontal",
            "min": 0,
            "description_tooltip": null,
            "_model_module": "@jupyter-widgets/controls",
            "layout": "IPY_MODEL_ae270eef0b8a4da587d261bf5e0f4727"
          }
        },
        "d4d6385b79154f36821e9f084353bcc3": {
          "model_module": "@jupyter-widgets/controls",
          "model_name": "HTMLModel",
          "state": {
            "_view_name": "HTMLView",
            "style": "IPY_MODEL_1e3be74144344d27b71b9ee7fbd7d1db",
            "_dom_classes": [],
            "description": "",
            "_model_name": "HTMLModel",
            "placeholder": "​",
            "_view_module": "@jupyter-widgets/controls",
            "_model_module_version": "1.5.0",
            "value": " 690/? [26:46&lt;00:00,  2.33s/it]",
            "_view_count": null,
            "_view_module_version": "1.5.0",
            "description_tooltip": null,
            "_model_module": "@jupyter-widgets/controls",
            "layout": "IPY_MODEL_42accbd007644f51956fdb2df9c90563"
          }
        },
        "dc3e84fa25344caf8cae04d37bbfad03": {
          "model_module": "@jupyter-widgets/controls",
          "model_name": "ProgressStyleModel",
          "state": {
            "_view_name": "StyleView",
            "_model_name": "ProgressStyleModel",
            "description_width": "initial",
            "_view_module": "@jupyter-widgets/base",
            "_model_module_version": "1.5.0",
            "_view_count": null,
            "_view_module_version": "1.2.0",
            "bar_color": null,
            "_model_module": "@jupyter-widgets/controls"
          }
        },
        "ae270eef0b8a4da587d261bf5e0f4727": {
          "model_module": "@jupyter-widgets/base",
          "model_name": "LayoutModel",
          "state": {
            "_view_name": "LayoutView",
            "grid_template_rows": null,
            "right": null,
            "justify_content": null,
            "_view_module": "@jupyter-widgets/base",
            "overflow": null,
            "_model_module_version": "1.2.0",
            "_view_count": null,
            "flex_flow": null,
            "width": null,
            "min_width": null,
            "border": null,
            "align_items": null,
            "bottom": null,
            "_model_module": "@jupyter-widgets/base",
            "top": null,
            "grid_column": null,
            "overflow_y": null,
            "overflow_x": null,
            "grid_auto_flow": null,
            "grid_area": null,
            "grid_template_columns": null,
            "flex": null,
            "_model_name": "LayoutModel",
            "justify_items": null,
            "grid_row": null,
            "max_height": null,
            "align_content": null,
            "visibility": null,
            "align_self": null,
            "height": null,
            "min_height": null,
            "padding": null,
            "grid_auto_rows": null,
            "grid_gap": null,
            "max_width": null,
            "order": null,
            "_view_module_version": "1.2.0",
            "grid_template_areas": null,
            "object_position": null,
            "object_fit": null,
            "grid_auto_columns": null,
            "margin": null,
            "display": null,
            "left": null
          }
        },
        "1e3be74144344d27b71b9ee7fbd7d1db": {
          "model_module": "@jupyter-widgets/controls",
          "model_name": "DescriptionStyleModel",
          "state": {
            "_view_name": "StyleView",
            "_model_name": "DescriptionStyleModel",
            "description_width": "",
            "_view_module": "@jupyter-widgets/base",
            "_model_module_version": "1.5.0",
            "_view_count": null,
            "_view_module_version": "1.2.0",
            "_model_module": "@jupyter-widgets/controls"
          }
        },
        "42accbd007644f51956fdb2df9c90563": {
          "model_module": "@jupyter-widgets/base",
          "model_name": "LayoutModel",
          "state": {
            "_view_name": "LayoutView",
            "grid_template_rows": null,
            "right": null,
            "justify_content": null,
            "_view_module": "@jupyter-widgets/base",
            "overflow": null,
            "_model_module_version": "1.2.0",
            "_view_count": null,
            "flex_flow": null,
            "width": null,
            "min_width": null,
            "border": null,
            "align_items": null,
            "bottom": null,
            "_model_module": "@jupyter-widgets/base",
            "top": null,
            "grid_column": null,
            "overflow_y": null,
            "overflow_x": null,
            "grid_auto_flow": null,
            "grid_area": null,
            "grid_template_columns": null,
            "flex": null,
            "_model_name": "LayoutModel",
            "justify_items": null,
            "grid_row": null,
            "max_height": null,
            "align_content": null,
            "visibility": null,
            "align_self": null,
            "height": null,
            "min_height": null,
            "padding": null,
            "grid_auto_rows": null,
            "grid_gap": null,
            "max_width": null,
            "order": null,
            "_view_module_version": "1.2.0",
            "grid_template_areas": null,
            "object_position": null,
            "object_fit": null,
            "grid_auto_columns": null,
            "margin": null,
            "display": null,
            "left": null
          }
        },
        "7c7ccab6d19844b5b07bc5d9ab58d80f": {
          "model_module": "@jupyter-widgets/controls",
          "model_name": "HBoxModel",
          "state": {
            "_view_name": "HBoxView",
            "_dom_classes": [],
            "_model_name": "HBoxModel",
            "_view_module": "@jupyter-widgets/controls",
            "_model_module_version": "1.5.0",
            "_view_count": null,
            "_view_module_version": "1.5.0",
            "box_style": "",
            "layout": "IPY_MODEL_fd20ed1acb3b4586867a2b18c5afe933",
            "_model_module": "@jupyter-widgets/controls",
            "children": [
              "IPY_MODEL_db6dbb2ea16e4bdb87968465c584801e",
              "IPY_MODEL_63ccee3cf0fd4299bdea0e2a7b688dd6"
            ]
          }
        },
        "fd20ed1acb3b4586867a2b18c5afe933": {
          "model_module": "@jupyter-widgets/base",
          "model_name": "LayoutModel",
          "state": {
            "_view_name": "LayoutView",
            "grid_template_rows": null,
            "right": null,
            "justify_content": null,
            "_view_module": "@jupyter-widgets/base",
            "overflow": null,
            "_model_module_version": "1.2.0",
            "_view_count": null,
            "flex_flow": null,
            "width": null,
            "min_width": null,
            "border": null,
            "align_items": null,
            "bottom": null,
            "_model_module": "@jupyter-widgets/base",
            "top": null,
            "grid_column": null,
            "overflow_y": null,
            "overflow_x": null,
            "grid_auto_flow": null,
            "grid_area": null,
            "grid_template_columns": null,
            "flex": null,
            "_model_name": "LayoutModel",
            "justify_items": null,
            "grid_row": null,
            "max_height": null,
            "align_content": null,
            "visibility": null,
            "align_self": null,
            "height": null,
            "min_height": null,
            "padding": null,
            "grid_auto_rows": null,
            "grid_gap": null,
            "max_width": null,
            "order": null,
            "_view_module_version": "1.2.0",
            "grid_template_areas": null,
            "object_position": null,
            "object_fit": null,
            "grid_auto_columns": null,
            "margin": null,
            "display": null,
            "left": null
          }
        },
        "db6dbb2ea16e4bdb87968465c584801e": {
          "model_module": "@jupyter-widgets/controls",
          "model_name": "FloatProgressModel",
          "state": {
            "_view_name": "ProgressView",
            "style": "IPY_MODEL_fa76d1948f2147d89d3c55859a1efd34",
            "_dom_classes": [],
            "description": "",
            "_model_name": "FloatProgressModel",
            "bar_style": "success",
            "max": 1,
            "_view_module": "@jupyter-widgets/controls",
            "_model_module_version": "1.5.0",
            "value": 1,
            "_view_count": null,
            "_view_module_version": "1.5.0",
            "orientation": "horizontal",
            "min": 0,
            "description_tooltip": null,
            "_model_module": "@jupyter-widgets/controls",
            "layout": "IPY_MODEL_a90e0c639f8440eb8d7e971ee07250db"
          }
        },
        "63ccee3cf0fd4299bdea0e2a7b688dd6": {
          "model_module": "@jupyter-widgets/controls",
          "model_name": "HTMLModel",
          "state": {
            "_view_name": "HTMLView",
            "style": "IPY_MODEL_fd9fff3d46aa4002af4668f34a307d61",
            "_dom_classes": [],
            "description": "",
            "_model_name": "HTMLModel",
            "placeholder": "​",
            "_view_module": "@jupyter-widgets/controls",
            "_model_module_version": "1.5.0",
            "value": " 1652/? [01:06&lt;00:00, 24.92it/s]",
            "_view_count": null,
            "_view_module_version": "1.5.0",
            "description_tooltip": null,
            "_model_module": "@jupyter-widgets/controls",
            "layout": "IPY_MODEL_ca81092071df4c79bd21a37881956c35"
          }
        },
        "fa76d1948f2147d89d3c55859a1efd34": {
          "model_module": "@jupyter-widgets/controls",
          "model_name": "ProgressStyleModel",
          "state": {
            "_view_name": "StyleView",
            "_model_name": "ProgressStyleModel",
            "description_width": "initial",
            "_view_module": "@jupyter-widgets/base",
            "_model_module_version": "1.5.0",
            "_view_count": null,
            "_view_module_version": "1.2.0",
            "bar_color": null,
            "_model_module": "@jupyter-widgets/controls"
          }
        },
        "a90e0c639f8440eb8d7e971ee07250db": {
          "model_module": "@jupyter-widgets/base",
          "model_name": "LayoutModel",
          "state": {
            "_view_name": "LayoutView",
            "grid_template_rows": null,
            "right": null,
            "justify_content": null,
            "_view_module": "@jupyter-widgets/base",
            "overflow": null,
            "_model_module_version": "1.2.0",
            "_view_count": null,
            "flex_flow": null,
            "width": null,
            "min_width": null,
            "border": null,
            "align_items": null,
            "bottom": null,
            "_model_module": "@jupyter-widgets/base",
            "top": null,
            "grid_column": null,
            "overflow_y": null,
            "overflow_x": null,
            "grid_auto_flow": null,
            "grid_area": null,
            "grid_template_columns": null,
            "flex": null,
            "_model_name": "LayoutModel",
            "justify_items": null,
            "grid_row": null,
            "max_height": null,
            "align_content": null,
            "visibility": null,
            "align_self": null,
            "height": null,
            "min_height": null,
            "padding": null,
            "grid_auto_rows": null,
            "grid_gap": null,
            "max_width": null,
            "order": null,
            "_view_module_version": "1.2.0",
            "grid_template_areas": null,
            "object_position": null,
            "object_fit": null,
            "grid_auto_columns": null,
            "margin": null,
            "display": null,
            "left": null
          }
        },
        "fd9fff3d46aa4002af4668f34a307d61": {
          "model_module": "@jupyter-widgets/controls",
          "model_name": "DescriptionStyleModel",
          "state": {
            "_view_name": "StyleView",
            "_model_name": "DescriptionStyleModel",
            "description_width": "",
            "_view_module": "@jupyter-widgets/base",
            "_model_module_version": "1.5.0",
            "_view_count": null,
            "_view_module_version": "1.2.0",
            "_model_module": "@jupyter-widgets/controls"
          }
        },
        "ca81092071df4c79bd21a37881956c35": {
          "model_module": "@jupyter-widgets/base",
          "model_name": "LayoutModel",
          "state": {
            "_view_name": "LayoutView",
            "grid_template_rows": null,
            "right": null,
            "justify_content": null,
            "_view_module": "@jupyter-widgets/base",
            "overflow": null,
            "_model_module_version": "1.2.0",
            "_view_count": null,
            "flex_flow": null,
            "width": null,
            "min_width": null,
            "border": null,
            "align_items": null,
            "bottom": null,
            "_model_module": "@jupyter-widgets/base",
            "top": null,
            "grid_column": null,
            "overflow_y": null,
            "overflow_x": null,
            "grid_auto_flow": null,
            "grid_area": null,
            "grid_template_columns": null,
            "flex": null,
            "_model_name": "LayoutModel",
            "justify_items": null,
            "grid_row": null,
            "max_height": null,
            "align_content": null,
            "visibility": null,
            "align_self": null,
            "height": null,
            "min_height": null,
            "padding": null,
            "grid_auto_rows": null,
            "grid_gap": null,
            "max_width": null,
            "order": null,
            "_view_module_version": "1.2.0",
            "grid_template_areas": null,
            "object_position": null,
            "object_fit": null,
            "grid_auto_columns": null,
            "margin": null,
            "display": null,
            "left": null
          }
        },
        "058a2fdac0154ded9cb929044d578a4e": {
          "model_module": "@jupyter-widgets/controls",
          "model_name": "HBoxModel",
          "state": {
            "_view_name": "HBoxView",
            "_dom_classes": [],
            "_model_name": "HBoxModel",
            "_view_module": "@jupyter-widgets/controls",
            "_model_module_version": "1.5.0",
            "_view_count": null,
            "_view_module_version": "1.5.0",
            "box_style": "",
            "layout": "IPY_MODEL_0942862574924bc683597c573e30cb6b",
            "_model_module": "@jupyter-widgets/controls",
            "children": [
              "IPY_MODEL_b19766552d204b9dbe1a9d1996beccb5",
              "IPY_MODEL_31e3144610e2420bb856772aefd3cb11"
            ]
          }
        },
        "0942862574924bc683597c573e30cb6b": {
          "model_module": "@jupyter-widgets/base",
          "model_name": "LayoutModel",
          "state": {
            "_view_name": "LayoutView",
            "grid_template_rows": null,
            "right": null,
            "justify_content": null,
            "_view_module": "@jupyter-widgets/base",
            "overflow": null,
            "_model_module_version": "1.2.0",
            "_view_count": null,
            "flex_flow": null,
            "width": null,
            "min_width": null,
            "border": null,
            "align_items": null,
            "bottom": null,
            "_model_module": "@jupyter-widgets/base",
            "top": null,
            "grid_column": null,
            "overflow_y": null,
            "overflow_x": null,
            "grid_auto_flow": null,
            "grid_area": null,
            "grid_template_columns": null,
            "flex": null,
            "_model_name": "LayoutModel",
            "justify_items": null,
            "grid_row": null,
            "max_height": null,
            "align_content": null,
            "visibility": null,
            "align_self": null,
            "height": null,
            "min_height": null,
            "padding": null,
            "grid_auto_rows": null,
            "grid_gap": null,
            "max_width": null,
            "order": null,
            "_view_module_version": "1.2.0",
            "grid_template_areas": null,
            "object_position": null,
            "object_fit": null,
            "grid_auto_columns": null,
            "margin": null,
            "display": null,
            "left": null
          }
        },
        "b19766552d204b9dbe1a9d1996beccb5": {
          "model_module": "@jupyter-widgets/controls",
          "model_name": "FloatProgressModel",
          "state": {
            "_view_name": "ProgressView",
            "style": "IPY_MODEL_57089a75849a45e59afc47097f9ac239",
            "_dom_classes": [],
            "description": "",
            "_model_name": "FloatProgressModel",
            "bar_style": "success",
            "max": 1,
            "_view_module": "@jupyter-widgets/controls",
            "_model_module_version": "1.5.0",
            "value": 1,
            "_view_count": null,
            "_view_module_version": "1.5.0",
            "orientation": "horizontal",
            "min": 0,
            "description_tooltip": null,
            "_model_module": "@jupyter-widgets/controls",
            "layout": "IPY_MODEL_be9641ec1ead4d0bba5c0a20235fd920"
          }
        },
        "31e3144610e2420bb856772aefd3cb11": {
          "model_module": "@jupyter-widgets/controls",
          "model_name": "HTMLModel",
          "state": {
            "_view_name": "HTMLView",
            "style": "IPY_MODEL_f70306c1dddf4fa2a36538579eece13f",
            "_dom_classes": [],
            "description": "",
            "_model_name": "HTMLModel",
            "placeholder": "​",
            "_view_module": "@jupyter-widgets/controls",
            "_model_module_version": "1.5.0",
            "value": " 690/? [00:11&lt;00:00, 59.46it/s]",
            "_view_count": null,
            "_view_module_version": "1.5.0",
            "description_tooltip": null,
            "_model_module": "@jupyter-widgets/controls",
            "layout": "IPY_MODEL_e2c83b054b724d8eb6578356405d41df"
          }
        },
        "57089a75849a45e59afc47097f9ac239": {
          "model_module": "@jupyter-widgets/controls",
          "model_name": "ProgressStyleModel",
          "state": {
            "_view_name": "StyleView",
            "_model_name": "ProgressStyleModel",
            "description_width": "initial",
            "_view_module": "@jupyter-widgets/base",
            "_model_module_version": "1.5.0",
            "_view_count": null,
            "_view_module_version": "1.2.0",
            "bar_color": null,
            "_model_module": "@jupyter-widgets/controls"
          }
        },
        "be9641ec1ead4d0bba5c0a20235fd920": {
          "model_module": "@jupyter-widgets/base",
          "model_name": "LayoutModel",
          "state": {
            "_view_name": "LayoutView",
            "grid_template_rows": null,
            "right": null,
            "justify_content": null,
            "_view_module": "@jupyter-widgets/base",
            "overflow": null,
            "_model_module_version": "1.2.0",
            "_view_count": null,
            "flex_flow": null,
            "width": null,
            "min_width": null,
            "border": null,
            "align_items": null,
            "bottom": null,
            "_model_module": "@jupyter-widgets/base",
            "top": null,
            "grid_column": null,
            "overflow_y": null,
            "overflow_x": null,
            "grid_auto_flow": null,
            "grid_area": null,
            "grid_template_columns": null,
            "flex": null,
            "_model_name": "LayoutModel",
            "justify_items": null,
            "grid_row": null,
            "max_height": null,
            "align_content": null,
            "visibility": null,
            "align_self": null,
            "height": null,
            "min_height": null,
            "padding": null,
            "grid_auto_rows": null,
            "grid_gap": null,
            "max_width": null,
            "order": null,
            "_view_module_version": "1.2.0",
            "grid_template_areas": null,
            "object_position": null,
            "object_fit": null,
            "grid_auto_columns": null,
            "margin": null,
            "display": null,
            "left": null
          }
        },
        "f70306c1dddf4fa2a36538579eece13f": {
          "model_module": "@jupyter-widgets/controls",
          "model_name": "DescriptionStyleModel",
          "state": {
            "_view_name": "StyleView",
            "_model_name": "DescriptionStyleModel",
            "description_width": "",
            "_view_module": "@jupyter-widgets/base",
            "_model_module_version": "1.5.0",
            "_view_count": null,
            "_view_module_version": "1.2.0",
            "_model_module": "@jupyter-widgets/controls"
          }
        },
        "e2c83b054b724d8eb6578356405d41df": {
          "model_module": "@jupyter-widgets/base",
          "model_name": "LayoutModel",
          "state": {
            "_view_name": "LayoutView",
            "grid_template_rows": null,
            "right": null,
            "justify_content": null,
            "_view_module": "@jupyter-widgets/base",
            "overflow": null,
            "_model_module_version": "1.2.0",
            "_view_count": null,
            "flex_flow": null,
            "width": null,
            "min_width": null,
            "border": null,
            "align_items": null,
            "bottom": null,
            "_model_module": "@jupyter-widgets/base",
            "top": null,
            "grid_column": null,
            "overflow_y": null,
            "overflow_x": null,
            "grid_auto_flow": null,
            "grid_area": null,
            "grid_template_columns": null,
            "flex": null,
            "_model_name": "LayoutModel",
            "justify_items": null,
            "grid_row": null,
            "max_height": null,
            "align_content": null,
            "visibility": null,
            "align_self": null,
            "height": null,
            "min_height": null,
            "padding": null,
            "grid_auto_rows": null,
            "grid_gap": null,
            "max_width": null,
            "order": null,
            "_view_module_version": "1.2.0",
            "grid_template_areas": null,
            "object_position": null,
            "object_fit": null,
            "grid_auto_columns": null,
            "margin": null,
            "display": null,
            "left": null
          }
        },
        "5824fc8a30024d84950cbcb16710f47d": {
          "model_module": "@jupyter-widgets/controls",
          "model_name": "HBoxModel",
          "state": {
            "_view_name": "HBoxView",
            "_dom_classes": [],
            "_model_name": "HBoxModel",
            "_view_module": "@jupyter-widgets/controls",
            "_model_module_version": "1.5.0",
            "_view_count": null,
            "_view_module_version": "1.5.0",
            "box_style": "",
            "layout": "IPY_MODEL_f83374b3c314476293ea8d9325e2b924",
            "_model_module": "@jupyter-widgets/controls",
            "children": [
              "IPY_MODEL_b95edcf627c74dfc9d6806b65b061cf6",
              "IPY_MODEL_45e9b7f1d969495593dd80ada7009459"
            ]
          }
        },
        "f83374b3c314476293ea8d9325e2b924": {
          "model_module": "@jupyter-widgets/base",
          "model_name": "LayoutModel",
          "state": {
            "_view_name": "LayoutView",
            "grid_template_rows": null,
            "right": null,
            "justify_content": null,
            "_view_module": "@jupyter-widgets/base",
            "overflow": null,
            "_model_module_version": "1.2.0",
            "_view_count": null,
            "flex_flow": null,
            "width": null,
            "min_width": null,
            "border": null,
            "align_items": null,
            "bottom": null,
            "_model_module": "@jupyter-widgets/base",
            "top": null,
            "grid_column": null,
            "overflow_y": null,
            "overflow_x": null,
            "grid_auto_flow": null,
            "grid_area": null,
            "grid_template_columns": null,
            "flex": null,
            "_model_name": "LayoutModel",
            "justify_items": null,
            "grid_row": null,
            "max_height": null,
            "align_content": null,
            "visibility": null,
            "align_self": null,
            "height": null,
            "min_height": null,
            "padding": null,
            "grid_auto_rows": null,
            "grid_gap": null,
            "max_width": null,
            "order": null,
            "_view_module_version": "1.2.0",
            "grid_template_areas": null,
            "object_position": null,
            "object_fit": null,
            "grid_auto_columns": null,
            "margin": null,
            "display": null,
            "left": null
          }
        },
        "b95edcf627c74dfc9d6806b65b061cf6": {
          "model_module": "@jupyter-widgets/controls",
          "model_name": "FloatProgressModel",
          "state": {
            "_view_name": "ProgressView",
            "style": "IPY_MODEL_567b0aeff1f14dd28a9d62b3a4c1e62a",
            "_dom_classes": [],
            "description": "100%",
            "_model_name": "FloatProgressModel",
            "bar_style": "success",
            "max": 1652,
            "_view_module": "@jupyter-widgets/controls",
            "_model_module_version": "1.5.0",
            "value": 1652,
            "_view_count": null,
            "_view_module_version": "1.5.0",
            "orientation": "horizontal",
            "min": 0,
            "description_tooltip": null,
            "_model_module": "@jupyter-widgets/controls",
            "layout": "IPY_MODEL_bdc9b60ba03b40d5bc59354d3f837429"
          }
        },
        "45e9b7f1d969495593dd80ada7009459": {
          "model_module": "@jupyter-widgets/controls",
          "model_name": "HTMLModel",
          "state": {
            "_view_name": "HTMLView",
            "style": "IPY_MODEL_56cf1303aa07470ea5a76bf557b615ab",
            "_dom_classes": [],
            "description": "",
            "_model_name": "HTMLModel",
            "placeholder": "​",
            "_view_module": "@jupyter-widgets/controls",
            "_model_module_version": "1.5.0",
            "value": " 1652/1652 [00:28&lt;00:00, 58.06it/s]",
            "_view_count": null,
            "_view_module_version": "1.5.0",
            "description_tooltip": null,
            "_model_module": "@jupyter-widgets/controls",
            "layout": "IPY_MODEL_0c63d33ec25942eab969566ef9cf8605"
          }
        },
        "567b0aeff1f14dd28a9d62b3a4c1e62a": {
          "model_module": "@jupyter-widgets/controls",
          "model_name": "ProgressStyleModel",
          "state": {
            "_view_name": "StyleView",
            "_model_name": "ProgressStyleModel",
            "description_width": "initial",
            "_view_module": "@jupyter-widgets/base",
            "_model_module_version": "1.5.0",
            "_view_count": null,
            "_view_module_version": "1.2.0",
            "bar_color": null,
            "_model_module": "@jupyter-widgets/controls"
          }
        },
        "bdc9b60ba03b40d5bc59354d3f837429": {
          "model_module": "@jupyter-widgets/base",
          "model_name": "LayoutModel",
          "state": {
            "_view_name": "LayoutView",
            "grid_template_rows": null,
            "right": null,
            "justify_content": null,
            "_view_module": "@jupyter-widgets/base",
            "overflow": null,
            "_model_module_version": "1.2.0",
            "_view_count": null,
            "flex_flow": null,
            "width": null,
            "min_width": null,
            "border": null,
            "align_items": null,
            "bottom": null,
            "_model_module": "@jupyter-widgets/base",
            "top": null,
            "grid_column": null,
            "overflow_y": null,
            "overflow_x": null,
            "grid_auto_flow": null,
            "grid_area": null,
            "grid_template_columns": null,
            "flex": null,
            "_model_name": "LayoutModel",
            "justify_items": null,
            "grid_row": null,
            "max_height": null,
            "align_content": null,
            "visibility": null,
            "align_self": null,
            "height": null,
            "min_height": null,
            "padding": null,
            "grid_auto_rows": null,
            "grid_gap": null,
            "max_width": null,
            "order": null,
            "_view_module_version": "1.2.0",
            "grid_template_areas": null,
            "object_position": null,
            "object_fit": null,
            "grid_auto_columns": null,
            "margin": null,
            "display": null,
            "left": null
          }
        },
        "56cf1303aa07470ea5a76bf557b615ab": {
          "model_module": "@jupyter-widgets/controls",
          "model_name": "DescriptionStyleModel",
          "state": {
            "_view_name": "StyleView",
            "_model_name": "DescriptionStyleModel",
            "description_width": "",
            "_view_module": "@jupyter-widgets/base",
            "_model_module_version": "1.5.0",
            "_view_count": null,
            "_view_module_version": "1.2.0",
            "_model_module": "@jupyter-widgets/controls"
          }
        },
        "0c63d33ec25942eab969566ef9cf8605": {
          "model_module": "@jupyter-widgets/base",
          "model_name": "LayoutModel",
          "state": {
            "_view_name": "LayoutView",
            "grid_template_rows": null,
            "right": null,
            "justify_content": null,
            "_view_module": "@jupyter-widgets/base",
            "overflow": null,
            "_model_module_version": "1.2.0",
            "_view_count": null,
            "flex_flow": null,
            "width": null,
            "min_width": null,
            "border": null,
            "align_items": null,
            "bottom": null,
            "_model_module": "@jupyter-widgets/base",
            "top": null,
            "grid_column": null,
            "overflow_y": null,
            "overflow_x": null,
            "grid_auto_flow": null,
            "grid_area": null,
            "grid_template_columns": null,
            "flex": null,
            "_model_name": "LayoutModel",
            "justify_items": null,
            "grid_row": null,
            "max_height": null,
            "align_content": null,
            "visibility": null,
            "align_self": null,
            "height": null,
            "min_height": null,
            "padding": null,
            "grid_auto_rows": null,
            "grid_gap": null,
            "max_width": null,
            "order": null,
            "_view_module_version": "1.2.0",
            "grid_template_areas": null,
            "object_position": null,
            "object_fit": null,
            "grid_auto_columns": null,
            "margin": null,
            "display": null,
            "left": null
          }
        },
        "148b0c2f1c064f5a9a26ef9f7be30c96": {
          "model_module": "@jupyter-widgets/controls",
          "model_name": "HBoxModel",
          "state": {
            "_view_name": "HBoxView",
            "_dom_classes": [],
            "_model_name": "HBoxModel",
            "_view_module": "@jupyter-widgets/controls",
            "_model_module_version": "1.5.0",
            "_view_count": null,
            "_view_module_version": "1.5.0",
            "box_style": "",
            "layout": "IPY_MODEL_2eb20d1f3dbd49d794103af2e60f275d",
            "_model_module": "@jupyter-widgets/controls",
            "children": [
              "IPY_MODEL_54c40c22c34048abb29a6db36573d0a2",
              "IPY_MODEL_8db5a967e2124e27ad3e2c8576b91218"
            ]
          }
        },
        "2eb20d1f3dbd49d794103af2e60f275d": {
          "model_module": "@jupyter-widgets/base",
          "model_name": "LayoutModel",
          "state": {
            "_view_name": "LayoutView",
            "grid_template_rows": null,
            "right": null,
            "justify_content": null,
            "_view_module": "@jupyter-widgets/base",
            "overflow": null,
            "_model_module_version": "1.2.0",
            "_view_count": null,
            "flex_flow": null,
            "width": null,
            "min_width": null,
            "border": null,
            "align_items": null,
            "bottom": null,
            "_model_module": "@jupyter-widgets/base",
            "top": null,
            "grid_column": null,
            "overflow_y": null,
            "overflow_x": null,
            "grid_auto_flow": null,
            "grid_area": null,
            "grid_template_columns": null,
            "flex": null,
            "_model_name": "LayoutModel",
            "justify_items": null,
            "grid_row": null,
            "max_height": null,
            "align_content": null,
            "visibility": null,
            "align_self": null,
            "height": null,
            "min_height": null,
            "padding": null,
            "grid_auto_rows": null,
            "grid_gap": null,
            "max_width": null,
            "order": null,
            "_view_module_version": "1.2.0",
            "grid_template_areas": null,
            "object_position": null,
            "object_fit": null,
            "grid_auto_columns": null,
            "margin": null,
            "display": null,
            "left": null
          }
        },
        "54c40c22c34048abb29a6db36573d0a2": {
          "model_module": "@jupyter-widgets/controls",
          "model_name": "FloatProgressModel",
          "state": {
            "_view_name": "ProgressView",
            "style": "IPY_MODEL_faf61ff52eb44a44ae5fa2127b56c4a6",
            "_dom_classes": [],
            "description": "100%",
            "_model_name": "FloatProgressModel",
            "bar_style": "success",
            "max": 690,
            "_view_module": "@jupyter-widgets/controls",
            "_model_module_version": "1.5.0",
            "value": 690,
            "_view_count": null,
            "_view_module_version": "1.5.0",
            "orientation": "horizontal",
            "min": 0,
            "description_tooltip": null,
            "_model_module": "@jupyter-widgets/controls",
            "layout": "IPY_MODEL_b2ff7ef8387b4465a7d45666098d9156"
          }
        },
        "8db5a967e2124e27ad3e2c8576b91218": {
          "model_module": "@jupyter-widgets/controls",
          "model_name": "HTMLModel",
          "state": {
            "_view_name": "HTMLView",
            "style": "IPY_MODEL_431421fbd99f49a986a9a5f55af1c4c9",
            "_dom_classes": [],
            "description": "",
            "_model_name": "HTMLModel",
            "placeholder": "​",
            "_view_module": "@jupyter-widgets/controls",
            "_model_module_version": "1.5.0",
            "value": " 690/690 [01:35&lt;00:00,  7.23it/s]",
            "_view_count": null,
            "_view_module_version": "1.5.0",
            "description_tooltip": null,
            "_model_module": "@jupyter-widgets/controls",
            "layout": "IPY_MODEL_994e917468f44d6f9047e42507bf3a7a"
          }
        },
        "faf61ff52eb44a44ae5fa2127b56c4a6": {
          "model_module": "@jupyter-widgets/controls",
          "model_name": "ProgressStyleModel",
          "state": {
            "_view_name": "StyleView",
            "_model_name": "ProgressStyleModel",
            "description_width": "initial",
            "_view_module": "@jupyter-widgets/base",
            "_model_module_version": "1.5.0",
            "_view_count": null,
            "_view_module_version": "1.2.0",
            "bar_color": null,
            "_model_module": "@jupyter-widgets/controls"
          }
        },
        "b2ff7ef8387b4465a7d45666098d9156": {
          "model_module": "@jupyter-widgets/base",
          "model_name": "LayoutModel",
          "state": {
            "_view_name": "LayoutView",
            "grid_template_rows": null,
            "right": null,
            "justify_content": null,
            "_view_module": "@jupyter-widgets/base",
            "overflow": null,
            "_model_module_version": "1.2.0",
            "_view_count": null,
            "flex_flow": null,
            "width": null,
            "min_width": null,
            "border": null,
            "align_items": null,
            "bottom": null,
            "_model_module": "@jupyter-widgets/base",
            "top": null,
            "grid_column": null,
            "overflow_y": null,
            "overflow_x": null,
            "grid_auto_flow": null,
            "grid_area": null,
            "grid_template_columns": null,
            "flex": null,
            "_model_name": "LayoutModel",
            "justify_items": null,
            "grid_row": null,
            "max_height": null,
            "align_content": null,
            "visibility": null,
            "align_self": null,
            "height": null,
            "min_height": null,
            "padding": null,
            "grid_auto_rows": null,
            "grid_gap": null,
            "max_width": null,
            "order": null,
            "_view_module_version": "1.2.0",
            "grid_template_areas": null,
            "object_position": null,
            "object_fit": null,
            "grid_auto_columns": null,
            "margin": null,
            "display": null,
            "left": null
          }
        },
        "431421fbd99f49a986a9a5f55af1c4c9": {
          "model_module": "@jupyter-widgets/controls",
          "model_name": "DescriptionStyleModel",
          "state": {
            "_view_name": "StyleView",
            "_model_name": "DescriptionStyleModel",
            "description_width": "",
            "_view_module": "@jupyter-widgets/base",
            "_model_module_version": "1.5.0",
            "_view_count": null,
            "_view_module_version": "1.2.0",
            "_model_module": "@jupyter-widgets/controls"
          }
        },
        "994e917468f44d6f9047e42507bf3a7a": {
          "model_module": "@jupyter-widgets/base",
          "model_name": "LayoutModel",
          "state": {
            "_view_name": "LayoutView",
            "grid_template_rows": null,
            "right": null,
            "justify_content": null,
            "_view_module": "@jupyter-widgets/base",
            "overflow": null,
            "_model_module_version": "1.2.0",
            "_view_count": null,
            "flex_flow": null,
            "width": null,
            "min_width": null,
            "border": null,
            "align_items": null,
            "bottom": null,
            "_model_module": "@jupyter-widgets/base",
            "top": null,
            "grid_column": null,
            "overflow_y": null,
            "overflow_x": null,
            "grid_auto_flow": null,
            "grid_area": null,
            "grid_template_columns": null,
            "flex": null,
            "_model_name": "LayoutModel",
            "justify_items": null,
            "grid_row": null,
            "max_height": null,
            "align_content": null,
            "visibility": null,
            "align_self": null,
            "height": null,
            "min_height": null,
            "padding": null,
            "grid_auto_rows": null,
            "grid_gap": null,
            "max_width": null,
            "order": null,
            "_view_module_version": "1.2.0",
            "grid_template_areas": null,
            "object_position": null,
            "object_fit": null,
            "grid_auto_columns": null,
            "margin": null,
            "display": null,
            "left": null
          }
        },
        "95a0c322f7b44aa6a3a60d34f136cc13": {
          "model_module": "@jupyter-widgets/controls",
          "model_name": "HBoxModel",
          "state": {
            "_view_name": "HBoxView",
            "_dom_classes": [],
            "_model_name": "HBoxModel",
            "_view_module": "@jupyter-widgets/controls",
            "_model_module_version": "1.5.0",
            "_view_count": null,
            "_view_module_version": "1.5.0",
            "box_style": "",
            "layout": "IPY_MODEL_b279817871b14b7198e245b0dba110a4",
            "_model_module": "@jupyter-widgets/controls",
            "children": [
              "IPY_MODEL_f3bb6b1cadb44816b19e13994b7c6b07",
              "IPY_MODEL_da13fd897d5b455f9b4e88b0d5de7aa9"
            ]
          }
        },
        "b279817871b14b7198e245b0dba110a4": {
          "model_module": "@jupyter-widgets/base",
          "model_name": "LayoutModel",
          "state": {
            "_view_name": "LayoutView",
            "grid_template_rows": null,
            "right": null,
            "justify_content": null,
            "_view_module": "@jupyter-widgets/base",
            "overflow": null,
            "_model_module_version": "1.2.0",
            "_view_count": null,
            "flex_flow": null,
            "width": null,
            "min_width": null,
            "border": null,
            "align_items": null,
            "bottom": null,
            "_model_module": "@jupyter-widgets/base",
            "top": null,
            "grid_column": null,
            "overflow_y": null,
            "overflow_x": null,
            "grid_auto_flow": null,
            "grid_area": null,
            "grid_template_columns": null,
            "flex": null,
            "_model_name": "LayoutModel",
            "justify_items": null,
            "grid_row": null,
            "max_height": null,
            "align_content": null,
            "visibility": null,
            "align_self": null,
            "height": null,
            "min_height": null,
            "padding": null,
            "grid_auto_rows": null,
            "grid_gap": null,
            "max_width": null,
            "order": null,
            "_view_module_version": "1.2.0",
            "grid_template_areas": null,
            "object_position": null,
            "object_fit": null,
            "grid_auto_columns": null,
            "margin": null,
            "display": null,
            "left": null
          }
        },
        "f3bb6b1cadb44816b19e13994b7c6b07": {
          "model_module": "@jupyter-widgets/controls",
          "model_name": "FloatProgressModel",
          "state": {
            "_view_name": "ProgressView",
            "style": "IPY_MODEL_17a1812eddaf4eb4abad8b3cff488432",
            "_dom_classes": [],
            "description": "",
            "_model_name": "FloatProgressModel",
            "bar_style": "success",
            "max": 1,
            "_view_module": "@jupyter-widgets/controls",
            "_model_module_version": "1.5.0",
            "value": 1,
            "_view_count": null,
            "_view_module_version": "1.5.0",
            "orientation": "horizontal",
            "min": 0,
            "description_tooltip": null,
            "_model_module": "@jupyter-widgets/controls",
            "layout": "IPY_MODEL_cb3e1897d5d947acb6bf7c842182c2bb"
          }
        },
        "da13fd897d5b455f9b4e88b0d5de7aa9": {
          "model_module": "@jupyter-widgets/controls",
          "model_name": "HTMLModel",
          "state": {
            "_view_name": "HTMLView",
            "style": "IPY_MODEL_17ce862277c44deda00cb44c70b9dc3b",
            "_dom_classes": [],
            "description": "",
            "_model_name": "HTMLModel",
            "placeholder": "​",
            "_view_module": "@jupyter-widgets/controls",
            "_model_module_version": "1.5.0",
            "value": " 690/? [01:35&lt;00:00,  7.19it/s]",
            "_view_count": null,
            "_view_module_version": "1.5.0",
            "description_tooltip": null,
            "_model_module": "@jupyter-widgets/controls",
            "layout": "IPY_MODEL_69ca72b03719436db4ce2ea3ffccbb44"
          }
        },
        "17a1812eddaf4eb4abad8b3cff488432": {
          "model_module": "@jupyter-widgets/controls",
          "model_name": "ProgressStyleModel",
          "state": {
            "_view_name": "StyleView",
            "_model_name": "ProgressStyleModel",
            "description_width": "initial",
            "_view_module": "@jupyter-widgets/base",
            "_model_module_version": "1.5.0",
            "_view_count": null,
            "_view_module_version": "1.2.0",
            "bar_color": null,
            "_model_module": "@jupyter-widgets/controls"
          }
        },
        "cb3e1897d5d947acb6bf7c842182c2bb": {
          "model_module": "@jupyter-widgets/base",
          "model_name": "LayoutModel",
          "state": {
            "_view_name": "LayoutView",
            "grid_template_rows": null,
            "right": null,
            "justify_content": null,
            "_view_module": "@jupyter-widgets/base",
            "overflow": null,
            "_model_module_version": "1.2.0",
            "_view_count": null,
            "flex_flow": null,
            "width": null,
            "min_width": null,
            "border": null,
            "align_items": null,
            "bottom": null,
            "_model_module": "@jupyter-widgets/base",
            "top": null,
            "grid_column": null,
            "overflow_y": null,
            "overflow_x": null,
            "grid_auto_flow": null,
            "grid_area": null,
            "grid_template_columns": null,
            "flex": null,
            "_model_name": "LayoutModel",
            "justify_items": null,
            "grid_row": null,
            "max_height": null,
            "align_content": null,
            "visibility": null,
            "align_self": null,
            "height": null,
            "min_height": null,
            "padding": null,
            "grid_auto_rows": null,
            "grid_gap": null,
            "max_width": null,
            "order": null,
            "_view_module_version": "1.2.0",
            "grid_template_areas": null,
            "object_position": null,
            "object_fit": null,
            "grid_auto_columns": null,
            "margin": null,
            "display": null,
            "left": null
          }
        },
        "17ce862277c44deda00cb44c70b9dc3b": {
          "model_module": "@jupyter-widgets/controls",
          "model_name": "DescriptionStyleModel",
          "state": {
            "_view_name": "StyleView",
            "_model_name": "DescriptionStyleModel",
            "description_width": "",
            "_view_module": "@jupyter-widgets/base",
            "_model_module_version": "1.5.0",
            "_view_count": null,
            "_view_module_version": "1.2.0",
            "_model_module": "@jupyter-widgets/controls"
          }
        },
        "69ca72b03719436db4ce2ea3ffccbb44": {
          "model_module": "@jupyter-widgets/base",
          "model_name": "LayoutModel",
          "state": {
            "_view_name": "LayoutView",
            "grid_template_rows": null,
            "right": null,
            "justify_content": null,
            "_view_module": "@jupyter-widgets/base",
            "overflow": null,
            "_model_module_version": "1.2.0",
            "_view_count": null,
            "flex_flow": null,
            "width": null,
            "min_width": null,
            "border": null,
            "align_items": null,
            "bottom": null,
            "_model_module": "@jupyter-widgets/base",
            "top": null,
            "grid_column": null,
            "overflow_y": null,
            "overflow_x": null,
            "grid_auto_flow": null,
            "grid_area": null,
            "grid_template_columns": null,
            "flex": null,
            "_model_name": "LayoutModel",
            "justify_items": null,
            "grid_row": null,
            "max_height": null,
            "align_content": null,
            "visibility": null,
            "align_self": null,
            "height": null,
            "min_height": null,
            "padding": null,
            "grid_auto_rows": null,
            "grid_gap": null,
            "max_width": null,
            "order": null,
            "_view_module_version": "1.2.0",
            "grid_template_areas": null,
            "object_position": null,
            "object_fit": null,
            "grid_auto_columns": null,
            "margin": null,
            "display": null,
            "left": null
          }
        },
        "28d8cf48b00c42a79c3a4090eb0f8aaa": {
          "model_module": "@jupyter-widgets/controls",
          "model_name": "HBoxModel",
          "state": {
            "_view_name": "HBoxView",
            "_dom_classes": [],
            "_model_name": "HBoxModel",
            "_view_module": "@jupyter-widgets/controls",
            "_model_module_version": "1.5.0",
            "_view_count": null,
            "_view_module_version": "1.5.0",
            "box_style": "",
            "layout": "IPY_MODEL_ab2e649ca4c84179965eab8234d83425",
            "_model_module": "@jupyter-widgets/controls",
            "children": [
              "IPY_MODEL_e90fa7c878c346f3a1075f19c3eca446",
              "IPY_MODEL_0fd2d440da6d47868188de536b8495cd"
            ]
          }
        },
        "ab2e649ca4c84179965eab8234d83425": {
          "model_module": "@jupyter-widgets/base",
          "model_name": "LayoutModel",
          "state": {
            "_view_name": "LayoutView",
            "grid_template_rows": null,
            "right": null,
            "justify_content": null,
            "_view_module": "@jupyter-widgets/base",
            "overflow": null,
            "_model_module_version": "1.2.0",
            "_view_count": null,
            "flex_flow": null,
            "width": null,
            "min_width": null,
            "border": null,
            "align_items": null,
            "bottom": null,
            "_model_module": "@jupyter-widgets/base",
            "top": null,
            "grid_column": null,
            "overflow_y": null,
            "overflow_x": null,
            "grid_auto_flow": null,
            "grid_area": null,
            "grid_template_columns": null,
            "flex": null,
            "_model_name": "LayoutModel",
            "justify_items": null,
            "grid_row": null,
            "max_height": null,
            "align_content": null,
            "visibility": null,
            "align_self": null,
            "height": null,
            "min_height": null,
            "padding": null,
            "grid_auto_rows": null,
            "grid_gap": null,
            "max_width": null,
            "order": null,
            "_view_module_version": "1.2.0",
            "grid_template_areas": null,
            "object_position": null,
            "object_fit": null,
            "grid_auto_columns": null,
            "margin": null,
            "display": null,
            "left": null
          }
        },
        "e90fa7c878c346f3a1075f19c3eca446": {
          "model_module": "@jupyter-widgets/controls",
          "model_name": "FloatProgressModel",
          "state": {
            "_view_name": "ProgressView",
            "style": "IPY_MODEL_0229011613e24ef497db33d08494062c",
            "_dom_classes": [],
            "description": "",
            "_model_name": "FloatProgressModel",
            "bar_style": "success",
            "max": 1,
            "_view_module": "@jupyter-widgets/controls",
            "_model_module_version": "1.5.0",
            "value": 1,
            "_view_count": null,
            "_view_module_version": "1.5.0",
            "orientation": "horizontal",
            "min": 0,
            "description_tooltip": null,
            "_model_module": "@jupyter-widgets/controls",
            "layout": "IPY_MODEL_6e6f7949644246ee9fc465b19307c099"
          }
        },
        "0fd2d440da6d47868188de536b8495cd": {
          "model_module": "@jupyter-widgets/controls",
          "model_name": "HTMLModel",
          "state": {
            "_view_name": "HTMLView",
            "style": "IPY_MODEL_0063d0c561ab40889d90bdf988e24207",
            "_dom_classes": [],
            "description": "",
            "_model_name": "HTMLModel",
            "placeholder": "​",
            "_view_module": "@jupyter-widgets/controls",
            "_model_module_version": "1.5.0",
            "value": " 690/? [02:59&lt;00:00,  3.84it/s]",
            "_view_count": null,
            "_view_module_version": "1.5.0",
            "description_tooltip": null,
            "_model_module": "@jupyter-widgets/controls",
            "layout": "IPY_MODEL_a4405cc9ef27474bab9f23e3428a2877"
          }
        },
        "0229011613e24ef497db33d08494062c": {
          "model_module": "@jupyter-widgets/controls",
          "model_name": "ProgressStyleModel",
          "state": {
            "_view_name": "StyleView",
            "_model_name": "ProgressStyleModel",
            "description_width": "initial",
            "_view_module": "@jupyter-widgets/base",
            "_model_module_version": "1.5.0",
            "_view_count": null,
            "_view_module_version": "1.2.0",
            "bar_color": null,
            "_model_module": "@jupyter-widgets/controls"
          }
        },
        "6e6f7949644246ee9fc465b19307c099": {
          "model_module": "@jupyter-widgets/base",
          "model_name": "LayoutModel",
          "state": {
            "_view_name": "LayoutView",
            "grid_template_rows": null,
            "right": null,
            "justify_content": null,
            "_view_module": "@jupyter-widgets/base",
            "overflow": null,
            "_model_module_version": "1.2.0",
            "_view_count": null,
            "flex_flow": null,
            "width": null,
            "min_width": null,
            "border": null,
            "align_items": null,
            "bottom": null,
            "_model_module": "@jupyter-widgets/base",
            "top": null,
            "grid_column": null,
            "overflow_y": null,
            "overflow_x": null,
            "grid_auto_flow": null,
            "grid_area": null,
            "grid_template_columns": null,
            "flex": null,
            "_model_name": "LayoutModel",
            "justify_items": null,
            "grid_row": null,
            "max_height": null,
            "align_content": null,
            "visibility": null,
            "align_self": null,
            "height": null,
            "min_height": null,
            "padding": null,
            "grid_auto_rows": null,
            "grid_gap": null,
            "max_width": null,
            "order": null,
            "_view_module_version": "1.2.0",
            "grid_template_areas": null,
            "object_position": null,
            "object_fit": null,
            "grid_auto_columns": null,
            "margin": null,
            "display": null,
            "left": null
          }
        },
        "0063d0c561ab40889d90bdf988e24207": {
          "model_module": "@jupyter-widgets/controls",
          "model_name": "DescriptionStyleModel",
          "state": {
            "_view_name": "StyleView",
            "_model_name": "DescriptionStyleModel",
            "description_width": "",
            "_view_module": "@jupyter-widgets/base",
            "_model_module_version": "1.5.0",
            "_view_count": null,
            "_view_module_version": "1.2.0",
            "_model_module": "@jupyter-widgets/controls"
          }
        },
        "a4405cc9ef27474bab9f23e3428a2877": {
          "model_module": "@jupyter-widgets/base",
          "model_name": "LayoutModel",
          "state": {
            "_view_name": "LayoutView",
            "grid_template_rows": null,
            "right": null,
            "justify_content": null,
            "_view_module": "@jupyter-widgets/base",
            "overflow": null,
            "_model_module_version": "1.2.0",
            "_view_count": null,
            "flex_flow": null,
            "width": null,
            "min_width": null,
            "border": null,
            "align_items": null,
            "bottom": null,
            "_model_module": "@jupyter-widgets/base",
            "top": null,
            "grid_column": null,
            "overflow_y": null,
            "overflow_x": null,
            "grid_auto_flow": null,
            "grid_area": null,
            "grid_template_columns": null,
            "flex": null,
            "_model_name": "LayoutModel",
            "justify_items": null,
            "grid_row": null,
            "max_height": null,
            "align_content": null,
            "visibility": null,
            "align_self": null,
            "height": null,
            "min_height": null,
            "padding": null,
            "grid_auto_rows": null,
            "grid_gap": null,
            "max_width": null,
            "order": null,
            "_view_module_version": "1.2.0",
            "grid_template_areas": null,
            "object_position": null,
            "object_fit": null,
            "grid_auto_columns": null,
            "margin": null,
            "display": null,
            "left": null
          }
        }
      }
    }
  },
  "cells": [
    {
      "cell_type": "markdown",
      "metadata": {
        "id": "qDnLpgW4_cO3"
      },
      "source": [
        "## Лекция 3  NER"
      ]
    },
    {
      "cell_type": "code",
      "metadata": {
        "id": "Lyj_f2KbtQG2"
      },
      "source": [
        "import re\n",
        "import pandas as pd\n",
        "import numpy as np"
      ],
      "execution_count": 6,
      "outputs": []
    },
    {
      "cell_type": "code",
      "metadata": {
        "id": "u79eZ6Y1f_Ph"
      },
      "source": [
        "answers = pd.read_excel('answers_base.xlsx')\n",
        "queries = pd.read_excel(\"queries_base.xlsx\")"
      ],
      "execution_count": 34,
      "outputs": []
    },
    {
      "cell_type": "code",
      "metadata": {
        "id": "KMF96vKmtTa_",
        "outputId": "d984ab1d-69fa-4a19-c648-1b81561cddae",
        "colab": {
          "base_uri": "https://localhost:8080/",
          "height": 289
        }
      },
      "source": [
        "answers.head()"
      ],
      "execution_count": 35,
      "outputs": [
        {
          "output_type": "execute_result",
          "data": {
            "text/html": [
              "<div>\n",
              "<style scoped>\n",
              "    .dataframe tbody tr th:only-of-type {\n",
              "        vertical-align: middle;\n",
              "    }\n",
              "\n",
              "    .dataframe tbody tr th {\n",
              "        vertical-align: top;\n",
              "    }\n",
              "\n",
              "    .dataframe thead th {\n",
              "        text-align: right;\n",
              "    }\n",
              "</style>\n",
              "<table border=\"1\" class=\"dataframe\">\n",
              "  <thead>\n",
              "    <tr style=\"text-align: right;\">\n",
              "      <th></th>\n",
              "      <th>Номер связки</th>\n",
              "      <th>Текст вопросов</th>\n",
              "      <th>Текст ответа</th>\n",
              "      <th>Тематика</th>\n",
              "    </tr>\n",
              "  </thead>\n",
              "  <tbody>\n",
              "    <tr>\n",
              "      <th>0</th>\n",
              "      <td>57</td>\n",
              "      <td>У ребенка в школе продлили каникулы. Могу ли я...</td>\n",
              "      <td>Листок временной нетрудоспособности (больничны...</td>\n",
              "      <td>БОЛЬНИЧНЫЙ ЛИСТ</td>\n",
              "    </tr>\n",
              "    <tr>\n",
              "      <th>1</th>\n",
              "      <td>78</td>\n",
              "      <td>Где сделать вакцинацию от коронавируса?\\nСущес...</td>\n",
              "      <td>Коронавирусы - это целое семейство вирусов, ко...</td>\n",
              "      <td>ВАКЦИНАЦИЯ</td>\n",
              "    </tr>\n",
              "    <tr>\n",
              "      <th>2</th>\n",
              "      <td>326</td>\n",
              "      <td>Сколько стоит сделать вакцину от гриппа?\\nМожн...</td>\n",
              "      <td>Бесплатно пройти вакцинацию можно в Вашей меди...</td>\n",
              "      <td>ВАКЦИНАЦИЯ</td>\n",
              "    </tr>\n",
              "    <tr>\n",
              "      <th>3</th>\n",
              "      <td>327</td>\n",
              "      <td>Могу я отказаться от вакцинации?\\nВ каких случ...</td>\n",
              "      <td>Согласно приказу Министерства здравоохранения ...</td>\n",
              "      <td>ВАКЦИНАЦИЯ</td>\n",
              "    </tr>\n",
              "    <tr>\n",
              "      <th>4</th>\n",
              "      <td>328</td>\n",
              "      <td>Безопасна ли вакцинация?\\nОпасна ли вакцинация...</td>\n",
              "      <td>В соответствии с пунктами 1 и 2 статьи 12 Феде...</td>\n",
              "      <td>ВАКЦИНАЦИЯ</td>\n",
              "    </tr>\n",
              "  </tbody>\n",
              "</table>\n",
              "</div>"
            ],
            "text/plain": [
              "   Номер связки  ...         Тематика\n",
              "0            57  ...  БОЛЬНИЧНЫЙ ЛИСТ\n",
              "1            78  ...       ВАКЦИНАЦИЯ\n",
              "2           326  ...       ВАКЦИНАЦИЯ\n",
              "3           327  ...       ВАКЦИНАЦИЯ\n",
              "4           328  ...       ВАКЦИНАЦИЯ\n",
              "\n",
              "[5 rows x 4 columns]"
            ]
          },
          "metadata": {
            "tags": []
          },
          "execution_count": 35
        }
      ]
    },
    {
      "cell_type": "code",
      "metadata": {
        "id": "JyzSl4C1FIgh",
        "outputId": "44708e6f-6ebc-4a7e-e2a4-e64a03bf48f0",
        "colab": {
          "base_uri": "https://localhost:8080/",
          "height": 306
        }
      },
      "source": [
        "queries.head()"
      ],
      "execution_count": 36,
      "outputs": [
        {
          "output_type": "execute_result",
          "data": {
            "text/html": [
              "<div>\n",
              "<style scoped>\n",
              "    .dataframe tbody tr th:only-of-type {\n",
              "        vertical-align: middle;\n",
              "    }\n",
              "\n",
              "    .dataframe tbody tr th {\n",
              "        vertical-align: top;\n",
              "    }\n",
              "\n",
              "    .dataframe thead th {\n",
              "        text-align: right;\n",
              "    }\n",
              "</style>\n",
              "<table border=\"1\" class=\"dataframe\">\n",
              "  <thead>\n",
              "    <tr style=\"text-align: right;\">\n",
              "      <th></th>\n",
              "      <th>Текст вопроса</th>\n",
              "      <th>Номер связки\\n</th>\n",
              "      <th>Тематика</th>\n",
              "      <th>Unnamed: 3</th>\n",
              "      <th>Unnamed: 4</th>\n",
              "    </tr>\n",
              "  </thead>\n",
              "  <tbody>\n",
              "    <tr>\n",
              "      <th>0</th>\n",
              "      <td>с уважением Вероника Игоревна  Ильич\\n\\nПосле ...</td>\n",
              "      <td>308.0</td>\n",
              "      <td>ЗАКРЫТИЕ ГРАНИЦ, ОТКРЫТИЕ ГРАНИЦ РОССИИ И АВИА...</td>\n",
              "      <td>NaN</td>\n",
              "      <td>NaN</td>\n",
              "    </tr>\n",
              "    <tr>\n",
              "      <th>1</th>\n",
              "      <td>Здравствуйте! Проинформируйте, пожалуйста, нуж...</td>\n",
              "      <td>324.0</td>\n",
              "      <td>ОРГАНИЗАЦИИ ОТДЫХА ДЕТЕЙ И ИХ ЗДОРОВЛЕНИЯ</td>\n",
              "      <td>NaN</td>\n",
              "      <td>NaN</td>\n",
              "    </tr>\n",
              "    <tr>\n",
              "      <th>2</th>\n",
              "      <td>--\\nДобрый день!\\n   Меня, Сидельникова Андрея...</td>\n",
              "      <td>57.0</td>\n",
              "      <td>БОЛЬНИЧНЫЙ ЛИСТ</td>\n",
              "      <td>NaN</td>\n",
              "      <td>NaN</td>\n",
              "    </tr>\n",
              "    <tr>\n",
              "      <th>3</th>\n",
              "      <td>Добрый день.\\nВ Кемеровской области согласно п...</td>\n",
              "      <td>45.0</td>\n",
              "      <td>ШТРАФЫ, НОРМАТИВНЫЕ АКТЫ И РЕКОМЕНДАЦИИ</td>\n",
              "      <td>NaN</td>\n",
              "      <td>NaN</td>\n",
              "    </tr>\n",
              "    <tr>\n",
              "      <th>4</th>\n",
              "      <td>Здравствуйте, в моем городе Кострома введено о...</td>\n",
              "      <td>3.0</td>\n",
              "      <td>ШТРАФЫ, НОРМАТИВНЫЕ АКТЫ И РЕКОМЕНДАЦИИ</td>\n",
              "      <td>NaN</td>\n",
              "      <td>NaN</td>\n",
              "    </tr>\n",
              "  </tbody>\n",
              "</table>\n",
              "</div>"
            ],
            "text/plain": [
              "                                       Текст вопроса  ...  Unnamed: 4\n",
              "0  с уважением Вероника Игоревна  Ильич\\n\\nПосле ...  ...         NaN\n",
              "1  Здравствуйте! Проинформируйте, пожалуйста, нуж...  ...         NaN\n",
              "2  --\\nДобрый день!\\n   Меня, Сидельникова Андрея...  ...         NaN\n",
              "3  Добрый день.\\nВ Кемеровской области согласно п...  ...         NaN\n",
              "4  Здравствуйте, в моем городе Кострома введено о...  ...         NaN\n",
              "\n",
              "[5 rows x 5 columns]"
            ]
          },
          "metadata": {
            "tags": []
          },
          "execution_count": 36
        }
      ]
    },
    {
      "cell_type": "markdown",
      "metadata": {
        "id": "6eFCfdh7_cO4"
      },
      "source": [
        "### __Задача 1__:\n",
        "\n",
        "Реализуйте 2 функции препроцессинга:\n",
        "\n",
        "- Удалить именованные сущности с помощью natasha (https://github.com/natasha/yargy)\n",
        "- Удалить именованные сущности с помощью deepmipt (https://github.com/deepmipt/ner)"
      ]
    },
    {
      "cell_type": "code",
      "metadata": {
        "id": "hNnzpQ4ctNyh",
        "outputId": "e2ff6989-9698-4396-da62-5f05001e94a9",
        "colab": {
          "base_uri": "https://localhost:8080/",
          "height": 119
        }
      },
      "source": [
        "!pip install --quiet natasha"
      ],
      "execution_count": 1,
      "outputs": [
        {
          "output_type": "stream",
          "text": [
            "\u001b[K     |████████████████████████████████| 34.4MB 115kB/s \n",
            "\u001b[K     |████████████████████████████████| 61kB 7.2MB/s \n",
            "\u001b[K     |████████████████████████████████| 51kB 6.5MB/s \n",
            "\u001b[K     |████████████████████████████████| 51kB 6.2MB/s \n",
            "\u001b[K     |████████████████████████████████| 8.0MB 48.0MB/s \n",
            "\u001b[?25h  Building wheel for intervaltree (setup.py) ... \u001b[?25l\u001b[?25hdone\n"
          ],
          "name": "stdout"
        }
      ]
    },
    {
      "cell_type": "code",
      "metadata": {
        "id": "twrSIImstVgx"
      },
      "source": [
        "# была мысль делать с extractors, но\n",
        "# показалось, что 3 задание чем-то похоже на это\n",
        "# поэтому, я их не использовала\n",
        "\n",
        "from natasha import (\n",
        "    Segmenter,\n",
        "    MorphVocab,\n",
        "    \n",
        "    NewsEmbedding,\n",
        "    NewsMorphTagger,\n",
        "    \n",
        "    NewsNERTagger,\n",
        "\n",
        "    PER,\n",
        "    DatesExtractor,\n",
        "    MoneyExtractor,\n",
        "    AddrExtractor,\n",
        "    \n",
        "    Doc\n",
        ")\n",
        "\n",
        "\"\"\"\n",
        "инициализируем сегментатор,\n",
        "эмбендинги и ner-тэггер\n",
        "\"\"\"\n",
        "\n",
        "morph_vocab = MorphVocab()\n",
        "\n",
        "\n",
        "segmenter = Segmenter()\n",
        "emb = NewsEmbedding()\n",
        "morph_tagger = NewsMorphTagger(emb)\n",
        "\n",
        "dates_extractor = DatesExtractor(morph_vocab)\n",
        "money_extractor = MoneyExtractor(morph_vocab)\n",
        "addr_extractor = AddrExtractor(morph_vocab)\n",
        "ner_tagger = NewsNERTagger(emb)"
      ],
      "execution_count": 2,
      "outputs": []
    },
    {
      "cell_type": "markdown",
      "metadata": {
        "id": "OMCy-Sa9CKzt"
      },
      "source": [
        "#### Natasha. Смотрим на то, что лучше сделать"
      ]
    },
    {
      "cell_type": "code",
      "metadata": {
        "id": "h2OlEBG_tW7O"
      },
      "source": [
        "text = queries.head(1)['Текст вопроса'].tolist()[0]\n",
        "doc = Doc(text)"
      ],
      "execution_count": 37,
      "outputs": []
    },
    {
      "cell_type": "markdown",
      "metadata": {
        "id": "ITcS38VEtY6C"
      },
      "source": [
        "Тут чуть удобнее пользоваться вместо ner_tagger(text), откуда можно вытащить span вот такого типа: \n",
        "\n",
        "---\n",
        "Span(start=12, stop=36, type='PER')\n",
        "\n",
        "\n",
        "Span(start=74, stop=80, type='LOC')\n",
        "\n",
        "\n",
        "Span(start=109, stop=116, type='LOC')\n",
        "\n",
        "\n",
        "Span(start=206, stop=212, type='LOC')\n",
        "\n",
        "\n",
        "Span(start=228, stop=242, type='PER')\n",
        "\n",
        "---\n",
        "\n",
        "пользоваться tag_ner(ner_tagger), но для этого нужно пришлось задействовать сегментатор, зато результат, кажется, лучше, потому что отсюда можно вытащить текст (я до конца не определилась, что лучше использовать, поэтому выбрала этот вариант):\n",
        "\n",
        "---\n",
        "DocSpan(start=12, stop=36, type='PER', text='Вероника Игоревна\\xa0 Ильич', tokens=[...])\n",
        "\n",
        "\n",
        "DocSpan(start=74, stop=80, type='LOC', text='Москву', tokens=[...])\n",
        "\n",
        "\n",
        "DocSpan(start=109, stop=116, type='LOC', text='Молдовы', tokens=[...])\n",
        "\n",
        "\n",
        "DocSpan(start=206, stop=212, type='LOC', text='Россию', tokens=[...])\n",
        "\n",
        "\n",
        "DocSpan(start=228, stop=242, type='PER', text='Иван Звягинцев', tokens=[...])\n",
        "\n",
        "---\n",
        "\n",
        "Тут интересно, что tag_ner(ner_tagger) https://pypi.org/project/natasha/ хорошо видит именованные сущности типа организаций, людей, локаций и т.д. (но не очень хорошо видит ареса типа 2010 года (из примера с сайта)), но это не кажется проблемой, потому что в 3 задаче мы должны доработать правила"
      ]
    },
    {
      "cell_type": "code",
      "metadata": {
        "id": "zPVr23EItdWP",
        "outputId": "d9fb9e34-3236-4156-e64a-094076721c04",
        "colab": {
          "base_uri": "https://localhost:8080/",
          "height": 221
        }
      },
      "source": [
        "markup = ner_tagger(text)\n",
        "markup.print()"
      ],
      "execution_count": 10,
      "outputs": [
        {
          "output_type": "stream",
          "text": [
            "с уважением Вероника Игоревна  Ильич\n",
            "            PER─────────────────────\n",
            "После 15 августа 2020 года к нам, в Москву планируют приехать гости из\n",
            "                                    LOC───                            \n",
            " Молдовы.\n",
            " LOC──── \n",
            "Какой на сегодняшний день режим по Ковид распространяется на \n",
            "иностранцев, прибывающих в Россию?\n",
            "                           LOC─── \n",
            "С уважением,\n",
            "Иван Звягинцев\n",
            "PER───────────\n"
          ],
          "name": "stdout"
        }
      ]
    },
    {
      "cell_type": "code",
      "metadata": {
        "id": "G7JZ1uWite8n"
      },
      "source": [
        "doc.segment(segmenter)"
      ],
      "execution_count": 11,
      "outputs": []
    },
    {
      "cell_type": "code",
      "metadata": {
        "id": "TUg74FXvtgw6"
      },
      "source": [
        "doc.tag_ner(ner_tagger)"
      ],
      "execution_count": 12,
      "outputs": []
    },
    {
      "cell_type": "code",
      "metadata": {
        "id": "svPjVdXetiIe"
      },
      "source": [
        "all_spans = []\n",
        "for span in doc.spans:\n",
        "    all_spans.append(span.text)"
      ],
      "execution_count": 13,
      "outputs": []
    },
    {
      "cell_type": "code",
      "metadata": {
        "id": "5Kc_yXd9tjn7"
      },
      "source": [
        "for el in all_spans:\n",
        "    text = re.sub(r'%s' % (el), '', text)"
      ],
      "execution_count": 14,
      "outputs": []
    },
    {
      "cell_type": "code",
      "metadata": {
        "id": "VClNAc1EtmB9",
        "outputId": "25c45c25-f9be-47a7-be2c-5b93c47ae97f",
        "colab": {
          "base_uri": "https://localhost:8080/",
          "height": 52
        }
      },
      "source": [
        "text"
      ],
      "execution_count": 15,
      "outputs": [
        {
          "output_type": "execute_result",
          "data": {
            "application/vnd.google.colaboratory.intrinsic+json": {
              "type": "string"
            },
            "text/plain": [
              "'с уважением \\n\\nПосле 15 августа 2020 года к нам, в  планируют приехать гости из .\\nКакой на сегодняшний день режим по Ковид распространяется на иностранцев, прибывающих в ?\\n\\nС уважением,\\n\\n'"
            ]
          },
          "metadata": {
            "tags": []
          },
          "execution_count": 15
        }
      ]
    },
    {
      "cell_type": "markdown",
      "metadata": {
        "id": "GZd4fMXNCRux"
      },
      "source": [
        "#### Функция"
      ]
    },
    {
      "cell_type": "code",
      "metadata": {
        "id": "KOLWlA7Stnge"
      },
      "source": [
        "# извление именованных сущностей может быть таким\n",
        "# мне показалось, что это оптимальнее, чем \n",
        "# делать extractors\n",
        "\n",
        "def preprocess_with_natasha(text: str) -> str:\n",
        "    text = text\n",
        "\n",
        "    doc = Doc(str(text))\n",
        "    doc.segment(segmenter)\n",
        "    doc.tag_ner(ner_tagger)\n",
        "    \n",
        "    # список всех именованных сущностей в тексте\n",
        "    all_spans = []\n",
        "    for span in doc.spans:\n",
        "        all_spans.append(span.text)\n",
        "        \n",
        "    # удаление\n",
        "    clean_text = text\n",
        "    \n",
        "    for el in all_spans:\n",
        "        clean_text = clean_text.replace(el, '')\n",
        "\n",
        "    return clean_text"
      ],
      "execution_count": 16,
      "outputs": []
    },
    {
      "cell_type": "markdown",
      "metadata": {
        "id": "uW0_9khftsOt"
      },
      "source": [
        "Пример на одном предложении:"
      ]
    },
    {
      "cell_type": "code",
      "metadata": {
        "id": "Gw0-gIf5tplR",
        "outputId": "d44ddfcd-6c58-4203-dab3-a4318fad7cac",
        "colab": {
          "base_uri": "https://localhost:8080/",
          "height": 52
        }
      },
      "source": [
        "text = queries.head(1)['Текст вопроса'].tolist()[0]\n",
        "preprocess_with_natasha(text)"
      ],
      "execution_count": 17,
      "outputs": [
        {
          "output_type": "execute_result",
          "data": {
            "application/vnd.google.colaboratory.intrinsic+json": {
              "type": "string"
            },
            "text/plain": [
              "'с уважением \\n\\nПосле 15 августа 2020 года к нам, в  планируют приехать гости из .\\nКакой на сегодняшний день режим по Ковид распространяется на иностранцев, прибывающих в ?\\n\\nС уважением,\\n\\n'"
            ]
          },
          "metadata": {
            "tags": []
          },
          "execution_count": 17
        }
      ]
    },
    {
      "cell_type": "code",
      "metadata": {
        "id": "NOLCZUg6tuTU"
      },
      "source": [
        "from tqdm.auto import tqdm"
      ],
      "execution_count": 60,
      "outputs": []
    },
    {
      "cell_type": "code",
      "metadata": {
        "id": "S5M0gvsStvs_",
        "outputId": "5f0b9e25-b6e9-4dd1-d2b7-24240e558b37",
        "colab": {
          "base_uri": "https://localhost:8080/",
          "height": 66,
          "referenced_widgets": [
            "760f4526b5d843e2a4c3b7aaedcb0c02",
            "51c2a94208aa4810910fd8ff9ac69815",
            "9f762ee02aa245028528670b898a2312",
            "6842ccafb2d14e88a25cd0a3876262fb",
            "1cb87a25903f41c0b6b956a5dd41521e",
            "407396bbc0bb4a3ea2137a22191ccd98",
            "9fe27707127c43b1b7c99f2afd984975",
            "091789ca9faa425eb8b630517df25662"
          ]
        }
      },
      "source": [
        "natasha_ans = []\n",
        "for index, row in tqdm(answers.iterrows()):\n",
        "    text = row['Текст вопросов']\n",
        "    clean_nat = preprocess_with_natasha(text)\n",
        "    natasha_ans.append(clean_nat)"
      ],
      "execution_count": 19,
      "outputs": [
        {
          "output_type": "display_data",
          "data": {
            "application/vnd.jupyter.widget-view+json": {
              "model_id": "760f4526b5d843e2a4c3b7aaedcb0c02",
              "version_minor": 0,
              "version_major": 2
            },
            "text/plain": [
              "HBox(children=(FloatProgress(value=1.0, bar_style='info', max=1.0), HTML(value='')))"
            ]
          },
          "metadata": {
            "tags": []
          }
        },
        {
          "output_type": "stream",
          "text": [
            "\n"
          ],
          "name": "stdout"
        }
      ]
    },
    {
      "cell_type": "code",
      "metadata": {
        "id": "9xvR4EtBtxJ1"
      },
      "source": [
        "answers['preprocess_natasha'] = natasha_ans"
      ],
      "execution_count": 20,
      "outputs": []
    },
    {
      "cell_type": "code",
      "metadata": {
        "id": "ctoKVc0ztyqT",
        "outputId": "599ab352-050e-47c1-95ef-32cddd09a991",
        "colab": {
          "base_uri": "https://localhost:8080/",
          "height": 306
        }
      },
      "source": [
        "answers.head()"
      ],
      "execution_count": 21,
      "outputs": [
        {
          "output_type": "execute_result",
          "data": {
            "text/html": [
              "<div>\n",
              "<style scoped>\n",
              "    .dataframe tbody tr th:only-of-type {\n",
              "        vertical-align: middle;\n",
              "    }\n",
              "\n",
              "    .dataframe tbody tr th {\n",
              "        vertical-align: top;\n",
              "    }\n",
              "\n",
              "    .dataframe thead th {\n",
              "        text-align: right;\n",
              "    }\n",
              "</style>\n",
              "<table border=\"1\" class=\"dataframe\">\n",
              "  <thead>\n",
              "    <tr style=\"text-align: right;\">\n",
              "      <th></th>\n",
              "      <th>Номер связки</th>\n",
              "      <th>Текст вопросов</th>\n",
              "      <th>Текст ответа</th>\n",
              "      <th>Тематика</th>\n",
              "      <th>preprocess_natasha</th>\n",
              "    </tr>\n",
              "  </thead>\n",
              "  <tbody>\n",
              "    <tr>\n",
              "      <th>0</th>\n",
              "      <td>57</td>\n",
              "      <td>У ребенка в школе продлили каникулы. Могу ли я...</td>\n",
              "      <td>Листок временной нетрудоспособности (больничны...</td>\n",
              "      <td>БОЛЬНИЧНЫЙ ЛИСТ</td>\n",
              "      <td>У ребенка в школе продлили каникулы. Могу ли я...</td>\n",
              "    </tr>\n",
              "    <tr>\n",
              "      <th>1</th>\n",
              "      <td>78</td>\n",
              "      <td>Где сделать вакцинацию от коронавируса?\\nСущес...</td>\n",
              "      <td>Коронавирусы - это целое семейство вирусов, ко...</td>\n",
              "      <td>ВАКЦИНАЦИЯ</td>\n",
              "      <td>Где сделать вакцинацию от коронавируса?\\nСущес...</td>\n",
              "    </tr>\n",
              "    <tr>\n",
              "      <th>2</th>\n",
              "      <td>326</td>\n",
              "      <td>Сколько стоит сделать вакцину от гриппа?\\nМожн...</td>\n",
              "      <td>Бесплатно пройти вакцинацию можно в Вашей меди...</td>\n",
              "      <td>ВАКЦИНАЦИЯ</td>\n",
              "      <td>Сколько стоит сделать вакцину от гриппа?\\nМожн...</td>\n",
              "    </tr>\n",
              "    <tr>\n",
              "      <th>3</th>\n",
              "      <td>327</td>\n",
              "      <td>Могу я отказаться от вакцинации?\\nВ каких случ...</td>\n",
              "      <td>Согласно приказу Министерства здравоохранения ...</td>\n",
              "      <td>ВАКЦИНАЦИЯ</td>\n",
              "      <td>Могу я отказаться от вакцинации?\\nВ каких случ...</td>\n",
              "    </tr>\n",
              "    <tr>\n",
              "      <th>4</th>\n",
              "      <td>328</td>\n",
              "      <td>Безопасна ли вакцинация?\\nОпасна ли вакцинация...</td>\n",
              "      <td>В соответствии с пунктами 1 и 2 статьи 12 Феде...</td>\n",
              "      <td>ВАКЦИНАЦИЯ</td>\n",
              "      <td>Безопасна ли вакцинация?\\nОпасна ли вакцинация...</td>\n",
              "    </tr>\n",
              "  </tbody>\n",
              "</table>\n",
              "</div>"
            ],
            "text/plain": [
              "   Номер связки  ...                                 preprocess_natasha\n",
              "0            57  ...  У ребенка в школе продлили каникулы. Могу ли я...\n",
              "1            78  ...  Где сделать вакцинацию от коронавируса?\\nСущес...\n",
              "2           326  ...  Сколько стоит сделать вакцину от гриппа?\\nМожн...\n",
              "3           327  ...  Могу я отказаться от вакцинации?\\nВ каких случ...\n",
              "4           328  ...  Безопасна ли вакцинация?\\nОпасна ли вакцинация...\n",
              "\n",
              "[5 rows x 5 columns]"
            ]
          },
          "metadata": {
            "tags": []
          },
          "execution_count": 21
        }
      ]
    },
    {
      "cell_type": "code",
      "metadata": {
        "id": "VNg93uaut0W4",
        "outputId": "7cbbf738-f900-4a43-8fca-7d539cdb2b84",
        "colab": {
          "base_uri": "https://localhost:8080/",
          "height": 66,
          "referenced_widgets": [
            "cd10dd35cc794ebf8e95851cc2a88507",
            "bfcb471f26854a3c8e3bea53a512d98f",
            "221b12ad683c474381ee68762ee071f3",
            "36439fd7d67749f5a9e5ffd87632f370",
            "1ce10b53d18d49a89bbb9b0da4d1c9c1",
            "c5987041ec5e42c6a399ffaa8c4f5a41",
            "a4b44251dc06427cbfd0c8669808a7e8",
            "2211a4d8f228403a8e8021df21173f4c"
          ]
        }
      },
      "source": [
        "natasha_quer = []\n",
        "for index, row in tqdm(queries.iterrows()):\n",
        "    text = row['Текст вопроса']\n",
        "    clean_nat = preprocess_with_natasha(text)\n",
        "    natasha_quer.append(clean_nat)"
      ],
      "execution_count": 22,
      "outputs": [
        {
          "output_type": "display_data",
          "data": {
            "application/vnd.jupyter.widget-view+json": {
              "model_id": "cd10dd35cc794ebf8e95851cc2a88507",
              "version_minor": 0,
              "version_major": 2
            },
            "text/plain": [
              "HBox(children=(FloatProgress(value=1.0, bar_style='info', max=1.0), HTML(value='')))"
            ]
          },
          "metadata": {
            "tags": []
          }
        },
        {
          "output_type": "stream",
          "text": [
            "\n"
          ],
          "name": "stdout"
        }
      ]
    },
    {
      "cell_type": "code",
      "metadata": {
        "id": "I49UoL2nt1zK"
      },
      "source": [
        "queries['preprocess_natasha'] = natasha_quer"
      ],
      "execution_count": 23,
      "outputs": []
    },
    {
      "cell_type": "code",
      "metadata": {
        "id": "XObRPCYct3be",
        "outputId": "6c304e5d-d472-4c55-812b-5641bc852d42",
        "colab": {
          "base_uri": "https://localhost:8080/",
          "height": 323
        }
      },
      "source": [
        "queries.head()"
      ],
      "execution_count": 24,
      "outputs": [
        {
          "output_type": "execute_result",
          "data": {
            "text/html": [
              "<div>\n",
              "<style scoped>\n",
              "    .dataframe tbody tr th:only-of-type {\n",
              "        vertical-align: middle;\n",
              "    }\n",
              "\n",
              "    .dataframe tbody tr th {\n",
              "        vertical-align: top;\n",
              "    }\n",
              "\n",
              "    .dataframe thead th {\n",
              "        text-align: right;\n",
              "    }\n",
              "</style>\n",
              "<table border=\"1\" class=\"dataframe\">\n",
              "  <thead>\n",
              "    <tr style=\"text-align: right;\">\n",
              "      <th></th>\n",
              "      <th>Текст вопроса</th>\n",
              "      <th>Номер связки\\n</th>\n",
              "      <th>Тематика</th>\n",
              "      <th>Unnamed: 3</th>\n",
              "      <th>Unnamed: 4</th>\n",
              "      <th>preprocess_natasha</th>\n",
              "    </tr>\n",
              "  </thead>\n",
              "  <tbody>\n",
              "    <tr>\n",
              "      <th>0</th>\n",
              "      <td>с уважением Вероника Игоревна  Ильич\\n\\nПосле ...</td>\n",
              "      <td>308.0</td>\n",
              "      <td>ЗАКРЫТИЕ ГРАНИЦ, ОТКРЫТИЕ ГРАНИЦ РОССИИ И АВИА...</td>\n",
              "      <td>NaN</td>\n",
              "      <td>NaN</td>\n",
              "      <td>с уважением \\n\\nПосле 15 августа 2020 года к н...</td>\n",
              "    </tr>\n",
              "    <tr>\n",
              "      <th>1</th>\n",
              "      <td>Здравствуйте! Проинформируйте, пожалуйста, нуж...</td>\n",
              "      <td>324.0</td>\n",
              "      <td>ОРГАНИЗАЦИИ ОТДЫХА ДЕТЕЙ И ИХ ЗДОРОВЛЕНИЯ</td>\n",
              "      <td>NaN</td>\n",
              "      <td>NaN</td>\n",
              "      <td>Здравствуйте! Проинформируйте, пожалуйста, нуж...</td>\n",
              "    </tr>\n",
              "    <tr>\n",
              "      <th>2</th>\n",
              "      <td>--\\nДобрый день!\\n   Меня, Сидельникова Андрея...</td>\n",
              "      <td>57.0</td>\n",
              "      <td>БОЛЬНИЧНЫЙ ЛИСТ</td>\n",
              "      <td>NaN</td>\n",
              "      <td>NaN</td>\n",
              "      <td>--\\nДобрый день!\\n   Меня,   30.07.1989г.р., п...</td>\n",
              "    </tr>\n",
              "    <tr>\n",
              "      <th>3</th>\n",
              "      <td>Добрый день.\\nВ Кемеровской области согласно п...</td>\n",
              "      <td>45.0</td>\n",
              "      <td>ШТРАФЫ, НОРМАТИВНЫЕ АКТЫ И РЕКОМЕНДАЦИИ</td>\n",
              "      <td>NaN</td>\n",
              "      <td>NaN</td>\n",
              "      <td>Добрый день.\\nВ  согласно постановлению  необх...</td>\n",
              "    </tr>\n",
              "    <tr>\n",
              "      <th>4</th>\n",
              "      <td>Здравствуйте, в моем городе Кострома введено о...</td>\n",
              "      <td>3.0</td>\n",
              "      <td>ШТРАФЫ, НОРМАТИВНЫЕ АКТЫ И РЕКОМЕНДАЦИИ</td>\n",
              "      <td>NaN</td>\n",
              "      <td>NaN</td>\n",
              "      <td>Здравствуйте, в моем городе  введено ограничен...</td>\n",
              "    </tr>\n",
              "  </tbody>\n",
              "</table>\n",
              "</div>"
            ],
            "text/plain": [
              "                                       Текст вопроса  ...                                 preprocess_natasha\n",
              "0  с уважением Вероника Игоревна  Ильич\\n\\nПосле ...  ...  с уважением \\n\\nПосле 15 августа 2020 года к н...\n",
              "1  Здравствуйте! Проинформируйте, пожалуйста, нуж...  ...  Здравствуйте! Проинформируйте, пожалуйста, нуж...\n",
              "2  --\\nДобрый день!\\n   Меня, Сидельникова Андрея...  ...  --\\nДобрый день!\\n   Меня,   30.07.1989г.р., п...\n",
              "3  Добрый день.\\nВ Кемеровской области согласно п...  ...  Добрый день.\\nВ  согласно постановлению  необх...\n",
              "4  Здравствуйте, в моем городе Кострома введено о...  ...  Здравствуйте, в моем городе  введено ограничен...\n",
              "\n",
              "[5 rows x 6 columns]"
            ]
          },
          "metadata": {
            "tags": []
          },
          "execution_count": 24
        }
      ]
    },
    {
      "cell_type": "code",
      "metadata": {
        "id": "55OrBWfCpo9w"
      },
      "source": [
        "# !pip install deeppavlov"
      ],
      "execution_count": 211,
      "outputs": []
    },
    {
      "cell_type": "code",
      "metadata": {
        "id": "Unok5x4uptJ5"
      },
      "source": [
        "# !python -m deeppavlov install ner_rus_bert"
      ],
      "execution_count": 212,
      "outputs": []
    },
    {
      "cell_type": "code",
      "metadata": {
        "id": "xWmOC_kUp7QM",
        "outputId": "714f180e-b10a-45d9-f1e5-69c1551e7118",
        "colab": {
          "base_uri": "https://localhost:8080/",
          "height": 1000
        }
      },
      "source": [
        "from deeppavlov import configs, build_model\n",
        "\n",
        "ner_model = build_model(configs.ner.ner_rus_bert, download=True)"
      ],
      "execution_count": 27,
      "outputs": [
        {
          "output_type": "stream",
          "text": [
            "2020-10-01 20:07:26.177 INFO in 'deeppavlov.core.data.utils'['utils'] at line 94: Downloading from http://files.deeppavlov.ai/deeppavlov_data/ner_rus_bert_v1.tar.gz to /root/.deeppavlov/ner_rus_bert_v1.tar.gz\n",
            "100%|██████████| 1.32G/1.32G [06:41<00:00, 3.28MB/s]\n",
            "2020-10-01 20:14:08.655 INFO in 'deeppavlov.core.data.utils'['utils'] at line 269: Extracting /root/.deeppavlov/ner_rus_bert_v1.tar.gz archive into /root/.deeppavlov/models\n",
            "2020-10-01 20:14:23.944 INFO in 'deeppavlov.core.data.utils'['utils'] at line 94: Downloading from http://files.deeppavlov.ai/deeppavlov_data/bert/rubert_cased_L-12_H-768_A-12_v1.tar.gz to /root/.deeppavlov/downloads/rubert_cased_L-12_H-768_A-12_v1.tar.gz\n",
            "100%|██████████| 666M/666M [02:54<00:00, 3.81MB/s]\n",
            "2020-10-01 20:17:19.245 INFO in 'deeppavlov.core.data.utils'['utils'] at line 269: Extracting /root/.deeppavlov/downloads/rubert_cased_L-12_H-768_A-12_v1.tar.gz archive into /root/.deeppavlov/downloads/bert_models\n",
            "[nltk_data] Downloading package punkt to /root/nltk_data...\n",
            "[nltk_data]   Unzipping tokenizers/punkt.zip.\n",
            "[nltk_data] Downloading package stopwords to /root/nltk_data...\n",
            "[nltk_data]   Unzipping corpora/stopwords.zip.\n",
            "[nltk_data] Downloading package perluniprops to /root/nltk_data...\n",
            "[nltk_data]   Unzipping misc/perluniprops.zip.\n",
            "[nltk_data] Downloading package nonbreaking_prefixes to\n",
            "[nltk_data]     /root/nltk_data...\n",
            "[nltk_data]   Unzipping corpora/nonbreaking_prefixes.zip.\n"
          ],
          "name": "stderr"
        },
        {
          "output_type": "stream",
          "text": [
            "WARNING:tensorflow:From /usr/local/lib/python3.6/dist-packages/bert_dp/tokenization.py:125: The name tf.gfile.GFile is deprecated. Please use tf.io.gfile.GFile instead.\n",
            "\n"
          ],
          "name": "stdout"
        },
        {
          "output_type": "stream",
          "text": [
            "2020-10-01 20:17:30.660 INFO in 'deeppavlov.core.data.simple_vocab'['simple_vocab'] at line 115: [loading vocabulary from /root/.deeppavlov/models/ner_rus_bert/tag.dict]\n"
          ],
          "name": "stderr"
        },
        {
          "output_type": "stream",
          "text": [
            "WARNING:tensorflow:From /usr/local/lib/python3.6/dist-packages/deeppavlov/core/models/tf_model.py:37: The name tf.Session is deprecated. Please use tf.compat.v1.Session instead.\n",
            "\n",
            "WARNING:tensorflow:From /usr/local/lib/python3.6/dist-packages/deeppavlov/core/models/tf_model.py:222: The name tf.placeholder is deprecated. Please use tf.compat.v1.placeholder instead.\n",
            "\n",
            "WARNING:tensorflow:From /usr/local/lib/python3.6/dist-packages/deeppavlov/core/models/tf_model.py:222: The name tf.train.Optimizer is deprecated. Please use tf.compat.v1.train.Optimizer instead.\n",
            "\n",
            "WARNING:tensorflow:From /usr/local/lib/python3.6/dist-packages/deeppavlov/core/models/tf_model.py:193: The name tf.train.AdamOptimizer is deprecated. Please use tf.compat.v1.train.AdamOptimizer instead.\n",
            "\n",
            "WARNING:tensorflow:From /usr/local/lib/python3.6/dist-packages/deeppavlov/models/bert/bert_sequence_tagger.py:236: The name tf.ConfigProto is deprecated. Please use tf.compat.v1.ConfigProto instead.\n",
            "\n",
            "WARNING:tensorflow:From /usr/local/lib/python3.6/dist-packages/deeppavlov/models/bert/bert_sequence_tagger.py:314: The name tf.placeholder_with_default is deprecated. Please use tf.compat.v1.placeholder_with_default instead.\n",
            "\n",
            "WARNING:tensorflow:From /usr/local/lib/python3.6/dist-packages/bert_dp/modeling.py:178: The name tf.variable_scope is deprecated. Please use tf.compat.v1.variable_scope instead.\n",
            "\n",
            "WARNING:tensorflow:From /usr/local/lib/python3.6/dist-packages/bert_dp/modeling.py:418: The name tf.get_variable is deprecated. Please use tf.compat.v1.get_variable instead.\n",
            "\n",
            "WARNING:tensorflow:From /usr/local/lib/python3.6/dist-packages/bert_dp/modeling.py:499: The name tf.assert_less_equal is deprecated. Please use tf.compat.v1.assert_less_equal instead.\n",
            "\n",
            "WARNING:tensorflow:\n",
            "The TensorFlow contrib module will not be included in TensorFlow 2.0.\n",
            "For more information, please see:\n",
            "  * https://github.com/tensorflow/community/blob/master/rfcs/20180907-contrib-sunset.md\n",
            "  * https://github.com/tensorflow/addons\n",
            "  * https://github.com/tensorflow/io (for I/O related ops)\n",
            "If you depend on functionality not listed there, please file an issue.\n",
            "\n",
            "WARNING:tensorflow:From /usr/local/lib/python3.6/dist-packages/bert_dp/modeling.py:366: calling dropout (from tensorflow.python.ops.nn_ops) with keep_prob is deprecated and will be removed in a future version.\n",
            "Instructions for updating:\n",
            "Please use `rate` instead of `keep_prob`. Rate should be set to `rate = 1 - keep_prob`.\n",
            "WARNING:tensorflow:From /usr/local/lib/python3.6/dist-packages/bert_dp/modeling.py:680: dense (from tensorflow.python.layers.core) is deprecated and will be removed in a future version.\n",
            "Instructions for updating:\n",
            "Use keras.layers.Dense instead.\n",
            "WARNING:tensorflow:From /usr/local/lib/python3.6/dist-packages/tensorflow_core/python/layers/core.py:187: Layer.apply (from tensorflow.python.keras.engine.base_layer) is deprecated and will be removed in a future version.\n",
            "Instructions for updating:\n",
            "Please use `layer.__call__` method instead.\n",
            "WARNING:tensorflow:From /usr/local/lib/python3.6/dist-packages/bert_dp/modeling.py:283: The name tf.erf is deprecated. Please use tf.math.erf instead.\n",
            "\n",
            "WARNING:tensorflow:Variable *= will be deprecated. Use `var.assign(var * other)` if you want assignment to the variable value or `x = x * y` if you want a new python Tensor object.\n",
            "WARNING:tensorflow:From /usr/local/lib/python3.6/dist-packages/deeppavlov/models/bert/bert_sequence_tagger.py:75: where (from tensorflow.python.ops.array_ops) is deprecated and will be removed in a future version.\n",
            "Instructions for updating:\n",
            "Use tf.where in 2.0, which has the same broadcast rule as np.where\n",
            "WARNING:tensorflow:From /usr/local/lib/python3.6/dist-packages/tensorflow_core/contrib/crf/python/ops/crf.py:213: dynamic_rnn (from tensorflow.python.ops.rnn) is deprecated and will be removed in a future version.\n",
            "Instructions for updating:\n",
            "Please use `keras.layers.RNN(cell)`, which is equivalent to this API\n",
            "WARNING:tensorflow:From /usr/local/lib/python3.6/dist-packages/deeppavlov/core/models/tf_model.py:131: The name tf.get_collection is deprecated. Please use tf.compat.v1.get_collection instead.\n",
            "\n",
            "WARNING:tensorflow:From /usr/local/lib/python3.6/dist-packages/deeppavlov/core/models/tf_model.py:131: The name tf.GraphKeys is deprecated. Please use tf.compat.v1.GraphKeys instead.\n",
            "\n",
            "WARNING:tensorflow:From /usr/local/lib/python3.6/dist-packages/deeppavlov/core/models/tf_model.py:94: The name tf.global_variables is deprecated. Please use tf.compat.v1.global_variables instead.\n",
            "\n",
            "WARNING:tensorflow:From /usr/local/lib/python3.6/dist-packages/tensorflow_core/python/training/moving_averages.py:433: Variable.initialized_value (from tensorflow.python.ops.variables) is deprecated and will be removed in a future version.\n",
            "Instructions for updating:\n",
            "Use Variable.read_value. Variables in 2.X are initialized automatically both in eager and graph (inside tf.defun) contexts.\n",
            "WARNING:tensorflow:From /usr/local/lib/python3.6/dist-packages/deeppavlov/models/bert/bert_sequence_tagger.py:671: The name tf.assign is deprecated. Please use tf.compat.v1.assign instead.\n",
            "\n",
            "WARNING:tensorflow:From /usr/local/lib/python3.6/dist-packages/deeppavlov/models/bert/bert_sequence_tagger.py:244: The name tf.global_variables_initializer is deprecated. Please use tf.compat.v1.global_variables_initializer instead.\n",
            "\n",
            "WARNING:tensorflow:From /usr/local/lib/python3.6/dist-packages/deeppavlov/models/bert/bert_sequence_tagger.py:249: checkpoint_exists (from tensorflow.python.training.checkpoint_management) is deprecated and will be removed in a future version.\n",
            "Instructions for updating:\n",
            "Use standard file APIs to check for files with this prefix.\n"
          ],
          "name": "stdout"
        },
        {
          "output_type": "stream",
          "text": [
            "2020-10-01 20:17:59.446 INFO in 'deeppavlov.core.models.tf_model'['tf_model'] at line 51: [loading model from /root/.deeppavlov/models/ner_rus_bert/model]\n"
          ],
          "name": "stderr"
        },
        {
          "output_type": "stream",
          "text": [
            "WARNING:tensorflow:From /usr/local/lib/python3.6/dist-packages/deeppavlov/core/models/tf_model.py:54: The name tf.train.Saver is deprecated. Please use tf.compat.v1.train.Saver instead.\n",
            "\n",
            "INFO:tensorflow:Restoring parameters from /root/.deeppavlov/models/ner_rus_bert/model\n"
          ],
          "name": "stdout"
        }
      ]
    },
    {
      "cell_type": "code",
      "metadata": {
        "id": "m-pFqgi49zUf"
      },
      "source": [
        "from razdel import sentenize"
      ],
      "execution_count": 75,
      "outputs": []
    },
    {
      "cell_type": "markdown",
      "metadata": {
        "id": "6RJ4pq9dA85B"
      },
      "source": [
        "#### Deeppavlov. Смотрим на то, как лучше сделать"
      ]
    },
    {
      "cell_type": "code",
      "metadata": {
        "id": "OHQMddTm1Prh"
      },
      "source": [
        "text = queries.head(1)['Текст вопроса'].tolist()[0]"
      ],
      "execution_count": 78,
      "outputs": []
    },
    {
      "cell_type": "code",
      "metadata": {
        "id": "iUchT0ON92XX"
      },
      "source": [
        "len_text = list(sentenize(text))"
      ],
      "execution_count": 79,
      "outputs": []
    },
    {
      "cell_type": "code",
      "metadata": {
        "id": "E2vmR6Ym-Jmf",
        "outputId": "c7be26ea-6f71-424f-b2b9-ea6e1ba4b2cf",
        "colab": {
          "base_uri": "https://localhost:8080/",
          "height": 119
        }
      },
      "source": [
        "for el in len_text:\n",
        "    print(el.text)"
      ],
      "execution_count": 82,
      "outputs": [
        {
          "output_type": "stream",
          "text": [
            "с уважением Вероника Игоревна  Ильич\n",
            "\n",
            "После 15 августа 2020 года к нам, в Москву планируют приехать гости из Молдовы.\n",
            "Какой на сегодняшний день режим по Ковид распространяется на иностранцев, прибывающих в Россию?\n",
            "С уважением,\n",
            "Иван Звягинцев\n"
          ],
          "name": "stdout"
        }
      ]
    },
    {
      "cell_type": "code",
      "metadata": {
        "id": "kAc98UrwrvR_"
      },
      "source": [
        "text_ind = ner_model([text])"
      ],
      "execution_count": 61,
      "outputs": []
    },
    {
      "cell_type": "code",
      "metadata": {
        "id": "s3DDwCbIx3jP",
        "outputId": "be8086f5-444e-4a57-9832-f8d4e57ecac3",
        "colab": {
          "base_uri": "https://localhost:8080/",
          "height": 241
        }
      },
      "source": [
        "new_string = []\n",
        "for t in text_ind[1]:\n",
        "    print()\n",
        "    print(t)\n",
        "    cnt = 0\n",
        "    for i in t:\n",
        "      if i != 'O':\n",
        "          print(i, text_ind[0][0][cnt])\n",
        "          new_string.append(text_ind[0][0][cnt])\n",
        "      cnt += 1"
      ],
      "execution_count": 63,
      "outputs": [
        {
          "output_type": "stream",
          "text": [
            "\n",
            "['O', 'O', 'B-PER', 'I-PER', 'I-PER', 'I-PER', 'O', 'O', 'O', 'O', 'O', 'O', 'O', 'O', 'O', 'O', 'O', 'B-LOC', 'O', 'O', 'O', 'O', 'B-LOC', 'O', 'O', 'O', 'O', 'O', 'O', 'O', 'O', 'B-LOC', 'O', 'O', 'O', 'O', 'O', 'O', 'B-LOC', 'O', 'O', 'O', 'O', 'O', 'O', 'O', 'B-PER', 'I-PER', 'O']\n",
            "B-PER Вероника\n",
            "I-PER Игоревна\n",
            "I-PER  \n",
            "I-PER Ильич\n",
            "B-LOC Москву\n",
            "B-LOC Молдовы\n",
            "B-LOC Ковид\n",
            "B-LOC Россию\n",
            "B-PER Иван\n",
            "I-PER Звягинцев\n"
          ],
          "name": "stdout"
        }
      ]
    },
    {
      "cell_type": "code",
      "metadata": {
        "id": "NKvo1seF1zUG"
      },
      "source": [
        "line = \" \".join(l for l in text_ind[0][0] if l not in new_string)"
      ],
      "execution_count": 65,
      "outputs": []
    },
    {
      "cell_type": "code",
      "metadata": {
        "id": "0RG8Kwb73Kz8",
        "outputId": "5e921343-f3b7-4f41-a3dd-7aa27566281d",
        "colab": {
          "base_uri": "https://localhost:8080/",
          "height": 52
        }
      },
      "source": [
        "text"
      ],
      "execution_count": 66,
      "outputs": [
        {
          "output_type": "execute_result",
          "data": {
            "application/vnd.google.colaboratory.intrinsic+json": {
              "type": "string"
            },
            "text/plain": [
              "'с уважением Вероника Игоревна\\xa0 Ильич\\n\\nПосле 15 августа 2020 года к нам, в Москву планируют приехать гости из Молдовы.\\nКакой на сегодняшний день режим по Ковид распространяется на иностранцев, прибывающих в Россию?\\n\\nС уважением,\\nИван Звягинцев\\n'"
            ]
          },
          "metadata": {
            "tags": []
          },
          "execution_count": 66
        }
      ]
    },
    {
      "cell_type": "code",
      "metadata": {
        "id": "pJPFTjgy3Chr",
        "outputId": "b23257c0-c417-45ee-d195-684b84358177",
        "colab": {
          "base_uri": "https://localhost:8080/",
          "height": 52
        }
      },
      "source": [
        "line"
      ],
      "execution_count": 67,
      "outputs": [
        {
          "output_type": "execute_result",
          "data": {
            "application/vnd.google.colaboratory.intrinsic+json": {
              "type": "string"
            },
            "text/plain": [
              "'с уважением \\n \\n После 15 августа 2020 года к нам , в планируют приехать гости из . \\n Какой на сегодняшний день режим по распространяется на иностранцев , прибывающих в ? \\n \\n С уважением , \\n \\n'"
            ]
          },
          "metadata": {
            "tags": []
          },
          "execution_count": 67
        }
      ]
    },
    {
      "cell_type": "markdown",
      "metadata": {
        "id": "UoTygft2BBUQ"
      },
      "source": [
        "#### Функция"
      ]
    },
    {
      "cell_type": "code",
      "metadata": {
        "id": "RFeIxWib_cO5"
      },
      "source": [
        "def preprocess_with_deepmipt(text: str) -> str:\n",
        "    split_text = list(sentenize(str(text)))\n",
        "    fin_line = ''\n",
        "    for txt in split_text:\n",
        "        text_ind = ner_model([txt.text])\n",
        "        new_string = []\n",
        "        for t in text_ind[1]:\n",
        "            cnt = 0\n",
        "            for i in t:\n",
        "              if i != 'O':\n",
        "                  new_string.append(text_ind[0][0][cnt])\n",
        "              cnt += 1\n",
        "        line = \" \".join(\n",
        "            l for l in text_ind[0][0] if l not in new_string)\n",
        "        fin_line += line + ' '\n",
        "    return fin_line"
      ],
      "execution_count": 102,
      "outputs": []
    },
    {
      "cell_type": "markdown",
      "metadata": {
        "id": "wLFCcoWDAa-c"
      },
      "source": [
        "На примере 1 текста:"
      ]
    },
    {
      "cell_type": "code",
      "metadata": {
        "id": "Cp98RwtM4B4L",
        "outputId": "1c041d22-c458-4889-dbf8-4bfd5bbcf6be",
        "colab": {
          "base_uri": "https://localhost:8080/",
          "height": 256
        }
      },
      "source": [
        "# для текста в answers (12 номер)\n",
        "\n",
        "preprocess_with_deepmipt(text)"
      ],
      "execution_count": 91,
      "outputs": [
        {
          "output_type": "execute_result",
          "data": {
            "application/vnd.google.colaboratory.intrinsic+json": {
              "type": "string"
            },
            "text/plain": [
              "'Как аннулировать бронирование ? Вернуть деньги за бронирование ? Как вернуть деньги за гостиницу ? Вернуть деньги за поезд ? Возврат денег за бронь ? Вернуть деньги за морскую экскурсию ? Отменили рейсы , будет ли возврат денег за билеты ? Замена билетов на поезд ? Можно ли вернуть билет на осуществление морской перевозки ? Отменили размещение в гостинице , как вернуть деньги ? Возврат ж / д билетов ? Не возвращают деньги за бронирование ? Бронировали экскурсию , как вернуть деньги ? Вернут ли мне деньги за оплаченный отель ( гостиницу ) за границей ? Вернуть деньги на самолет ? Вернёт ли мне деньги гостиница ? Могут ли выдать ваучер вместо денег за авиабилет ? \\n ? Возврат жд билетов ? Бронировали гостиницу , хотим вернуть деньги ? Как вернуть деньги за невозвратные билеты ? Вернуть деньги за авиабилет ? Вернут ли мне деньги за развлекательные услуги , которые были оплачены иностранной компании ? Бронировали отель , хотим отказаться ? Невозвратные билеты на самолет ? Можно ли вернуть билеты на поезд ? Замена билетов на представление ? Можно ли вернуть денежные средства за аннулированную бронь в гостинице ? Что делать если авиакомпания настаивает на том , что может выдать только ваучер за неиспользованный авиабилет ? Как вернуть билет ? Не возвращают деньги за экскурсии ? Возврат денег за самолет ? Будет ли компенсация стоимости билета в страну , находящуюся под ограничением ? Возврат денег за корабль ? Вернут ли мне деньги за билет на самолет , купленный у иностранной компании ? Замена билетов за самолет ? Будет ли компенсация стоимости за концерт , театр и иное культурно - зрелищное мероприятие , отменное из - за коронавируса ограничением ? Вернут ли мне деньги за гостиницу ? Вернуть деньги за паром ? Правда ли , что авиаперевозчики могут осуществить выдачу сертификата или ваучера за место денег ? Когда возвратят деньги за бронирование размещения ? '"
            ]
          },
          "metadata": {
            "tags": []
          },
          "execution_count": 91
        }
      ]
    },
    {
      "cell_type": "code",
      "metadata": {
        "id": "0MmZJOZC4z9k",
        "outputId": "c3515c0f-e11a-488f-80db-9c8f3f2fad30",
        "colab": {
          "base_uri": "https://localhost:8080/",
          "height": 66,
          "referenced_widgets": [
            "c13b17a2fba0485b9d922846a5db55b5",
            "a7835dc6f5a041c2bb93a1129561ac7e",
            "79b95562a59d4a1b9ab20d2cc6c6361e",
            "9f96732fa2d84684b4aafa1d8a3b1cbc",
            "fd8010f2f5c64a6f98f589bdfcdcaff9",
            "3ac9c8bbe76f48418e1934e3bfbdb5a7",
            "253ee40b16f14106b0e166b3f963b8dc",
            "a561ec053f26420380e7d0fb98b0143e"
          ]
        }
      },
      "source": [
        "deeppav_ans = []\n",
        "for index, row in tqdm(answers.iterrows()):\n",
        "    text = row['Текст вопросов']\n",
        "    clean_dp = preprocess_with_deepmipt(text)\n",
        "    deeppav_ans.append(clean_dp)"
      ],
      "execution_count": 99,
      "outputs": [
        {
          "output_type": "display_data",
          "data": {
            "application/vnd.jupyter.widget-view+json": {
              "model_id": "c13b17a2fba0485b9d922846a5db55b5",
              "version_minor": 0,
              "version_major": 2
            },
            "text/plain": [
              "HBox(children=(FloatProgress(value=1.0, bar_style='info', max=1.0), HTML(value='')))"
            ]
          },
          "metadata": {
            "tags": []
          }
        },
        {
          "output_type": "stream",
          "text": [
            "\n"
          ],
          "name": "stdout"
        }
      ]
    },
    {
      "cell_type": "code",
      "metadata": {
        "id": "y1Msjc2fBIm3"
      },
      "source": [
        "answers['preprocess_deepmipt'] = deeppav_ans"
      ],
      "execution_count": 93,
      "outputs": []
    },
    {
      "cell_type": "code",
      "metadata": {
        "id": "q8g31fGpBUNV",
        "outputId": "4285f48b-e183-4311-b3a4-10c63651bf76",
        "colab": {
          "base_uri": "https://localhost:8080/",
          "height": 1000
        }
      },
      "source": [
        "answers"
      ],
      "execution_count": 94,
      "outputs": [
        {
          "output_type": "execute_result",
          "data": {
            "text/html": [
              "<div>\n",
              "<style scoped>\n",
              "    .dataframe tbody tr th:only-of-type {\n",
              "        vertical-align: middle;\n",
              "    }\n",
              "\n",
              "    .dataframe tbody tr th {\n",
              "        vertical-align: top;\n",
              "    }\n",
              "\n",
              "    .dataframe thead th {\n",
              "        text-align: right;\n",
              "    }\n",
              "</style>\n",
              "<table border=\"1\" class=\"dataframe\">\n",
              "  <thead>\n",
              "    <tr style=\"text-align: right;\">\n",
              "      <th></th>\n",
              "      <th>Номер связки</th>\n",
              "      <th>Текст вопросов</th>\n",
              "      <th>Текст ответа</th>\n",
              "      <th>Тематика</th>\n",
              "      <th>preprocess_natasha</th>\n",
              "      <th>preprocess_deepmipt</th>\n",
              "    </tr>\n",
              "  </thead>\n",
              "  <tbody>\n",
              "    <tr>\n",
              "      <th>0</th>\n",
              "      <td>57</td>\n",
              "      <td>У ребенка в школе продлили каникулы. Могу ли я...</td>\n",
              "      <td>Листок временной нетрудоспособности (больничны...</td>\n",
              "      <td>БОЛЬНИЧНЫЙ ЛИСТ</td>\n",
              "      <td>У ребенка в школе продлили каникулы. Могу ли я...</td>\n",
              "      <td>У ребенка в школе продлили каникулы . Могу ли ...</td>\n",
              "    </tr>\n",
              "    <tr>\n",
              "      <th>1</th>\n",
              "      <td>78</td>\n",
              "      <td>Где сделать вакцинацию от коронавируса?\\nСущес...</td>\n",
              "      <td>Коронавирусы - это целое семейство вирусов, ко...</td>\n",
              "      <td>ВАКЦИНАЦИЯ</td>\n",
              "      <td>Где сделать вакцинацию от коронавируса?\\nСущес...</td>\n",
              "      <td>Где сделать вакцинацию от коронавируса ? Сущес...</td>\n",
              "    </tr>\n",
              "    <tr>\n",
              "      <th>2</th>\n",
              "      <td>326</td>\n",
              "      <td>Сколько стоит сделать вакцину от гриппа?\\nМожн...</td>\n",
              "      <td>Бесплатно пройти вакцинацию можно в Вашей меди...</td>\n",
              "      <td>ВАКЦИНАЦИЯ</td>\n",
              "      <td>Сколько стоит сделать вакцину от гриппа?\\nМожн...</td>\n",
              "      <td>Сколько стоит сделать вакцину от гриппа ? Можн...</td>\n",
              "    </tr>\n",
              "    <tr>\n",
              "      <th>3</th>\n",
              "      <td>327</td>\n",
              "      <td>Могу я отказаться от вакцинации?\\nВ каких случ...</td>\n",
              "      <td>Согласно приказу Министерства здравоохранения ...</td>\n",
              "      <td>ВАКЦИНАЦИЯ</td>\n",
              "      <td>Могу я отказаться от вакцинации?\\nВ каких случ...</td>\n",
              "      <td>Могу я отказаться от вакцинации ? В каких случ...</td>\n",
              "    </tr>\n",
              "    <tr>\n",
              "      <th>4</th>\n",
              "      <td>328</td>\n",
              "      <td>Безопасна ли вакцинация?\\nОпасна ли вакцинация...</td>\n",
              "      <td>В соответствии с пунктами 1 и 2 статьи 12 Феде...</td>\n",
              "      <td>ВАКЦИНАЦИЯ</td>\n",
              "      <td>Безопасна ли вакцинация?\\nОпасна ли вакцинация...</td>\n",
              "      <td>Безопасна ли вакцинация ? Опасна ли вакцинация...</td>\n",
              "    </tr>\n",
              "    <tr>\n",
              "      <th>5</th>\n",
              "      <td>40</td>\n",
              "      <td>Что делать, тем кто находится в группе риска?\\...</td>\n",
              "      <td>Лицам, входящим в группы риска, следует соблюд...</td>\n",
              "      <td>ГРУППЫ РИСКА</td>\n",
              "      <td>Что делать, тем кто находится в группе риска?\\...</td>\n",
              "      <td>Что делать , тем кто находится в группе риска ...</td>\n",
              "    </tr>\n",
              "    <tr>\n",
              "      <th>6</th>\n",
              "      <td>210</td>\n",
              "      <td>Кто в группе риска по короновирусу?\\nКто наход...</td>\n",
              "      <td>Люди всех возрастов рискуют заразиться вирусом...</td>\n",
              "      <td>ГРУППЫ РИСКА</td>\n",
              "      <td>Кто в группе риска по короновирусу?\\nКто наход...</td>\n",
              "      <td>Кто в группе риска по короновирусу ? Кто наход...</td>\n",
              "    </tr>\n",
              "    <tr>\n",
              "      <th>7</th>\n",
              "      <td>43</td>\n",
              "      <td>Что должны обрабатывать в многоквартирных дома...</td>\n",
              "      <td>Дезинфекция — это комплекс мероприятий, направ...</td>\n",
              "      <td>ДЕЗИНФЕКЦИЯ ОТКРЫТЫХ ПРОСТРАНСТВ И МНОГОКВАРТИ...</td>\n",
              "      <td>Что должны обрабатывать в многоквартирных дома...</td>\n",
              "      <td>Что должны обрабатывать в многоквартирных дома...</td>\n",
              "    </tr>\n",
              "    <tr>\n",
              "      <th>8</th>\n",
              "      <td>82</td>\n",
              "      <td>Заканчивается виза у иностранного гражданина, ...</td>\n",
              "      <td>В связи с ситуацией по коронавирусу иностранны...</td>\n",
              "      <td>ЗАКРЫТИЕ ГРАНИЦ, ОТКРЫТИЕ ГРАНИЦ РОССИИ И АВИА...</td>\n",
              "      <td>Заканчивается виза у иностранного гражданина, ...</td>\n",
              "      <td>Заканчивается виза у иностранного гражданина ,...</td>\n",
              "    </tr>\n",
              "    <tr>\n",
              "      <th>9</th>\n",
              "      <td>89</td>\n",
              "      <td>Как узнать судьбу сына/родителя/родственника (...</td>\n",
              "      <td>Мы понимаем ваше беспокойство и для получения ...</td>\n",
              "      <td>ЗАКРЫТИЕ ГРАНИЦ, ОТКРЫТИЕ ГРАНИЦ РОССИИ И АВИА...</td>\n",
              "      <td>Как узнать судьбу сына/родителя/родственника (...</td>\n",
              "      <td>Как узнать судьбу сына / родителя / родственни...</td>\n",
              "    </tr>\n",
              "    <tr>\n",
              "      <th>10</th>\n",
              "      <td>173</td>\n",
              "      <td>Какие есть ограничения на поездки за границу?\\...</td>\n",
              "      <td>На основании решения президиума Координационно...</td>\n",
              "      <td>ЗАКРЫТИЕ ГРАНИЦ, ОТКРЫТИЕ ГРАНИЦ РОССИИ И АВИА...</td>\n",
              "      <td>Какие есть ограничения на поездки за границу?\\...</td>\n",
              "      <td>Какие есть ограничения на поездки за границу ?...</td>\n",
              "    </tr>\n",
              "    <tr>\n",
              "      <th>11</th>\n",
              "      <td>308</td>\n",
              "      <td>Берут ли мазок у пассажиров рейса?\\nГде размещ...</td>\n",
              "      <td>Ниже будет представлена информация о всех необ...</td>\n",
              "      <td>ЗАКРЫТИЕ ГРАНИЦ, ОТКРЫТИЕ ГРАНИЦ РОССИИ И АВИА...</td>\n",
              "      <td>Берут ли мазок у пассажиров рейса?\\nГде размещ...</td>\n",
              "      <td>Берут ли мазок у пассажиров рейса ? Где размещ...</td>\n",
              "    </tr>\n",
              "    <tr>\n",
              "      <th>12</th>\n",
              "      <td>46</td>\n",
              "      <td>Как аннулировать бронирование?\\nВернуть деньги...</td>\n",
              "      <td>Если Вы заключили договор с лицом, находящимся...</td>\n",
              "      <td>ЗАЩИТА ПРАВ ПОТРЕБИТЕЛЕЙ (ТУРЫ, ГОСТИНИЦЫ, АВИ...</td>\n",
              "      <td>Как аннулировать бронирование?\\nВернуть деньги...</td>\n",
              "      <td>Как аннулировать бронирование ? Вернуть деньги...</td>\n",
              "    </tr>\n",
              "    <tr>\n",
              "      <th>13</th>\n",
              "      <td>316</td>\n",
              "      <td>Вернут ли мне деньги за отменённый тур?\\nДолже...</td>\n",
              "      <td>Для потребителя туристических услуг: С 24.07.2...</td>\n",
              "      <td>ЗАЩИТА ПРАВ ПОТРЕБИТЕЛЕЙ (ТУРЫ, ГОСТИНИЦЫ, АВИ...</td>\n",
              "      <td>Вернут ли мне деньги за отменённый тур?\\nДолже...</td>\n",
              "      <td>Вернут ли мне деньги за отменённый тур ? Долже...</td>\n",
              "    </tr>\n",
              "    <tr>\n",
              "      <th>14</th>\n",
              "      <td>1</td>\n",
              "      <td>Что такое карантин (изоляция)?\\nДолжны ли собю...</td>\n",
              "      <td>Сообщаем, что термины «карантин», «изоляция» и...</td>\n",
              "      <td>КАРАНТИН, ИЗОЛЯЦИЯ, САМОИЗОЛЯЦИЯ</td>\n",
              "      <td>Что такое карантин (изоляция)?\\nДолжны ли собю...</td>\n",
              "      <td>Что такое карантин ( изоляция ) ? Должны ли со...</td>\n",
              "    </tr>\n",
              "    <tr>\n",
              "      <th>15</th>\n",
              "      <td>217</td>\n",
              "      <td>Как не сойти с ума во время самоизоляции?</td>\n",
              "      <td>Беспрецедентные меры, призванные замедлить и о...</td>\n",
              "      <td>КАРАНТИН, ИЗОЛЯЦИЯ, САМОИЗОЛЯЦИЯ</td>\n",
              "      <td>Как не сойти с ума во время самоизоляции?</td>\n",
              "      <td>Как не сойти с ума во время самоизоляции ?</td>\n",
              "    </tr>\n",
              "    <tr>\n",
              "      <th>16</th>\n",
              "      <td>10</td>\n",
              "      <td>Какие профилактические меры введены в школах?\\...</td>\n",
              "      <td>В период летних каникул образовательные органи...</td>\n",
              "      <td>МЕРЫ В ОБРАЗОВАТЕЛЬНЫХ ОРГАНИЗАЦИЯХ</td>\n",
              "      <td>Какие профилактические меры введены в школах?\\...</td>\n",
              "      <td>Какие профилактические меры введены в школах ?...</td>\n",
              "    </tr>\n",
              "    <tr>\n",
              "      <th>17</th>\n",
              "      <td>56</td>\n",
              "      <td>Дет/сады, школы закрыты, а платные кружки доп....</td>\n",
              "      <td>Все образовательные организации за исключением...</td>\n",
              "      <td>МЕРЫ В ОБРАЗОВАТЕЛЬНЫХ ОРГАНИЗАЦИЯХ</td>\n",
              "      <td>Дет/сады, школы закрыты, а платные кружки доп....</td>\n",
              "      <td>Дет / сады , школы закрыты , а платные кружки ...</td>\n",
              "    </tr>\n",
              "    <tr>\n",
              "      <th>18</th>\n",
              "      <td>94</td>\n",
              "      <td>Необходимо ли  не допускать к занятиям детей, ...</td>\n",
              "      <td>Вопрос о карантине в детских садах находится в...</td>\n",
              "      <td>МЕРЫ В ОБРАЗОВАТЕЛЬНЫХ ОРГАНИЗАЦИЯХ</td>\n",
              "      <td>Необходимо ли  не допускать к занятиям детей, ...</td>\n",
              "      <td>Необходимо ли не допускать к занятиям детей , ...</td>\n",
              "    </tr>\n",
              "    <tr>\n",
              "      <th>19</th>\n",
              "      <td>34</td>\n",
              "      <td>Помощь пожилым ?\\n?\\nПомощь старикам?\\nПомощь ...</td>\n",
              "      <td>В рамках Всероссийской акции взаимопомощи во в...</td>\n",
              "      <td>МЕРЫ ПОДДЕРЖКИ ГРАЖДАН И БИЗНЕСА, ВОЛОНТЕРЫ</td>\n",
              "      <td>Помощь пожилым ?\\n?\\nПомощь старикам?\\nПомощь ...</td>\n",
              "      <td>Помощь пожилым ? \\n ? Помощь старикам ? Помощь...</td>\n",
              "    </tr>\n",
              "    <tr>\n",
              "      <th>20</th>\n",
              "      <td>38</td>\n",
              "      <td>Что делать если в семье кто-то заболел гриппом...</td>\n",
              "      <td>Рекомендуется соблюдать следующие действия по ...</td>\n",
              "      <td>МЕРЫ ПРОФИЛАКТИКИ ДЛЯ ГРАЖДАН</td>\n",
              "      <td>Что делать если в семье кто-то заболел гриппом...</td>\n",
              "      <td>Что делать если в семье кто - то заболел грипп...</td>\n",
              "    </tr>\n",
              "    <tr>\n",
              "      <th>21</th>\n",
              "      <td>325</td>\n",
              "      <td>Какой антисептик выбрать?\\nКакой антисептик лу...</td>\n",
              "      <td>Для правильного выбора эффективных дезинфициру...</td>\n",
              "      <td>МЕРЫ ПРОФИЛАКТИКИ ДЛЯ ГРАЖДАН</td>\n",
              "      <td>Какой антисептик выбрать?\\nКакой антисептик лу...</td>\n",
              "      <td>Какой антисептик выбрать ? Какой антисептик лу...</td>\n",
              "    </tr>\n",
              "    <tr>\n",
              "      <th>22</th>\n",
              "      <td>286</td>\n",
              "      <td>Руководство просит выйти на работу, как защити...</td>\n",
              "      <td>Для профилактики коронавирусной инфекции в раб...</td>\n",
              "      <td>МЕРЫ ПРОФИЛАКТИКИ ДЛЯ РАБОТОДАТЕЛЕЙ НА РАБОЧИХ...</td>\n",
              "      <td>Руководство просит выйти на работу, как защити...</td>\n",
              "      <td>Руководство просит выйти на работу , как защит...</td>\n",
              "    </tr>\n",
              "    <tr>\n",
              "      <th>23</th>\n",
              "      <td>79</td>\n",
              "      <td>Я обнаружил у себя симптомы коронавируса, что ...</td>\n",
              "      <td>Коронавирусы – обширное семейство вирусов, кот...</td>\n",
              "      <td>О КОРОНАВИРУСЕ И СИМПТОМАХ</td>\n",
              "      <td>Я обнаружил у себя симптомы коронавируса, что ...</td>\n",
              "      <td>Я обнаружил у себя симптомы коронавируса , что...</td>\n",
              "    </tr>\n",
              "    <tr>\n",
              "      <th>24</th>\n",
              "      <td>225</td>\n",
              "      <td>Будет ли моё тело захоронено классическим спос...</td>\n",
              "      <td>В случае смерти от коронавируса тело будет зах...</td>\n",
              "      <td>О КОРОНАВИРУСЕ И СИМПТОМАХ</td>\n",
              "      <td>Будет ли моё тело захоронено классическим спос...</td>\n",
              "      <td>Будет ли моё тело захоронено классическим спос...</td>\n",
              "    </tr>\n",
              "    <tr>\n",
              "      <th>25</th>\n",
              "      <td>37</td>\n",
              "      <td>Введение пропускного режима в регионе, как офо...</td>\n",
              "      <td>Информация о вводимых запретах и ограничительн...</td>\n",
              "      <td>ОГРАНИЧЕНИЯ, ПРОПУСКНАЯ СИСТЕМА И ПЕРЕМЕЩЕНИЕ ...</td>\n",
              "      <td>Введение пропускного режима в регионе, как офо...</td>\n",
              "      <td>Введение пропускного режима в регионе , как оф...</td>\n",
              "    </tr>\n",
              "    <tr>\n",
              "      <th>26</th>\n",
              "      <td>32</td>\n",
              "      <td>Если есть подозрение на коронавирус, почему па...</td>\n",
              "      <td>По решению лечащих врачей, пациентов размещают...</td>\n",
              "      <td>ОКАЗАНИЕ МЕДИЦИНСКОЙ ПОМОЩИ, ГОТОВНОСТЬ СТАЦИО...</td>\n",
              "      <td>Если есть подозрение на коронавирус, почему па...</td>\n",
              "      <td>Если есть подозрение на коронавирус , почему п...</td>\n",
              "    </tr>\n",
              "    <tr>\n",
              "      <th>27</th>\n",
              "      <td>74</td>\n",
              "      <td>Готова ли скорая помощь к ситуации с коронавир...</td>\n",
              "      <td>Скорая помощь готова и до сих пор продолжает р...</td>\n",
              "      <td>ОКАЗАНИЕ МЕДИЦИНСКОЙ ПОМОЩИ, ГОТОВНОСТЬ СТАЦИО...</td>\n",
              "      <td>Готова ли скорая помощь к ситуации с коронавир...</td>\n",
              "      <td>Готова ли скорая помощь к ситуации с коронавир...</td>\n",
              "    </tr>\n",
              "    <tr>\n",
              "      <th>28</th>\n",
              "      <td>132</td>\n",
              "      <td>Лечится от коронавируса дома ?\\nКого кладут в ...</td>\n",
              "      <td>Терапия ( лечение) новой коронавирусной инфекц...</td>\n",
              "      <td>ОКАЗАНИЕ МЕДИЦИНСКОЙ ПОМОЩИ, ГОТОВНОСТЬ СТАЦИО...</td>\n",
              "      <td>от коронавируса дома ?\\nКого кладут в больниц...</td>\n",
              "      <td>Лечится от коронавируса дома ? Кого кладут в б...</td>\n",
              "    </tr>\n",
              "    <tr>\n",
              "      <th>29</th>\n",
              "      <td>154</td>\n",
              "      <td>Я переболел коронавирусом и хочу сдать кровь (...</td>\n",
              "      <td>Власти отдельных регионов анонсировали возможн...</td>\n",
              "      <td>ОКАЗАНИЕ МЕДИЦИНСКОЙ ПОМОЩИ, ГОТОВНОСТЬ СТАЦИО...</td>\n",
              "      <td>Я переболел коронавирусом и хочу сдать кровь (...</td>\n",
              "      <td>Я переболел коронавирусом и хочу сдать кровь (...</td>\n",
              "    </tr>\n",
              "    <tr>\n",
              "      <th>30</th>\n",
              "      <td>257</td>\n",
              "      <td>Отказ в оказании медицинской помощи больным с ...</td>\n",
              "      <td>Обратитесь по номеру горячей линии органов здр...</td>\n",
              "      <td>ОКАЗАНИЕ МЕДИЦИНСКОЙ ПОМОЩИ, ГОТОВНОСТЬ СТАЦИО...</td>\n",
              "      <td>Отказ в оказании медицинской помощи больным с ...</td>\n",
              "      <td>Отказ в оказании медицинской помощи больным с ...</td>\n",
              "    </tr>\n",
              "    <tr>\n",
              "      <th>31</th>\n",
              "      <td>270</td>\n",
              "      <td>Почему ко мне пришли из поликлиники брать анал...</td>\n",
              "      <td>Необходимостью для отбора медицинским персонал...</td>\n",
              "      <td>ОКАЗАНИЕ МЕДИЦИНСКОЙ ПОМОЩИ, ГОТОВНОСТЬ СТАЦИО...</td>\n",
              "      <td>Почему ко мне пришли из поликлиники брать анал...</td>\n",
              "      <td>Почему ко мне пришли из поликлиники брать анал...</td>\n",
              "    </tr>\n",
              "    <tr>\n",
              "      <th>32</th>\n",
              "      <td>246</td>\n",
              "      <td>Какие требования предъявляются к открытию детс...</td>\n",
              "      <td>Санитарно-эпидемиологические требования к особ...</td>\n",
              "      <td>ОРГАНИЗАЦИИ ОТДЫХА ДЕТЕЙ И ИХ ЗДОРОВЛЕНИЯ</td>\n",
              "      <td>Какие требования предъявляются к открытию детс...</td>\n",
              "      <td>Какие требования предъявляются к открытию детс...</td>\n",
              "    </tr>\n",
              "    <tr>\n",
              "      <th>33</th>\n",
              "      <td>324</td>\n",
              "      <td>Нужна ли справка об отсутствии коронавируса дл...</td>\n",
              "      <td>Согласно актуальным требованиям Минздрава при ...</td>\n",
              "      <td>ОРГАНИЗАЦИИ ОТДЫХА ДЕТЕЙ И ИХ ЗДОРОВЛЕНИЯ</td>\n",
              "      <td>Нужна ли справка об отсутствии коронавируса дл...</td>\n",
              "      <td>Нужна ли справка об отсутствии коронавируса дл...</td>\n",
              "    </tr>\n",
              "    <tr>\n",
              "      <th>34</th>\n",
              "      <td>12</td>\n",
              "      <td>Что такое предписание (постановление)?\\nОтветс...</td>\n",
              "      <td>Предписание Роспотребнадзора - это официальный...</td>\n",
              "      <td>ПРЕДПИСАНИЯ И ПОСТАНОВЛЕНИЯ</td>\n",
              "      <td>Что такое предписание (постановление)?\\nОтветс...</td>\n",
              "      <td>Что такое предписание ( постановление ) ? Отве...</td>\n",
              "    </tr>\n",
              "    <tr>\n",
              "      <th>35</th>\n",
              "      <td>88</td>\n",
              "      <td>Слышал про режим повышенной готовности (ЧС), ч...</td>\n",
              "      <td>\\nПравительство РФ утвердило правила поведени...</td>\n",
              "      <td>РЕЖИМ ПОВЫШЕННОЙ ГОТОВНОСТИ И ЧС</td>\n",
              "      <td>Слышал про режим повышенной готовности (ЧС), ч...</td>\n",
              "      <td>Слышал про режим повышенной готовности ( ЧС ) ...</td>\n",
              "    </tr>\n",
              "    <tr>\n",
              "      <th>36</th>\n",
              "      <td>70</td>\n",
              "      <td>Что лучше – маска или респиратор?\\nМожно ли по...</td>\n",
              "      <td>Использование одноразовой медицинской маски сн...</td>\n",
              "      <td>СРЕДСТВА ИНДИВИДУАЛЬНОЙ ЗАЩИТЫ ( МАСКИ, ПЕРЧАТКИ)</td>\n",
              "      <td>Что лучше – маска или респиратор?\\nМожно ли по...</td>\n",
              "      <td>Что лучше – маска или респиратор ? Можно ли по...</td>\n",
              "    </tr>\n",
              "    <tr>\n",
              "      <th>37</th>\n",
              "      <td>6</td>\n",
              "      <td>Положительный анализ на коронавирус, что делат...</td>\n",
              "      <td>На основании подпункта 1.4 пункта 1 постановле...</td>\n",
              "      <td>ТЕСТИРОВАНИЕ (АНАЛИЗ) НА КОРОНАВИРУС</td>\n",
              "      <td>Положительный анализ на коронавирус, что делат...</td>\n",
              "      <td>Положительный анализ на коронавирус , что дела...</td>\n",
              "    </tr>\n",
              "    <tr>\n",
              "      <th>38</th>\n",
              "      <td>135</td>\n",
              "      <td>Платные тесты на ковид?\\nГде сдать тест на ков...</td>\n",
              "      <td>На сегодняшний день помимо лабораторий Роспотр...</td>\n",
              "      <td>ТЕСТИРОВАНИЕ (АНАЛИЗ) НА КОРОНАВИРУС</td>\n",
              "      <td>Платные тесты на ковид?\\nГде сдать тест на ков...</td>\n",
              "      <td>Платные тесты на ковид ? Где сдать тест на ков...</td>\n",
              "    </tr>\n",
              "    <tr>\n",
              "      <th>39</th>\n",
              "      <td>5</td>\n",
              "      <td>Мне 65 лет, куда обращаться, если работодатель...</td>\n",
              "      <td>Минтруд России выработал рекомендации для рабо...</td>\n",
              "      <td>ТРУДОВОЕ ЗАКОНОДАТЕЛЬСТВО</td>\n",
              "      <td>Мне 65 лет, куда обращаться, если работодатель...</td>\n",
              "      <td>Мне 65 лет , куда обращаться , если работодате...</td>\n",
              "    </tr>\n",
              "    <tr>\n",
              "      <th>40</th>\n",
              "      <td>3</td>\n",
              "      <td>Куда жаловаться (обращаться) если я вижу наруш...</td>\n",
              "      <td>Постановлением Правительства Российской Федера...</td>\n",
              "      <td>ШТРАФЫ, НОРМАТИВНЫЕ АКТЫ И РЕКОМЕНДАЦИИ</td>\n",
              "      <td>Куда жаловаться (обращаться) если я вижу наруш...</td>\n",
              "      <td>Куда жаловаться ( обращаться ) если я вижу нар...</td>\n",
              "    </tr>\n",
              "    <tr>\n",
              "      <th>41</th>\n",
              "      <td>45</td>\n",
              "      <td>Рекомендации для кафе и ресторанов?\\nРекоменда...</td>\n",
              "      <td>Официальный сайт Роспотребнадзора - rospotrebn...</td>\n",
              "      <td>ШТРАФЫ, НОРМАТИВНЫЕ АКТЫ И РЕКОМЕНДАЦИИ</td>\n",
              "      <td>Рекомендации для кафе и ресторанов?\\nРекоменда...</td>\n",
              "      <td>Рекомендации для кафе и ресторанов ? Рекоменда...</td>\n",
              "    </tr>\n",
              "    <tr>\n",
              "      <th>42</th>\n",
              "      <td>21</td>\n",
              "      <td>Правительство явно что-то скрывает о ситуации ...</td>\n",
              "      <td>Вся оперативная информация по ситуации с новым...</td>\n",
              "      <td>ЭПИДЕМИОЛОГИЧЕСКАЯ СИТУАЦИЯ В МИРЕ, РОССИИ, МО...</td>\n",
              "      <td>Правительство явно что-то скрывает о ситуации ...</td>\n",
              "      <td>Правительство явно что - то скрывает о ситуаци...</td>\n",
              "    </tr>\n",
              "  </tbody>\n",
              "</table>\n",
              "</div>"
            ],
            "text/plain": [
              "    Номер связки  ...                                preprocess_deepmipt\n",
              "0             57  ...  У ребенка в школе продлили каникулы . Могу ли ...\n",
              "1             78  ...  Где сделать вакцинацию от коронавируса ? Сущес...\n",
              "2            326  ...  Сколько стоит сделать вакцину от гриппа ? Можн...\n",
              "3            327  ...  Могу я отказаться от вакцинации ? В каких случ...\n",
              "4            328  ...  Безопасна ли вакцинация ? Опасна ли вакцинация...\n",
              "5             40  ...  Что делать , тем кто находится в группе риска ...\n",
              "6            210  ...  Кто в группе риска по короновирусу ? Кто наход...\n",
              "7             43  ...  Что должны обрабатывать в многоквартирных дома...\n",
              "8             82  ...  Заканчивается виза у иностранного гражданина ,...\n",
              "9             89  ...  Как узнать судьбу сына / родителя / родственни...\n",
              "10           173  ...  Какие есть ограничения на поездки за границу ?...\n",
              "11           308  ...  Берут ли мазок у пассажиров рейса ? Где размещ...\n",
              "12            46  ...  Как аннулировать бронирование ? Вернуть деньги...\n",
              "13           316  ...  Вернут ли мне деньги за отменённый тур ? Долже...\n",
              "14             1  ...  Что такое карантин ( изоляция ) ? Должны ли со...\n",
              "15           217  ...        Как не сойти с ума во время самоизоляции ? \n",
              "16            10  ...  Какие профилактические меры введены в школах ?...\n",
              "17            56  ...  Дет / сады , школы закрыты , а платные кружки ...\n",
              "18            94  ...  Необходимо ли не допускать к занятиям детей , ...\n",
              "19            34  ...  Помощь пожилым ? \\n ? Помощь старикам ? Помощь...\n",
              "20            38  ...  Что делать если в семье кто - то заболел грипп...\n",
              "21           325  ...  Какой антисептик выбрать ? Какой антисептик лу...\n",
              "22           286  ...  Руководство просит выйти на работу , как защит...\n",
              "23            79  ...  Я обнаружил у себя симптомы коронавируса , что...\n",
              "24           225  ...  Будет ли моё тело захоронено классическим спос...\n",
              "25            37  ...  Введение пропускного режима в регионе , как оф...\n",
              "26            32  ...  Если есть подозрение на коронавирус , почему п...\n",
              "27            74  ...  Готова ли скорая помощь к ситуации с коронавир...\n",
              "28           132  ...  Лечится от коронавируса дома ? Кого кладут в б...\n",
              "29           154  ...  Я переболел коронавирусом и хочу сдать кровь (...\n",
              "30           257  ...  Отказ в оказании медицинской помощи больным с ...\n",
              "31           270  ...  Почему ко мне пришли из поликлиники брать анал...\n",
              "32           246  ...  Какие требования предъявляются к открытию детс...\n",
              "33           324  ...  Нужна ли справка об отсутствии коронавируса дл...\n",
              "34            12  ...  Что такое предписание ( постановление ) ? Отве...\n",
              "35            88  ...  Слышал про режим повышенной готовности ( ЧС ) ...\n",
              "36            70  ...  Что лучше – маска или респиратор ? Можно ли по...\n",
              "37             6  ...  Положительный анализ на коронавирус , что дела...\n",
              "38           135  ...  Платные тесты на ковид ? Где сдать тест на ков...\n",
              "39             5  ...  Мне 65 лет , куда обращаться , если работодате...\n",
              "40             3  ...  Куда жаловаться ( обращаться ) если я вижу нар...\n",
              "41            45  ...  Рекомендации для кафе и ресторанов ? Рекоменда...\n",
              "42            21  ...  Правительство явно что - то скрывает о ситуаци...\n",
              "\n",
              "[43 rows x 6 columns]"
            ]
          },
          "metadata": {
            "tags": []
          },
          "execution_count": 94
        }
      ]
    },
    {
      "cell_type": "code",
      "metadata": {
        "id": "3zJo0xFt4K3H",
        "outputId": "5747dee7-708a-4746-c9ee-41103dd032a5",
        "colab": {
          "base_uri": "https://localhost:8080/",
          "height": 66,
          "referenced_widgets": [
            "16aaf349e4ff4bfdb46815f8f7d3a345",
            "e6e63e885df64b99832bf81c0fddd55a",
            "67bb48c657124104bb468e38a3c50737",
            "9771de63d8d543d19ef5ceb2c36b3dc1",
            "887fa6060d0244aa92b9fdf6f0751dd8",
            "54c26303855f4e47a3402b1f79c25946",
            "86c9a46f3e8c4ababdf6be61b24c672b",
            "06daf4f599674255b15086369c845dc1"
          ]
        }
      },
      "source": [
        "deeppav_quer = []\n",
        "for index, row in tqdm(queries.iterrows()):\n",
        "    text = row['Текст вопроса']\n",
        "    clean_dp = preprocess_with_deepmipt(text)\n",
        "    deeppav_quer.append(clean_dp)"
      ],
      "execution_count": 103,
      "outputs": [
        {
          "output_type": "display_data",
          "data": {
            "application/vnd.jupyter.widget-view+json": {
              "model_id": "16aaf349e4ff4bfdb46815f8f7d3a345",
              "version_minor": 0,
              "version_major": 2
            },
            "text/plain": [
              "HBox(children=(FloatProgress(value=1.0, bar_style='info', max=1.0), HTML(value='')))"
            ]
          },
          "metadata": {
            "tags": []
          }
        },
        {
          "output_type": "stream",
          "text": [
            "\n"
          ],
          "name": "stdout"
        }
      ]
    },
    {
      "cell_type": "code",
      "metadata": {
        "id": "qA1HaCJ6OMPT"
      },
      "source": [
        "queries['preprocess_deepmipt'] = deeppav_quer"
      ],
      "execution_count": 105,
      "outputs": []
    },
    {
      "cell_type": "code",
      "metadata": {
        "id": "PQxj_v6SOR1z",
        "outputId": "8be270af-ffef-43b4-dace-1bbc3faa158e",
        "colab": {
          "base_uri": "https://localhost:8080/",
          "height": 442
        }
      },
      "source": [
        "queries.tail()"
      ],
      "execution_count": 106,
      "outputs": [
        {
          "output_type": "execute_result",
          "data": {
            "text/html": [
              "<div>\n",
              "<style scoped>\n",
              "    .dataframe tbody tr th:only-of-type {\n",
              "        vertical-align: middle;\n",
              "    }\n",
              "\n",
              "    .dataframe tbody tr th {\n",
              "        vertical-align: top;\n",
              "    }\n",
              "\n",
              "    .dataframe thead th {\n",
              "        text-align: right;\n",
              "    }\n",
              "</style>\n",
              "<table border=\"1\" class=\"dataframe\">\n",
              "  <thead>\n",
              "    <tr style=\"text-align: right;\">\n",
              "      <th></th>\n",
              "      <th>Текст вопроса</th>\n",
              "      <th>Номер связки\\n</th>\n",
              "      <th>Тематика</th>\n",
              "      <th>Unnamed: 3</th>\n",
              "      <th>Unnamed: 4</th>\n",
              "      <th>preprocess_natasha</th>\n",
              "      <th>preprocess_deepmipt</th>\n",
              "    </tr>\n",
              "  </thead>\n",
              "  <tbody>\n",
              "    <tr>\n",
              "      <th>2294</th>\n",
              "      <td>Добрый день.\\nГражданин Украины проживает в РФ...</td>\n",
              "      <td>308.0</td>\n",
              "      <td>ЗАКРЫТИЕ ГРАНИЦ, ОТКРЫТИЕ ГРАНИЦ РОССИИ И АВИА...</td>\n",
              "      <td>NaN</td>\n",
              "      <td>NaN</td>\n",
              "      <td>Добрый день.\\nГражданин  проживает в , есть РВ...</td>\n",
              "      <td>Добрый день . Гражданин проживает в , есть . П...</td>\n",
              "    </tr>\n",
              "    <tr>\n",
              "      <th>2295</th>\n",
              "      <td>Добрый вечер. Нахожусь в командировке за грани...</td>\n",
              "      <td>308.0</td>\n",
              "      <td>ЗАКРЫТИЕ ГРАНИЦ, ОТКРЫТИЕ ГРАНИЦ РОССИИ И АВИА...</td>\n",
              "      <td>NaN</td>\n",
              "      <td>NaN</td>\n",
              "      <td>Добрый вечер. Нахожусь в командировке за грани...</td>\n",
              "      <td>Добрый вечер . Нахожусь в командировке за гран...</td>\n",
              "    </tr>\n",
              "    <tr>\n",
              "      <th>2296</th>\n",
              "      <td>Здравствуйте! \\nНам пришёл положительный резул...</td>\n",
              "      <td>1.0</td>\n",
              "      <td>КАРАНТИН, ИЗОЛЯЦИЯ, САМОИЗОЛЯЦИЯ\\n</td>\n",
              "      <td>NaN</td>\n",
              "      <td>NaN</td>\n",
              "      <td>Здравствуйте! \\nНам пришёл положительный резул...</td>\n",
              "      <td>Здравствуйте ! Нам пришёл положительный резуль...</td>\n",
              "    </tr>\n",
              "    <tr>\n",
              "      <th>2297</th>\n",
              "      <td>Добрый день, хотелось бы получить консультацию...</td>\n",
              "      <td>45.0</td>\n",
              "      <td>ШТРАФЫ, НОРМАТИВНЫЕ АКТЫ И РЕКОМЕНДАЦИИ\\n</td>\n",
              "      <td>NaN</td>\n",
              "      <td>NaN</td>\n",
              "      <td>Добрый день, хотелось бы получить консультацию...</td>\n",
              "      <td>Добрый день , хотелось бы получить консультаци...</td>\n",
              "    </tr>\n",
              "    <tr>\n",
              "      <th>2298</th>\n",
              "      <td>Добрый день ! \\nМоя мама Уланина Валентина Мих...</td>\n",
              "      <td>257.0</td>\n",
              "      <td>ОКАЗАНИЕ МЕДИЦИНСКОЙ ПОМОЩИ, ГОТОВНОСТЬ СТАЦИО...</td>\n",
              "      <td>NaN</td>\n",
              "      <td>NaN</td>\n",
              "      <td>Добрый день ! \\nМоя мама  лежит в инфекционном...</td>\n",
              "      <td>Добрый день ! Моя мама лежит в инфекционном от...</td>\n",
              "    </tr>\n",
              "  </tbody>\n",
              "</table>\n",
              "</div>"
            ],
            "text/plain": [
              "                                          Текст вопроса  ...                                preprocess_deepmipt\n",
              "2294  Добрый день.\\nГражданин Украины проживает в РФ...  ...  Добрый день . Гражданин проживает в , есть . П...\n",
              "2295  Добрый вечер. Нахожусь в командировке за грани...  ...  Добрый вечер . Нахожусь в командировке за гран...\n",
              "2296  Здравствуйте! \\nНам пришёл положительный резул...  ...  Здравствуйте ! Нам пришёл положительный резуль...\n",
              "2297  Добрый день, хотелось бы получить консультацию...  ...  Добрый день , хотелось бы получить консультаци...\n",
              "2298  Добрый день ! \\nМоя мама Уланина Валентина Мих...  ...  Добрый день ! Моя мама лежит в инфекционном от...\n",
              "\n",
              "[5 rows x 7 columns]"
            ]
          },
          "metadata": {
            "tags": []
          },
          "execution_count": 106
        }
      ]
    },
    {
      "cell_type": "markdown",
      "metadata": {
        "id": "Wm5O5m5v_cO8"
      },
      "source": [
        "### __Задача 2__:    \n",
        "На предыдущем занятии вы реализовывали функции поиска ближайших ответов на запросы через TF-IDF и BM25. \n",
        "Сравните качество нахождения верного ответа для обоих методов в трех случаях:\n",
        "- с функцией ```preprocess_with_natasha```\n",
        "- с функцией ```preprocess_with_deepmipt```\n",
        "- без препроцессинга\n",
        "\n",
        "Для измерения качества используйте метрику accuracy. Считаем, что ответ верный, если он входит в топ-1."
      ]
    },
    {
      "cell_type": "markdown",
      "metadata": {
        "id": "xDzexP5aSSkU"
      },
      "source": [
        "#### Подготовка к поддсчету"
      ]
    },
    {
      "cell_type": "code",
      "metadata": {
        "id": "YF3lcDyOb3Cs"
      },
      "source": [
        "from sklearn.metrics import accuracy_score"
      ],
      "execution_count": 72,
      "outputs": []
    },
    {
      "cell_type": "code",
      "metadata": {
        "id": "n4mkzkEzFqSQ"
      },
      "source": [
        "# убираем элементы NaN - где нет связок\n",
        "queries = queries.fillna(0)"
      ],
      "execution_count": 43,
      "outputs": []
    },
    {
      "cell_type": "code",
      "metadata": {
        "id": "kCBYCIWL50NU"
      },
      "source": [
        "for_queries = queries[['Номер связки\\n', 'Текст вопроса',\n",
        "                       'preprocess_natasha',\t'preprocess_deepmipt']]"
      ],
      "execution_count": 45,
      "outputs": []
    },
    {
      "cell_type": "code",
      "metadata": {
        "id": "z7WYGL92RIkp",
        "outputId": "fad61371-72b1-4583-84c2-f28fcecfc36f",
        "colab": {
          "base_uri": "https://localhost:8080/",
          "height": 122
        }
      },
      "source": [
        "for_queries.rename(columns={'Номер связки\\n': 'Номер связки',\n",
        "                            'Текст вопроса': 'Текст вопросов',\n",
        "                            'preprocess_natasha': 'preprocess_natasha',\n",
        "                            'preprocess_deepmipt': 'preprocess_deepmipt'},\n",
        "                   inplace=True)"
      ],
      "execution_count": 46,
      "outputs": [
        {
          "output_type": "stream",
          "text": [
            "/usr/local/lib/python3.6/dist-packages/pandas/core/frame.py:4303: SettingWithCopyWarning: \n",
            "A value is trying to be set on a copy of a slice from a DataFrame\n",
            "\n",
            "See the caveats in the documentation: https://pandas.pydata.org/pandas-docs/stable/user_guide/indexing.html#returning-a-view-versus-a-copy\n",
            "  errors=errors,\n"
          ],
          "name": "stderr"
        }
      ]
    },
    {
      "cell_type": "code",
      "metadata": {
        "id": "8jPPvd8tR4bG",
        "outputId": "85524625-0a96-49b4-d98b-a360d5d57eb1",
        "colab": {
          "base_uri": "https://localhost:8080/",
          "height": 306
        }
      },
      "source": [
        "for_queries.head()"
      ],
      "execution_count": 47,
      "outputs": [
        {
          "output_type": "execute_result",
          "data": {
            "text/html": [
              "<div>\n",
              "<style scoped>\n",
              "    .dataframe tbody tr th:only-of-type {\n",
              "        vertical-align: middle;\n",
              "    }\n",
              "\n",
              "    .dataframe tbody tr th {\n",
              "        vertical-align: top;\n",
              "    }\n",
              "\n",
              "    .dataframe thead th {\n",
              "        text-align: right;\n",
              "    }\n",
              "</style>\n",
              "<table border=\"1\" class=\"dataframe\">\n",
              "  <thead>\n",
              "    <tr style=\"text-align: right;\">\n",
              "      <th></th>\n",
              "      <th>Номер связки</th>\n",
              "      <th>Текст вопросов</th>\n",
              "      <th>preprocess_natasha</th>\n",
              "      <th>preprocess_deepmipt</th>\n",
              "    </tr>\n",
              "  </thead>\n",
              "  <tbody>\n",
              "    <tr>\n",
              "      <th>0</th>\n",
              "      <td>308.0</td>\n",
              "      <td>с уважением Вероника Игоревна  Ильич\\n\\nПосле ...</td>\n",
              "      <td>с уважением \\n\\nПосле 15 августа 2020 года к н...</td>\n",
              "      <td>с уважением   \\n \\n После 15 августа 2020 года...</td>\n",
              "    </tr>\n",
              "    <tr>\n",
              "      <th>1</th>\n",
              "      <td>324.0</td>\n",
              "      <td>Здравствуйте! Проинформируйте, пожалуйста, нуж...</td>\n",
              "      <td>Здравствуйте! Проинформируйте, пожалуйста, нуж...</td>\n",
              "      <td>Здравствуйте ! Проинформируйте , пожалуйста , ...</td>\n",
              "    </tr>\n",
              "    <tr>\n",
              "      <th>2</th>\n",
              "      <td>57.0</td>\n",
              "      <td>--\\nДобрый день!\\n   Меня, Сидельникова Андрея...</td>\n",
              "      <td>--\\nДобрый день!\\n   Меня,   30.07.1989г.р., п...</td>\n",
              "      <td>- - \\n Добрый день ! Меня , 30 . 07 . 1989г . ...</td>\n",
              "    </tr>\n",
              "    <tr>\n",
              "      <th>3</th>\n",
              "      <td>45.0</td>\n",
              "      <td>Добрый день.\\nВ Кемеровской области согласно п...</td>\n",
              "      <td>Добрый день.\\nВ  согласно постановлению  необх...</td>\n",
              "      <td>Добрый день . В согласно постановлению необход...</td>\n",
              "    </tr>\n",
              "    <tr>\n",
              "      <th>4</th>\n",
              "      <td>3.0</td>\n",
              "      <td>Здравствуйте, в моем городе Кострома введено о...</td>\n",
              "      <td>Здравствуйте, в моем городе  введено ограничен...</td>\n",
              "      <td>Здравствуйте , в моем городе введено ограничен...</td>\n",
              "    </tr>\n",
              "  </tbody>\n",
              "</table>\n",
              "</div>"
            ],
            "text/plain": [
              "   Номер связки  ...                                preprocess_deepmipt\n",
              "0         308.0  ...  с уважением   \\n \\n После 15 августа 2020 года...\n",
              "1         324.0  ...  Здравствуйте ! Проинформируйте , пожалуйста , ...\n",
              "2          57.0  ...  - - \\n Добрый день ! Меня , 30 . 07 . 1989г . ...\n",
              "3          45.0  ...  Добрый день . В согласно постановлению необход...\n",
              "4           3.0  ...  Здравствуйте , в моем городе введено ограничен...\n",
              "\n",
              "[5 rows x 4 columns]"
            ]
          },
          "metadata": {
            "tags": []
          },
          "execution_count": 47
        }
      ]
    },
    {
      "cell_type": "code",
      "metadata": {
        "id": "Kdt1y6fgR-cb"
      },
      "source": [
        "for_answers = answers[['Номер связки', 'Текст вопросов',\n",
        "                       'preprocess_natasha',\t'preprocess_deepmipt']]"
      ],
      "execution_count": 48,
      "outputs": []
    },
    {
      "cell_type": "code",
      "metadata": {
        "id": "n6Gw6oc9SJnW",
        "outputId": "1631e04a-0dac-422b-f8f0-bb3b9cf4174c",
        "colab": {
          "base_uri": "https://localhost:8080/",
          "height": 306
        }
      },
      "source": [
        "for_answers.head()"
      ],
      "execution_count": 49,
      "outputs": [
        {
          "output_type": "execute_result",
          "data": {
            "text/html": [
              "<div>\n",
              "<style scoped>\n",
              "    .dataframe tbody tr th:only-of-type {\n",
              "        vertical-align: middle;\n",
              "    }\n",
              "\n",
              "    .dataframe tbody tr th {\n",
              "        vertical-align: top;\n",
              "    }\n",
              "\n",
              "    .dataframe thead th {\n",
              "        text-align: right;\n",
              "    }\n",
              "</style>\n",
              "<table border=\"1\" class=\"dataframe\">\n",
              "  <thead>\n",
              "    <tr style=\"text-align: right;\">\n",
              "      <th></th>\n",
              "      <th>Номер связки</th>\n",
              "      <th>Текст вопросов</th>\n",
              "      <th>preprocess_natasha</th>\n",
              "      <th>preprocess_deepmipt</th>\n",
              "    </tr>\n",
              "  </thead>\n",
              "  <tbody>\n",
              "    <tr>\n",
              "      <th>0</th>\n",
              "      <td>57</td>\n",
              "      <td>У ребенка в школе продлили каникулы. Могу ли я...</td>\n",
              "      <td>У ребенка в школе продлили каникулы. Могу ли я...</td>\n",
              "      <td>У ребенка в школе продлили каникулы . Могу ли ...</td>\n",
              "    </tr>\n",
              "    <tr>\n",
              "      <th>1</th>\n",
              "      <td>78</td>\n",
              "      <td>Где сделать вакцинацию от коронавируса?\\nСущес...</td>\n",
              "      <td>Где сделать вакцинацию от коронавируса?\\nСущес...</td>\n",
              "      <td>Где сделать вакцинацию от коронавируса ? Сущес...</td>\n",
              "    </tr>\n",
              "    <tr>\n",
              "      <th>2</th>\n",
              "      <td>326</td>\n",
              "      <td>Сколько стоит сделать вакцину от гриппа?\\nМожн...</td>\n",
              "      <td>Сколько стоит сделать вакцину от гриппа?\\nМожн...</td>\n",
              "      <td>Сколько стоит сделать вакцину от гриппа ? Можн...</td>\n",
              "    </tr>\n",
              "    <tr>\n",
              "      <th>3</th>\n",
              "      <td>327</td>\n",
              "      <td>Могу я отказаться от вакцинации?\\nВ каких случ...</td>\n",
              "      <td>Могу я отказаться от вакцинации?\\nВ каких случ...</td>\n",
              "      <td>Могу я отказаться от вакцинации ? В каких случ...</td>\n",
              "    </tr>\n",
              "    <tr>\n",
              "      <th>4</th>\n",
              "      <td>328</td>\n",
              "      <td>Безопасна ли вакцинация?\\nОпасна ли вакцинация...</td>\n",
              "      <td>Безопасна ли вакцинация?\\nОпасна ли вакцинация...</td>\n",
              "      <td>Безопасна ли вакцинация ? Опасна ли вакцинация...</td>\n",
              "    </tr>\n",
              "  </tbody>\n",
              "</table>\n",
              "</div>"
            ],
            "text/plain": [
              "   Номер связки  ...                                preprocess_deepmipt\n",
              "0            57  ...  У ребенка в школе продлили каникулы . Могу ли ...\n",
              "1            78  ...  Где сделать вакцинацию от коронавируса ? Сущес...\n",
              "2           326  ...  Сколько стоит сделать вакцину от гриппа ? Можн...\n",
              "3           327  ...  Могу я отказаться от вакцинации ? В каких случ...\n",
              "4           328  ...  Безопасна ли вакцинация ? Опасна ли вакцинация...\n",
              "\n",
              "[5 rows x 4 columns]"
            ]
          },
          "metadata": {
            "tags": []
          },
          "execution_count": 49
        }
      ]
    },
    {
      "cell_type": "code",
      "metadata": {
        "id": "G8jxEWqrSYtu"
      },
      "source": [
        "from sklearn.model_selection import train_test_split\n",
        "\n",
        "RANDOM_STATE = 350\n",
        "\n",
        "train_df, test = train_test_split(for_queries, test_size=0.3,\n",
        "                               random_state=RANDOM_STATE)"
      ],
      "execution_count": 50,
      "outputs": []
    },
    {
      "cell_type": "code",
      "metadata": {
        "id": "VMieu_9VTNfR",
        "outputId": "dde4609a-9ec0-40c1-f2c2-7f499a4e64d2",
        "colab": {
          "base_uri": "https://localhost:8080/",
          "height": 306
        }
      },
      "source": [
        "train_df.head()"
      ],
      "execution_count": 52,
      "outputs": [
        {
          "output_type": "execute_result",
          "data": {
            "text/html": [
              "<div>\n",
              "<style scoped>\n",
              "    .dataframe tbody tr th:only-of-type {\n",
              "        vertical-align: middle;\n",
              "    }\n",
              "\n",
              "    .dataframe tbody tr th {\n",
              "        vertical-align: top;\n",
              "    }\n",
              "\n",
              "    .dataframe thead th {\n",
              "        text-align: right;\n",
              "    }\n",
              "</style>\n",
              "<table border=\"1\" class=\"dataframe\">\n",
              "  <thead>\n",
              "    <tr style=\"text-align: right;\">\n",
              "      <th></th>\n",
              "      <th>Номер связки</th>\n",
              "      <th>Текст вопросов</th>\n",
              "      <th>preprocess_natasha</th>\n",
              "      <th>preprocess_deepmipt</th>\n",
              "    </tr>\n",
              "  </thead>\n",
              "  <tbody>\n",
              "    <tr>\n",
              "      <th>1303</th>\n",
              "      <td>132.0</td>\n",
              "      <td>Здравствуйте.Мой муж заболел (1960 г. сердечни...</td>\n",
              "      <td>Здравствуйте.Мой муж заболел (1960 г. сердечни...</td>\n",
              "      <td>Здравствуйте . Мой муж заболел ( 1960 г . серд...</td>\n",
              "    </tr>\n",
              "    <tr>\n",
              "      <th>23</th>\n",
              "      <td>286.0</td>\n",
              "      <td>Здравствуйте,  в магазине Хлеб Соль в городе Б...</td>\n",
              "      <td>Здравствуйте,  в магазине  в городе  двое сотр...</td>\n",
              "      <td>Здравствуйте ,   в магазине в городе двое сотр...</td>\n",
              "    </tr>\n",
              "    <tr>\n",
              "      <th>2055</th>\n",
              "      <td>1.0</td>\n",
              "      <td>Добрый день. Я, Медведовский Михаил Дмитриевич...</td>\n",
              "      <td>Добрый день. Я, Медведовский , и у моя жена, ,...</td>\n",
              "      <td>Добрый день . Я , , и у моя жена , , 18 . 08 ....</td>\n",
              "    </tr>\n",
              "    <tr>\n",
              "      <th>1800</th>\n",
              "      <td>1.0</td>\n",
              "      <td>---------- Forwarded message ---------\\n\\nОт: ...</td>\n",
              "      <td>---------- Forwarded message ---------\\n\\nОт: ...</td>\n",
              "      <td>- - - - - - - - - - Forwarded message - - - - ...</td>\n",
              "    </tr>\n",
              "    <tr>\n",
              "      <th>1967</th>\n",
              "      <td>1.0</td>\n",
              "      <td>Добрый день!\\n27.08.2020 мной был сдан тест на...</td>\n",
              "      <td>Добрый день!\\n27.08.2020 мной был сдан тест на...</td>\n",
              "      <td>Добрый день ! 27 . 08 . 2020 мной был сдан тес...</td>\n",
              "    </tr>\n",
              "  </tbody>\n",
              "</table>\n",
              "</div>"
            ],
            "text/plain": [
              "      Номер связки  ...                                preprocess_deepmipt\n",
              "1303         132.0  ...  Здравствуйте . Мой муж заболел ( 1960 г . серд...\n",
              "23           286.0  ...  Здравствуйте ,   в магазине в городе двое сотр...\n",
              "2055           1.0  ...  Добрый день . Я , , и у моя жена , , 18 . 08 ....\n",
              "1800           1.0  ...  - - - - - - - - - - Forwarded message - - - - ...\n",
              "1967           1.0  ...  Добрый день ! 27 . 08 . 2020 мной был сдан тес...\n",
              "\n",
              "[5 rows x 4 columns]"
            ]
          },
          "metadata": {
            "tags": []
          },
          "execution_count": 52
        }
      ]
    },
    {
      "cell_type": "code",
      "metadata": {
        "id": "Ai1N9btmTQV4",
        "outputId": "9f850f7c-1704-4e7d-cf7a-d9440997b216",
        "colab": {
          "base_uri": "https://localhost:8080/",
          "height": 306
        }
      },
      "source": [
        "test.head()"
      ],
      "execution_count": 53,
      "outputs": [
        {
          "output_type": "execute_result",
          "data": {
            "text/html": [
              "<div>\n",
              "<style scoped>\n",
              "    .dataframe tbody tr th:only-of-type {\n",
              "        vertical-align: middle;\n",
              "    }\n",
              "\n",
              "    .dataframe tbody tr th {\n",
              "        vertical-align: top;\n",
              "    }\n",
              "\n",
              "    .dataframe thead th {\n",
              "        text-align: right;\n",
              "    }\n",
              "</style>\n",
              "<table border=\"1\" class=\"dataframe\">\n",
              "  <thead>\n",
              "    <tr style=\"text-align: right;\">\n",
              "      <th></th>\n",
              "      <th>Номер связки</th>\n",
              "      <th>Текст вопросов</th>\n",
              "      <th>preprocess_natasha</th>\n",
              "      <th>preprocess_deepmipt</th>\n",
              "    </tr>\n",
              "  </thead>\n",
              "  <tbody>\n",
              "    <tr>\n",
              "      <th>2108</th>\n",
              "      <td>1.0</td>\n",
              "      <td>Добрый день!\\nСегодня ребенка не допустили к з...</td>\n",
              "      <td>Добрый день!\\nСегодня ребенка не допустили к з...</td>\n",
              "      <td>Добрый день ! Сегодня ребенка не допустили к з...</td>\n",
              "    </tr>\n",
              "    <tr>\n",
              "      <th>913</th>\n",
              "      <td>308.0</td>\n",
              "      <td>Здравствуйте, по правилам и предписаниям, необ...</td>\n",
              "      <td>Здравствуйте, по правилам и предписаниям, необ...</td>\n",
              "      <td>Здравствуйте , по правилам и предписаниям , не...</td>\n",
              "    </tr>\n",
              "    <tr>\n",
              "      <th>2189</th>\n",
              "      <td>79.0</td>\n",
              "      <td>Здравствуйте! Хотела узнать стоит ли мне обрат...</td>\n",
              "      <td>Здравствуйте! Хотела узнать стоит ли мне обрат...</td>\n",
              "      <td>Здравствуйте ! Хотела узнать стоит ли мне обра...</td>\n",
              "    </tr>\n",
              "    <tr>\n",
              "      <th>1438</th>\n",
              "      <td>308.0</td>\n",
              "      <td>Доброе утро!\\n\\n\\n\\nПросьба сообщить, обязан л...</td>\n",
              "      <td>Доброе утро!\\n\\n\\n\\nПросьба сообщить, обязан л...</td>\n",
              "      <td>Доброе утро ! Просьба сообщить , обязан ли я с...</td>\n",
              "    </tr>\n",
              "    <tr>\n",
              "      <th>2178</th>\n",
              "      <td>257.0</td>\n",
              "      <td>Здравствуйте! Мы живём в городе Истра, моей ма...</td>\n",
              "      <td>Здравствуйте! Мы живём в городе , моей маме 67...</td>\n",
              "      <td>Здравствуйте ! Мы живём в городе , моей маме 6...</td>\n",
              "    </tr>\n",
              "  </tbody>\n",
              "</table>\n",
              "</div>"
            ],
            "text/plain": [
              "      Номер связки  ...                                preprocess_deepmipt\n",
              "2108           1.0  ...  Добрый день ! Сегодня ребенка не допустили к з...\n",
              "913          308.0  ...  Здравствуйте , по правилам и предписаниям , не...\n",
              "2189          79.0  ...  Здравствуйте ! Хотела узнать стоит ли мне обра...\n",
              "1438         308.0  ...  Доброе утро ! Просьба сообщить , обязан ли я с...\n",
              "2178         257.0  ...  Здравствуйте ! Мы живём в городе , моей маме 6...\n",
              "\n",
              "[5 rows x 4 columns]"
            ]
          },
          "metadata": {
            "tags": []
          },
          "execution_count": 53
        }
      ]
    },
    {
      "cell_type": "code",
      "metadata": {
        "id": "hro3CRFETdPw"
      },
      "source": [
        "train = pd.concat([for_answers, train_df])"
      ],
      "execution_count": 54,
      "outputs": []
    },
    {
      "cell_type": "code",
      "metadata": {
        "id": "JcpVKnDpUOx4",
        "outputId": "ef4b6069-d361-41c7-d4b9-edca072a6553",
        "colab": {
          "base_uri": "https://localhost:8080/",
          "height": 51
        }
      },
      "source": [
        "!pip install --quiet pymorphy2[fast]"
      ],
      "execution_count": 56,
      "outputs": [
        {
          "output_type": "stream",
          "text": [
            "\u001b[?25l\r\u001b[K     |▉                               | 10kB 22.1MB/s eta 0:00:01\r\u001b[K     |█▊                              | 20kB 1.8MB/s eta 0:00:01\r\u001b[K     |██▋                             | 30kB 2.2MB/s eta 0:00:01\r\u001b[K     |███▌                            | 40kB 2.4MB/s eta 0:00:01\r\u001b[K     |████▍                           | 51kB 2.0MB/s eta 0:00:01\r\u001b[K     |█████▎                          | 61kB 2.3MB/s eta 0:00:01\r\u001b[K     |██████▏                         | 71kB 2.5MB/s eta 0:00:01\r\u001b[K     |███████                         | 81kB 2.7MB/s eta 0:00:01\r\u001b[K     |████████                        | 92kB 2.9MB/s eta 0:00:01\r\u001b[K     |████████▉                       | 102kB 2.8MB/s eta 0:00:01\r\u001b[K     |█████████▊                      | 112kB 2.8MB/s eta 0:00:01\r\u001b[K     |██████████▋                     | 122kB 2.8MB/s eta 0:00:01\r\u001b[K     |███████████▌                    | 133kB 2.8MB/s eta 0:00:01\r\u001b[K     |████████████▍                   | 143kB 2.8MB/s eta 0:00:01\r\u001b[K     |█████████████▎                  | 153kB 2.8MB/s eta 0:00:01\r\u001b[K     |██████████████▏                 | 163kB 2.8MB/s eta 0:00:01\r\u001b[K     |███████████████                 | 174kB 2.8MB/s eta 0:00:01\r\u001b[K     |████████████████                | 184kB 2.8MB/s eta 0:00:01\r\u001b[K     |████████████████▉               | 194kB 2.8MB/s eta 0:00:01\r\u001b[K     |█████████████████▋              | 204kB 2.8MB/s eta 0:00:01\r\u001b[K     |██████████████████▌             | 215kB 2.8MB/s eta 0:00:01\r\u001b[K     |███████████████████▍            | 225kB 2.8MB/s eta 0:00:01\r\u001b[K     |████████████████████▎           | 235kB 2.8MB/s eta 0:00:01\r\u001b[K     |█████████████████████▏          | 245kB 2.8MB/s eta 0:00:01\r\u001b[K     |██████████████████████          | 256kB 2.8MB/s eta 0:00:01\r\u001b[K     |███████████████████████         | 266kB 2.8MB/s eta 0:00:01\r\u001b[K     |███████████████████████▉        | 276kB 2.8MB/s eta 0:00:01\r\u001b[K     |████████████████████████▊       | 286kB 2.8MB/s eta 0:00:01\r\u001b[K     |█████████████████████████▋      | 296kB 2.8MB/s eta 0:00:01\r\u001b[K     |██████████████████████████▌     | 307kB 2.8MB/s eta 0:00:01\r\u001b[K     |███████████████████████████▍    | 317kB 2.8MB/s eta 0:00:01\r\u001b[K     |████████████████████████████▎   | 327kB 2.8MB/s eta 0:00:01\r\u001b[K     |█████████████████████████████▏  | 337kB 2.8MB/s eta 0:00:01\r\u001b[K     |██████████████████████████████  | 348kB 2.8MB/s eta 0:00:01\r\u001b[K     |███████████████████████████████ | 358kB 2.8MB/s eta 0:00:01\r\u001b[K     |███████████████████████████████▉| 368kB 2.8MB/s eta 0:00:01\r\u001b[K     |████████████████████████████████| 378kB 2.8MB/s \n",
            "\u001b[?25h  Building wheel for DAWG (setup.py) ... \u001b[?25l\u001b[?25hdone\n"
          ],
          "name": "stdout"
        }
      ]
    },
    {
      "cell_type": "code",
      "metadata": {
        "id": "mx_4_9e2UG8z"
      },
      "source": [
        "from pymorphy2 import MorphAnalyzer\n",
        "\n",
        "\n",
        "morph = MorphAnalyzer()"
      ],
      "execution_count": 57,
      "outputs": []
    },
    {
      "cell_type": "code",
      "metadata": {
        "id": "iKICs1EvUaCt"
      },
      "source": [
        "def preprocessing(data):\n",
        "    data2 = []\n",
        "    cnt = 0\n",
        "    for v in data:\n",
        "        strng = ''\n",
        "        line = \"\".join(l for l in str(v) if l not in (\n",
        "            '.', ',', '?', '!', ':', ';', '—', '--', '<', '>', '\"', '(', ')'))\n",
        "        for word in line.split():\n",
        "            word = re.sub(r'\\ufeff', '', word)\n",
        "            wrd = morph.parse(word)[0]\n",
        "            strng += wrd.normal_form + ' '\n",
        "        data2.append(strng)\n",
        "    return data2"
      ],
      "execution_count": 58,
      "outputs": []
    },
    {
      "cell_type": "code",
      "metadata": {
        "id": "hblUqk-sUf0w",
        "outputId": "0c281f05-d5ac-4a60-ecce-9251d7c9ea21",
        "colab": {
          "base_uri": "https://localhost:8080/",
          "height": 66,
          "referenced_widgets": [
            "821a310732a140f9a4fb82f4794d670e",
            "6ff241a44b3d4b30b75e1efca08b29ea",
            "baf198b1c97d45549e4fcd2259d63b78",
            "cd35903e69e94fb28ba807186b27ea23",
            "e6b4d07570724afbbbed62d7cd269df3",
            "e7e28a0a379346fb9bb89b698510e364",
            "183707d5b17f4afa80b6b65956bfe831",
            "e86e0ad0012a4a0b9137680fe9a48d96"
          ]
        }
      },
      "source": [
        "lemm_text = preprocessing(tqdm(train['Текст вопросов']))\n",
        "train['вопросы_препроцессинговые'] = lemm_text"
      ],
      "execution_count": 61,
      "outputs": [
        {
          "output_type": "display_data",
          "data": {
            "application/vnd.jupyter.widget-view+json": {
              "model_id": "821a310732a140f9a4fb82f4794d670e",
              "version_minor": 0,
              "version_major": 2
            },
            "text/plain": [
              "HBox(children=(FloatProgress(value=0.0, max=1652.0), HTML(value='')))"
            ]
          },
          "metadata": {
            "tags": []
          }
        },
        {
          "output_type": "stream",
          "text": [
            "\n"
          ],
          "name": "stdout"
        }
      ]
    },
    {
      "cell_type": "code",
      "metadata": {
        "id": "dQaUw4rnU3aU",
        "outputId": "c61e3859-68f3-4054-db12-6b3321d0ce97",
        "colab": {
          "base_uri": "https://localhost:8080/",
          "height": 66,
          "referenced_widgets": [
            "0b8878ce5dc84ab48aaac40187f65cb5",
            "361647da36cb4b05879afacd81150a1b",
            "1ca7d59cacbb4858a5e182c7e406e457",
            "1a1c33d109e544da91ad4549b8ab370b",
            "ffc2ce1bda0348909797f8800b83a14f",
            "8980f7e858dd46a7849b8a1417b0e696",
            "b6d627847b42416e8c5fffab3e3cdca7",
            "17f9ab837b97479b81b463fd26ace879"
          ]
        }
      },
      "source": [
        "lemm_text2 = preprocessing(tqdm(train['preprocess_natasha']))\n",
        "train['natasha'] = lemm_text2"
      ],
      "execution_count": 62,
      "outputs": [
        {
          "output_type": "display_data",
          "data": {
            "application/vnd.jupyter.widget-view+json": {
              "model_id": "0b8878ce5dc84ab48aaac40187f65cb5",
              "version_minor": 0,
              "version_major": 2
            },
            "text/plain": [
              "HBox(children=(FloatProgress(value=0.0, max=1652.0), HTML(value='')))"
            ]
          },
          "metadata": {
            "tags": []
          }
        },
        {
          "output_type": "stream",
          "text": [
            "\n"
          ],
          "name": "stdout"
        }
      ]
    },
    {
      "cell_type": "code",
      "metadata": {
        "id": "KHI5vS_vVFBJ",
        "outputId": "bc0b2c60-6139-4c3a-daaa-46df25a0db2a",
        "colab": {
          "base_uri": "https://localhost:8080/",
          "height": 66,
          "referenced_widgets": [
            "c75c90c2a9984e79addec8e8111ec77f",
            "75198a6f5afc49c493dfec814db6fa37",
            "29ce1b88d52c4fc8a48442f70564314f",
            "2def057ed4b544599a11c1c3c49642ea",
            "73c5255c17394e7ca1fc30260250fb15",
            "54dbc38d146f41a2a0d4bb6992fdf6e7",
            "42cdda959b324919a3f44f6336f59a02",
            "64b2f22d84bd49cba9e922ce133fe343"
          ]
        }
      },
      "source": [
        "lemm_text3 = preprocessing(tqdm(train['preprocess_deepmipt']))\n",
        "train['deeppavlov'] = lemm_text3"
      ],
      "execution_count": 63,
      "outputs": [
        {
          "output_type": "display_data",
          "data": {
            "application/vnd.jupyter.widget-view+json": {
              "model_id": "c75c90c2a9984e79addec8e8111ec77f",
              "version_minor": 0,
              "version_major": 2
            },
            "text/plain": [
              "HBox(children=(FloatProgress(value=0.0, max=1652.0), HTML(value='')))"
            ]
          },
          "metadata": {
            "tags": []
          }
        },
        {
          "output_type": "stream",
          "text": [
            "\n"
          ],
          "name": "stdout"
        }
      ]
    },
    {
      "cell_type": "code",
      "metadata": {
        "id": "bU3RnnhCWDjX",
        "outputId": "fd510dfc-eeb6-4c18-c346-8bfd2bd149ef",
        "colab": {
          "base_uri": "https://localhost:8080/",
          "height": 493
        }
      },
      "source": [
        "train.head()"
      ],
      "execution_count": 64,
      "outputs": [
        {
          "output_type": "execute_result",
          "data": {
            "text/html": [
              "<div>\n",
              "<style scoped>\n",
              "    .dataframe tbody tr th:only-of-type {\n",
              "        vertical-align: middle;\n",
              "    }\n",
              "\n",
              "    .dataframe tbody tr th {\n",
              "        vertical-align: top;\n",
              "    }\n",
              "\n",
              "    .dataframe thead th {\n",
              "        text-align: right;\n",
              "    }\n",
              "</style>\n",
              "<table border=\"1\" class=\"dataframe\">\n",
              "  <thead>\n",
              "    <tr style=\"text-align: right;\">\n",
              "      <th></th>\n",
              "      <th>Номер связки</th>\n",
              "      <th>Текст вопросов</th>\n",
              "      <th>preprocess_natasha</th>\n",
              "      <th>preprocess_deepmipt</th>\n",
              "      <th>вопросы_препроцессинговые</th>\n",
              "      <th>natasha</th>\n",
              "      <th>deeppavlov</th>\n",
              "    </tr>\n",
              "  </thead>\n",
              "  <tbody>\n",
              "    <tr>\n",
              "      <th>0</th>\n",
              "      <td>57.0</td>\n",
              "      <td>У ребенка в школе продлили каникулы. Могу ли я...</td>\n",
              "      <td>У ребенка в школе продлили каникулы. Могу ли я...</td>\n",
              "      <td>У ребенка в школе продлили каникулы . Могу ли ...</td>\n",
              "      <td>у ребёнок в школа продлить каникулы мочь ли я ...</td>\n",
              "      <td>у ребёнок в школа продлить каникулы мочь ли я ...</td>\n",
              "      <td>у ребёнок в школа продлить каникулы мочь ли я ...</td>\n",
              "    </tr>\n",
              "    <tr>\n",
              "      <th>1</th>\n",
              "      <td>78.0</td>\n",
              "      <td>Где сделать вакцинацию от коронавируса?\\nСущес...</td>\n",
              "      <td>Где сделать вакцинацию от коронавируса?\\nСущес...</td>\n",
              "      <td>Где сделать вакцинацию от коронавируса ? Сущес...</td>\n",
              "      <td>где сделать вакцинация от коронавирус существо...</td>\n",
              "      <td>где сделать вакцинация от коронавирус существо...</td>\n",
              "      <td>где сделать вакцинация от коронавирус существо...</td>\n",
              "    </tr>\n",
              "    <tr>\n",
              "      <th>2</th>\n",
              "      <td>326.0</td>\n",
              "      <td>Сколько стоит сделать вакцину от гриппа?\\nМожн...</td>\n",
              "      <td>Сколько стоит сделать вакцину от гриппа?\\nМожн...</td>\n",
              "      <td>Сколько стоит сделать вакцину от гриппа ? Можн...</td>\n",
              "      <td>сколько стоить сделать вакцина от грипп можно ...</td>\n",
              "      <td>сколько стоить сделать вакцина от грипп можно ...</td>\n",
              "      <td>сколько стоить сделать вакцина от грипп можно ...</td>\n",
              "    </tr>\n",
              "    <tr>\n",
              "      <th>3</th>\n",
              "      <td>327.0</td>\n",
              "      <td>Могу я отказаться от вакцинации?\\nВ каких случ...</td>\n",
              "      <td>Могу я отказаться от вакцинации?\\nВ каких случ...</td>\n",
              "      <td>Могу я отказаться от вакцинации ? В каких случ...</td>\n",
              "      <td>мочь я отказаться от вакцинация в какой случай...</td>\n",
              "      <td>мочь я отказаться от вакцинация в какой случай...</td>\n",
              "      <td>мочь я отказаться от вакцинация в какой случай...</td>\n",
              "    </tr>\n",
              "    <tr>\n",
              "      <th>4</th>\n",
              "      <td>328.0</td>\n",
              "      <td>Безопасна ли вакцинация?\\nОпасна ли вакцинация...</td>\n",
              "      <td>Безопасна ли вакцинация?\\nОпасна ли вакцинация...</td>\n",
              "      <td>Безопасна ли вакцинация ? Опасна ли вакцинация...</td>\n",
              "      <td>безопасный ли вакцинация опасный ли вакцинация...</td>\n",
              "      <td>безопасный ли вакцинация опасный ли вакцинация...</td>\n",
              "      <td>безопасный ли вакцинация опасный ли вакцинация...</td>\n",
              "    </tr>\n",
              "  </tbody>\n",
              "</table>\n",
              "</div>"
            ],
            "text/plain": [
              "   Номер связки  ...                                         deeppavlov\n",
              "0          57.0  ...  у ребёнок в школа продлить каникулы мочь ли я ...\n",
              "1          78.0  ...  где сделать вакцинация от коронавирус существо...\n",
              "2         326.0  ...  сколько стоить сделать вакцина от грипп можно ...\n",
              "3         327.0  ...  мочь я отказаться от вакцинация в какой случай...\n",
              "4         328.0  ...  безопасный ли вакцинация опасный ли вакцинация...\n",
              "\n",
              "[5 rows x 7 columns]"
            ]
          },
          "metadata": {
            "tags": []
          },
          "execution_count": 64
        }
      ]
    },
    {
      "cell_type": "code",
      "metadata": {
        "id": "SN9a9s61WFkY",
        "outputId": "f79637b6-defe-4519-b5f6-b10931ed13cf",
        "colab": {
          "base_uri": "https://localhost:8080/",
          "height": 188,
          "referenced_widgets": [
            "6a0f52d8717146a59e2a9dc1f125a619",
            "99ca3d1bc15a4f17bbf754e7da66c199",
            "fe5e2e6163264fdbbc4f4076db691df0",
            "dd696bd0d3ed499a892ab9c9354eb82a",
            "ab9ddaee760040d7bbfe7a40e3311ad0",
            "197849ed51084f86956eba357b14b662",
            "eb48695116524b1584f6ceb09d0577a6",
            "5ae87c5fa5fa402794b3b0731810c3dc"
          ]
        }
      },
      "source": [
        "lemm_text4 = preprocessing(tqdm(test['Текст вопросов']))\n",
        "test['вопросы_препроцессинговые'] = lemm_text4"
      ],
      "execution_count": 65,
      "outputs": [
        {
          "output_type": "display_data",
          "data": {
            "application/vnd.jupyter.widget-view+json": {
              "model_id": "6a0f52d8717146a59e2a9dc1f125a619",
              "version_minor": 0,
              "version_major": 2
            },
            "text/plain": [
              "HBox(children=(FloatProgress(value=0.0, max=690.0), HTML(value='')))"
            ]
          },
          "metadata": {
            "tags": []
          }
        },
        {
          "output_type": "stream",
          "text": [
            "\n"
          ],
          "name": "stdout"
        },
        {
          "output_type": "stream",
          "text": [
            "/usr/local/lib/python3.6/dist-packages/ipykernel_launcher.py:2: SettingWithCopyWarning: \n",
            "A value is trying to be set on a copy of a slice from a DataFrame.\n",
            "Try using .loc[row_indexer,col_indexer] = value instead\n",
            "\n",
            "See the caveats in the documentation: https://pandas.pydata.org/pandas-docs/stable/user_guide/indexing.html#returning-a-view-versus-a-copy\n",
            "  \n"
          ],
          "name": "stderr"
        }
      ]
    },
    {
      "cell_type": "code",
      "metadata": {
        "id": "K-4fBi__WPTC",
        "outputId": "44e4155b-82fa-48fc-e98f-39314cac8565",
        "colab": {
          "base_uri": "https://localhost:8080/",
          "height": 188,
          "referenced_widgets": [
            "ea3378ace1f0422eb4d3379936df099f",
            "bee18c3f466b454a95fe40ba07f44d34",
            "8145efb1edb748bda6ec53939bf788f6",
            "892cb21b315b44129ebd4b1c43f45abb",
            "410bd557686f46089636d84fd2b83b2b",
            "598e64e376134264be465b0e0e029a6d",
            "422b08b08b714d169b037af6b787da07",
            "fe07c89ccd7e4d41946b5949ed20a560"
          ]
        }
      },
      "source": [
        "lemm_text5 = preprocessing(tqdm(test['preprocess_natasha']))\n",
        "test['natasha'] = lemm_text5"
      ],
      "execution_count": 66,
      "outputs": [
        {
          "output_type": "display_data",
          "data": {
            "application/vnd.jupyter.widget-view+json": {
              "model_id": "ea3378ace1f0422eb4d3379936df099f",
              "version_minor": 0,
              "version_major": 2
            },
            "text/plain": [
              "HBox(children=(FloatProgress(value=0.0, max=690.0), HTML(value='')))"
            ]
          },
          "metadata": {
            "tags": []
          }
        },
        {
          "output_type": "stream",
          "text": [
            "\n"
          ],
          "name": "stdout"
        },
        {
          "output_type": "stream",
          "text": [
            "/usr/local/lib/python3.6/dist-packages/ipykernel_launcher.py:2: SettingWithCopyWarning: \n",
            "A value is trying to be set on a copy of a slice from a DataFrame.\n",
            "Try using .loc[row_indexer,col_indexer] = value instead\n",
            "\n",
            "See the caveats in the documentation: https://pandas.pydata.org/pandas-docs/stable/user_guide/indexing.html#returning-a-view-versus-a-copy\n",
            "  \n"
          ],
          "name": "stderr"
        }
      ]
    },
    {
      "cell_type": "code",
      "metadata": {
        "id": "9DGmLXlOWXMZ",
        "outputId": "3c07a3e2-6339-4532-de3f-8b76c631d443",
        "colab": {
          "base_uri": "https://localhost:8080/",
          "height": 188,
          "referenced_widgets": [
            "83bd6daed2e4458884ac3ddd0733da77",
            "7bce45a21f184ae890cd875acf4031f8",
            "e2e968284e554265a6d8349308e9e050",
            "d65594da48874fef8083545628bdae93",
            "41c1e42bcfab466281586ed7861025db",
            "46ce6278ffb24c018b8003c002cb0b5e",
            "00f7350f5b1a4ca893cae560dfbbc0b0",
            "8fd2f3dce1804560a01faf83c2b0a557"
          ]
        }
      },
      "source": [
        "lemm_text6 = preprocessing(tqdm(test['preprocess_deepmipt']))\n",
        "test['deeppavlov'] = lemm_text6"
      ],
      "execution_count": 67,
      "outputs": [
        {
          "output_type": "display_data",
          "data": {
            "application/vnd.jupyter.widget-view+json": {
              "model_id": "83bd6daed2e4458884ac3ddd0733da77",
              "version_minor": 0,
              "version_major": 2
            },
            "text/plain": [
              "HBox(children=(FloatProgress(value=0.0, max=690.0), HTML(value='')))"
            ]
          },
          "metadata": {
            "tags": []
          }
        },
        {
          "output_type": "stream",
          "text": [
            "\n"
          ],
          "name": "stdout"
        },
        {
          "output_type": "stream",
          "text": [
            "/usr/local/lib/python3.6/dist-packages/ipykernel_launcher.py:2: SettingWithCopyWarning: \n",
            "A value is trying to be set on a copy of a slice from a DataFrame.\n",
            "Try using .loc[row_indexer,col_indexer] = value instead\n",
            "\n",
            "See the caveats in the documentation: https://pandas.pydata.org/pandas-docs/stable/user_guide/indexing.html#returning-a-view-versus-a-copy\n",
            "  \n"
          ],
          "name": "stderr"
        }
      ]
    },
    {
      "cell_type": "code",
      "metadata": {
        "id": "bF9z--etWdnr",
        "outputId": "87028d22-27c1-404c-b592-392f699342a0",
        "colab": {
          "base_uri": "https://localhost:8080/",
          "height": 527
        }
      },
      "source": [
        "test.head()"
      ],
      "execution_count": 68,
      "outputs": [
        {
          "output_type": "execute_result",
          "data": {
            "text/html": [
              "<div>\n",
              "<style scoped>\n",
              "    .dataframe tbody tr th:only-of-type {\n",
              "        vertical-align: middle;\n",
              "    }\n",
              "\n",
              "    .dataframe tbody tr th {\n",
              "        vertical-align: top;\n",
              "    }\n",
              "\n",
              "    .dataframe thead th {\n",
              "        text-align: right;\n",
              "    }\n",
              "</style>\n",
              "<table border=\"1\" class=\"dataframe\">\n",
              "  <thead>\n",
              "    <tr style=\"text-align: right;\">\n",
              "      <th></th>\n",
              "      <th>Номер связки</th>\n",
              "      <th>Текст вопросов</th>\n",
              "      <th>preprocess_natasha</th>\n",
              "      <th>preprocess_deepmipt</th>\n",
              "      <th>вопросы_препроцессинговые</th>\n",
              "      <th>natasha</th>\n",
              "      <th>deeppavlov</th>\n",
              "    </tr>\n",
              "  </thead>\n",
              "  <tbody>\n",
              "    <tr>\n",
              "      <th>2108</th>\n",
              "      <td>1.0</td>\n",
              "      <td>Добрый день!\\nСегодня ребенка не допустили к з...</td>\n",
              "      <td>Добрый день!\\nСегодня ребенка не допустили к з...</td>\n",
              "      <td>Добрый день ! Сегодня ребенка не допустили к з...</td>\n",
              "      <td>добрый день сегодня ребёнок не допустить к зан...</td>\n",
              "      <td>добрый день сегодня ребёнок не допустить к зан...</td>\n",
              "      <td>добрый день сегодня ребёнок не допустить к зан...</td>\n",
              "    </tr>\n",
              "    <tr>\n",
              "      <th>913</th>\n",
              "      <td>308.0</td>\n",
              "      <td>Здравствуйте, по правилам и предписаниям, необ...</td>\n",
              "      <td>Здравствуйте, по правилам и предписаниям, необ...</td>\n",
              "      <td>Здравствуйте , по правилам и предписаниям , не...</td>\n",
              "      <td>здравствуйте по правило и предписание необходи...</td>\n",
              "      <td>здравствуйте по правило и предписание необходи...</td>\n",
              "      <td>здравствуйте по правило и предписание необходи...</td>\n",
              "    </tr>\n",
              "    <tr>\n",
              "      <th>2189</th>\n",
              "      <td>79.0</td>\n",
              "      <td>Здравствуйте! Хотела узнать стоит ли мне обрат...</td>\n",
              "      <td>Здравствуйте! Хотела узнать стоит ли мне обрат...</td>\n",
              "      <td>Здравствуйте ! Хотела узнать стоит ли мне обра...</td>\n",
              "      <td>здравствуйте хотеть узнать стоить ли я обратит...</td>\n",
              "      <td>здравствуйте хотеть узнать стоить ли я обратит...</td>\n",
              "      <td>здравствуйте хотеть узнать стоить ли я обратит...</td>\n",
              "    </tr>\n",
              "    <tr>\n",
              "      <th>1438</th>\n",
              "      <td>308.0</td>\n",
              "      <td>Доброе утро!\\n\\n\\n\\nПросьба сообщить, обязан л...</td>\n",
              "      <td>Доброе утро!\\n\\n\\n\\nПросьба сообщить, обязан л...</td>\n",
              "      <td>Доброе утро ! Просьба сообщить , обязан ли я с...</td>\n",
              "      <td>добрый утро просьба сообщить обязать ли я сдав...</td>\n",
              "      <td>добрый утро просьба сообщить обязать ли я сдав...</td>\n",
              "      <td>добрый утро просьба сообщить обязать ли я сдав...</td>\n",
              "    </tr>\n",
              "    <tr>\n",
              "      <th>2178</th>\n",
              "      <td>257.0</td>\n",
              "      <td>Здравствуйте! Мы живём в городе Истра, моей ма...</td>\n",
              "      <td>Здравствуйте! Мы живём в городе , моей маме 67...</td>\n",
              "      <td>Здравствуйте ! Мы живём в городе , моей маме 6...</td>\n",
              "      <td>здравствуйте мы жить в город истра мой мама 67...</td>\n",
              "      <td>здравствуйте мы жить в город мой мама 67 год и...</td>\n",
              "      <td>здравствуйте мы жить в город мой мама 67 год и...</td>\n",
              "    </tr>\n",
              "  </tbody>\n",
              "</table>\n",
              "</div>"
            ],
            "text/plain": [
              "      Номер связки  ...                                         deeppavlov\n",
              "2108           1.0  ...  добрый день сегодня ребёнок не допустить к зан...\n",
              "913          308.0  ...  здравствуйте по правило и предписание необходи...\n",
              "2189          79.0  ...  здравствуйте хотеть узнать стоить ли я обратит...\n",
              "1438         308.0  ...  добрый утро просьба сообщить обязать ли я сдав...\n",
              "2178         257.0  ...  здравствуйте мы жить в город мой мама 67 год и...\n",
              "\n",
              "[5 rows x 7 columns]"
            ]
          },
          "metadata": {
            "tags": []
          },
          "execution_count": 68
        }
      ]
    },
    {
      "cell_type": "markdown",
      "metadata": {
        "id": "f_dTE2VrzWSk"
      },
      "source": [
        "#### TF-IDF"
      ]
    },
    {
      "cell_type": "markdown",
      "metadata": {
        "id": "rUnMajEozYtD"
      },
      "source": [
        "##### preprocess_with_natasha"
      ]
    },
    {
      "cell_type": "code",
      "metadata": {
        "id": "J-M49gtIzbX8"
      },
      "source": [
        "from sklearn.feature_extraction.text import TfidfVectorizer\n",
        "import numpy as np\n",
        " \n",
        "# инициализируем\n",
        "vectorizer = TfidfVectorizer()"
      ],
      "execution_count": 69,
      "outputs": []
    },
    {
      "cell_type": "code",
      "metadata": {
        "id": "_JE6oPJPT0-P"
      },
      "source": [
        "X = vectorizer.fit_transform(train['natasha'].values.astype('U'))"
      ],
      "execution_count": 70,
      "outputs": []
    },
    {
      "cell_type": "code",
      "metadata": {
        "id": "vpqa_M42UEh_"
      },
      "source": [
        "matr_answers = X.toarray()"
      ],
      "execution_count": 71,
      "outputs": []
    },
    {
      "cell_type": "code",
      "metadata": {
        "id": "kZsmmHfLXBDA",
        "outputId": "3dac09a0-72fb-4590-9e57-2d95bfb90259",
        "colab": {
          "base_uri": "https://localhost:8080/",
          "height": 51
        }
      },
      "source": [
        "X"
      ],
      "execution_count": 72,
      "outputs": [
        {
          "output_type": "execute_result",
          "data": {
            "text/plain": [
              "<1652x6503 sparse matrix of type '<class 'numpy.float64'>'\n",
              "\twith 61892 stored elements in Compressed Sparse Row format>"
            ]
          },
          "metadata": {
            "tags": []
          },
          "execution_count": 72
        }
      ]
    },
    {
      "cell_type": "code",
      "metadata": {
        "id": "12ziCxnJWlrm"
      },
      "source": [
        "# эту функцию можно было и не использовать, в принципе,\n",
        "# но я опиралась на 2 домашку, поэтому решила оставить\n",
        "\n",
        "def preprocess_text(data):\n",
        "    strng = ''\n",
        "    line = re.sub(r'[\\.\\,?!:;—<>\\\"\\'()@#$\\*+=]', '', str(data))\n",
        "    for word in line.split():\n",
        "        wrd = morph.parse(word)[0]\n",
        "        strng += wrd.normal_form + ' '\n",
        "    return strng"
      ],
      "execution_count": 73,
      "outputs": []
    },
    {
      "cell_type": "code",
      "metadata": {
        "id": "I5VV_rzDWqU7"
      },
      "source": [
        "def text_to_vec(text, vectorizer, matr):\n",
        "    txt = preprocess_text(text)\n",
        "    new_doc = vectorizer.transform([txt]).toarray()\n",
        "    new_matr = matr.dot(new_doc[0])\n",
        "    return new_matr"
      ],
      "execution_count": 74,
      "outputs": []
    },
    {
      "cell_type": "code",
      "metadata": {
        "id": "C38Ax951WwfS"
      },
      "source": [
        "n_conn = train['Номер связки'].tolist()"
      ],
      "execution_count": 75,
      "outputs": []
    },
    {
      "cell_type": "code",
      "metadata": {
        "id": "aBABmt4xW3Q8"
      },
      "source": [
        "import operator"
      ],
      "execution_count": 76,
      "outputs": []
    },
    {
      "cell_type": "code",
      "metadata": {
        "id": "74pGHnpCW5XZ"
      },
      "source": [
        "def ranging_simple(text):\n",
        "    \n",
        "    dict_texts = {}\n",
        "\n",
        "    cnt = 0\n",
        "    for x in np.nditer(text):\n",
        "        dict_texts[n_conn[cnt]] = float(x)\n",
        "        cnt += 1\n",
        "\n",
        "    new_dict = sorted(dict_texts.items(),\n",
        "                      key=operator.itemgetter(1), reverse=True)\n",
        "    first = []\n",
        "    for k in new_dict:\n",
        "        first.append(k[0])\n",
        "\n",
        "    return first[0]"
      ],
      "execution_count": 77,
      "outputs": []
    },
    {
      "cell_type": "code",
      "metadata": {
        "id": "EPPzqUarW79E",
        "outputId": "72435a54-5872-4531-dde8-70eb95850099",
        "colab": {
          "base_uri": "https://localhost:8080/",
          "height": 66,
          "referenced_widgets": [
            "b994e84c3cb042ca9eaf9154cb877aa1",
            "1320f4966480416dac9d27af75ec667c",
            "b811cb052a9a4301a171b4fe0a420a98",
            "1eb21816bced43e1bbfd16727fa60203",
            "5930b9c488a04cdfacec3a57fd99ae15",
            "6a21f4b88e05452299bd43274df95c62",
            "334a0abe390c4978a65512c6c00f7228",
            "a65db830ce8342db9f9cea017d00f9de"
          ]
        }
      },
      "source": [
        "for_tf_natasha = []\n",
        "for index, row in tqdm(test.iterrows()):\n",
        "    fin = text_to_vec(row['natasha'], vectorizer, matr_answers)\n",
        "    for_tf_natasha.append(ranging_simple(fin))"
      ],
      "execution_count": 78,
      "outputs": [
        {
          "output_type": "display_data",
          "data": {
            "application/vnd.jupyter.widget-view+json": {
              "model_id": "b994e84c3cb042ca9eaf9154cb877aa1",
              "version_minor": 0,
              "version_major": 2
            },
            "text/plain": [
              "HBox(children=(FloatProgress(value=1.0, bar_style='info', max=1.0), HTML(value='')))"
            ]
          },
          "metadata": {
            "tags": []
          }
        },
        {
          "output_type": "stream",
          "text": [
            "\n"
          ],
          "name": "stdout"
        }
      ]
    },
    {
      "cell_type": "code",
      "metadata": {
        "id": "mf6TUlB-XTcv",
        "outputId": "43dfb7f1-16a5-4f33-8993-d4d564dc3747",
        "colab": {
          "base_uri": "https://localhost:8080/",
          "height": 139
        }
      },
      "source": [
        "test['tf_vector_natasha'] = for_tf_natasha"
      ],
      "execution_count": 79,
      "outputs": [
        {
          "output_type": "stream",
          "text": [
            "/usr/local/lib/python3.6/dist-packages/ipykernel_launcher.py:1: SettingWithCopyWarning: \n",
            "A value is trying to be set on a copy of a slice from a DataFrame.\n",
            "Try using .loc[row_indexer,col_indexer] = value instead\n",
            "\n",
            "See the caveats in the documentation: https://pandas.pydata.org/pandas-docs/stable/user_guide/indexing.html#returning-a-view-versus-a-copy\n",
            "  \"\"\"Entry point for launching an IPython kernel.\n"
          ],
          "name": "stderr"
        }
      ]
    },
    {
      "cell_type": "code",
      "metadata": {
        "id": "tEIUZptgXpOo"
      },
      "source": [
        "from sklearn.metrics import accuracy_score"
      ],
      "execution_count": 80,
      "outputs": []
    },
    {
      "cell_type": "code",
      "metadata": {
        "id": "82u5FwPUXfQT",
        "outputId": "0c71ca87-eb5b-4ef4-ae4f-771e303a3908",
        "colab": {
          "base_uri": "https://localhost:8080/",
          "height": 564
        }
      },
      "source": [
        "test.head()"
      ],
      "execution_count": 81,
      "outputs": [
        {
          "output_type": "execute_result",
          "data": {
            "text/html": [
              "<div>\n",
              "<style scoped>\n",
              "    .dataframe tbody tr th:only-of-type {\n",
              "        vertical-align: middle;\n",
              "    }\n",
              "\n",
              "    .dataframe tbody tr th {\n",
              "        vertical-align: top;\n",
              "    }\n",
              "\n",
              "    .dataframe thead th {\n",
              "        text-align: right;\n",
              "    }\n",
              "</style>\n",
              "<table border=\"1\" class=\"dataframe\">\n",
              "  <thead>\n",
              "    <tr style=\"text-align: right;\">\n",
              "      <th></th>\n",
              "      <th>Номер связки</th>\n",
              "      <th>Текст вопросов</th>\n",
              "      <th>preprocess_natasha</th>\n",
              "      <th>preprocess_deepmipt</th>\n",
              "      <th>вопросы_препроцессинговые</th>\n",
              "      <th>natasha</th>\n",
              "      <th>deeppavlov</th>\n",
              "      <th>tf_vector_natasha</th>\n",
              "    </tr>\n",
              "  </thead>\n",
              "  <tbody>\n",
              "    <tr>\n",
              "      <th>2108</th>\n",
              "      <td>1.0</td>\n",
              "      <td>Добрый день!\\nСегодня ребенка не допустили к з...</td>\n",
              "      <td>Добрый день!\\nСегодня ребенка не допустили к з...</td>\n",
              "      <td>Добрый день ! Сегодня ребенка не допустили к з...</td>\n",
              "      <td>добрый день сегодня ребёнок не допустить к зан...</td>\n",
              "      <td>добрый день сегодня ребёнок не допустить к зан...</td>\n",
              "      <td>добрый день сегодня ребёнок не допустить к зан...</td>\n",
              "      <td>12.0</td>\n",
              "    </tr>\n",
              "    <tr>\n",
              "      <th>913</th>\n",
              "      <td>308.0</td>\n",
              "      <td>Здравствуйте, по правилам и предписаниям, необ...</td>\n",
              "      <td>Здравствуйте, по правилам и предписаниям, необ...</td>\n",
              "      <td>Здравствуйте , по правилам и предписаниям , не...</td>\n",
              "      <td>здравствуйте по правило и предписание необходи...</td>\n",
              "      <td>здравствуйте по правило и предписание необходи...</td>\n",
              "      <td>здравствуйте по правило и предписание необходи...</td>\n",
              "      <td>327.0</td>\n",
              "    </tr>\n",
              "    <tr>\n",
              "      <th>2189</th>\n",
              "      <td>79.0</td>\n",
              "      <td>Здравствуйте! Хотела узнать стоит ли мне обрат...</td>\n",
              "      <td>Здравствуйте! Хотела узнать стоит ли мне обрат...</td>\n",
              "      <td>Здравствуйте ! Хотела узнать стоит ли мне обра...</td>\n",
              "      <td>здравствуйте хотеть узнать стоить ли я обратит...</td>\n",
              "      <td>здравствуйте хотеть узнать стоить ли я обратит...</td>\n",
              "      <td>здравствуйте хотеть узнать стоить ли я обратит...</td>\n",
              "      <td>132.0</td>\n",
              "    </tr>\n",
              "    <tr>\n",
              "      <th>1438</th>\n",
              "      <td>308.0</td>\n",
              "      <td>Доброе утро!\\n\\n\\n\\nПросьба сообщить, обязан л...</td>\n",
              "      <td>Доброе утро!\\n\\n\\n\\nПросьба сообщить, обязан л...</td>\n",
              "      <td>Доброе утро ! Просьба сообщить , обязан ли я с...</td>\n",
              "      <td>добрый утро просьба сообщить обязать ли я сдав...</td>\n",
              "      <td>добрый утро просьба сообщить обязать ли я сдав...</td>\n",
              "      <td>добрый утро просьба сообщить обязать ли я сдав...</td>\n",
              "      <td>308.0</td>\n",
              "    </tr>\n",
              "    <tr>\n",
              "      <th>2178</th>\n",
              "      <td>257.0</td>\n",
              "      <td>Здравствуйте! Мы живём в городе Истра, моей ма...</td>\n",
              "      <td>Здравствуйте! Мы живём в городе , моей маме 67...</td>\n",
              "      <td>Здравствуйте ! Мы живём в городе , моей маме 6...</td>\n",
              "      <td>здравствуйте мы жить в город истра мой мама 67...</td>\n",
              "      <td>здравствуйте мы жить в город мой мама 67 год и...</td>\n",
              "      <td>здравствуйте мы жить в город мой мама 67 год и...</td>\n",
              "      <td>32.0</td>\n",
              "    </tr>\n",
              "  </tbody>\n",
              "</table>\n",
              "</div>"
            ],
            "text/plain": [
              "      Номер связки  ... tf_vector_natasha\n",
              "2108           1.0  ...              12.0\n",
              "913          308.0  ...             327.0\n",
              "2189          79.0  ...             132.0\n",
              "1438         308.0  ...             308.0\n",
              "2178         257.0  ...              32.0\n",
              "\n",
              "[5 rows x 8 columns]"
            ]
          },
          "metadata": {
            "tags": []
          },
          "execution_count": 81
        }
      ]
    },
    {
      "cell_type": "code",
      "metadata": {
        "id": "wYhJMTiwX4Ap",
        "outputId": "c769cd07-34b7-41c9-f1d6-e1bd86e120b4",
        "colab": {
          "base_uri": "https://localhost:8080/",
          "height": 34
        }
      },
      "source": [
        "# accuracy_score(y_true, y_pred)\n",
        "\n",
        "accuracy_score(test['Номер связки'], test['tf_vector_natasha'])"
      ],
      "execution_count": 82,
      "outputs": [
        {
          "output_type": "execute_result",
          "data": {
            "text/plain": [
              "0.22608695652173913"
            ]
          },
          "metadata": {
            "tags": []
          },
          "execution_count": 82
        }
      ]
    },
    {
      "cell_type": "markdown",
      "metadata": {
        "id": "ct5Eig9Xzcel"
      },
      "source": [
        "##### preprocess_with_deepmipt"
      ]
    },
    {
      "cell_type": "code",
      "metadata": {
        "id": "xXHI58xiztoi"
      },
      "source": [
        "vectorizer2 = TfidfVectorizer()"
      ],
      "execution_count": 83,
      "outputs": []
    },
    {
      "cell_type": "code",
      "metadata": {
        "id": "i8YvZAOBYuTo"
      },
      "source": [
        "X2 = vectorizer2.fit_transform(train['deeppavlov'].values.astype('U'))"
      ],
      "execution_count": 84,
      "outputs": []
    },
    {
      "cell_type": "code",
      "metadata": {
        "id": "Xot2N_MWY1-M"
      },
      "source": [
        "matr_answers_2 = X2.toarray()"
      ],
      "execution_count": 85,
      "outputs": []
    },
    {
      "cell_type": "code",
      "metadata": {
        "id": "heQ-_QnuY8tZ",
        "outputId": "7cb1f088-4f48-4092-9942-5c36b0cb3562",
        "colab": {
          "base_uri": "https://localhost:8080/",
          "height": 66,
          "referenced_widgets": [
            "87acaa474311492db1b19f2c08326506",
            "18c4c0a33ee94cb6aba7785654bff5b0",
            "0c6741ba84a640c48d5d85b8d0ef7a72",
            "9c7ec286ff7343b7aa15fd785bba142f",
            "a2fb7cb8294b45e6ac689d970b4c2f7b",
            "21aa56e162c94d35b2d4cbb20af86442",
            "8e879668688d458391c4f9bd923a8b3b",
            "9c4096e98126437f8d273607b2f537b9"
          ]
        }
      },
      "source": [
        "for_tf_deeppavlov = []\n",
        "for index, row in tqdm(test.iterrows()):\n",
        "    fin = text_to_vec(row['deeppavlov'], vectorizer2, matr_answers_2)\n",
        "    for_tf_deeppavlov.append(ranging_simple(fin))"
      ],
      "execution_count": 86,
      "outputs": [
        {
          "output_type": "display_data",
          "data": {
            "application/vnd.jupyter.widget-view+json": {
              "model_id": "87acaa474311492db1b19f2c08326506",
              "version_minor": 0,
              "version_major": 2
            },
            "text/plain": [
              "HBox(children=(FloatProgress(value=1.0, bar_style='info', max=1.0), HTML(value='')))"
            ]
          },
          "metadata": {
            "tags": []
          }
        },
        {
          "output_type": "stream",
          "text": [
            "\n"
          ],
          "name": "stdout"
        }
      ]
    },
    {
      "cell_type": "code",
      "metadata": {
        "id": "oCw97C5QZKHZ",
        "outputId": "126c3681-0915-4e59-8e62-33c6e93ef8a0",
        "colab": {
          "base_uri": "https://localhost:8080/",
          "height": 139
        }
      },
      "source": [
        "test['tf_vector_deeppavlov'] = for_tf_deeppavlov"
      ],
      "execution_count": 87,
      "outputs": [
        {
          "output_type": "stream",
          "text": [
            "/usr/local/lib/python3.6/dist-packages/ipykernel_launcher.py:1: SettingWithCopyWarning: \n",
            "A value is trying to be set on a copy of a slice from a DataFrame.\n",
            "Try using .loc[row_indexer,col_indexer] = value instead\n",
            "\n",
            "See the caveats in the documentation: https://pandas.pydata.org/pandas-docs/stable/user_guide/indexing.html#returning-a-view-versus-a-copy\n",
            "  \"\"\"Entry point for launching an IPython kernel.\n"
          ],
          "name": "stderr"
        }
      ]
    },
    {
      "cell_type": "code",
      "metadata": {
        "id": "-mfMHlQhZeYG",
        "outputId": "12e9dd3d-983c-43d5-876e-72ad41ca2c2f",
        "colab": {
          "base_uri": "https://localhost:8080/",
          "height": 564
        }
      },
      "source": [
        "test.head()"
      ],
      "execution_count": 89,
      "outputs": [
        {
          "output_type": "execute_result",
          "data": {
            "text/html": [
              "<div>\n",
              "<style scoped>\n",
              "    .dataframe tbody tr th:only-of-type {\n",
              "        vertical-align: middle;\n",
              "    }\n",
              "\n",
              "    .dataframe tbody tr th {\n",
              "        vertical-align: top;\n",
              "    }\n",
              "\n",
              "    .dataframe thead th {\n",
              "        text-align: right;\n",
              "    }\n",
              "</style>\n",
              "<table border=\"1\" class=\"dataframe\">\n",
              "  <thead>\n",
              "    <tr style=\"text-align: right;\">\n",
              "      <th></th>\n",
              "      <th>Номер связки</th>\n",
              "      <th>Текст вопросов</th>\n",
              "      <th>preprocess_natasha</th>\n",
              "      <th>preprocess_deepmipt</th>\n",
              "      <th>вопросы_препроцессинговые</th>\n",
              "      <th>natasha</th>\n",
              "      <th>deeppavlov</th>\n",
              "      <th>tf_vector_natasha</th>\n",
              "      <th>tf_vector_deeppavlov</th>\n",
              "    </tr>\n",
              "  </thead>\n",
              "  <tbody>\n",
              "    <tr>\n",
              "      <th>2108</th>\n",
              "      <td>1.0</td>\n",
              "      <td>Добрый день!\\nСегодня ребенка не допустили к з...</td>\n",
              "      <td>Добрый день!\\nСегодня ребенка не допустили к з...</td>\n",
              "      <td>Добрый день ! Сегодня ребенка не допустили к з...</td>\n",
              "      <td>добрый день сегодня ребёнок не допустить к зан...</td>\n",
              "      <td>добрый день сегодня ребёнок не допустить к зан...</td>\n",
              "      <td>добрый день сегодня ребёнок не допустить к зан...</td>\n",
              "      <td>12.0</td>\n",
              "      <td>12.0</td>\n",
              "    </tr>\n",
              "    <tr>\n",
              "      <th>913</th>\n",
              "      <td>308.0</td>\n",
              "      <td>Здравствуйте, по правилам и предписаниям, необ...</td>\n",
              "      <td>Здравствуйте, по правилам и предписаниям, необ...</td>\n",
              "      <td>Здравствуйте , по правилам и предписаниям , не...</td>\n",
              "      <td>здравствуйте по правило и предписание необходи...</td>\n",
              "      <td>здравствуйте по правило и предписание необходи...</td>\n",
              "      <td>здравствуйте по правило и предписание необходи...</td>\n",
              "      <td>327.0</td>\n",
              "      <td>327.0</td>\n",
              "    </tr>\n",
              "    <tr>\n",
              "      <th>2189</th>\n",
              "      <td>79.0</td>\n",
              "      <td>Здравствуйте! Хотела узнать стоит ли мне обрат...</td>\n",
              "      <td>Здравствуйте! Хотела узнать стоит ли мне обрат...</td>\n",
              "      <td>Здравствуйте ! Хотела узнать стоит ли мне обра...</td>\n",
              "      <td>здравствуйте хотеть узнать стоить ли я обратит...</td>\n",
              "      <td>здравствуйте хотеть узнать стоить ли я обратит...</td>\n",
              "      <td>здравствуйте хотеть узнать стоить ли я обратит...</td>\n",
              "      <td>132.0</td>\n",
              "      <td>132.0</td>\n",
              "    </tr>\n",
              "    <tr>\n",
              "      <th>1438</th>\n",
              "      <td>308.0</td>\n",
              "      <td>Доброе утро!\\n\\n\\n\\nПросьба сообщить, обязан л...</td>\n",
              "      <td>Доброе утро!\\n\\n\\n\\nПросьба сообщить, обязан л...</td>\n",
              "      <td>Доброе утро ! Просьба сообщить , обязан ли я с...</td>\n",
              "      <td>добрый утро просьба сообщить обязать ли я сдав...</td>\n",
              "      <td>добрый утро просьба сообщить обязать ли я сдав...</td>\n",
              "      <td>добрый утро просьба сообщить обязать ли я сдав...</td>\n",
              "      <td>308.0</td>\n",
              "      <td>308.0</td>\n",
              "    </tr>\n",
              "    <tr>\n",
              "      <th>2178</th>\n",
              "      <td>257.0</td>\n",
              "      <td>Здравствуйте! Мы живём в городе Истра, моей ма...</td>\n",
              "      <td>Здравствуйте! Мы живём в городе , моей маме 67...</td>\n",
              "      <td>Здравствуйте ! Мы живём в городе , моей маме 6...</td>\n",
              "      <td>здравствуйте мы жить в город истра мой мама 67...</td>\n",
              "      <td>здравствуйте мы жить в город мой мама 67 год и...</td>\n",
              "      <td>здравствуйте мы жить в город мой мама 67 год и...</td>\n",
              "      <td>32.0</td>\n",
              "      <td>32.0</td>\n",
              "    </tr>\n",
              "  </tbody>\n",
              "</table>\n",
              "</div>"
            ],
            "text/plain": [
              "      Номер связки  ... tf_vector_deeppavlov\n",
              "2108           1.0  ...                 12.0\n",
              "913          308.0  ...                327.0\n",
              "2189          79.0  ...                132.0\n",
              "1438         308.0  ...                308.0\n",
              "2178         257.0  ...                 32.0\n",
              "\n",
              "[5 rows x 9 columns]"
            ]
          },
          "metadata": {
            "tags": []
          },
          "execution_count": 89
        }
      ]
    },
    {
      "cell_type": "code",
      "metadata": {
        "id": "1n-Vb5DyZTwq",
        "outputId": "1b9753f0-8b05-4812-f430-a5efc3f06c22",
        "colab": {
          "base_uri": "https://localhost:8080/",
          "height": 34
        }
      },
      "source": [
        "accuracy_score(test['Номер связки'], test['tf_vector_deeppavlov'])"
      ],
      "execution_count": 90,
      "outputs": [
        {
          "output_type": "execute_result",
          "data": {
            "text/plain": [
              "0.2246376811594203"
            ]
          },
          "metadata": {
            "tags": []
          },
          "execution_count": 90
        }
      ]
    },
    {
      "cell_type": "markdown",
      "metadata": {
        "id": "W0w4wJsizeiv"
      },
      "source": [
        "##### без препроцессинга"
      ]
    },
    {
      "cell_type": "code",
      "metadata": {
        "id": "lt-F13iuzt-b"
      },
      "source": [
        "vectorizer3 = TfidfVectorizer()"
      ],
      "execution_count": 92,
      "outputs": []
    },
    {
      "cell_type": "code",
      "metadata": {
        "id": "b7edWJx8ZqvX"
      },
      "source": [
        "X3 = vectorizer3.fit_transform(train['вопросы_препроцессинговые'].values.astype('U'))"
      ],
      "execution_count": 93,
      "outputs": []
    },
    {
      "cell_type": "code",
      "metadata": {
        "id": "PEvWrKWyZyvT"
      },
      "source": [
        "matr_answers_3 = X3.toarray()"
      ],
      "execution_count": 94,
      "outputs": []
    },
    {
      "cell_type": "code",
      "metadata": {
        "id": "olMLFEzZZ2sH",
        "outputId": "a6fbae17-707e-4231-af14-d8da344e1e9a",
        "colab": {
          "base_uri": "https://localhost:8080/",
          "height": 66,
          "referenced_widgets": [
            "fdf94bf847614ab28334eca4ba698154",
            "631c6bbe72424405905124215faf026c",
            "b46bde97ae2e4afa95eee9b33e11a252",
            "f811c37f33534841b631688803affd8e",
            "4dbefd4631794dcb8909e72b48d34e22",
            "5c1b34ed265944d59929a99a1cc41d31",
            "0fc46729f1654ae5ba2b131da01f47a4",
            "c6baafefe398426c9b43a160590894d2"
          ]
        }
      },
      "source": [
        "for_tf_none = []\n",
        "for index, row in tqdm(test.iterrows()):\n",
        "    fin = text_to_vec(row['вопросы_препроцессинговые'], vectorizer3, matr_answers_3)\n",
        "    for_tf_none.append(ranging_simple(fin))"
      ],
      "execution_count": 95,
      "outputs": [
        {
          "output_type": "display_data",
          "data": {
            "application/vnd.jupyter.widget-view+json": {
              "model_id": "fdf94bf847614ab28334eca4ba698154",
              "version_minor": 0,
              "version_major": 2
            },
            "text/plain": [
              "HBox(children=(FloatProgress(value=1.0, bar_style='info', max=1.0), HTML(value='')))"
            ]
          },
          "metadata": {
            "tags": []
          }
        },
        {
          "output_type": "stream",
          "text": [
            "\n"
          ],
          "name": "stdout"
        }
      ]
    },
    {
      "cell_type": "code",
      "metadata": {
        "id": "xXUtgSKRZ-mR"
      },
      "source": [
        "test['tf_vector_no_prep'] = for_tf_none"
      ],
      "execution_count": 96,
      "outputs": []
    },
    {
      "cell_type": "code",
      "metadata": {
        "id": "igW6LjvcaIt4",
        "outputId": "9c325807-c01b-45ac-9ed3-17f8451c693a",
        "colab": {
          "base_uri": "https://localhost:8080/",
          "height": 564
        }
      },
      "source": [
        "test.head()"
      ],
      "execution_count": 98,
      "outputs": [
        {
          "output_type": "execute_result",
          "data": {
            "text/html": [
              "<div>\n",
              "<style scoped>\n",
              "    .dataframe tbody tr th:only-of-type {\n",
              "        vertical-align: middle;\n",
              "    }\n",
              "\n",
              "    .dataframe tbody tr th {\n",
              "        vertical-align: top;\n",
              "    }\n",
              "\n",
              "    .dataframe thead th {\n",
              "        text-align: right;\n",
              "    }\n",
              "</style>\n",
              "<table border=\"1\" class=\"dataframe\">\n",
              "  <thead>\n",
              "    <tr style=\"text-align: right;\">\n",
              "      <th></th>\n",
              "      <th>Номер связки</th>\n",
              "      <th>Текст вопросов</th>\n",
              "      <th>preprocess_natasha</th>\n",
              "      <th>preprocess_deepmipt</th>\n",
              "      <th>вопросы_препроцессинговые</th>\n",
              "      <th>natasha</th>\n",
              "      <th>deeppavlov</th>\n",
              "      <th>tf_vector_natasha</th>\n",
              "      <th>tf_vector_deeppavlov</th>\n",
              "      <th>tf_vector_no_prep</th>\n",
              "    </tr>\n",
              "  </thead>\n",
              "  <tbody>\n",
              "    <tr>\n",
              "      <th>2108</th>\n",
              "      <td>1.0</td>\n",
              "      <td>Добрый день!\\nСегодня ребенка не допустили к з...</td>\n",
              "      <td>Добрый день!\\nСегодня ребенка не допустили к з...</td>\n",
              "      <td>Добрый день ! Сегодня ребенка не допустили к з...</td>\n",
              "      <td>добрый день сегодня ребёнок не допустить к зан...</td>\n",
              "      <td>добрый день сегодня ребёнок не допустить к зан...</td>\n",
              "      <td>добрый день сегодня ребёнок не допустить к зан...</td>\n",
              "      <td>12.0</td>\n",
              "      <td>12.0</td>\n",
              "      <td>32.0</td>\n",
              "    </tr>\n",
              "    <tr>\n",
              "      <th>913</th>\n",
              "      <td>308.0</td>\n",
              "      <td>Здравствуйте, по правилам и предписаниям, необ...</td>\n",
              "      <td>Здравствуйте, по правилам и предписаниям, необ...</td>\n",
              "      <td>Здравствуйте , по правилам и предписаниям , не...</td>\n",
              "      <td>здравствуйте по правило и предписание необходи...</td>\n",
              "      <td>здравствуйте по правило и предписание необходи...</td>\n",
              "      <td>здравствуйте по правило и предписание необходи...</td>\n",
              "      <td>327.0</td>\n",
              "      <td>327.0</td>\n",
              "      <td>327.0</td>\n",
              "    </tr>\n",
              "    <tr>\n",
              "      <th>2189</th>\n",
              "      <td>79.0</td>\n",
              "      <td>Здравствуйте! Хотела узнать стоит ли мне обрат...</td>\n",
              "      <td>Здравствуйте! Хотела узнать стоит ли мне обрат...</td>\n",
              "      <td>Здравствуйте ! Хотела узнать стоит ли мне обра...</td>\n",
              "      <td>здравствуйте хотеть узнать стоить ли я обратит...</td>\n",
              "      <td>здравствуйте хотеть узнать стоить ли я обратит...</td>\n",
              "      <td>здравствуйте хотеть узнать стоить ли я обратит...</td>\n",
              "      <td>132.0</td>\n",
              "      <td>132.0</td>\n",
              "      <td>132.0</td>\n",
              "    </tr>\n",
              "    <tr>\n",
              "      <th>1438</th>\n",
              "      <td>308.0</td>\n",
              "      <td>Доброе утро!\\n\\n\\n\\nПросьба сообщить, обязан л...</td>\n",
              "      <td>Доброе утро!\\n\\n\\n\\nПросьба сообщить, обязан л...</td>\n",
              "      <td>Доброе утро ! Просьба сообщить , обязан ли я с...</td>\n",
              "      <td>добрый утро просьба сообщить обязать ли я сдав...</td>\n",
              "      <td>добрый утро просьба сообщить обязать ли я сдав...</td>\n",
              "      <td>добрый утро просьба сообщить обязать ли я сдав...</td>\n",
              "      <td>308.0</td>\n",
              "      <td>308.0</td>\n",
              "      <td>308.0</td>\n",
              "    </tr>\n",
              "    <tr>\n",
              "      <th>2178</th>\n",
              "      <td>257.0</td>\n",
              "      <td>Здравствуйте! Мы живём в городе Истра, моей ма...</td>\n",
              "      <td>Здравствуйте! Мы живём в городе , моей маме 67...</td>\n",
              "      <td>Здравствуйте ! Мы живём в городе , моей маме 6...</td>\n",
              "      <td>здравствуйте мы жить в город истра мой мама 67...</td>\n",
              "      <td>здравствуйте мы жить в город мой мама 67 год и...</td>\n",
              "      <td>здравствуйте мы жить в город мой мама 67 год и...</td>\n",
              "      <td>32.0</td>\n",
              "      <td>32.0</td>\n",
              "      <td>32.0</td>\n",
              "    </tr>\n",
              "  </tbody>\n",
              "</table>\n",
              "</div>"
            ],
            "text/plain": [
              "      Номер связки  ... tf_vector_no_prep\n",
              "2108           1.0  ...              32.0\n",
              "913          308.0  ...             327.0\n",
              "2189          79.0  ...             132.0\n",
              "1438         308.0  ...             308.0\n",
              "2178         257.0  ...              32.0\n",
              "\n",
              "[5 rows x 10 columns]"
            ]
          },
          "metadata": {
            "tags": []
          },
          "execution_count": 98
        }
      ]
    },
    {
      "cell_type": "code",
      "metadata": {
        "id": "3DwkcwVzaJRS",
        "outputId": "7da0d56a-3424-486d-d639-117a9dec825d",
        "colab": {
          "base_uri": "https://localhost:8080/",
          "height": 34
        }
      },
      "source": [
        "accuracy_score(test['Номер связки'], test['tf_vector_no_prep'])"
      ],
      "execution_count": 99,
      "outputs": [
        {
          "output_type": "execute_result",
          "data": {
            "text/plain": [
              "0.19855072463768117"
            ]
          },
          "metadata": {
            "tags": []
          },
          "execution_count": 99
        }
      ]
    },
    {
      "cell_type": "markdown",
      "metadata": {
        "id": "A_U88oR9zhsG"
      },
      "source": [
        "#### BM25"
      ]
    },
    {
      "cell_type": "markdown",
      "metadata": {
        "id": "I_hy0x-hICEq"
      },
      "source": [
        "Функция bm25, которую я писала к прошлой домашке работала очень долго (даже слишком), поэтому я подумала использовать готовые модули в питоне, которые нашла тут: https://pypi.org/project/rank-bm25/"
      ]
    },
    {
      "cell_type": "code",
      "metadata": {
        "id": "3mIJ145ffeju",
        "outputId": "d2a69024-59c1-4961-c4c7-4bb2aa50d562",
        "colab": {
          "base_uri": "https://localhost:8080/",
          "height": 122
        }
      },
      "source": [
        "!pip install rank_bm25"
      ],
      "execution_count": 100,
      "outputs": [
        {
          "output_type": "stream",
          "text": [
            "Collecting rank_bm25\n",
            "  Downloading https://files.pythonhosted.org/packages/16/5a/23ed3132063a0684ea66fb410260c71c4ffda3b99f8f1c021d1e245401b5/rank_bm25-0.2.1-py3-none-any.whl\n",
            "Requirement already satisfied: numpy in /usr/local/lib/python3.6/dist-packages (from rank_bm25) (1.18.5)\n",
            "Installing collected packages: rank-bm25\n",
            "Successfully installed rank-bm25-0.2.1\n"
          ],
          "name": "stdout"
        }
      ]
    },
    {
      "cell_type": "code",
      "metadata": {
        "id": "zB1aYHswfpGM"
      },
      "source": [
        "from rank_bm25 import BM25Okapi"
      ],
      "execution_count": 101,
      "outputs": []
    },
    {
      "cell_type": "markdown",
      "metadata": {
        "id": "ZTs9ZzJRzmsS"
      },
      "source": [
        "##### preprocess_with_natasha"
      ]
    },
    {
      "cell_type": "code",
      "metadata": {
        "id": "F1Z8KtAjzuaj"
      },
      "source": [
        "corpus1 = train.natasha.tolist()"
      ],
      "execution_count": 102,
      "outputs": []
    },
    {
      "cell_type": "code",
      "metadata": {
        "id": "2iLoj4Z3fy35"
      },
      "source": [
        "tokenized_corpus1 = [doc.split(\" \") for doc in corpus1]"
      ],
      "execution_count": 103,
      "outputs": []
    },
    {
      "cell_type": "code",
      "metadata": {
        "id": "kSHpoS6_f2s_"
      },
      "source": [
        "bm251 = BM25Okapi(tokenized_corpus1)"
      ],
      "execution_count": 104,
      "outputs": []
    },
    {
      "cell_type": "code",
      "metadata": {
        "id": "5eGStxITf6bk",
        "outputId": "f7bb6578-1005-4498-d521-63568e686d35",
        "colab": {
          "base_uri": "https://localhost:8080/",
          "height": 66,
          "referenced_widgets": [
            "5354143d8db84d4b960533739ca85459",
            "d0bbb75a42b44e19bcd1d02902759602",
            "19d05df9e1f34845b5b4d780377f491f",
            "5aafc68f5e2441359b882b6916979397",
            "5a347a78727b484e84140d7b2041af5e",
            "c7973e261dcc421bb461c674e8c0590b",
            "0445fe63cff94d5aa0d595c7671e61f1",
            "f711d6d25cf74395925ca1f9f5dddb0a"
          ]
        }
      },
      "source": [
        "for_bm_natasha = []\n",
        "for index, row in tqdm(test.iterrows()):\n",
        "    tokenized_query = row.natasha.split(\" \")\n",
        "    doc_scores = bm251.get_scores(tokenized_query)\n",
        "    for_bm_natasha.append(ranging_simple(doc_scores))"
      ],
      "execution_count": 105,
      "outputs": [
        {
          "output_type": "display_data",
          "data": {
            "application/vnd.jupyter.widget-view+json": {
              "model_id": "5354143d8db84d4b960533739ca85459",
              "version_minor": 0,
              "version_major": 2
            },
            "text/plain": [
              "HBox(children=(FloatProgress(value=1.0, bar_style='info', max=1.0), HTML(value='')))"
            ]
          },
          "metadata": {
            "tags": []
          }
        },
        {
          "output_type": "stream",
          "text": [
            "\n"
          ],
          "name": "stdout"
        }
      ]
    },
    {
      "cell_type": "code",
      "metadata": {
        "id": "oAZd2fS7g909"
      },
      "source": [
        "test['bm_natasha'] = for_bm_natasha"
      ],
      "execution_count": 106,
      "outputs": []
    },
    {
      "cell_type": "code",
      "metadata": {
        "id": "0esZ8uGmhJu6",
        "outputId": "f973ed96-76af-4ec3-954f-f3068001df9a",
        "colab": {
          "base_uri": "https://localhost:8080/",
          "height": 564
        }
      },
      "source": [
        "test.head()"
      ],
      "execution_count": 107,
      "outputs": [
        {
          "output_type": "execute_result",
          "data": {
            "text/html": [
              "<div>\n",
              "<style scoped>\n",
              "    .dataframe tbody tr th:only-of-type {\n",
              "        vertical-align: middle;\n",
              "    }\n",
              "\n",
              "    .dataframe tbody tr th {\n",
              "        vertical-align: top;\n",
              "    }\n",
              "\n",
              "    .dataframe thead th {\n",
              "        text-align: right;\n",
              "    }\n",
              "</style>\n",
              "<table border=\"1\" class=\"dataframe\">\n",
              "  <thead>\n",
              "    <tr style=\"text-align: right;\">\n",
              "      <th></th>\n",
              "      <th>Номер связки</th>\n",
              "      <th>Текст вопросов</th>\n",
              "      <th>preprocess_natasha</th>\n",
              "      <th>preprocess_deepmipt</th>\n",
              "      <th>вопросы_препроцессинговые</th>\n",
              "      <th>natasha</th>\n",
              "      <th>deeppavlov</th>\n",
              "      <th>tf_vector_natasha</th>\n",
              "      <th>tf_vector_deeppavlov</th>\n",
              "      <th>tf_vector_no_prep</th>\n",
              "      <th>bm_natasha</th>\n",
              "    </tr>\n",
              "  </thead>\n",
              "  <tbody>\n",
              "    <tr>\n",
              "      <th>2108</th>\n",
              "      <td>1.0</td>\n",
              "      <td>Добрый день!\\nСегодня ребенка не допустили к з...</td>\n",
              "      <td>Добрый день!\\nСегодня ребенка не допустили к з...</td>\n",
              "      <td>Добрый день ! Сегодня ребенка не допустили к з...</td>\n",
              "      <td>добрый день сегодня ребёнок не допустить к зан...</td>\n",
              "      <td>добрый день сегодня ребёнок не допустить к зан...</td>\n",
              "      <td>добрый день сегодня ребёнок не допустить к зан...</td>\n",
              "      <td>12.0</td>\n",
              "      <td>12.0</td>\n",
              "      <td>32.0</td>\n",
              "      <td>12.0</td>\n",
              "    </tr>\n",
              "    <tr>\n",
              "      <th>913</th>\n",
              "      <td>308.0</td>\n",
              "      <td>Здравствуйте, по правилам и предписаниям, необ...</td>\n",
              "      <td>Здравствуйте, по правилам и предписаниям, необ...</td>\n",
              "      <td>Здравствуйте , по правилам и предписаниям , не...</td>\n",
              "      <td>здравствуйте по правило и предписание необходи...</td>\n",
              "      <td>здравствуйте по правило и предписание необходи...</td>\n",
              "      <td>здравствуйте по правило и предписание необходи...</td>\n",
              "      <td>327.0</td>\n",
              "      <td>327.0</td>\n",
              "      <td>327.0</td>\n",
              "      <td>327.0</td>\n",
              "    </tr>\n",
              "    <tr>\n",
              "      <th>2189</th>\n",
              "      <td>79.0</td>\n",
              "      <td>Здравствуйте! Хотела узнать стоит ли мне обрат...</td>\n",
              "      <td>Здравствуйте! Хотела узнать стоит ли мне обрат...</td>\n",
              "      <td>Здравствуйте ! Хотела узнать стоит ли мне обра...</td>\n",
              "      <td>здравствуйте хотеть узнать стоить ли я обратит...</td>\n",
              "      <td>здравствуйте хотеть узнать стоить ли я обратит...</td>\n",
              "      <td>здравствуйте хотеть узнать стоить ли я обратит...</td>\n",
              "      <td>132.0</td>\n",
              "      <td>132.0</td>\n",
              "      <td>132.0</td>\n",
              "      <td>1.0</td>\n",
              "    </tr>\n",
              "    <tr>\n",
              "      <th>1438</th>\n",
              "      <td>308.0</td>\n",
              "      <td>Доброе утро!\\n\\n\\n\\nПросьба сообщить, обязан л...</td>\n",
              "      <td>Доброе утро!\\n\\n\\n\\nПросьба сообщить, обязан л...</td>\n",
              "      <td>Доброе утро ! Просьба сообщить , обязан ли я с...</td>\n",
              "      <td>добрый утро просьба сообщить обязать ли я сдав...</td>\n",
              "      <td>добрый утро просьба сообщить обязать ли я сдав...</td>\n",
              "      <td>добрый утро просьба сообщить обязать ли я сдав...</td>\n",
              "      <td>308.0</td>\n",
              "      <td>308.0</td>\n",
              "      <td>308.0</td>\n",
              "      <td>12.0</td>\n",
              "    </tr>\n",
              "    <tr>\n",
              "      <th>2178</th>\n",
              "      <td>257.0</td>\n",
              "      <td>Здравствуйте! Мы живём в городе Истра, моей ма...</td>\n",
              "      <td>Здравствуйте! Мы живём в городе , моей маме 67...</td>\n",
              "      <td>Здравствуйте ! Мы живём в городе , моей маме 6...</td>\n",
              "      <td>здравствуйте мы жить в город истра мой мама 67...</td>\n",
              "      <td>здравствуйте мы жить в город мой мама 67 год и...</td>\n",
              "      <td>здравствуйте мы жить в город мой мама 67 год и...</td>\n",
              "      <td>32.0</td>\n",
              "      <td>32.0</td>\n",
              "      <td>32.0</td>\n",
              "      <td>6.0</td>\n",
              "    </tr>\n",
              "  </tbody>\n",
              "</table>\n",
              "</div>"
            ],
            "text/plain": [
              "      Номер связки  ... bm_natasha\n",
              "2108           1.0  ...       12.0\n",
              "913          308.0  ...      327.0\n",
              "2189          79.0  ...        1.0\n",
              "1438         308.0  ...       12.0\n",
              "2178         257.0  ...        6.0\n",
              "\n",
              "[5 rows x 11 columns]"
            ]
          },
          "metadata": {
            "tags": []
          },
          "execution_count": 107
        }
      ]
    },
    {
      "cell_type": "code",
      "metadata": {
        "id": "YuF-4CiFhQ2j",
        "outputId": "333b4be6-0d32-4778-abbf-019fe35fe210",
        "colab": {
          "base_uri": "https://localhost:8080/",
          "height": 34
        }
      },
      "source": [
        "accuracy_score(test['Номер связки'], test['bm_natasha'])"
      ],
      "execution_count": 108,
      "outputs": [
        {
          "output_type": "execute_result",
          "data": {
            "text/plain": [
              "0.1391304347826087"
            ]
          },
          "metadata": {
            "tags": []
          },
          "execution_count": 108
        }
      ]
    },
    {
      "cell_type": "markdown",
      "metadata": {
        "id": "tkGB96j5zoC0"
      },
      "source": [
        "##### preprocess_with_deepmipt"
      ]
    },
    {
      "cell_type": "code",
      "metadata": {
        "id": "9ePfZwMezuu3"
      },
      "source": [
        "corpus2 = train.deeppavlov.tolist()"
      ],
      "execution_count": 109,
      "outputs": []
    },
    {
      "cell_type": "code",
      "metadata": {
        "id": "dzLJ7E9jhZDB"
      },
      "source": [
        "tokenized_corpus2 = [doc.split(\" \") for doc in corpus2]"
      ],
      "execution_count": 110,
      "outputs": []
    },
    {
      "cell_type": "code",
      "metadata": {
        "id": "UUdZ5cJxhcX8"
      },
      "source": [
        "bm252 = BM25Okapi(tokenized_corpus2)"
      ],
      "execution_count": 111,
      "outputs": []
    },
    {
      "cell_type": "code",
      "metadata": {
        "id": "25uKA00yhf3m",
        "outputId": "894b45fc-0598-415c-9074-38ef643468bb",
        "colab": {
          "base_uri": "https://localhost:8080/",
          "height": 66,
          "referenced_widgets": [
            "fc660b70abc74668b91b126c19c282f7",
            "ac1d901df15f49fea51561eaf7053d40",
            "224500f3e902458bad2362a0eb878b74",
            "73452b7ae5a846979cb8e280960554be",
            "68acafd2dd844c459634cb46f11d4f6a",
            "f7cf04a2545f458b95c62e2a3e4de53f",
            "ce8a144351d64835967c9e46b1eb0034",
            "14d3e521b15541a2a222a7cae503a427"
          ]
        }
      },
      "source": [
        "for_bm_deeppavlov = []\n",
        "for index, row in tqdm(test.iterrows()):\n",
        "    tokenized_query = row.deeppavlov.split(\" \")\n",
        "    doc_scores = bm252.get_scores(tokenized_query)\n",
        "    for_bm_deeppavlov.append(ranging_simple(doc_scores))"
      ],
      "execution_count": 112,
      "outputs": [
        {
          "output_type": "display_data",
          "data": {
            "application/vnd.jupyter.widget-view+json": {
              "model_id": "fc660b70abc74668b91b126c19c282f7",
              "version_minor": 0,
              "version_major": 2
            },
            "text/plain": [
              "HBox(children=(FloatProgress(value=1.0, bar_style='info', max=1.0), HTML(value='')))"
            ]
          },
          "metadata": {
            "tags": []
          }
        },
        {
          "output_type": "stream",
          "text": [
            "\n"
          ],
          "name": "stdout"
        }
      ]
    },
    {
      "cell_type": "code",
      "metadata": {
        "id": "i-6G9x-JhocF"
      },
      "source": [
        "test['bm_deeppavlov'] = for_bm_deeppavlov"
      ],
      "execution_count": 113,
      "outputs": []
    },
    {
      "cell_type": "code",
      "metadata": {
        "id": "ZVGZ41DUht36",
        "outputId": "6f6a35d8-fe5e-45ce-ec71-2ef093f57d81",
        "colab": {
          "base_uri": "https://localhost:8080/",
          "height": 598
        }
      },
      "source": [
        "test.tail()"
      ],
      "execution_count": 136,
      "outputs": [
        {
          "output_type": "execute_result",
          "data": {
            "text/html": [
              "<div>\n",
              "<style scoped>\n",
              "    .dataframe tbody tr th:only-of-type {\n",
              "        vertical-align: middle;\n",
              "    }\n",
              "\n",
              "    .dataframe tbody tr th {\n",
              "        vertical-align: top;\n",
              "    }\n",
              "\n",
              "    .dataframe thead th {\n",
              "        text-align: right;\n",
              "    }\n",
              "</style>\n",
              "<table border=\"1\" class=\"dataframe\">\n",
              "  <thead>\n",
              "    <tr style=\"text-align: right;\">\n",
              "      <th></th>\n",
              "      <th>Номер связки</th>\n",
              "      <th>Текст вопросов</th>\n",
              "      <th>preprocess_natasha</th>\n",
              "      <th>preprocess_deepmipt</th>\n",
              "      <th>вопросы_препроцессинговые</th>\n",
              "      <th>natasha</th>\n",
              "      <th>deeppavlov</th>\n",
              "      <th>tf_vector_natasha</th>\n",
              "      <th>tf_vector_deeppavlov</th>\n",
              "      <th>tf_vector_no_prep</th>\n",
              "      <th>bm_natasha</th>\n",
              "      <th>bm_deeppavlov</th>\n",
              "      <th>bm_no_prep</th>\n",
              "    </tr>\n",
              "  </thead>\n",
              "  <tbody>\n",
              "    <tr>\n",
              "      <th>1872</th>\n",
              "      <td>1.0</td>\n",
              "      <td>Добрый день!\\nМоей супруге находящейся в больн...</td>\n",
              "      <td>Добрый день!\\nМоей супруге находящейся в больн...</td>\n",
              "      <td>Добрый день ! Моей супруге находящейся в больн...</td>\n",
              "      <td>добрый день мой супруга находиться в больница ...</td>\n",
              "      <td>добрый день мой супруга находиться в больница ...</td>\n",
              "      <td>добрый день мой супруга находиться в больница ...</td>\n",
              "      <td>74.0</td>\n",
              "      <td>74.0</td>\n",
              "      <td>74.0</td>\n",
              "      <td>74.0</td>\n",
              "      <td>74.0</td>\n",
              "      <td>74.0</td>\n",
              "    </tr>\n",
              "    <tr>\n",
              "      <th>262</th>\n",
              "      <td>6.0</td>\n",
              "      <td>Здравствуйте. У меня есть симптомы ОРВИ-насмор...</td>\n",
              "      <td>Здравствуйте. У меня есть симптомы ОРВИ-насмор...</td>\n",
              "      <td>Здравствуйте . У меня есть симптомы ОРВИ - нас...</td>\n",
              "      <td>здравствуйте у я есть симптом орви-насморк гор...</td>\n",
              "      <td>здравствуйте у я есть симптом орви-насморк гор...</td>\n",
              "      <td>здравствуйте у я есть симптом орвать - насморк...</td>\n",
              "      <td>324.0</td>\n",
              "      <td>324.0</td>\n",
              "      <td>286.0</td>\n",
              "      <td>270.0</td>\n",
              "      <td>32.0</td>\n",
              "      <td>324.0</td>\n",
              "    </tr>\n",
              "    <tr>\n",
              "      <th>2224</th>\n",
              "      <td>1.0</td>\n",
              "      <td>\\nДобрый день! Сегодня моей дочери Волковой Ал...</td>\n",
              "      <td>\\nДобрый день! Сегодня моей дочери   сообщили ...</td>\n",
              "      <td>Добрый день ! Сегодня моей дочери сообщили из ...</td>\n",
              "      <td>добрый день сегодня мой дочь волков александр ...</td>\n",
              "      <td>добрый день сегодня мой дочь сообщить из школа...</td>\n",
              "      <td>добрый день сегодня мой дочь сообщить из школа...</td>\n",
              "      <td>57.0</td>\n",
              "      <td>57.0</td>\n",
              "      <td>257.0</td>\n",
              "      <td>57.0</td>\n",
              "      <td>57.0</td>\n",
              "      <td>57.0</td>\n",
              "    </tr>\n",
              "    <tr>\n",
              "      <th>2245</th>\n",
              "      <td>1.0</td>\n",
              "      <td>Добрый день! Каков порядок контактных людей по...</td>\n",
              "      <td>Добрый день! Каков порядок контактных людей по...</td>\n",
              "      <td>Добрый день ! Каков порядок контактных людей п...</td>\n",
              "      <td>добрый день каков порядок контактный человек п...</td>\n",
              "      <td>добрый день каков порядок контактный человек п...</td>\n",
              "      <td>добрый день каков порядок контактный человек п...</td>\n",
              "      <td>308.0</td>\n",
              "      <td>308.0</td>\n",
              "      <td>308.0</td>\n",
              "      <td>57.0</td>\n",
              "      <td>57.0</td>\n",
              "      <td>57.0</td>\n",
              "    </tr>\n",
              "    <tr>\n",
              "      <th>1527</th>\n",
              "      <td>308.0</td>\n",
              "      <td>Добрый день!\\n\\nПомогите, пожалуйста, разобрат...</td>\n",
              "      <td>Добрый день!\\n\\nПомогите, пожалуйста, разобрат...</td>\n",
              "      <td>Добрый день ! Помогите , пожалуйста , разобрат...</td>\n",
              "      <td>добрый день помочь пожалуйста разобраться я ве...</td>\n",
              "      <td>добрый день помочь пожалуйста разобраться я ве...</td>\n",
              "      <td>добрый день помочь пожалуйста разобраться я ве...</td>\n",
              "      <td>308.0</td>\n",
              "      <td>308.0</td>\n",
              "      <td>308.0</td>\n",
              "      <td>79.0</td>\n",
              "      <td>32.0</td>\n",
              "      <td>308.0</td>\n",
              "    </tr>\n",
              "  </tbody>\n",
              "</table>\n",
              "</div>"
            ],
            "text/plain": [
              "      Номер связки  ... bm_no_prep\n",
              "1872           1.0  ...       74.0\n",
              "262            6.0  ...      324.0\n",
              "2224           1.0  ...       57.0\n",
              "2245           1.0  ...       57.0\n",
              "1527         308.0  ...      308.0\n",
              "\n",
              "[5 rows x 13 columns]"
            ]
          },
          "metadata": {
            "tags": []
          },
          "execution_count": 136
        }
      ]
    },
    {
      "cell_type": "code",
      "metadata": {
        "id": "v6aFPP1ThzqK",
        "outputId": "ae6b1a4d-93ec-4a94-f2e1-7761f8535522",
        "colab": {
          "base_uri": "https://localhost:8080/",
          "height": 34
        }
      },
      "source": [
        "accuracy_score(test['Номер связки'], test['bm_deeppavlov'])"
      ],
      "execution_count": 115,
      "outputs": [
        {
          "output_type": "execute_result",
          "data": {
            "text/plain": [
              "0.13623188405797101"
            ]
          },
          "metadata": {
            "tags": []
          },
          "execution_count": 115
        }
      ]
    },
    {
      "cell_type": "markdown",
      "metadata": {
        "id": "NpMDZVrJzp0F"
      },
      "source": [
        "##### без препроцессинга"
      ]
    },
    {
      "cell_type": "code",
      "metadata": {
        "id": "MvcsuPwJzvLg"
      },
      "source": [
        "corpus3 = train['вопросы_препроцессинговые'].tolist()"
      ],
      "execution_count": 116,
      "outputs": []
    },
    {
      "cell_type": "code",
      "metadata": {
        "id": "z0yxlfqmh9ph"
      },
      "source": [
        "tokenized_corpus3 = [doc.split(\" \") for doc in corpus3]"
      ],
      "execution_count": 117,
      "outputs": []
    },
    {
      "cell_type": "code",
      "metadata": {
        "id": "00Uy7fpOiAuj"
      },
      "source": [
        "bm253 = BM25Okapi(tokenized_corpus3)"
      ],
      "execution_count": 118,
      "outputs": []
    },
    {
      "cell_type": "code",
      "metadata": {
        "id": "nhE9hKudiFjp",
        "outputId": "412f3b4a-e074-4b4a-bbf6-d2a61b808c75",
        "colab": {
          "base_uri": "https://localhost:8080/",
          "height": 66,
          "referenced_widgets": [
            "9c59e0243d164eeebd50f40e08e142ac",
            "f51976b3501a4ed38fa5f78110fbf9d2",
            "b387336c84aa46aabe71ec0020e6ef7f",
            "d4d6385b79154f36821e9f084353bcc3",
            "dc3e84fa25344caf8cae04d37bbfad03",
            "ae270eef0b8a4da587d261bf5e0f4727",
            "1e3be74144344d27b71b9ee7fbd7d1db",
            "42accbd007644f51956fdb2df9c90563"
          ]
        }
      },
      "source": [
        "for_bm_no_prep = []\n",
        "for index, row in tqdm(test.iterrows()):\n",
        "    tokenized_query = row['вопросы_препроцессинговые'].split(\" \")\n",
        "    doc_scores = bm253.get_scores(tokenized_query)\n",
        "    for_bm_no_prep.append(ranging_simple(doc_scores))"
      ],
      "execution_count": 119,
      "outputs": [
        {
          "output_type": "display_data",
          "data": {
            "application/vnd.jupyter.widget-view+json": {
              "model_id": "9c59e0243d164eeebd50f40e08e142ac",
              "version_minor": 0,
              "version_major": 2
            },
            "text/plain": [
              "HBox(children=(FloatProgress(value=1.0, bar_style='info', max=1.0), HTML(value='')))"
            ]
          },
          "metadata": {
            "tags": []
          }
        },
        {
          "output_type": "stream",
          "text": [
            "\n"
          ],
          "name": "stdout"
        }
      ]
    },
    {
      "cell_type": "code",
      "metadata": {
        "id": "mN0Ej9-DiN33"
      },
      "source": [
        "test['bm_no_prep'] = for_bm_no_prep"
      ],
      "execution_count": 120,
      "outputs": []
    },
    {
      "cell_type": "code",
      "metadata": {
        "id": "I1ia2Gv5iXYG",
        "outputId": "0986f71d-6b50-4dab-97fd-e485b7e1c801",
        "colab": {
          "base_uri": "https://localhost:8080/",
          "height": 564
        }
      },
      "source": [
        "test.head()"
      ],
      "execution_count": 121,
      "outputs": [
        {
          "output_type": "execute_result",
          "data": {
            "text/html": [
              "<div>\n",
              "<style scoped>\n",
              "    .dataframe tbody tr th:only-of-type {\n",
              "        vertical-align: middle;\n",
              "    }\n",
              "\n",
              "    .dataframe tbody tr th {\n",
              "        vertical-align: top;\n",
              "    }\n",
              "\n",
              "    .dataframe thead th {\n",
              "        text-align: right;\n",
              "    }\n",
              "</style>\n",
              "<table border=\"1\" class=\"dataframe\">\n",
              "  <thead>\n",
              "    <tr style=\"text-align: right;\">\n",
              "      <th></th>\n",
              "      <th>Номер связки</th>\n",
              "      <th>Текст вопросов</th>\n",
              "      <th>preprocess_natasha</th>\n",
              "      <th>preprocess_deepmipt</th>\n",
              "      <th>вопросы_препроцессинговые</th>\n",
              "      <th>natasha</th>\n",
              "      <th>deeppavlov</th>\n",
              "      <th>tf_vector_natasha</th>\n",
              "      <th>tf_vector_deeppavlov</th>\n",
              "      <th>tf_vector_no_prep</th>\n",
              "      <th>bm_natasha</th>\n",
              "      <th>bm_deeppavlov</th>\n",
              "      <th>bm_no_prep</th>\n",
              "    </tr>\n",
              "  </thead>\n",
              "  <tbody>\n",
              "    <tr>\n",
              "      <th>2108</th>\n",
              "      <td>1.0</td>\n",
              "      <td>Добрый день!\\nСегодня ребенка не допустили к з...</td>\n",
              "      <td>Добрый день!\\nСегодня ребенка не допустили к з...</td>\n",
              "      <td>Добрый день ! Сегодня ребенка не допустили к з...</td>\n",
              "      <td>добрый день сегодня ребёнок не допустить к зан...</td>\n",
              "      <td>добрый день сегодня ребёнок не допустить к зан...</td>\n",
              "      <td>добрый день сегодня ребёнок не допустить к зан...</td>\n",
              "      <td>12.0</td>\n",
              "      <td>12.0</td>\n",
              "      <td>32.0</td>\n",
              "      <td>12.0</td>\n",
              "      <td>12.0</td>\n",
              "      <td>12.0</td>\n",
              "    </tr>\n",
              "    <tr>\n",
              "      <th>913</th>\n",
              "      <td>308.0</td>\n",
              "      <td>Здравствуйте, по правилам и предписаниям, необ...</td>\n",
              "      <td>Здравствуйте, по правилам и предписаниям, необ...</td>\n",
              "      <td>Здравствуйте , по правилам и предписаниям , не...</td>\n",
              "      <td>здравствуйте по правило и предписание необходи...</td>\n",
              "      <td>здравствуйте по правило и предписание необходи...</td>\n",
              "      <td>здравствуйте по правило и предписание необходи...</td>\n",
              "      <td>327.0</td>\n",
              "      <td>327.0</td>\n",
              "      <td>327.0</td>\n",
              "      <td>327.0</td>\n",
              "      <td>325.0</td>\n",
              "      <td>57.0</td>\n",
              "    </tr>\n",
              "    <tr>\n",
              "      <th>2189</th>\n",
              "      <td>79.0</td>\n",
              "      <td>Здравствуйте! Хотела узнать стоит ли мне обрат...</td>\n",
              "      <td>Здравствуйте! Хотела узнать стоит ли мне обрат...</td>\n",
              "      <td>Здравствуйте ! Хотела узнать стоит ли мне обра...</td>\n",
              "      <td>здравствуйте хотеть узнать стоить ли я обратит...</td>\n",
              "      <td>здравствуйте хотеть узнать стоить ли я обратит...</td>\n",
              "      <td>здравствуйте хотеть узнать стоить ли я обратит...</td>\n",
              "      <td>132.0</td>\n",
              "      <td>132.0</td>\n",
              "      <td>132.0</td>\n",
              "      <td>1.0</td>\n",
              "      <td>132.0</td>\n",
              "      <td>1.0</td>\n",
              "    </tr>\n",
              "    <tr>\n",
              "      <th>1438</th>\n",
              "      <td>308.0</td>\n",
              "      <td>Доброе утро!\\n\\n\\n\\nПросьба сообщить, обязан л...</td>\n",
              "      <td>Доброе утро!\\n\\n\\n\\nПросьба сообщить, обязан л...</td>\n",
              "      <td>Доброе утро ! Просьба сообщить , обязан ли я с...</td>\n",
              "      <td>добрый утро просьба сообщить обязать ли я сдав...</td>\n",
              "      <td>добрый утро просьба сообщить обязать ли я сдав...</td>\n",
              "      <td>добрый утро просьба сообщить обязать ли я сдав...</td>\n",
              "      <td>308.0</td>\n",
              "      <td>308.0</td>\n",
              "      <td>308.0</td>\n",
              "      <td>12.0</td>\n",
              "      <td>12.0</td>\n",
              "      <td>12.0</td>\n",
              "    </tr>\n",
              "    <tr>\n",
              "      <th>2178</th>\n",
              "      <td>257.0</td>\n",
              "      <td>Здравствуйте! Мы живём в городе Истра, моей ма...</td>\n",
              "      <td>Здравствуйте! Мы живём в городе , моей маме 67...</td>\n",
              "      <td>Здравствуйте ! Мы живём в городе , моей маме 6...</td>\n",
              "      <td>здравствуйте мы жить в город истра мой мама 67...</td>\n",
              "      <td>здравствуйте мы жить в город мой мама 67 год и...</td>\n",
              "      <td>здравствуйте мы жить в город мой мама 67 год и...</td>\n",
              "      <td>32.0</td>\n",
              "      <td>32.0</td>\n",
              "      <td>32.0</td>\n",
              "      <td>6.0</td>\n",
              "      <td>6.0</td>\n",
              "      <td>32.0</td>\n",
              "    </tr>\n",
              "  </tbody>\n",
              "</table>\n",
              "</div>"
            ],
            "text/plain": [
              "      Номер связки  ... bm_no_prep\n",
              "2108           1.0  ...       12.0\n",
              "913          308.0  ...       57.0\n",
              "2189          79.0  ...        1.0\n",
              "1438         308.0  ...       12.0\n",
              "2178         257.0  ...       32.0\n",
              "\n",
              "[5 rows x 13 columns]"
            ]
          },
          "metadata": {
            "tags": []
          },
          "execution_count": 121
        }
      ]
    },
    {
      "cell_type": "code",
      "metadata": {
        "id": "0Z1Ezg9XiZRo",
        "outputId": "c1968530-055e-4c72-99cf-29f6a03a8dd2",
        "colab": {
          "base_uri": "https://localhost:8080/",
          "height": 34
        }
      },
      "source": [
        "accuracy_score(test['Номер связки'], test['bm_no_prep'])"
      ],
      "execution_count": 122,
      "outputs": [
        {
          "output_type": "execute_result",
          "data": {
            "text/plain": [
              "0.15072463768115943"
            ]
          },
          "metadata": {
            "tags": []
          },
          "execution_count": 122
        }
      ]
    },
    {
      "cell_type": "markdown",
      "metadata": {
        "id": "iQDgnRkp_cO8"
      },
      "source": [
        "### __Задача 3__:    \n",
        "Улучшить правила в natasha. Написать правила, которые ловят даты в следующих примерах и пересчитать статистику из Задачи 2:\n",
        "- Уехал 8-9 ноября в Сочи\n",
        "- Уезжаю 5 числа                           \n",
        "- 20го сентября заболел\n",
        "\n",
        "Пример можно посмотреть тут: https://github.com/natasha/yargy"
      ]
    },
    {
      "cell_type": "code",
      "metadata": {
        "id": "dePRHT5IPqmS",
        "outputId": "0c2fe411-c9c7-4260-c7a9-b4b7c5e3e8c8",
        "colab": {
          "base_uri": "https://localhost:8080/",
          "height": 122
        }
      },
      "source": [
        "!pip install yargy"
      ],
      "execution_count": 137,
      "outputs": [
        {
          "output_type": "stream",
          "text": [
            "Requirement already satisfied: yargy in /usr/local/lib/python3.6/dist-packages (0.14.0)\n",
            "Requirement already satisfied: pymorphy2 in /usr/local/lib/python3.6/dist-packages (from yargy) (0.9.1)\n",
            "Requirement already satisfied: dawg-python>=0.7.1 in /usr/local/lib/python3.6/dist-packages (from pymorphy2->yargy) (0.7.2)\n",
            "Requirement already satisfied: pymorphy2-dicts-ru<3.0,>=2.4 in /usr/local/lib/python3.6/dist-packages (from pymorphy2->yargy) (2.4.404381.4453942)\n",
            "Requirement already satisfied: docopt>=0.6 in /usr/local/lib/python3.6/dist-packages (from pymorphy2->yargy) (0.6.2)\n"
          ],
          "name": "stdout"
        }
      ]
    },
    {
      "cell_type": "code",
      "metadata": {
        "id": "MdcLhyq-_cO9"
      },
      "source": [
        "from yargy import Parser, rule, and_, not_\n",
        "from yargy.interpretation import fact\n",
        "from yargy.predicates import gram\n",
        "from yargy.relations import gnc_relation\n",
        "from yargy.pipelines import morph_pipeline"
      ],
      "execution_count": 142,
      "outputs": []
    },
    {
      "cell_type": "markdown",
      "metadata": {
        "id": "YxKJ-Z_j0Rlg"
      },
      "source": [
        "В написании правила я решила опереться на эту статью: https://habr.com/ru/post/349864/"
      ]
    },
    {
      "cell_type": "code",
      "metadata": {
        "id": "jgW0yFmePuXO"
      },
      "source": [
        "from yargy import rule, and_, Parser, or_\n",
        "from yargy.predicates import gte, lte, dictionary\n",
        "\n",
        "MONTHS = {\n",
        "    'январь': 1,\n",
        "    'февраль': 2,\n",
        "    'март': 3,\n",
        "    'апрель': 4,\n",
        "    'мая': 5,\n",
        "    'июнь': 6,\n",
        "    'июль': 7,\n",
        "    'август': 8,\n",
        "    'сентябрь': 9,\n",
        "    'октябрь': 10,\n",
        "    'ноябрь': 11,\n",
        "    'декабрь': 12\n",
        "}\n",
        "\n",
        "# инициализируем день\n",
        "DAY = and_(\n",
        "    gte(1),\n",
        "    lte(31)\n",
        ")\n",
        "\n",
        "# инициализируем месяц\n",
        "MONTH = and_(\n",
        "    gte(1),\n",
        "    lte(12)\n",
        ")\n",
        "\n",
        "# инициализируем год\n",
        "YEAR = and_(\n",
        "    gte(1),\n",
        "    lte(2020)\n",
        ")\n",
        "\n",
        "MONTH_NAME = dictionary(\n",
        "    MONTHS\n",
        ")\n",
        "\n",
        "DATE = or_(\n",
        "    rule(YEAR, '-', MONTH, '-', DAY),\n",
        "    rule(YEAR, '-', MONTH_NAME, '-', DAY),\n",
        "    rule(DAY, '-', DAY, MONTH_NAME),\n",
        "    rule(DAY, '-', DAY, 'числа'),\n",
        "    rule(DAY, 'числа'),\n",
        "    rule(DAY, 'го', MONTH_NAME),\n",
        "    rule(DAY, '-го', MONTH),\n",
        "    rule(DAY, 'числа', YEAR.optional()),\n",
        "    rule(DAY, 'числа', MONTH_NAME, YEAR.optional())\n",
        "    )"
      ],
      "execution_count": 183,
      "outputs": []
    },
    {
      "cell_type": "code",
      "metadata": {
        "id": "B9fdDBWS6IHi"
      },
      "source": [
        "parser = Parser(DATE)\n",
        "text = 'Уехал 8-9 ноября в Сочи Уезжаю 5 числа 20го сентября заболел'\n",
        "t_text = ''\n",
        "final = []\n",
        "for match in parser.findall(text):\n",
        "    t_text = ''\n",
        "    for el in [_.value for _ in match.tokens]:\n",
        "        if len(el) < 3:\n",
        "            t_text += el\n",
        "        else:\n",
        "            t_text += ' ' + el\n",
        "    final.append(t_text)"
      ],
      "execution_count": 184,
      "outputs": []
    },
    {
      "cell_type": "code",
      "metadata": {
        "id": "KjawKuVK56GS",
        "outputId": "40bbfe97-ec1c-43f3-888c-b8787d194e97",
        "colab": {
          "base_uri": "https://localhost:8080/",
          "height": 34
        }
      },
      "source": [
        "final"
      ],
      "execution_count": 185,
      "outputs": [
        {
          "output_type": "execute_result",
          "data": {
            "text/plain": [
              "['8-9 ноября', '5 числа', '20го сентября']"
            ]
          },
          "metadata": {
            "tags": []
          },
          "execution_count": 185
        }
      ]
    },
    {
      "cell_type": "code",
      "metadata": {
        "id": "Bsyk7nhD5sU9"
      },
      "source": [
        "def preprocess_with_natasha_data(text: str) -> str:\n",
        "    text = str(text)\n",
        "\n",
        "    t_text = ''\n",
        "    final = []\n",
        "    for match in parser.findall(text):\n",
        "        t_text = ''\n",
        "        for el in [_.value for _ in match.tokens]:\n",
        "            if len(el) < 3:\n",
        "                t_text += el\n",
        "            else:\n",
        "                t_text += ' ' + el\n",
        "        final.append(t_text)\n",
        "    \n",
        "    clean_text = text\n",
        "    for el in final:\n",
        "        clean_text = clean_text.replace(el, '')\n",
        "\n",
        "    return clean_text"
      ],
      "execution_count": 186,
      "outputs": []
    },
    {
      "cell_type": "markdown",
      "metadata": {
        "id": "qtuQiCbMUDfJ"
      },
      "source": [
        "Для одного "
      ]
    },
    {
      "cell_type": "code",
      "metadata": {
        "id": "VspPil1gT5Kc"
      },
      "source": [
        "nt = preprocess_with_natasha_data(text)"
      ],
      "execution_count": 187,
      "outputs": []
    },
    {
      "cell_type": "code",
      "metadata": {
        "id": "cIGt0lGYUA1u",
        "outputId": "e45e9263-a78d-4284-e2f7-02275c6413d1",
        "colab": {
          "base_uri": "https://localhost:8080/",
          "height": 35
        }
      },
      "source": [
        "nt"
      ],
      "execution_count": 188,
      "outputs": [
        {
          "output_type": "execute_result",
          "data": {
            "application/vnd.google.colaboratory.intrinsic+json": {
              "type": "string"
            },
            "text/plain": [
              "'Уехал  в Сочи Уезжаю   заболел'"
            ]
          },
          "metadata": {
            "tags": []
          },
          "execution_count": 188
        }
      ]
    },
    {
      "cell_type": "code",
      "metadata": {
        "id": "fioEJ-hXUCUQ",
        "outputId": "5b04fcc9-d32f-4fc7-a66f-007c78e113ef",
        "colab": {
          "base_uri": "https://localhost:8080/",
          "height": 66,
          "referenced_widgets": [
            "7c7ccab6d19844b5b07bc5d9ab58d80f",
            "fd20ed1acb3b4586867a2b18c5afe933",
            "db6dbb2ea16e4bdb87968465c584801e",
            "63ccee3cf0fd4299bdea0e2a7b688dd6",
            "fa76d1948f2147d89d3c55859a1efd34",
            "a90e0c639f8440eb8d7e971ee07250db",
            "fd9fff3d46aa4002af4668f34a307d61",
            "ca81092071df4c79bd21a37881956c35"
          ]
        }
      },
      "source": [
        "natasha_date = []\n",
        "for index, row in tqdm(train.iterrows()):\n",
        "    text = row['preprocess_natasha']\n",
        "    clean_nat = preprocess_with_natasha_data(text)\n",
        "    natasha_date.append(clean_nat)"
      ],
      "execution_count": 189,
      "outputs": [
        {
          "output_type": "display_data",
          "data": {
            "application/vnd.jupyter.widget-view+json": {
              "model_id": "7c7ccab6d19844b5b07bc5d9ab58d80f",
              "version_minor": 0,
              "version_major": 2
            },
            "text/plain": [
              "HBox(children=(FloatProgress(value=1.0, bar_style='info', max=1.0), HTML(value='')))"
            ]
          },
          "metadata": {
            "tags": []
          }
        },
        {
          "output_type": "stream",
          "text": [
            "\n"
          ],
          "name": "stdout"
        }
      ]
    },
    {
      "cell_type": "code",
      "metadata": {
        "id": "dTiiqr35U7zF"
      },
      "source": [
        "train['preprocess_natasha_date'] = natasha_date"
      ],
      "execution_count": 190,
      "outputs": []
    },
    {
      "cell_type": "code",
      "metadata": {
        "id": "QCM2bvcWVEmz",
        "outputId": "c452058f-1b96-4798-91fd-4d7969f61046",
        "colab": {
          "base_uri": "https://localhost:8080/",
          "height": 66,
          "referenced_widgets": [
            "058a2fdac0154ded9cb929044d578a4e",
            "0942862574924bc683597c573e30cb6b",
            "b19766552d204b9dbe1a9d1996beccb5",
            "31e3144610e2420bb856772aefd3cb11",
            "57089a75849a45e59afc47097f9ac239",
            "be9641ec1ead4d0bba5c0a20235fd920",
            "f70306c1dddf4fa2a36538579eece13f",
            "e2c83b054b724d8eb6578356405d41df"
          ]
        }
      },
      "source": [
        "natasha_date_test = []\n",
        "for index, row in tqdm(test.iterrows()):\n",
        "    text = row['preprocess_natasha']\n",
        "    clean_nat = preprocess_with_natasha_data(text)\n",
        "    natasha_date_test.append(clean_nat)"
      ],
      "execution_count": 191,
      "outputs": [
        {
          "output_type": "display_data",
          "data": {
            "application/vnd.jupyter.widget-view+json": {
              "model_id": "058a2fdac0154ded9cb929044d578a4e",
              "version_minor": 0,
              "version_major": 2
            },
            "text/plain": [
              "HBox(children=(FloatProgress(value=1.0, bar_style='info', max=1.0), HTML(value='')))"
            ]
          },
          "metadata": {
            "tags": []
          }
        },
        {
          "output_type": "stream",
          "text": [
            "\n"
          ],
          "name": "stdout"
        }
      ]
    },
    {
      "cell_type": "code",
      "metadata": {
        "id": "vmoohCbNVLsr"
      },
      "source": [
        "test['preprocess_natasha_date'] = natasha_date_test"
      ],
      "execution_count": 193,
      "outputs": []
    },
    {
      "cell_type": "code",
      "metadata": {
        "id": "vdmuR43lVQbP",
        "outputId": "5748b5d0-f5c3-4b57-80ed-77e227f8a297",
        "colab": {
          "base_uri": "https://localhost:8080/",
          "height": 66,
          "referenced_widgets": [
            "5824fc8a30024d84950cbcb16710f47d",
            "f83374b3c314476293ea8d9325e2b924",
            "b95edcf627c74dfc9d6806b65b061cf6",
            "45e9b7f1d969495593dd80ada7009459",
            "567b0aeff1f14dd28a9d62b3a4c1e62a",
            "bdc9b60ba03b40d5bc59354d3f837429",
            "56cf1303aa07470ea5a76bf557b615ab",
            "0c63d33ec25942eab969566ef9cf8605"
          ]
        }
      },
      "source": [
        "lemm_text_new = preprocessing(tqdm(train['preprocess_natasha_date']))\n",
        "train['natasha_date'] = lemm_text_new"
      ],
      "execution_count": 194,
      "outputs": [
        {
          "output_type": "display_data",
          "data": {
            "application/vnd.jupyter.widget-view+json": {
              "model_id": "5824fc8a30024d84950cbcb16710f47d",
              "version_minor": 0,
              "version_major": 2
            },
            "text/plain": [
              "HBox(children=(FloatProgress(value=0.0, max=1652.0), HTML(value='')))"
            ]
          },
          "metadata": {
            "tags": []
          }
        },
        {
          "output_type": "stream",
          "text": [
            "\n"
          ],
          "name": "stdout"
        }
      ]
    },
    {
      "cell_type": "code",
      "metadata": {
        "id": "e2VcMLOHVtrl",
        "outputId": "a8a71ecb-0357-4f95-dbc0-c8bc27dff360",
        "colab": {
          "base_uri": "https://localhost:8080/",
          "height": 615
        }
      },
      "source": [
        "train.head()"
      ],
      "execution_count": 195,
      "outputs": [
        {
          "output_type": "execute_result",
          "data": {
            "text/html": [
              "<div>\n",
              "<style scoped>\n",
              "    .dataframe tbody tr th:only-of-type {\n",
              "        vertical-align: middle;\n",
              "    }\n",
              "\n",
              "    .dataframe tbody tr th {\n",
              "        vertical-align: top;\n",
              "    }\n",
              "\n",
              "    .dataframe thead th {\n",
              "        text-align: right;\n",
              "    }\n",
              "</style>\n",
              "<table border=\"1\" class=\"dataframe\">\n",
              "  <thead>\n",
              "    <tr style=\"text-align: right;\">\n",
              "      <th></th>\n",
              "      <th>Номер связки</th>\n",
              "      <th>Текст вопросов</th>\n",
              "      <th>preprocess_natasha</th>\n",
              "      <th>preprocess_deepmipt</th>\n",
              "      <th>вопросы_препроцессинговые</th>\n",
              "      <th>natasha</th>\n",
              "      <th>deeppavlov</th>\n",
              "      <th>preprocess_natasha_date</th>\n",
              "      <th>natasha_date</th>\n",
              "    </tr>\n",
              "  </thead>\n",
              "  <tbody>\n",
              "    <tr>\n",
              "      <th>0</th>\n",
              "      <td>57.0</td>\n",
              "      <td>У ребенка в школе продлили каникулы. Могу ли я...</td>\n",
              "      <td>У ребенка в школе продлили каникулы. Могу ли я...</td>\n",
              "      <td>У ребенка в школе продлили каникулы . Могу ли ...</td>\n",
              "      <td>у ребёнок в школа продлить каникулы мочь ли я ...</td>\n",
              "      <td>у ребёнок в школа продлить каникулы мочь ли я ...</td>\n",
              "      <td>у ребёнок в школа продлить каникулы мочь ли я ...</td>\n",
              "      <td>У ребенка в школе продлили каникулы. Могу ли я...</td>\n",
              "      <td>у ребёнок в школа продлить каникулы мочь ли я ...</td>\n",
              "    </tr>\n",
              "    <tr>\n",
              "      <th>1</th>\n",
              "      <td>78.0</td>\n",
              "      <td>Где сделать вакцинацию от коронавируса?\\nСущес...</td>\n",
              "      <td>Где сделать вакцинацию от коронавируса?\\nСущес...</td>\n",
              "      <td>Где сделать вакцинацию от коронавируса ? Сущес...</td>\n",
              "      <td>где сделать вакцинация от коронавирус существо...</td>\n",
              "      <td>где сделать вакцинация от коронавирус существо...</td>\n",
              "      <td>где сделать вакцинация от коронавирус существо...</td>\n",
              "      <td>Где сделать вакцинацию от коронавируса?\\nСущес...</td>\n",
              "      <td>где сделать вакцинация от коронавирус существо...</td>\n",
              "    </tr>\n",
              "    <tr>\n",
              "      <th>2</th>\n",
              "      <td>326.0</td>\n",
              "      <td>Сколько стоит сделать вакцину от гриппа?\\nМожн...</td>\n",
              "      <td>Сколько стоит сделать вакцину от гриппа?\\nМожн...</td>\n",
              "      <td>Сколько стоит сделать вакцину от гриппа ? Можн...</td>\n",
              "      <td>сколько стоить сделать вакцина от грипп можно ...</td>\n",
              "      <td>сколько стоить сделать вакцина от грипп можно ...</td>\n",
              "      <td>сколько стоить сделать вакцина от грипп можно ...</td>\n",
              "      <td>Сколько стоит сделать вакцину от гриппа?\\nМожн...</td>\n",
              "      <td>сколько стоить сделать вакцина от грипп можно ...</td>\n",
              "    </tr>\n",
              "    <tr>\n",
              "      <th>3</th>\n",
              "      <td>327.0</td>\n",
              "      <td>Могу я отказаться от вакцинации?\\nВ каких случ...</td>\n",
              "      <td>Могу я отказаться от вакцинации?\\nВ каких случ...</td>\n",
              "      <td>Могу я отказаться от вакцинации ? В каких случ...</td>\n",
              "      <td>мочь я отказаться от вакцинация в какой случай...</td>\n",
              "      <td>мочь я отказаться от вакцинация в какой случай...</td>\n",
              "      <td>мочь я отказаться от вакцинация в какой случай...</td>\n",
              "      <td>Могу я отказаться от вакцинации?\\nВ каких случ...</td>\n",
              "      <td>мочь я отказаться от вакцинация в какой случай...</td>\n",
              "    </tr>\n",
              "    <tr>\n",
              "      <th>4</th>\n",
              "      <td>328.0</td>\n",
              "      <td>Безопасна ли вакцинация?\\nОпасна ли вакцинация...</td>\n",
              "      <td>Безопасна ли вакцинация?\\nОпасна ли вакцинация...</td>\n",
              "      <td>Безопасна ли вакцинация ? Опасна ли вакцинация...</td>\n",
              "      <td>безопасный ли вакцинация опасный ли вакцинация...</td>\n",
              "      <td>безопасный ли вакцинация опасный ли вакцинация...</td>\n",
              "      <td>безопасный ли вакцинация опасный ли вакцинация...</td>\n",
              "      <td>Безопасна ли вакцинация?\\nОпасна ли вакцинация...</td>\n",
              "      <td>безопасный ли вакцинация опасный ли вакцинация...</td>\n",
              "    </tr>\n",
              "  </tbody>\n",
              "</table>\n",
              "</div>"
            ],
            "text/plain": [
              "   Номер связки  ...                                       natasha_date\n",
              "0          57.0  ...  у ребёнок в школа продлить каникулы мочь ли я ...\n",
              "1          78.0  ...  где сделать вакцинация от коронавирус существо...\n",
              "2         326.0  ...  сколько стоить сделать вакцина от грипп можно ...\n",
              "3         327.0  ...  мочь я отказаться от вакцинация в какой случай...\n",
              "4         328.0  ...  безопасный ли вакцинация опасный ли вакцинация...\n",
              "\n",
              "[5 rows x 9 columns]"
            ]
          },
          "metadata": {
            "tags": []
          },
          "execution_count": 195
        }
      ]
    },
    {
      "cell_type": "code",
      "metadata": {
        "id": "1qeOsYlUVypF",
        "outputId": "d22ca51a-a4f6-4fc0-ee4e-23c4e189e8af",
        "colab": {
          "base_uri": "https://localhost:8080/",
          "height": 66,
          "referenced_widgets": [
            "148b0c2f1c064f5a9a26ef9f7be30c96",
            "2eb20d1f3dbd49d794103af2e60f275d",
            "54c40c22c34048abb29a6db36573d0a2",
            "8db5a967e2124e27ad3e2c8576b91218",
            "faf61ff52eb44a44ae5fa2127b56c4a6",
            "b2ff7ef8387b4465a7d45666098d9156",
            "431421fbd99f49a986a9a5f55af1c4c9",
            "994e917468f44d6f9047e42507bf3a7a"
          ]
        }
      },
      "source": [
        "lemm_text_new_2 = preprocessing(tqdm(test['preprocess_natasha_date']))\n",
        "test['natasha_date'] = lemm_text_new_2"
      ],
      "execution_count": 196,
      "outputs": [
        {
          "output_type": "display_data",
          "data": {
            "application/vnd.jupyter.widget-view+json": {
              "model_id": "148b0c2f1c064f5a9a26ef9f7be30c96",
              "version_minor": 0,
              "version_major": 2
            },
            "text/plain": [
              "HBox(children=(FloatProgress(value=0.0, max=690.0), HTML(value='')))"
            ]
          },
          "metadata": {
            "tags": []
          }
        },
        {
          "output_type": "stream",
          "text": [
            "\n"
          ],
          "name": "stdout"
        }
      ]
    },
    {
      "cell_type": "code",
      "metadata": {
        "id": "kQcy-DW4V4y5",
        "outputId": "99b3ae36-01ef-41d3-bde3-b15ed8e2b4f8",
        "colab": {
          "base_uri": "https://localhost:8080/",
          "height": 564
        }
      },
      "source": [
        "test.head()"
      ],
      "execution_count": 197,
      "outputs": [
        {
          "output_type": "execute_result",
          "data": {
            "text/html": [
              "<div>\n",
              "<style scoped>\n",
              "    .dataframe tbody tr th:only-of-type {\n",
              "        vertical-align: middle;\n",
              "    }\n",
              "\n",
              "    .dataframe tbody tr th {\n",
              "        vertical-align: top;\n",
              "    }\n",
              "\n",
              "    .dataframe thead th {\n",
              "        text-align: right;\n",
              "    }\n",
              "</style>\n",
              "<table border=\"1\" class=\"dataframe\">\n",
              "  <thead>\n",
              "    <tr style=\"text-align: right;\">\n",
              "      <th></th>\n",
              "      <th>Номер связки</th>\n",
              "      <th>Текст вопросов</th>\n",
              "      <th>preprocess_natasha</th>\n",
              "      <th>preprocess_deepmipt</th>\n",
              "      <th>вопросы_препроцессинговые</th>\n",
              "      <th>natasha</th>\n",
              "      <th>deeppavlov</th>\n",
              "      <th>tf_vector_natasha</th>\n",
              "      <th>tf_vector_deeppavlov</th>\n",
              "      <th>tf_vector_no_prep</th>\n",
              "      <th>bm_natasha</th>\n",
              "      <th>bm_deeppavlov</th>\n",
              "      <th>bm_no_prep</th>\n",
              "      <th>preprocess_natasha_date</th>\n",
              "      <th>natasha_date</th>\n",
              "    </tr>\n",
              "  </thead>\n",
              "  <tbody>\n",
              "    <tr>\n",
              "      <th>2108</th>\n",
              "      <td>1.0</td>\n",
              "      <td>Добрый день!\\nСегодня ребенка не допустили к з...</td>\n",
              "      <td>Добрый день!\\nСегодня ребенка не допустили к з...</td>\n",
              "      <td>Добрый день ! Сегодня ребенка не допустили к з...</td>\n",
              "      <td>добрый день сегодня ребёнок не допустить к зан...</td>\n",
              "      <td>добрый день сегодня ребёнок не допустить к зан...</td>\n",
              "      <td>добрый день сегодня ребёнок не допустить к зан...</td>\n",
              "      <td>12.0</td>\n",
              "      <td>12.0</td>\n",
              "      <td>32.0</td>\n",
              "      <td>12.0</td>\n",
              "      <td>12.0</td>\n",
              "      <td>12.0</td>\n",
              "      <td>Добрый день!\\nСегодня ребенка не допустили к з...</td>\n",
              "      <td>добрый день сегодня ребёнок не допустить к зан...</td>\n",
              "    </tr>\n",
              "    <tr>\n",
              "      <th>913</th>\n",
              "      <td>308.0</td>\n",
              "      <td>Здравствуйте, по правилам и предписаниям, необ...</td>\n",
              "      <td>Здравствуйте, по правилам и предписаниям, необ...</td>\n",
              "      <td>Здравствуйте , по правилам и предписаниям , не...</td>\n",
              "      <td>здравствуйте по правило и предписание необходи...</td>\n",
              "      <td>здравствуйте по правило и предписание необходи...</td>\n",
              "      <td>здравствуйте по правило и предписание необходи...</td>\n",
              "      <td>327.0</td>\n",
              "      <td>327.0</td>\n",
              "      <td>327.0</td>\n",
              "      <td>327.0</td>\n",
              "      <td>325.0</td>\n",
              "      <td>57.0</td>\n",
              "      <td>Здравствуйте, по правилам и предписаниям, необ...</td>\n",
              "      <td>здравствуйте по правило и предписание необходи...</td>\n",
              "    </tr>\n",
              "    <tr>\n",
              "      <th>2189</th>\n",
              "      <td>79.0</td>\n",
              "      <td>Здравствуйте! Хотела узнать стоит ли мне обрат...</td>\n",
              "      <td>Здравствуйте! Хотела узнать стоит ли мне обрат...</td>\n",
              "      <td>Здравствуйте ! Хотела узнать стоит ли мне обра...</td>\n",
              "      <td>здравствуйте хотеть узнать стоить ли я обратит...</td>\n",
              "      <td>здравствуйте хотеть узнать стоить ли я обратит...</td>\n",
              "      <td>здравствуйте хотеть узнать стоить ли я обратит...</td>\n",
              "      <td>132.0</td>\n",
              "      <td>132.0</td>\n",
              "      <td>132.0</td>\n",
              "      <td>1.0</td>\n",
              "      <td>132.0</td>\n",
              "      <td>1.0</td>\n",
              "      <td>Здравствуйте! Хотела узнать стоит ли мне обрат...</td>\n",
              "      <td>здравствуйте хотеть узнать стоить ли я обратит...</td>\n",
              "    </tr>\n",
              "    <tr>\n",
              "      <th>1438</th>\n",
              "      <td>308.0</td>\n",
              "      <td>Доброе утро!\\n\\n\\n\\nПросьба сообщить, обязан л...</td>\n",
              "      <td>Доброе утро!\\n\\n\\n\\nПросьба сообщить, обязан л...</td>\n",
              "      <td>Доброе утро ! Просьба сообщить , обязан ли я с...</td>\n",
              "      <td>добрый утро просьба сообщить обязать ли я сдав...</td>\n",
              "      <td>добрый утро просьба сообщить обязать ли я сдав...</td>\n",
              "      <td>добрый утро просьба сообщить обязать ли я сдав...</td>\n",
              "      <td>308.0</td>\n",
              "      <td>308.0</td>\n",
              "      <td>308.0</td>\n",
              "      <td>12.0</td>\n",
              "      <td>12.0</td>\n",
              "      <td>12.0</td>\n",
              "      <td>Доброе утро!\\n\\n\\n\\nПросьба сообщить, обязан л...</td>\n",
              "      <td>добрый утро просьба сообщить обязать ли я сдав...</td>\n",
              "    </tr>\n",
              "    <tr>\n",
              "      <th>2178</th>\n",
              "      <td>257.0</td>\n",
              "      <td>Здравствуйте! Мы живём в городе Истра, моей ма...</td>\n",
              "      <td>Здравствуйте! Мы живём в городе , моей маме 67...</td>\n",
              "      <td>Здравствуйте ! Мы живём в городе , моей маме 6...</td>\n",
              "      <td>здравствуйте мы жить в город истра мой мама 67...</td>\n",
              "      <td>здравствуйте мы жить в город мой мама 67 год и...</td>\n",
              "      <td>здравствуйте мы жить в город мой мама 67 год и...</td>\n",
              "      <td>32.0</td>\n",
              "      <td>32.0</td>\n",
              "      <td>32.0</td>\n",
              "      <td>6.0</td>\n",
              "      <td>6.0</td>\n",
              "      <td>32.0</td>\n",
              "      <td>Здравствуйте! Мы живём в городе , моей маме 67...</td>\n",
              "      <td>здравствуйте мы жить в город мой мама 67 год и...</td>\n",
              "    </tr>\n",
              "  </tbody>\n",
              "</table>\n",
              "</div>"
            ],
            "text/plain": [
              "      Номер связки  ...                                       natasha_date\n",
              "2108           1.0  ...  добрый день сегодня ребёнок не допустить к зан...\n",
              "913          308.0  ...  здравствуйте по правило и предписание необходи...\n",
              "2189          79.0  ...  здравствуйте хотеть узнать стоить ли я обратит...\n",
              "1438         308.0  ...  добрый утро просьба сообщить обязать ли я сдав...\n",
              "2178         257.0  ...  здравствуйте мы жить в город мой мама 67 год и...\n",
              "\n",
              "[5 rows x 15 columns]"
            ]
          },
          "metadata": {
            "tags": []
          },
          "execution_count": 197
        }
      ]
    },
    {
      "cell_type": "markdown",
      "metadata": {
        "id": "za0rHMaSV-WL"
      },
      "source": [
        "#### TF-IDF"
      ]
    },
    {
      "cell_type": "code",
      "metadata": {
        "id": "SvvjJDx5WBoF"
      },
      "source": [
        "vectorizer_new = TfidfVectorizer()"
      ],
      "execution_count": 198,
      "outputs": []
    },
    {
      "cell_type": "code",
      "metadata": {
        "id": "epDbTftDV97E"
      },
      "source": [
        "X_new = vectorizer_new.fit_transform(train['natasha_date'].values.astype('U'))"
      ],
      "execution_count": 199,
      "outputs": []
    },
    {
      "cell_type": "code",
      "metadata": {
        "id": "Fg8GIv_OWRqn"
      },
      "source": [
        "matr_answers_new = X_new.toarray()"
      ],
      "execution_count": 200,
      "outputs": []
    },
    {
      "cell_type": "code",
      "metadata": {
        "id": "pGT3o03rWU6M",
        "outputId": "81600587-6ada-41e3-8cca-0beba184a9a5",
        "colab": {
          "base_uri": "https://localhost:8080/",
          "height": 66,
          "referenced_widgets": [
            "95a0c322f7b44aa6a3a60d34f136cc13",
            "b279817871b14b7198e245b0dba110a4",
            "f3bb6b1cadb44816b19e13994b7c6b07",
            "da13fd897d5b455f9b4e88b0d5de7aa9",
            "17a1812eddaf4eb4abad8b3cff488432",
            "cb3e1897d5d947acb6bf7c842182c2bb",
            "17ce862277c44deda00cb44c70b9dc3b",
            "69ca72b03719436db4ce2ea3ffccbb44"
          ]
        }
      },
      "source": [
        "for_tf_date = []\n",
        "for index, row in tqdm(test.iterrows()):\n",
        "    fin = text_to_vec(row['natasha_date'], vectorizer2, matr_answers_2)\n",
        "    for_tf_date.append(ranging_simple(fin))"
      ],
      "execution_count": 201,
      "outputs": [
        {
          "output_type": "display_data",
          "data": {
            "application/vnd.jupyter.widget-view+json": {
              "model_id": "95a0c322f7b44aa6a3a60d34f136cc13",
              "version_minor": 0,
              "version_major": 2
            },
            "text/plain": [
              "HBox(children=(FloatProgress(value=1.0, bar_style='info', max=1.0), HTML(value='')))"
            ]
          },
          "metadata": {
            "tags": []
          }
        },
        {
          "output_type": "stream",
          "text": [
            "\n"
          ],
          "name": "stdout"
        }
      ]
    },
    {
      "cell_type": "code",
      "metadata": {
        "id": "mvu--1QmWhMU"
      },
      "source": [
        "test['tf_vector_date_nat'] = for_tf_date"
      ],
      "execution_count": 202,
      "outputs": []
    },
    {
      "cell_type": "code",
      "metadata": {
        "id": "rg4CfnB_Wppw",
        "outputId": "4a1fbe67-f256-4bef-96c0-b81c6321f43f",
        "colab": {
          "base_uri": "https://localhost:8080/",
          "height": 34
        }
      },
      "source": [
        "accuracy_score(test['Номер связки'], test['tf_vector_date_nat'])"
      ],
      "execution_count": 203,
      "outputs": [
        {
          "output_type": "execute_result",
          "data": {
            "text/plain": [
              "0.22608695652173913"
            ]
          },
          "metadata": {
            "tags": []
          },
          "execution_count": 203
        }
      ]
    },
    {
      "cell_type": "markdown",
      "metadata": {
        "id": "cm1FwCeNWs4Y"
      },
      "source": [
        "#### BM25"
      ]
    },
    {
      "cell_type": "code",
      "metadata": {
        "id": "macvs-BYWupN"
      },
      "source": [
        "corpus_new = train.natasha_date.tolist()"
      ],
      "execution_count": 204,
      "outputs": []
    },
    {
      "cell_type": "code",
      "metadata": {
        "id": "EZm72qwuW2LD"
      },
      "source": [
        "tokenized_corpus_new = [doc.split(\" \") for doc in corpus_new]"
      ],
      "execution_count": 205,
      "outputs": []
    },
    {
      "cell_type": "code",
      "metadata": {
        "id": "Kmp--7RsW5y0"
      },
      "source": [
        "bm25_new = BM25Okapi(tokenized_corpus_new)"
      ],
      "execution_count": 206,
      "outputs": []
    },
    {
      "cell_type": "code",
      "metadata": {
        "id": "zjzYf5zUW8RV",
        "outputId": "d8a3c3de-d608-4a99-da19-26ceaf4d9d41",
        "colab": {
          "base_uri": "https://localhost:8080/",
          "height": 66,
          "referenced_widgets": [
            "28d8cf48b00c42a79c3a4090eb0f8aaa",
            "ab2e649ca4c84179965eab8234d83425",
            "e90fa7c878c346f3a1075f19c3eca446",
            "0fd2d440da6d47868188de536b8495cd",
            "0229011613e24ef497db33d08494062c",
            "6e6f7949644246ee9fc465b19307c099",
            "0063d0c561ab40889d90bdf988e24207",
            "a4405cc9ef27474bab9f23e3428a2877"
          ]
        }
      },
      "source": [
        "for_bm_date = []\n",
        "for index, row in tqdm(test.iterrows()):\n",
        "    tokenized_query = row.natasha_date.split(\" \")\n",
        "    doc_scores = bm25_new.get_scores(tokenized_query)\n",
        "    for_bm_date.append(ranging_simple(doc_scores))"
      ],
      "execution_count": 207,
      "outputs": [
        {
          "output_type": "display_data",
          "data": {
            "application/vnd.jupyter.widget-view+json": {
              "model_id": "28d8cf48b00c42a79c3a4090eb0f8aaa",
              "version_minor": 0,
              "version_major": 2
            },
            "text/plain": [
              "HBox(children=(FloatProgress(value=1.0, bar_style='info', max=1.0), HTML(value='')))"
            ]
          },
          "metadata": {
            "tags": []
          }
        },
        {
          "output_type": "stream",
          "text": [
            "\n"
          ],
          "name": "stdout"
        }
      ]
    },
    {
      "cell_type": "code",
      "metadata": {
        "id": "GrvYGRHEXGyV"
      },
      "source": [
        "test['bm_date_nat'] = for_bm_date"
      ],
      "execution_count": 208,
      "outputs": []
    },
    {
      "cell_type": "code",
      "metadata": {
        "id": "pxYfTAllXPXC",
        "outputId": "0cbcb675-3e74-41b5-a0d9-5df06cf36fa2",
        "colab": {
          "base_uri": "https://localhost:8080/",
          "height": 598
        }
      },
      "source": [
        "test.tail()"
      ],
      "execution_count": 209,
      "outputs": [
        {
          "output_type": "execute_result",
          "data": {
            "text/html": [
              "<div>\n",
              "<style scoped>\n",
              "    .dataframe tbody tr th:only-of-type {\n",
              "        vertical-align: middle;\n",
              "    }\n",
              "\n",
              "    .dataframe tbody tr th {\n",
              "        vertical-align: top;\n",
              "    }\n",
              "\n",
              "    .dataframe thead th {\n",
              "        text-align: right;\n",
              "    }\n",
              "</style>\n",
              "<table border=\"1\" class=\"dataframe\">\n",
              "  <thead>\n",
              "    <tr style=\"text-align: right;\">\n",
              "      <th></th>\n",
              "      <th>Номер связки</th>\n",
              "      <th>Текст вопросов</th>\n",
              "      <th>preprocess_natasha</th>\n",
              "      <th>preprocess_deepmipt</th>\n",
              "      <th>вопросы_препроцессинговые</th>\n",
              "      <th>natasha</th>\n",
              "      <th>deeppavlov</th>\n",
              "      <th>tf_vector_natasha</th>\n",
              "      <th>tf_vector_deeppavlov</th>\n",
              "      <th>tf_vector_no_prep</th>\n",
              "      <th>bm_natasha</th>\n",
              "      <th>bm_deeppavlov</th>\n",
              "      <th>bm_no_prep</th>\n",
              "      <th>preprocess_natasha_date</th>\n",
              "      <th>natasha_date</th>\n",
              "      <th>tf_vector_date_nat</th>\n",
              "      <th>bm_date_nat</th>\n",
              "    </tr>\n",
              "  </thead>\n",
              "  <tbody>\n",
              "    <tr>\n",
              "      <th>1872</th>\n",
              "      <td>1.0</td>\n",
              "      <td>Добрый день!\\nМоей супруге находящейся в больн...</td>\n",
              "      <td>Добрый день!\\nМоей супруге находящейся в больн...</td>\n",
              "      <td>Добрый день ! Моей супруге находящейся в больн...</td>\n",
              "      <td>добрый день мой супруга находиться в больница ...</td>\n",
              "      <td>добрый день мой супруга находиться в больница ...</td>\n",
              "      <td>добрый день мой супруга находиться в больница ...</td>\n",
              "      <td>74.0</td>\n",
              "      <td>74.0</td>\n",
              "      <td>74.0</td>\n",
              "      <td>74.0</td>\n",
              "      <td>74.0</td>\n",
              "      <td>74.0</td>\n",
              "      <td>Добрый день!\\nМоей супруге находящейся в больн...</td>\n",
              "      <td>добрый день мой супруга находиться в больница ...</td>\n",
              "      <td>74.0</td>\n",
              "      <td>74.0</td>\n",
              "    </tr>\n",
              "    <tr>\n",
              "      <th>262</th>\n",
              "      <td>6.0</td>\n",
              "      <td>Здравствуйте. У меня есть симптомы ОРВИ-насмор...</td>\n",
              "      <td>Здравствуйте. У меня есть симптомы ОРВИ-насмор...</td>\n",
              "      <td>Здравствуйте . У меня есть симптомы ОРВИ - нас...</td>\n",
              "      <td>здравствуйте у я есть симптом орви-насморк гор...</td>\n",
              "      <td>здравствуйте у я есть симптом орви-насморк гор...</td>\n",
              "      <td>здравствуйте у я есть симптом орвать - насморк...</td>\n",
              "      <td>324.0</td>\n",
              "      <td>324.0</td>\n",
              "      <td>286.0</td>\n",
              "      <td>270.0</td>\n",
              "      <td>32.0</td>\n",
              "      <td>324.0</td>\n",
              "      <td>Здравствуйте. У меня есть симптомы ОРВИ-насмор...</td>\n",
              "      <td>здравствуйте у я есть симптом орви-насморк гор...</td>\n",
              "      <td>324.0</td>\n",
              "      <td>270.0</td>\n",
              "    </tr>\n",
              "    <tr>\n",
              "      <th>2224</th>\n",
              "      <td>1.0</td>\n",
              "      <td>\\nДобрый день! Сегодня моей дочери Волковой Ал...</td>\n",
              "      <td>\\nДобрый день! Сегодня моей дочери   сообщили ...</td>\n",
              "      <td>Добрый день ! Сегодня моей дочери сообщили из ...</td>\n",
              "      <td>добрый день сегодня мой дочь волков александр ...</td>\n",
              "      <td>добрый день сегодня мой дочь сообщить из школа...</td>\n",
              "      <td>добрый день сегодня мой дочь сообщить из школа...</td>\n",
              "      <td>57.0</td>\n",
              "      <td>57.0</td>\n",
              "      <td>257.0</td>\n",
              "      <td>57.0</td>\n",
              "      <td>57.0</td>\n",
              "      <td>57.0</td>\n",
              "      <td>\\nДобрый день! Сегодня моей дочери   сообщили ...</td>\n",
              "      <td>добрый день сегодня мой дочь сообщить из школа...</td>\n",
              "      <td>57.0</td>\n",
              "      <td>57.0</td>\n",
              "    </tr>\n",
              "    <tr>\n",
              "      <th>2245</th>\n",
              "      <td>1.0</td>\n",
              "      <td>Добрый день! Каков порядок контактных людей по...</td>\n",
              "      <td>Добрый день! Каков порядок контактных людей по...</td>\n",
              "      <td>Добрый день ! Каков порядок контактных людей п...</td>\n",
              "      <td>добрый день каков порядок контактный человек п...</td>\n",
              "      <td>добрый день каков порядок контактный человек п...</td>\n",
              "      <td>добрый день каков порядок контактный человек п...</td>\n",
              "      <td>308.0</td>\n",
              "      <td>308.0</td>\n",
              "      <td>308.0</td>\n",
              "      <td>57.0</td>\n",
              "      <td>57.0</td>\n",
              "      <td>57.0</td>\n",
              "      <td>Добрый день! Каков порядок контактных людей по...</td>\n",
              "      <td>добрый день каков порядок контактный человек п...</td>\n",
              "      <td>308.0</td>\n",
              "      <td>57.0</td>\n",
              "    </tr>\n",
              "    <tr>\n",
              "      <th>1527</th>\n",
              "      <td>308.0</td>\n",
              "      <td>Добрый день!\\n\\nПомогите, пожалуйста, разобрат...</td>\n",
              "      <td>Добрый день!\\n\\nПомогите, пожалуйста, разобрат...</td>\n",
              "      <td>Добрый день ! Помогите , пожалуйста , разобрат...</td>\n",
              "      <td>добрый день помочь пожалуйста разобраться я ве...</td>\n",
              "      <td>добрый день помочь пожалуйста разобраться я ве...</td>\n",
              "      <td>добрый день помочь пожалуйста разобраться я ве...</td>\n",
              "      <td>308.0</td>\n",
              "      <td>308.0</td>\n",
              "      <td>308.0</td>\n",
              "      <td>79.0</td>\n",
              "      <td>32.0</td>\n",
              "      <td>308.0</td>\n",
              "      <td>Добрый день!\\n\\nПомогите, пожалуйста, разобрат...</td>\n",
              "      <td>добрый день помочь пожалуйста разобраться я ве...</td>\n",
              "      <td>308.0</td>\n",
              "      <td>79.0</td>\n",
              "    </tr>\n",
              "  </tbody>\n",
              "</table>\n",
              "</div>"
            ],
            "text/plain": [
              "      Номер связки  ... bm_date_nat\n",
              "1872           1.0  ...        74.0\n",
              "262            6.0  ...       270.0\n",
              "2224           1.0  ...        57.0\n",
              "2245           1.0  ...        57.0\n",
              "1527         308.0  ...        79.0\n",
              "\n",
              "[5 rows x 17 columns]"
            ]
          },
          "metadata": {
            "tags": []
          },
          "execution_count": 209
        }
      ]
    },
    {
      "cell_type": "code",
      "metadata": {
        "id": "XF4r9aF7XTaY",
        "outputId": "e48b6d3f-a47d-41db-b81c-e84549fd9e51",
        "colab": {
          "base_uri": "https://localhost:8080/",
          "height": 34
        }
      },
      "source": [
        "accuracy_score(test['Номер связки'], test['bm_date_nat'])"
      ],
      "execution_count": 210,
      "outputs": [
        {
          "output_type": "execute_result",
          "data": {
            "text/plain": [
              "0.13768115942028986"
            ]
          },
          "metadata": {
            "tags": []
          },
          "execution_count": 210
        }
      ]
    }
  ]
}