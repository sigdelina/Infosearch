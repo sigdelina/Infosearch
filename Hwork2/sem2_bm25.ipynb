{
 "cells": [
  {
   "cell_type": "markdown",
   "metadata": {
    "colab_type": "text",
    "id": "ujck6m-6bis6"
   },
   "source": [
    "## Лекция 2  BM5    "
   ]
  },
  {
   "cell_type": "markdown",
   "metadata": {
    "colab_type": "text",
    "id": "w1JZvX88bis7"
   },
   "source": [
    "### TfidfVectorizer"
   ]
  },
  {
   "cell_type": "markdown",
   "metadata": {
    "colab_type": "text",
    "id": "yFlEdS26bis8"
   },
   "source": [
    " "
   ]
  },
  {
   "cell_type": "code",
   "execution_count": null,
   "metadata": {
    "colab": {},
    "colab_type": "code",
    "id": "YQ2-Izuvbis8"
   },
   "outputs": [],
   "source": [
    "from sklearn.feature_extraction.text import TfidfVectorizer\n",
    "import numpy as np\n",
    " \n",
    "# инициализируем\n",
    "vectorizer = TfidfVectorizer()\n",
    "\n",
    "# составляем корпус документов\n",
    "corpus = [\n",
    "  'слово1 слово2 слово3',\n",
    "  'слово2 слово3',\n",
    "  'слово1 слово2 слово1',\n",
    "  'слово4'\n",
    "]\n",
    "\n",
    "# считаем\n",
    "X = vectorizer.fit_transform(corpus)\n",
    " \n",
    "# получится следующая структура:\n",
    "#        |  слово1  |  слово2  |  слово3  |  слово4\n",
    "# текст1 |   0.6    |    0.5   |   0.6    |    0\n",
    "# текст2 |   0      |    0.6   |   0.8    |    0\n",
    "# текст3 |   0.9    |    0.4   |   0      |    0\n",
    "# текст4 |   0      |    0     |   0      |    1\n",
    " \n",
    "# чтобы получить сгенерированный словарь, из приведенной структуры TfidfVectorizer\n",
    "# порядок совпадает с матрицей\n",
    "vectorizer.get_feature_names()  # ['слово1', 'слово2', 'слово3', 'слово4']\n",
    " \n",
    "# чтобы узнать индекс токена в словаре\n",
    "vectorizer.vocabulary_.get('слово3') # вернет 2\n",
    " \n",
    "# показать матрицу\n",
    "X.toarray()\n",
    " \n",
    "# теперь можно быстро подсчитать вектор для нового документа\n",
    "new_doc = vectorizer.transform(['слово1 слово4 слово4']).toarray()  # результат [[0.36673901, 0, 0, 0.93032387]]\n",
    " "
   ]
  },
  {
   "cell_type": "markdown",
   "metadata": {
    "colab_type": "text",
    "id": "AhwIiPGdbis_"
   },
   "source": [
    " "
   ]
  },
  {
   "cell_type": "markdown",
   "metadata": {
    "colab_type": "text",
    "id": "aRAVUev1bitA"
   },
   "source": [
    "## Функция ранжирования bm25"
   ]
  },
  {
   "cell_type": "markdown",
   "metadata": {
    "colab_type": "text",
    "id": "2FT4BZVcbitA"
   },
   "source": [
    "Для обратного индекса есть общепринятая формула для ранжирования *Okapi best match 25* ([Okapi BM25](https://ru.wikipedia.org/wiki/Okapi_BM25)).    \n",
    "Пусть дан запрос $Q$, содержащий слова  $q_1, ... , q_n$, тогда функция BM25 даёт следующую оценку релевантности документа $D$ запросу $Q$:\n",
    "\n",
    "$$ score(D, Q) = \\sum_{i}^{n} \\text{IDF}(q_i)*\\frac{TF(q_i,D)*(k+1)}{TF(q_i,D)+k(1-b+b\\frac{l(d)}{avgdl})} $$ \n",
    "где   \n",
    ">$TF(q_i,D)$ - частота слова $q_i$ в документе $D$      \n",
    "$l(d)$ - длина документа (количество слов в нём)   \n",
    "*avgdl* — средняя длина документа в коллекции    \n",
    "$k$ и $b$ — свободные коэффициенты, обычно их выбирают как $k$=2.0 и $b$=0.75   \n",
    "$$$$\n",
    "$\\text{IDF}(q_i)$ - это модернизированная версия IDF: \n",
    "$$\\text{IDF}(q_i) = \\log\\frac{N-n(q_i)+0.5}{n(q_i)+0.5},$$\n",
    ">> где $N$ - общее количество документов в коллекции   \n",
    "$n(q_i)$ — количество документов, содержащих $q_i$"
   ]
  },
  {
   "cell_type": "code",
   "execution_count": null,
   "metadata": {
    "colab": {},
    "colab_type": "code",
    "id": "3jmLMbeN_Gc8"
   },
   "outputs": [],
   "source": [
    "Q = vectorizer.get_feature_names()"
   ]
  },
  {
   "cell_type": "code",
   "execution_count": null,
   "metadata": {
    "colab": {},
    "colab_type": "code",
    "id": "NvjVcZWobitA"
   },
   "outputs": [],
   "source": [
    "### реализуйте эту функцию ранжирования \n",
    "from math import log\n",
    "\n",
    "k = 2.0\n",
    "b = 0.75\n",
    "\n",
    "\n",
    "def bm25() -> float:\n",
    "    return "
   ]
  },
  {
   "cell_type": "markdown",
   "metadata": {
    "colab_type": "text",
    "id": "0Cnk6l0xbitD"
   },
   "source": [
    "### __Задача 1__:    \n",
    "Реализуйте поиск с метрикой *TF-IDF* через умножение матрицы на вектор.\n",
    "Что должно быть в реализации:\n",
    "- проиндексированная база, где каждый документ представлен в виде вектора TF-IDF\n",
    "- функция перевода входяшего запроса в вектор по метрике TF-IDF\n",
    "- ранжирование докуменов по близости к запросу по убыванию\n",
    "\n",
    "В качестве корпуса возьмите корпус вопросов в РПН по Covid2019. Он состоит из:\n",
    "> файл **answers_base.xlsx** - база ответов, у каждого ответа есть его номер, тематика и примеры вопросов, которые могут быть заданы к этому ответу. Сейчас проиндексировать надо именно примеры вопросов в качестве документов базы. Понимаете почему?\n",
    "\n",
    "> файл **queries_base.xlsx** - вопросы юзеров, к каждому из которых проставлен номер верного ответа из базы. Разделите эти вопросы в пропорции 70/30 на обучающую (проиндексированную как база) и тестовую (как запросы) выборки. \n"
   ]
  },
  {
   "cell_type": "code",
   "execution_count": 1,
   "metadata": {
    "colab": {},
    "colab_type": "code",
    "id": "QvroPjWbdfbB"
   },
   "outputs": [],
   "source": [
    "import pandas as pd\n",
    "\n",
    "answers = pd.read_excel('answers_base.xlsx')\n",
    "queries = pd.read_excel(\"queries_base.xlsx\")"
   ]
  },
  {
   "cell_type": "markdown",
   "metadata": {},
   "source": [
    "можно сделать препроцессинг, потому что в примере лежат слова по попрядку в документах без знаков препинания"
   ]
  },
  {
   "cell_type": "code",
   "execution_count": 2,
   "metadata": {},
   "outputs": [],
   "source": [
    "import string\n",
    "import re\n",
    "import pandas as pd\n",
    "from pymorphy2 import MorphAnalyzer\n",
    "\n",
    "\n",
    "morph = MorphAnalyzer()"
   ]
  },
  {
   "cell_type": "code",
   "execution_count": 3,
   "metadata": {},
   "outputs": [],
   "source": [
    "def preprocessing(data):\n",
    "    data2 = []\n",
    "    cnt = 0\n",
    "    for v in data:\n",
    "        strng = ''\n",
    "        line = \"\".join(l for l in v if l not in (\n",
    "            '.', ',', '?', '!', ':', ';', '—', '--', '<', '>', '\"', '(', ')'))\n",
    "        for word in line.split():\n",
    "            word = re.sub(r'\\ufeff', '', word)\n",
    "            wrd = morph.parse(word)[0]\n",
    "            strng += wrd.normal_form + ' '\n",
    "        data2.append(strng)\n",
    "    return data2"
   ]
  },
  {
   "cell_type": "code",
   "execution_count": 4,
   "metadata": {},
   "outputs": [],
   "source": [
    "lemm_text = preprocessing(answers['Текст вопросов'])"
   ]
  },
  {
   "cell_type": "code",
   "execution_count": 5,
   "metadata": {},
   "outputs": [],
   "source": [
    "answers['вопросы_препроцессинговые'] = lemm_text"
   ]
  },
  {
   "cell_type": "code",
   "execution_count": 6,
   "metadata": {},
   "outputs": [
    {
     "data": {
      "text/html": [
       "<div>\n",
       "<style scoped>\n",
       "    .dataframe tbody tr th:only-of-type {\n",
       "        vertical-align: middle;\n",
       "    }\n",
       "\n",
       "    .dataframe tbody tr th {\n",
       "        vertical-align: top;\n",
       "    }\n",
       "\n",
       "    .dataframe thead th {\n",
       "        text-align: right;\n",
       "    }\n",
       "</style>\n",
       "<table border=\"1\" class=\"dataframe\">\n",
       "  <thead>\n",
       "    <tr style=\"text-align: right;\">\n",
       "      <th></th>\n",
       "      <th>Номер связки</th>\n",
       "      <th>Текст вопросов</th>\n",
       "      <th>Текст ответа</th>\n",
       "      <th>Тематика</th>\n",
       "      <th>вопросы_препроцессинговые</th>\n",
       "    </tr>\n",
       "  </thead>\n",
       "  <tbody>\n",
       "    <tr>\n",
       "      <th>0</th>\n",
       "      <td>57</td>\n",
       "      <td>У ребенка в школе продлили каникулы. Могу ли я...</td>\n",
       "      <td>Листок временной нетрудоспособности (больничны...</td>\n",
       "      <td>БОЛЬНИЧНЫЙ ЛИСТ</td>\n",
       "      <td>у ребёнок в школа продлить каникулы мочь ли я ...</td>\n",
       "    </tr>\n",
       "    <tr>\n",
       "      <th>1</th>\n",
       "      <td>78</td>\n",
       "      <td>Где сделать вакцинацию от коронавируса?\\nСущес...</td>\n",
       "      <td>Коронавирусы - это целое семейство вирусов, ко...</td>\n",
       "      <td>ВАКЦИНАЦИЯ</td>\n",
       "      <td>где сделать вакцинация от коронавирус существо...</td>\n",
       "    </tr>\n",
       "    <tr>\n",
       "      <th>2</th>\n",
       "      <td>326</td>\n",
       "      <td>Сколько стоит сделать вакцину от гриппа?\\nМожн...</td>\n",
       "      <td>Бесплатно пройти вакцинацию можно в Вашей меди...</td>\n",
       "      <td>ВАКЦИНАЦИЯ</td>\n",
       "      <td>сколько стоить сделать вакцина от грипп можно ...</td>\n",
       "    </tr>\n",
       "    <tr>\n",
       "      <th>3</th>\n",
       "      <td>327</td>\n",
       "      <td>Могу я отказаться от вакцинации?\\nВ каких случ...</td>\n",
       "      <td>Согласно приказу Министерства здравоохранения ...</td>\n",
       "      <td>ВАКЦИНАЦИЯ</td>\n",
       "      <td>мочь я отказаться от вакцинация в какой случай...</td>\n",
       "    </tr>\n",
       "    <tr>\n",
       "      <th>4</th>\n",
       "      <td>328</td>\n",
       "      <td>Безопасна ли вакцинация?\\nОпасна ли вакцинация...</td>\n",
       "      <td>В соответствии с пунктами 1 и 2 статьи 12 Феде...</td>\n",
       "      <td>ВАКЦИНАЦИЯ</td>\n",
       "      <td>безопасный ли вакцинация опасный ли вакцинация...</td>\n",
       "    </tr>\n",
       "  </tbody>\n",
       "</table>\n",
       "</div>"
      ],
      "text/plain": [
       "   Номер связки                                     Текст вопросов  \\\n",
       "0            57  У ребенка в школе продлили каникулы. Могу ли я...   \n",
       "1            78  Где сделать вакцинацию от коронавируса?\\nСущес...   \n",
       "2           326  Сколько стоит сделать вакцину от гриппа?\\nМожн...   \n",
       "3           327  Могу я отказаться от вакцинации?\\nВ каких случ...   \n",
       "4           328  Безопасна ли вакцинация?\\nОпасна ли вакцинация...   \n",
       "\n",
       "                                        Текст ответа         Тематика  \\\n",
       "0  Листок временной нетрудоспособности (больничны...  БОЛЬНИЧНЫЙ ЛИСТ   \n",
       "1  Коронавирусы - это целое семейство вирусов, ко...       ВАКЦИНАЦИЯ   \n",
       "2  Бесплатно пройти вакцинацию можно в Вашей меди...       ВАКЦИНАЦИЯ   \n",
       "3  Согласно приказу Министерства здравоохранения ...       ВАКЦИНАЦИЯ   \n",
       "4  В соответствии с пунктами 1 и 2 статьи 12 Феде...       ВАКЦИНАЦИЯ   \n",
       "\n",
       "                           вопросы_препроцессинговые  \n",
       "0  у ребёнок в школа продлить каникулы мочь ли я ...  \n",
       "1  где сделать вакцинация от коронавирус существо...  \n",
       "2  сколько стоить сделать вакцина от грипп можно ...  \n",
       "3  мочь я отказаться от вакцинация в какой случай...  \n",
       "4  безопасный ли вакцинация опасный ли вакцинация...  "
      ]
     },
     "execution_count": 6,
     "metadata": {},
     "output_type": "execute_result"
    }
   ],
   "source": [
    "answers.head()"
   ]
  },
  {
   "cell_type": "code",
   "execution_count": 7,
   "metadata": {
    "colab": {
     "base_uri": "https://localhost:8080/",
     "height": 204
    },
    "colab_type": "code",
    "id": "Yb8jxHYTiWaM",
    "outputId": "447e23fe-2a8b-4781-ae06-fb46bb5f6fa9"
   },
   "outputs": [
    {
     "data": {
      "text/html": [
       "<div>\n",
       "<style scoped>\n",
       "    .dataframe tbody tr th:only-of-type {\n",
       "        vertical-align: middle;\n",
       "    }\n",
       "\n",
       "    .dataframe tbody tr th {\n",
       "        vertical-align: top;\n",
       "    }\n",
       "\n",
       "    .dataframe thead th {\n",
       "        text-align: right;\n",
       "    }\n",
       "</style>\n",
       "<table border=\"1\" class=\"dataframe\">\n",
       "  <thead>\n",
       "    <tr style=\"text-align: right;\">\n",
       "      <th></th>\n",
       "      <th>Текст вопроса</th>\n",
       "      <th>Номер связки</th>\n",
       "      <th>Тематика</th>\n",
       "      <th>Unnamed: 3</th>\n",
       "      <th>Unnamed: 4</th>\n",
       "    </tr>\n",
       "  </thead>\n",
       "  <tbody>\n",
       "    <tr>\n",
       "      <th>0</th>\n",
       "      <td>с уважением Вероника Игоревна  Ильич\\n\\nПосле ...</td>\n",
       "      <td>308.0</td>\n",
       "      <td>ЗАКРЫТИЕ ГРАНИЦ, ОТКРЫТИЕ ГРАНИЦ РОССИИ И АВИА...</td>\n",
       "      <td>NaN</td>\n",
       "      <td>NaN</td>\n",
       "    </tr>\n",
       "    <tr>\n",
       "      <th>1</th>\n",
       "      <td>Здравствуйте! Проинформируйте, пожалуйста, нуж...</td>\n",
       "      <td>324.0</td>\n",
       "      <td>ОРГАНИЗАЦИИ ОТДЫХА ДЕТЕЙ И ИХ ЗДОРОВЛЕНИЯ</td>\n",
       "      <td>NaN</td>\n",
       "      <td>NaN</td>\n",
       "    </tr>\n",
       "    <tr>\n",
       "      <th>2</th>\n",
       "      <td>--\\nДобрый день!\\n   Меня, Сидельникова Андрея...</td>\n",
       "      <td>57.0</td>\n",
       "      <td>БОЛЬНИЧНЫЙ ЛИСТ</td>\n",
       "      <td>NaN</td>\n",
       "      <td>NaN</td>\n",
       "    </tr>\n",
       "    <tr>\n",
       "      <th>3</th>\n",
       "      <td>Добрый день.\\nВ Кемеровской области согласно п...</td>\n",
       "      <td>45.0</td>\n",
       "      <td>ШТРАФЫ, НОРМАТИВНЫЕ АКТЫ И РЕКОМЕНДАЦИИ</td>\n",
       "      <td>NaN</td>\n",
       "      <td>NaN</td>\n",
       "    </tr>\n",
       "    <tr>\n",
       "      <th>4</th>\n",
       "      <td>Здравствуйте, в моем городе Кострома введено о...</td>\n",
       "      <td>3.0</td>\n",
       "      <td>ШТРАФЫ, НОРМАТИВНЫЕ АКТЫ И РЕКОМЕНДАЦИИ</td>\n",
       "      <td>NaN</td>\n",
       "      <td>NaN</td>\n",
       "    </tr>\n",
       "  </tbody>\n",
       "</table>\n",
       "</div>"
      ],
      "text/plain": [
       "                                       Текст вопроса  Номер связки\\n  \\\n",
       "0  с уважением Вероника Игоревна  Ильич\\n\\nПосле ...           308.0   \n",
       "1  Здравствуйте! Проинформируйте, пожалуйста, нуж...           324.0   \n",
       "2  --\\nДобрый день!\\n   Меня, Сидельникова Андрея...            57.0   \n",
       "3  Добрый день.\\nВ Кемеровской области согласно п...            45.0   \n",
       "4  Здравствуйте, в моем городе Кострома введено о...             3.0   \n",
       "\n",
       "                                           Тематика   Unnamed: 3 Unnamed: 4  \n",
       "0  ЗАКРЫТИЕ ГРАНИЦ, ОТКРЫТИЕ ГРАНИЦ РОССИИ И АВИА...         NaN        NaN  \n",
       "1          ОРГАНИЗАЦИИ ОТДЫХА ДЕТЕЙ И ИХ ЗДОРОВЛЕНИЯ         NaN        NaN  \n",
       "2                                    БОЛЬНИЧНЫЙ ЛИСТ         NaN        NaN  \n",
       "3            ШТРАФЫ, НОРМАТИВНЫЕ АКТЫ И РЕКОМЕНДАЦИИ         NaN        NaN  \n",
       "4            ШТРАФЫ, НОРМАТИВНЫЕ АКТЫ И РЕКОМЕНДАЦИИ         NaN        NaN  "
      ]
     },
     "execution_count": 7,
     "metadata": {},
     "output_type": "execute_result"
    }
   ],
   "source": [
    "queries.head()"
   ]
  },
  {
   "cell_type": "code",
   "execution_count": 8,
   "metadata": {
    "colab": {},
    "colab_type": "code",
    "id": "amzY4Ystxrf2"
   },
   "outputs": [],
   "source": [
    "from sklearn.model_selection import train_test_split\n",
    "\n",
    "RANDOM_STATE = 350\n",
    "\n",
    "train, test = train_test_split(queries, test_size=0.3,\n",
    "                               random_state=RANDOM_STATE)"
   ]
  },
  {
   "cell_type": "code",
   "execution_count": 9,
   "metadata": {
    "colab": {},
    "colab_type": "code",
    "id": "aJFDWZHIiz5R"
   },
   "outputs": [],
   "source": [
    "from sklearn.feature_extraction.text import TfidfVectorizer\n",
    "import numpy as np\n",
    " \n",
    "# инициализируем\n",
    "vectorizer = TfidfVectorizer()"
   ]
  },
  {
   "cell_type": "code",
   "execution_count": 22,
   "metadata": {
    "colab": {},
    "colab_type": "code",
    "id": "QSEY6ivmjBtX"
   },
   "outputs": [],
   "source": [
    "X = vectorizer.fit_transform(answers['вопросы_препроцессинговые'])"
   ]
  },
  {
   "cell_type": "code",
   "execution_count": 23,
   "metadata": {
    "colab": {
     "base_uri": "https://localhost:8080/",
     "height": 51
    },
    "colab_type": "code",
    "id": "apPBJRxAjiG9",
    "outputId": "ff1ad88a-541f-4e6a-dd40-c77f1b1d86e2"
   },
   "outputs": [
    {
     "data": {
      "text/plain": [
       "<43x1020 sparse matrix of type '<class 'numpy.float64'>'\n",
       "\twith 2211 stored elements in Compressed Sparse Row format>"
      ]
     },
     "execution_count": 23,
     "metadata": {},
     "output_type": "execute_result"
    }
   ],
   "source": [
    "X"
   ]
  },
  {
   "cell_type": "code",
   "execution_count": 24,
   "metadata": {
    "colab": {},
    "colab_type": "code",
    "id": "WB8KJxrrj0_g"
   },
   "outputs": [],
   "source": [
    "matr_answers = X.toarray()"
   ]
  },
  {
   "cell_type": "code",
   "execution_count": 25,
   "metadata": {
    "colab": {
     "base_uri": "https://localhost:8080/",
     "height": 238
    },
    "colab_type": "code",
    "id": "gQd6H29Hl4pZ",
    "outputId": "49b87b8a-da3f-4911-b71b-a54b24edbf62"
   },
   "outputs": [
    {
     "data": {
      "text/plain": [
       "array([[0.        , 0.        , 0.        , ..., 0.        , 0.        ,\n",
       "        0.        ],\n",
       "       [0.        , 0.        , 0.        , ..., 0.        , 0.        ,\n",
       "        0.        ],\n",
       "       [0.        , 0.        , 0.        , ..., 0.        , 0.        ,\n",
       "        0.        ],\n",
       "       ...,\n",
       "       [0.        , 0.        , 0.        , ..., 0.        , 0.        ,\n",
       "        0.        ],\n",
       "       [0.        , 0.        , 0.        , ..., 0.        , 0.        ,\n",
       "        0.        ],\n",
       "       [0.        , 0.        , 0.        , ..., 0.        , 0.        ,\n",
       "        0.25150849]])"
      ]
     },
     "execution_count": 25,
     "metadata": {},
     "output_type": "execute_result"
    }
   ],
   "source": [
    "matr_answers"
   ]
  },
  {
   "cell_type": "code",
   "execution_count": 26,
   "metadata": {
    "colab": {},
    "colab_type": "code",
    "id": "vSKTTj8K1hZ-"
   },
   "outputs": [],
   "source": [
    "import numpy as np"
   ]
  },
  {
   "cell_type": "code",
   "execution_count": 38,
   "metadata": {
    "colab": {},
    "colab_type": "code",
    "id": "AbaY5MV5O0bt"
   },
   "outputs": [],
   "source": [
    "def text_to_vec(text, vectorizer, matr):\n",
    "    new_doc = vectorizer.transform(text).toarray()\n",
    "    new_matr = matr.dot(new_doc[0])\n",
    "    return new_matr"
   ]
  },
  {
   "cell_type": "code",
   "execution_count": 39,
   "metadata": {
    "colab": {},
    "colab_type": "code",
    "id": "huiQwNK2Byfy"
   },
   "outputs": [],
   "source": [
    "text = text_to_vec(queries.head(1)['Текст вопроса'], vectorizer, matr_answers)"
   ]
  },
  {
   "cell_type": "code",
   "execution_count": 40,
   "metadata": {
    "colab": {
     "base_uri": "https://localhost:8080/",
     "height": 170
    },
    "colab_type": "code",
    "id": "RWnWw21cPek4",
    "outputId": "0882db97-e93f-4010-c012-f02585cca708"
   },
   "outputs": [
    {
     "data": {
      "text/plain": [
       "array([0.06272099, 0.02216119, 0.        , 0.04690233, 0.        ,\n",
       "       0.        , 0.01970294, 0.03542588, 0.        , 0.07079659,\n",
       "       0.08353944, 0.15906375, 0.03332326, 0.        , 0.1731618 ,\n",
       "       0.        , 0.06055218, 0.        , 0.        , 0.07709556,\n",
       "       0.04607895, 0.06248688, 0.18022558, 0.05330041, 0.        ,\n",
       "       0.22392487, 0.05469213, 0.08125526, 0.08768456, 0.        ,\n",
       "       0.01788488, 0.1642192 , 0.08835104, 0.        , 0.0173241 ,\n",
       "       0.1294703 , 0.02264223, 0.16993824, 0.20911701, 0.12971927,\n",
       "       0.07896762, 0.02926936, 0.06568891])"
      ]
     },
     "execution_count": 40,
     "metadata": {},
     "output_type": "execute_result"
    }
   ],
   "source": [
    "text"
   ]
  },
  {
   "cell_type": "code",
   "execution_count": 41,
   "metadata": {
    "colab": {},
    "colab_type": "code",
    "id": "z1qe_bHmo_Zg"
   },
   "outputs": [],
   "source": [
    "n_conn = answers['Номер связки'].tolist()"
   ]
  },
  {
   "cell_type": "code",
   "execution_count": 42,
   "metadata": {
    "colab": {},
    "colab_type": "code",
    "id": "S92P74CuXboy"
   },
   "outputs": [],
   "source": [
    "def ranging(text):\n",
    "    dict_texts = {}\n",
    "\n",
    "    cnt = 0\n",
    "    for x in np.nditer(text):\n",
    "        dict_texts[float(x)] = n_conn[cnt]\n",
    "        cnt += 1\n",
    "\n",
    "    new_dict = sorted(dict_texts.keys(), reverse=True)\n",
    "\n",
    "    first = []\n",
    "    print('Ранжированные документы по близости: \\n---\\n')\n",
    "    for k in new_dict:\n",
    "        first.append(dict_texts[k])\n",
    "        print (k, ': номер связки - ', dict_texts[k])\n",
    "\n",
    "    strng = '\\n---\\nДля этого текста связка самого близкого ответа: ' + str(first[0])\n",
    "    print(strng)"
   ]
  },
  {
   "cell_type": "code",
   "execution_count": 43,
   "metadata": {
    "colab": {
     "base_uri": "https://localhost:8080/",
     "height": 680
    },
    "colab_type": "code",
    "id": "pWrtRAR2shIW",
    "outputId": "6f04c6e3-9183-4f79-dfd7-f466022b30a8"
   },
   "outputs": [
    {
     "name": "stdout",
     "output_type": "stream",
     "text": [
      "Ранжированные документы по близости: \n",
      "---\n",
      "\n",
      "0.2239248671194552 : номер связки -  37\n",
      "0.2091170077298064 : номер связки -  135\n",
      "0.18022557722602078 : номер связки -  286\n",
      "0.17316179640354723 : номер связки -  1\n",
      "0.16993824318245715 : номер связки -  6\n",
      "0.16421919848158378 : номер связки -  270\n",
      "0.1590637515984202 : номер связки -  308\n",
      "0.12971926975037168 : номер связки -  5\n",
      "0.12947029742191746 : номер связки -  88\n",
      "0.08835104394916726 : номер связки -  246\n",
      "0.08768456332602703 : номер связки -  132\n",
      "0.08353944250300764 : номер связки -  173\n",
      "0.08125526125642152 : номер связки -  74\n",
      "0.07896761992493447 : номер связки -  3\n",
      "0.07709556090241905 : номер связки -  34\n",
      "0.07079658505465908 : номер связки -  89\n",
      "0.0656889099571096 : номер связки -  21\n",
      "0.06272098684490689 : номер связки -  57\n",
      "0.06248688376800135 : номер связки -  325\n",
      "0.060552175597895684 : номер связки -  10\n",
      "0.054692134687624856 : номер связки -  32\n",
      "0.053300409558021955 : номер связки -  79\n",
      "0.046902326648256054 : номер связки -  327\n",
      "0.04607895427092104 : номер связки -  38\n",
      "0.03542587513959759 : номер связки -  43\n",
      "0.03332325944147673 : номер связки -  46\n",
      "0.029269361089720322 : номер связки -  45\n",
      "0.02264223163336552 : номер связки -  70\n",
      "0.022161192294063454 : номер связки -  78\n",
      "0.01970294363100824 : номер связки -  210\n",
      "0.017884876862465447 : номер связки -  257\n",
      "0.017324101995189994 : номер связки -  12\n",
      "0.0 : номер связки -  324\n",
      "\n",
      "---\n",
      "Для этого текста связка самого близкого ответа: 37\n"
     ]
    }
   ],
   "source": [
    "ranging(text)"
   ]
  },
  {
   "cell_type": "markdown",
   "metadata": {},
   "source": [
    "Но данные без препроцессинга иногда могут быть ближе к реальности"
   ]
  },
  {
   "cell_type": "code",
   "execution_count": 33,
   "metadata": {},
   "outputs": [],
   "source": [
    "vectorizer_2 = TfidfVectorizer()"
   ]
  },
  {
   "cell_type": "code",
   "execution_count": 34,
   "metadata": {},
   "outputs": [],
   "source": [
    "X_start = vectorizer_2.fit_transform(answers['Текст вопросов'])"
   ]
  },
  {
   "cell_type": "code",
   "execution_count": 35,
   "metadata": {},
   "outputs": [
    {
     "data": {
      "text/plain": [
       "<43x1554 sparse matrix of type '<class 'numpy.float64'>'\n",
       "\twith 2647 stored elements in Compressed Sparse Row format>"
      ]
     },
     "execution_count": 35,
     "metadata": {},
     "output_type": "execute_result"
    }
   ],
   "source": [
    "X_start"
   ]
  },
  {
   "cell_type": "code",
   "execution_count": 44,
   "metadata": {},
   "outputs": [],
   "source": [
    "matr_answers_2 = X_start.toarray()"
   ]
  },
  {
   "cell_type": "code",
   "execution_count": 45,
   "metadata": {},
   "outputs": [
    {
     "data": {
      "text/plain": [
       "array([[0.        , 0.        , 0.        , ..., 0.        , 0.        ,\n",
       "        0.        ],\n",
       "       [0.        , 0.        , 0.        , ..., 0.        , 0.        ,\n",
       "        0.        ],\n",
       "       [0.        , 0.        , 0.        , ..., 0.        , 0.        ,\n",
       "        0.        ],\n",
       "       ...,\n",
       "       [0.        , 0.        , 0.        , ..., 0.        , 0.        ,\n",
       "        0.        ],\n",
       "       [0.        , 0.        , 0.        , ..., 0.        , 0.        ,\n",
       "        0.        ],\n",
       "       [0.        , 0.        , 0.        , ..., 0.        , 0.        ,\n",
       "        0.23484538]])"
      ]
     },
     "execution_count": 45,
     "metadata": {},
     "output_type": "execute_result"
    }
   ],
   "source": [
    "matr_answers_2"
   ]
  },
  {
   "cell_type": "code",
   "execution_count": 48,
   "metadata": {},
   "outputs": [],
   "source": [
    "text_2 = text_to_vec(queries.head(1)['Текст вопроса'], vectorizer_2, matr_answers_2)"
   ]
  },
  {
   "cell_type": "code",
   "execution_count": 49,
   "metadata": {},
   "outputs": [
    {
     "data": {
      "text/plain": [
       "array([0.05132964, 0.00826135, 0.        , 0.02444088, 0.        ,\n",
       "       0.        , 0.01655842, 0.02387181, 0.        , 0.05062162,\n",
       "       0.04710088, 0.18612481, 0.02986892, 0.        , 0.12088349,\n",
       "       0.        , 0.04099694, 0.        , 0.        , 0.0479808 ,\n",
       "       0.02159938, 0.06524996, 0.12684607, 0.05579022, 0.        ,\n",
       "       0.1043222 , 0.0249666 , 0.06173973, 0.05591414, 0.        ,\n",
       "       0.01440677, 0.12635103, 0.07085367, 0.        , 0.01180225,\n",
       "       0.11765951, 0.02340343, 0.14332734, 0.16869162, 0.11482521,\n",
       "       0.02310699, 0.02007746, 0.01955076])"
      ]
     },
     "execution_count": 49,
     "metadata": {},
     "output_type": "execute_result"
    }
   ],
   "source": [
    "text_2"
   ]
  },
  {
   "cell_type": "code",
   "execution_count": 50,
   "metadata": {},
   "outputs": [
    {
     "name": "stdout",
     "output_type": "stream",
     "text": [
      "Ранжированные документы по близости: \n",
      "---\n",
      "\n",
      "0.18612481376297696 : номер связки -  308\n",
      "0.16869161558362822 : номер связки -  135\n",
      "0.14332733589020907 : номер связки -  6\n",
      "0.12684606813855775 : номер связки -  286\n",
      "0.12635102520844527 : номер связки -  270\n",
      "0.12088349071349433 : номер связки -  1\n",
      "0.11765950736340813 : номер связки -  88\n",
      "0.11482520646588391 : номер связки -  5\n",
      "0.10432220238297966 : номер связки -  37\n",
      "0.07085366550799661 : номер связки -  246\n",
      "0.0652499567437455 : номер связки -  325\n",
      "0.061739732054359675 : номер связки -  74\n",
      "0.05591413582628506 : номер связки -  132\n",
      "0.055790216712495955 : номер связки -  79\n",
      "0.05132963940168474 : номер связки -  57\n",
      "0.050621616816445836 : номер связки -  89\n",
      "0.0479807957433737 : номер связки -  34\n",
      "0.047100880565229285 : номер связки -  173\n",
      "0.04099693804065354 : номер связки -  10\n",
      "0.029868921992849802 : номер связки -  46\n",
      "0.024966597718604842 : номер связки -  32\n",
      "0.024440881584028892 : номер связки -  327\n",
      "0.02387181219277522 : номер связки -  43\n",
      "0.023403431613431794 : номер связки -  70\n",
      "0.023106985318137964 : номер связки -  3\n",
      "0.02159937955321825 : номер связки -  38\n",
      "0.020077459705514854 : номер связки -  45\n",
      "0.019550757637217846 : номер связки -  21\n",
      "0.016558418195605912 : номер связки -  210\n",
      "0.014406766614318656 : номер связки -  257\n",
      "0.011802246847364292 : номер связки -  12\n",
      "0.008261351221546021 : номер связки -  78\n",
      "0.0 : номер связки -  324\n",
      "\n",
      "---\n",
      "Для этого текста связка самого близкого ответа: 308\n"
     ]
    }
   ],
   "source": [
    "ranging(text_2)"
   ]
  },
  {
   "cell_type": "markdown",
   "metadata": {
    "colab_type": "text",
    "id": "Ve9T1Ra7bitD"
   },
   "source": [
    "### __Задача 2__:    \n",
    "Аналогичная задаче1 с другой метрикой \n",
    "\n",
    "Реализуйте поиск с метрикой *BM25* через умножение матрицы на вектор. Что должно быть в реализации:\n",
    "\n",
    "- проиндексированная база, где каждый документ представлен в виде вектора BM25\n",
    "- функция перевода входяшего запроса в вектор по метрике BM25\n",
    "- ранжирование докуменов по близости к запросу по убыванию"
   ]
  },
  {
   "cell_type": "code",
   "execution_count": null,
   "metadata": {
    "colab": {},
    "colab_type": "code",
    "id": "SKih62Wd-8Wm"
   },
   "outputs": [],
   "source": []
  },
  {
   "cell_type": "code",
   "execution_count": null,
   "metadata": {
    "colab": {},
    "colab_type": "code",
    "id": "c9_5NHWCbitD"
   },
   "outputs": [],
   "source": [
    "from gensim.summarization.bm25 import get_bm25_weights"
   ]
  },
  {
   "cell_type": "code",
   "execution_count": null,
   "metadata": {
    "colab": {},
    "colab_type": "code",
    "id": "NqPc-QB59eZ3"
   },
   "outputs": [],
   "source": [
    "result = get_bm25_weights(answers['Текст вопросов'], n_jobs=-1)"
   ]
  },
  {
   "cell_type": "code",
   "execution_count": null,
   "metadata": {
    "colab": {
     "base_uri": "https://localhost:8080/",
     "height": 1000
    },
    "colab_type": "code",
    "id": "maIEV8tX9mCf",
    "outputId": "760b8f66-f9f2-4cb0-9b5a-2665f9ee19d8"
   },
   "outputs": [],
   "source": [
    "result"
   ]
  },
  {
   "cell_type": "code",
   "execution_count": null,
   "metadata": {
    "colab": {},
    "colab_type": "code",
    "id": "rRIjmyyi-IgI"
   },
   "outputs": [],
   "source": []
  }
 ],
 "metadata": {
  "colab": {
   "name": "sem2_bm25.ipynb",
   "provenance": []
  },
  "kernelspec": {
   "display_name": "Python 3",
   "language": "python",
   "name": "python3"
  },
  "language_info": {
   "codemirror_mode": {
    "name": "ipython",
    "version": 3
   },
   "file_extension": ".py",
   "mimetype": "text/x-python",
   "name": "python",
   "nbconvert_exporter": "python",
   "pygments_lexer": "ipython3",
   "version": "3.6.8"
  }
 },
 "nbformat": 4,
 "nbformat_minor": 1
}
