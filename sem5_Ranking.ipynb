{
  "nbformat": 4,
  "nbformat_minor": 0,
  "metadata": {
    "kernelspec": {
      "display_name": "Python 3",
      "language": "python",
      "name": "python3"
    },
    "language_info": {
      "codemirror_mode": {
        "name": "ipython",
        "version": 3
      },
      "file_extension": ".py",
      "mimetype": "text/x-python",
      "name": "python",
      "nbconvert_exporter": "python",
      "pygments_lexer": "ipython3",
      "version": "3.7.0"
    },
    "colab": {
      "name": "sem5_Ranking.ipynb",
      "provenance": [],
      "toc_visible": true
    }
  },
  "cells": [
    {
      "cell_type": "markdown",
      "metadata": {
        "id": "s3cYjBbeJX3K"
      },
      "source": [
        "# Ранжирование\n",
        "\n",
        "Будем ранжировать разные данные с помощью XGBoost. <br>\n",
        "В XGBoost используется алгоритм LambdaMART, который осуществляет pairwise ранжирование.\n",
        "\n",
        "## Пример\n",
        "\n",
        "Взят [отсюда](https://github.com/dmlc/xgboost/blob/master/demo/rank/rank_sklearn.py)"
      ]
    },
    {
      "cell_type": "code",
      "metadata": {
        "scrolled": true,
        "id": "GKJCCsvIJX3L"
      },
      "source": [
        "import numpy as np\n",
        "import xgboost as xgb\n",
        "from sklearn.datasets import load_svmlight_file\n",
        "from sklearn.metrics import ndcg_score"
      ],
      "execution_count": null,
      "outputs": []
    },
    {
      "cell_type": "markdown",
      "metadata": {
        "id": "t1tOiUWlJX3Q"
      },
      "source": [
        "Данные: датасет LETOR 4.0 MQ2008 - бенчмарк для ранжирования.\n",
        "\n",
        "Данные представлены так:\n",
        "* один объект - это запрос, один документ к нему (набор каких-то признаков) и одна метка релевантности (target)\n",
        "* соответственно, для одного и того же запроса может быть несколько объектов\n",
        "* информация, что, например, какие-то пять объектов относятся к одному запросу, содержится в отдельной структуре \"groups\" и передается в обучение\n",
        "\n",
        "Читаем объекты и таргеты:"
      ]
    },
    {
      "cell_type": "code",
      "metadata": {
        "id": "Vp5FvlSgJX3Q"
      },
      "source": [
        "x_train, y_train = load_svmlight_file(\"data/mq2008.train\")\n",
        "x_valid, y_valid = load_svmlight_file(\"data/mq2008.vali\")\n",
        "x_test, y_test = load_svmlight_file(\"data/mq2008.test\")"
      ],
      "execution_count": null,
      "outputs": []
    },
    {
      "cell_type": "markdown",
      "metadata": {
        "id": "Be5AcD7RJX3T"
      },
      "source": [
        "Посмотрим на данные:\n",
        "* в обучении 9630 объектов\n",
        "* 46 признаков\n",
        "* релевантность оценивается по трехбалльной шкале"
      ]
    },
    {
      "cell_type": "code",
      "metadata": {
        "id": "AAWa3RkKJX3T",
        "outputId": "fb104868-6b06-4ecb-ddd6-995ae464a768"
      },
      "source": [
        "print(x_train.shape)\n",
        "x_train[0].todense()"
      ],
      "execution_count": null,
      "outputs": [
        {
          "output_type": "stream",
          "text": [
            "(9630, 46)\n"
          ],
          "name": "stdout"
        },
        {
          "output_type": "execute_result",
          "data": {
            "text/plain": [
              "matrix([[0.007477, 0.      , 1.      , 0.      , 0.00747 , 0.      ,\n",
              "         0.      , 0.      , 0.      , 0.      , 0.471076, 0.      ,\n",
              "         1.      , 0.      , 0.477541, 0.00512 , 0.      , 0.571429,\n",
              "         0.      , 0.004806, 0.768561, 0.727734, 0.716277, 0.582061,\n",
              "         0.      , 0.      , 0.      , 0.      , 0.780495, 0.962382,\n",
              "         0.999274, 0.961524, 0.      , 0.      , 0.      , 0.      ,\n",
              "         0.797056, 0.697327, 0.721953, 0.582568, 0.      , 0.      ,\n",
              "         0.      , 0.      , 0.      , 0.007042]])"
            ]
          },
          "metadata": {
            "tags": []
          },
          "execution_count": 3
        }
      ]
    },
    {
      "cell_type": "code",
      "metadata": {
        "id": "F6fM0F9bJX3Z",
        "outputId": "995f876a-8083-4ae0-af20-70fb6ddb689f"
      },
      "source": [
        "set(y_train)"
      ],
      "execution_count": null,
      "outputs": [
        {
          "output_type": "execute_result",
          "data": {
            "text/plain": [
              "{0.0, 1.0, 2.0}"
            ]
          },
          "metadata": {
            "tags": []
          },
          "execution_count": 4
        }
      ]
    },
    {
      "cell_type": "markdown",
      "metadata": {
        "id": "pigCtYUcJX3d"
      },
      "source": [
        "Читаем информацию о группах:"
      ]
    },
    {
      "cell_type": "code",
      "metadata": {
        "id": "lhzTHJewJX3e"
      },
      "source": [
        "group_train = []\n",
        "with open(\"data/mq2008.train.group\", \"r\") as f:\n",
        "    data = f.readlines()\n",
        "    for line in data:\n",
        "        group_train.append(int(line.split(\"\\n\")[0]))\n",
        "\n",
        "group_valid = []\n",
        "with open(\"data/mq2008.vali.group\", \"r\") as f:\n",
        "    data = f.readlines()\n",
        "    for line in data:\n",
        "        group_valid.append(int(line.split(\"\\n\")[0]))\n",
        "\n",
        "group_test = []\n",
        "with open(\"data/mq2008.test.group\", \"r\") as f:\n",
        "    data = f.readlines()\n",
        "    for line in data:\n",
        "        group_test.append(int(line.split(\"\\n\")[0]))"
      ],
      "execution_count": null,
      "outputs": []
    },
    {
      "cell_type": "markdown",
      "metadata": {
        "id": "Y6-cIFbOJX3g"
      },
      "source": [
        "Как устроена информация о группах:\n",
        "* количество групп отражает информацию о количестве запросов\n",
        "* каждое число обозначает количество последовательных объектов, которые в эту группу объединяются\n",
        "* из предыдущего пункта следует, что в X объекты нельзя перемешивать\n",
        "* если просуммировать все числа в списке групп, получим число объектов из X\n",
        "\n",
        "Для чего нужны группы? <br>\n",
        "Для того, чтобы в обучении не сравнивать доки из разных групп (разных запросов) между собой."
      ]
    },
    {
      "cell_type": "code",
      "metadata": {
        "id": "_qTupKUPJX3h",
        "outputId": "64c8361d-b920-4e18-f0e2-19645bd7a5d3"
      },
      "source": [
        "print(len(group_train), sum(group_train))\n",
        "group_train[:10]"
      ],
      "execution_count": null,
      "outputs": [
        {
          "output_type": "stream",
          "text": [
            "471 9630\n"
          ],
          "name": "stdout"
        },
        {
          "output_type": "execute_result",
          "data": {
            "text/plain": [
              "[8, 8, 8, 8, 8, 16, 8, 118, 16, 8]"
            ]
          },
          "metadata": {
            "tags": []
          },
          "execution_count": 6
        }
      ]
    },
    {
      "cell_type": "markdown",
      "metadata": {
        "id": "WC8R7KCHJX3k"
      },
      "source": [
        "Обучаем модель. <br>\n",
        "С помощью `eval_set` можем контролировать обучение, но это необязательный параметр, можно обучить и без валидации. <br>\n",
        "В параметре `objective` можно задать три опции: `rank:ndcg`, `rank:pairwise`, `rank:map`. `ndcg` и `map` регулияруют попарный лосс с помощью подсчета соответствующих метрик."
      ]
    },
    {
      "cell_type": "code",
      "metadata": {
        "id": "kA2sOURhJX3k",
        "outputId": "f2a3f108-b271-49b2-b085-16421e12e1dd"
      },
      "source": [
        "params = {'objective': 'rank:ndcg', 'learning_rate': 0.1,\n",
        "          'gamma': 1.0, 'min_child_weight': 0.1,\n",
        "          'max_depth': 6, 'n_estimators': 4}\n",
        "\n",
        "model = xgb.sklearn.XGBRanker(**params)\n",
        "model.fit(x_train, y_train, group_train, verbose=True,\n",
        "          eval_set=[(x_valid, y_valid)], eval_group=[group_valid])"
      ],
      "execution_count": null,
      "outputs": [
        {
          "output_type": "stream",
          "text": [
            "[0]\teval_0-map:0.71552\n",
            "[1]\teval_0-map:0.72606\n",
            "[2]\teval_0-map:0.72795\n",
            "[3]\teval_0-map:0.73352\n"
          ],
          "name": "stdout"
        },
        {
          "output_type": "execute_result",
          "data": {
            "text/plain": [
              "XGBRanker(base_score=0.5, booster='gbtree', colsample_bylevel=1,\n",
              "          colsample_bynode=1, colsample_bytree=1, gamma=1.0, gpu_id=-1,\n",
              "          importance_type='gain', interaction_constraints='', learning_rate=0.1,\n",
              "          max_delta_step=0, max_depth=6, min_child_weight=0.1, missing=nan,\n",
              "          monotone_constraints='()', n_estimators=4, n_jobs=0,\n",
              "          num_parallel_tree=1, objective='rank:ndcg', random_state=0,\n",
              "          reg_alpha=0, reg_lambda=1, scale_pos_weight=None, subsample=1,\n",
              "          tree_method='exact', validate_parameters=1, verbosity=None)"
            ]
          },
          "metadata": {
            "tags": []
          },
          "execution_count": 7
        }
      ]
    },
    {
      "cell_type": "markdown",
      "metadata": {
        "id": "aKm08uEMJX3n"
      },
      "source": [
        "Получим предсказание на тестовом сете:"
      ]
    },
    {
      "cell_type": "code",
      "metadata": {
        "id": "-WLED6alJX3o"
      },
      "source": [
        "pred = model.predict(x_test)"
      ],
      "execution_count": null,
      "outputs": []
    },
    {
      "cell_type": "markdown",
      "metadata": {
        "id": "CxjzU_oAJX3r"
      },
      "source": [
        "Посчитаем качество:"
      ]
    },
    {
      "cell_type": "code",
      "metadata": {
        "id": "QVteZK-EJX3s"
      },
      "source": [
        "start_idx = 0\n",
        "grouped_pred = []\n",
        "grouped_target = []\n",
        "\n",
        "for group_n in group_test:\n",
        "    grouped_pred.append(pred[start_idx:start_idx+group_n])\n",
        "    grouped_target.append(y_test[start_idx:start_idx+group_n])\n",
        "    start_idx += group_n"
      ],
      "execution_count": null,
      "outputs": []
    },
    {
      "cell_type": "code",
      "metadata": {
        "id": "NPcOcd6OJX3v",
        "outputId": "7ab95fb1-7338-4d59-c4c9-5aa04e7c4651"
      },
      "source": [
        "np.mean([\n",
        "    ndcg_score([grouped_target[i]], [grouped_pred[i]])\n",
        "    for i in range(len(grouped_target))\n",
        "])"
      ],
      "execution_count": null,
      "outputs": [
        {
          "output_type": "execute_result",
          "data": {
            "text/plain": [
              "0.5052327963105946"
            ]
          },
          "metadata": {
            "tags": []
          },
          "execution_count": 10
        }
      ]
    },
    {
      "cell_type": "markdown",
      "metadata": {
        "id": "0SVI-J4oJX3y"
      },
      "source": [
        "# Дз\n",
        "Сделать и улучшить любую ML-модель на ваших проектных данных (просто клф, бленд, ранжирование, что-то что вы придумали сами...), используя любые признаки, какие захотите. Оцениваться будут:\n",
        "* факт выполнения задания :)\n",
        "* корректность кода (чтобы код не падал) и отсутствие логических ошибок (e.g. затестили на трейне)\n",
        "* итеративность улучшения (например взяли один сет признаков, показали качество; потом добавили / подкрутили / использовали другую модель, показали качество...)\n",
        "* креативность признаков\n",
        "* аккуратность ноутбука\n",
        "\n",
        "Дедлайн: 15 октября"
      ]
    },
    {
      "cell_type": "markdown",
      "metadata": {
        "id": "SNVK6YQhXNZA"
      },
      "source": [
        "#### TRAIN TEST"
      ]
    },
    {
      "cell_type": "code",
      "metadata": {
        "id": "qE4eOz_7JX3y"
      },
      "source": [
        "import re\n",
        "import pandas as pd\n",
        "import numpy as np"
      ],
      "execution_count": 1,
      "outputs": []
    },
    {
      "cell_type": "code",
      "metadata": {
        "id": "7_60gA-dVhlh",
        "outputId": "c4a33ff0-5da3-442a-8809-d96b40ed99b2",
        "colab": {
          "base_uri": "https://localhost:8080/",
          "height": 34
        }
      },
      "source": [
        "from google.colab import drive\n",
        "drive.mount('gdrive')"
      ],
      "execution_count": 3,
      "outputs": [
        {
          "output_type": "stream",
          "text": [
            "Mounted at gdrive\n"
          ],
          "name": "stdout"
        }
      ]
    },
    {
      "cell_type": "code",
      "metadata": {
        "id": "CcO8pvdzVkca",
        "outputId": "bd16fbc4-e887-41d2-9e2d-d863239e545c",
        "colab": {
          "base_uri": "https://localhost:8080/",
          "height": 34
        }
      },
      "source": [
        "%cd /content/gdrive/My Drive/Вышечка/4 курс/инфопоиск/семинар 5"
      ],
      "execution_count": 4,
      "outputs": [
        {
          "output_type": "stream",
          "text": [
            "/content/gdrive/My Drive/Вышечка/4 курс/инфопоиск/семинар 5\n"
          ],
          "name": "stdout"
        }
      ]
    },
    {
      "cell_type": "code",
      "metadata": {
        "id": "ygQMdNu0V9vx"
      },
      "source": [
        "answers = pd.read_csv('answers_all_data.csv')\n",
        "queries = pd.read_csv(\"queries_all_data.csv\")"
      ],
      "execution_count": 14,
      "outputs": []
    },
    {
      "cell_type": "code",
      "metadata": {
        "id": "KefHKOpQWaNm",
        "outputId": "7bcdddaf-f154-43cf-e57a-36a1323f3e18",
        "colab": {
          "base_uri": "https://localhost:8080/",
          "height": 615
        }
      },
      "source": [
        "answers.head()"
      ],
      "execution_count": 15,
      "outputs": [
        {
          "output_type": "execute_result",
          "data": {
            "text/html": [
              "<div>\n",
              "<style scoped>\n",
              "    .dataframe tbody tr th:only-of-type {\n",
              "        vertical-align: middle;\n",
              "    }\n",
              "\n",
              "    .dataframe tbody tr th {\n",
              "        vertical-align: top;\n",
              "    }\n",
              "\n",
              "    .dataframe thead th {\n",
              "        text-align: right;\n",
              "    }\n",
              "</style>\n",
              "<table border=\"1\" class=\"dataframe\">\n",
              "  <thead>\n",
              "    <tr style=\"text-align: right;\">\n",
              "      <th></th>\n",
              "      <th>Номер связки</th>\n",
              "      <th>Текст вопросов</th>\n",
              "      <th>Текст ответа</th>\n",
              "      <th>Тематика</th>\n",
              "      <th>preprocess_natasha</th>\n",
              "      <th>preprocess_deepmipt</th>\n",
              "      <th>вопросы_препроцессинговые</th>\n",
              "      <th>deeppavlov</th>\n",
              "      <th>natasha</th>\n",
              "    </tr>\n",
              "  </thead>\n",
              "  <tbody>\n",
              "    <tr>\n",
              "      <th>0</th>\n",
              "      <td>57</td>\n",
              "      <td>У ребенка в школе продлили каникулы. Могу ли я...</td>\n",
              "      <td>Листок временной нетрудоспособности (больничны...</td>\n",
              "      <td>БОЛЬНИЧНЫЙ ЛИСТ</td>\n",
              "      <td>У ребенка в школе продлили каникулы. Могу ли я...</td>\n",
              "      <td>У ребенка в школе продлили каникулы . Могу ли ...</td>\n",
              "      <td>у ребёнок в школа продлить каникулы мочь ли я ...</td>\n",
              "      <td>у ребёнок в школа продлить каникулы мочь ли я ...</td>\n",
              "      <td>у ребёнок в школа продлить каникулы мочь ли я ...</td>\n",
              "    </tr>\n",
              "    <tr>\n",
              "      <th>1</th>\n",
              "      <td>78</td>\n",
              "      <td>Где сделать вакцинацию от коронавируса?\\nСущес...</td>\n",
              "      <td>Коронавирусы - это целое семейство вирусов, ко...</td>\n",
              "      <td>ВАКЦИНАЦИЯ</td>\n",
              "      <td>Где сделать вакцинацию от коронавируса?\\nСущес...</td>\n",
              "      <td>Где сделать вакцинацию от коронавируса ? Сущес...</td>\n",
              "      <td>где сделать вакцинация от коронавирус существо...</td>\n",
              "      <td>где сделать вакцинация от коронавирус существо...</td>\n",
              "      <td>где сделать вакцинация от коронавирус существо...</td>\n",
              "    </tr>\n",
              "    <tr>\n",
              "      <th>2</th>\n",
              "      <td>326</td>\n",
              "      <td>Сколько стоит сделать вакцину от гриппа?\\nМожн...</td>\n",
              "      <td>Бесплатно пройти вакцинацию можно в Вашей меди...</td>\n",
              "      <td>ВАКЦИНАЦИЯ</td>\n",
              "      <td>Сколько стоит сделать вакцину от гриппа?\\nМожн...</td>\n",
              "      <td>Сколько стоит сделать вакцину от гриппа ? Можн...</td>\n",
              "      <td>сколько стоить сделать вакцина от грипп можно ...</td>\n",
              "      <td>сколько стоить сделать вакцина от грипп можно ...</td>\n",
              "      <td>сколько стоить сделать вакцина от грипп можно ...</td>\n",
              "    </tr>\n",
              "    <tr>\n",
              "      <th>3</th>\n",
              "      <td>327</td>\n",
              "      <td>Могу я отказаться от вакцинации?\\nВ каких случ...</td>\n",
              "      <td>Согласно приказу Министерства здравоохранения ...</td>\n",
              "      <td>ВАКЦИНАЦИЯ</td>\n",
              "      <td>Могу я отказаться от вакцинации?\\nВ каких случ...</td>\n",
              "      <td>Могу я отказаться от вакцинации ? В каких случ...</td>\n",
              "      <td>мочь я отказаться от вакцинация в какой случай...</td>\n",
              "      <td>мочь я отказаться от вакцинация в какой случай...</td>\n",
              "      <td>мочь я отказаться от вакцинация в какой случай...</td>\n",
              "    </tr>\n",
              "    <tr>\n",
              "      <th>4</th>\n",
              "      <td>328</td>\n",
              "      <td>Безопасна ли вакцинация?\\nОпасна ли вакцинация...</td>\n",
              "      <td>В соответствии с пунктами 1 и 2 статьи 12 Феде...</td>\n",
              "      <td>ВАКЦИНАЦИЯ</td>\n",
              "      <td>Безопасна ли вакцинация?\\nОпасна ли вакцинация...</td>\n",
              "      <td>Безопасна ли вакцинация ? Опасна ли вакцинация...</td>\n",
              "      <td>безопасный ли вакцинация опасный ли вакцинация...</td>\n",
              "      <td>безопасный ли вакцинация опасный ли вакцинация...</td>\n",
              "      <td>безопасный ли вакцинация опасный ли вакцинация...</td>\n",
              "    </tr>\n",
              "  </tbody>\n",
              "</table>\n",
              "</div>"
            ],
            "text/plain": [
              "   Номер связки  ...                                            natasha\n",
              "0            57  ...  у ребёнок в школа продлить каникулы мочь ли я ...\n",
              "1            78  ...  где сделать вакцинация от коронавирус существо...\n",
              "2           326  ...  сколько стоить сделать вакцина от грипп можно ...\n",
              "3           327  ...  мочь я отказаться от вакцинация в какой случай...\n",
              "4           328  ...  безопасный ли вакцинация опасный ли вакцинация...\n",
              "\n",
              "[5 rows x 9 columns]"
            ]
          },
          "metadata": {
            "tags": []
          },
          "execution_count": 15
        }
      ]
    },
    {
      "cell_type": "code",
      "metadata": {
        "id": "yTMiJbojWcFT",
        "outputId": "a59cba48-cb25-4e2f-9f1a-a33692de1bfc",
        "colab": {
          "base_uri": "https://localhost:8080/",
          "height": 530
        }
      },
      "source": [
        "queries.head()"
      ],
      "execution_count": 16,
      "outputs": [
        {
          "output_type": "execute_result",
          "data": {
            "text/html": [
              "<div>\n",
              "<style scoped>\n",
              "    .dataframe tbody tr th:only-of-type {\n",
              "        vertical-align: middle;\n",
              "    }\n",
              "\n",
              "    .dataframe tbody tr th {\n",
              "        vertical-align: top;\n",
              "    }\n",
              "\n",
              "    .dataframe thead th {\n",
              "        text-align: right;\n",
              "    }\n",
              "</style>\n",
              "<table border=\"1\" class=\"dataframe\">\n",
              "  <thead>\n",
              "    <tr style=\"text-align: right;\">\n",
              "      <th></th>\n",
              "      <th>Текст вопроса</th>\n",
              "      <th>Номер связки\\n</th>\n",
              "      <th>Тематика</th>\n",
              "      <th>preprocess_natasha</th>\n",
              "      <th>preprocess_deepmipt</th>\n",
              "      <th>вопросы_препроцессинговые</th>\n",
              "      <th>deeppavlov</th>\n",
              "      <th>natasha</th>\n",
              "    </tr>\n",
              "  </thead>\n",
              "  <tbody>\n",
              "    <tr>\n",
              "      <th>0</th>\n",
              "      <td>с уважением Вероника Игоревна  Ильич\\n\\nПосле ...</td>\n",
              "      <td>308.0</td>\n",
              "      <td>ЗАКРЫТИЕ ГРАНИЦ, ОТКРЫТИЕ ГРАНИЦ РОССИИ И АВИА...</td>\n",
              "      <td>с уважением \\n\\nПосле 15 августа 2020 года к н...</td>\n",
              "      <td>с уважением   \\n \\n После 15 августа 2020 года...</td>\n",
              "      <td>с уважение вероника игоревич ильич после 15 ав...</td>\n",
              "      <td>с уважение после 15 август 2020 год к мы в пла...</td>\n",
              "      <td>с уважение после 15 август 2020 год к мы в пла...</td>\n",
              "    </tr>\n",
              "    <tr>\n",
              "      <th>1</th>\n",
              "      <td>Здравствуйте! Проинформируйте, пожалуйста, нуж...</td>\n",
              "      <td>324.0</td>\n",
              "      <td>ОРГАНИЗАЦИИ ОТДЫХА ДЕТЕЙ И ИХ ЗДОРОВЛЕНИЯ</td>\n",
              "      <td>Здравствуйте! Проинформируйте, пожалуйста, нуж...</td>\n",
              "      <td>Здравствуйте ! Проинформируйте , пожалуйста , ...</td>\n",
              "      <td>здравствуйте проинформировать пожалуйста нужны...</td>\n",
              "      <td>здравствуйте проинформировать пожалуйста нужны...</td>\n",
              "      <td>здравствуйте проинформировать пожалуйста нужны...</td>\n",
              "    </tr>\n",
              "    <tr>\n",
              "      <th>2</th>\n",
              "      <td>--\\nДобрый день!\\n   Меня, Сидельникова Андрея...</td>\n",
              "      <td>57.0</td>\n",
              "      <td>БОЛЬНИЧНЫЙ ЛИСТ</td>\n",
              "      <td>--\\nДобрый день!\\n   Меня,   30.07.1989г.р., п...</td>\n",
              "      <td>- - \\n Добрый день ! Меня , 30 . 07 . 1989г . ...</td>\n",
              "      <td>-- добрый день я сидельников андрей олегович 3...</td>\n",
              "      <td>- - добрый день я 30 07 1989г р посадить на ка...</td>\n",
              "      <td>-- добрый день я 30071989гра посадить на каран...</td>\n",
              "    </tr>\n",
              "    <tr>\n",
              "      <th>3</th>\n",
              "      <td>Добрый день.\\nВ Кемеровской области согласно п...</td>\n",
              "      <td>45.0</td>\n",
              "      <td>ШТРАФЫ, НОРМАТИВНЫЕ АКТЫ И РЕКОМЕНДАЦИИ</td>\n",
              "      <td>Добрый день.\\nВ  согласно постановлению  необх...</td>\n",
              "      <td>Добрый день . В согласно постановлению необход...</td>\n",
              "      <td>добрый день в кемеровский область согласно пос...</td>\n",
              "      <td>добрый день в согласно постановление необходим...</td>\n",
              "      <td>добрый день в согласно постановление необходим...</td>\n",
              "    </tr>\n",
              "    <tr>\n",
              "      <th>4</th>\n",
              "      <td>Здравствуйте, в моем городе Кострома введено о...</td>\n",
              "      <td>3.0</td>\n",
              "      <td>ШТРАФЫ, НОРМАТИВНЫЕ АКТЫ И РЕКОМЕНДАЦИИ</td>\n",
              "      <td>Здравствуйте, в моем городе  введено ограничен...</td>\n",
              "      <td>Здравствуйте , в моем городе введено ограничен...</td>\n",
              "      <td>здравствуйте в мой город кострома ввести огран...</td>\n",
              "      <td>здравствуйте в мой город ввести ограничение на...</td>\n",
              "      <td>здравствуйте в мой город ввести ограничение на...</td>\n",
              "    </tr>\n",
              "  </tbody>\n",
              "</table>\n",
              "</div>"
            ],
            "text/plain": [
              "                                       Текст вопроса  ...                                            natasha\n",
              "0  с уважением Вероника Игоревна  Ильич\\n\\nПосле ...  ...  с уважение после 15 август 2020 год к мы в пла...\n",
              "1  Здравствуйте! Проинформируйте, пожалуйста, нуж...  ...  здравствуйте проинформировать пожалуйста нужны...\n",
              "2  --\\nДобрый день!\\n   Меня, Сидельникова Андрея...  ...  -- добрый день я 30071989гра посадить на каран...\n",
              "3  Добрый день.\\nВ Кемеровской области согласно п...  ...  добрый день в согласно постановление необходим...\n",
              "4  Здравствуйте, в моем городе Кострома введено о...  ...  здравствуйте в мой город ввести ограничение на...\n",
              "\n",
              "[5 rows x 8 columns]"
            ]
          },
          "metadata": {
            "tags": []
          },
          "execution_count": 16
        }
      ]
    },
    {
      "cell_type": "code",
      "metadata": {
        "id": "N8At3IHDmWAQ"
      },
      "source": [
        "import warnings\n",
        "from pandas.core.common import SettingWithCopyWarning\n",
        "\n",
        "warnings.simplefilter(action=\"ignore\", category=SettingWithCopyWarning)"
      ],
      "execution_count": 17,
      "outputs": []
    },
    {
      "cell_type": "code",
      "metadata": {
        "id": "tA6QQAU_WGKz"
      },
      "source": [
        "queries = queries.fillna(0)"
      ],
      "execution_count": 18,
      "outputs": []
    },
    {
      "cell_type": "code",
      "metadata": {
        "id": "f7TO_ZixWWqW"
      },
      "source": [
        "for_queries = queries[['Номер связки\\n', 'Текст вопроса',\n",
        "                       'вопросы_препроцессинговые',\n",
        "                       'natasha',\t'deeppavlov']]"
      ],
      "execution_count": 19,
      "outputs": []
    },
    {
      "cell_type": "code",
      "metadata": {
        "id": "zOHSYvXZWl5R"
      },
      "source": [
        "for_queries.rename(columns={'Номер связки\\n': 'Номер связки',\n",
        "                            'Текст вопроса': 'Текст вопросов',\n",
        "                            'natasha': 'natasha',\n",
        "                            'deeppavlov': 'deeppavlov'},\n",
        "                   inplace=True)"
      ],
      "execution_count": 20,
      "outputs": []
    },
    {
      "cell_type": "code",
      "metadata": {
        "id": "6giXc_TXWwEX"
      },
      "source": [
        "for_answers = answers[['Номер связки', 'Текст вопросов',\n",
        "                       'вопросы_препроцессинговые',\n",
        "                       'natasha',\t'deeppavlov']]"
      ],
      "execution_count": 21,
      "outputs": []
    },
    {
      "cell_type": "code",
      "metadata": {
        "id": "69MC063mW1Yb"
      },
      "source": [
        "from sklearn.model_selection import train_test_split\n",
        "\n",
        "RANDOM_STATE = 35\n",
        "\n",
        "train_df, test = train_test_split(for_queries, test_size=0.3,\n",
        "                               random_state=RANDOM_STATE)"
      ],
      "execution_count": 22,
      "outputs": []
    },
    {
      "cell_type": "code",
      "metadata": {
        "id": "IEnUcv3HW2z0"
      },
      "source": [
        "train = pd.concat([for_answers, train_df])"
      ],
      "execution_count": 23,
      "outputs": []
    },
    {
      "cell_type": "code",
      "metadata": {
        "id": "XJcO2PRiW5fU",
        "outputId": "a2ee7416-3585-4e38-aab4-b5b79be4463e",
        "colab": {
          "base_uri": "https://localhost:8080/",
          "height": 306
        }
      },
      "source": [
        "train.head()"
      ],
      "execution_count": 24,
      "outputs": [
        {
          "output_type": "execute_result",
          "data": {
            "text/html": [
              "<div>\n",
              "<style scoped>\n",
              "    .dataframe tbody tr th:only-of-type {\n",
              "        vertical-align: middle;\n",
              "    }\n",
              "\n",
              "    .dataframe tbody tr th {\n",
              "        vertical-align: top;\n",
              "    }\n",
              "\n",
              "    .dataframe thead th {\n",
              "        text-align: right;\n",
              "    }\n",
              "</style>\n",
              "<table border=\"1\" class=\"dataframe\">\n",
              "  <thead>\n",
              "    <tr style=\"text-align: right;\">\n",
              "      <th></th>\n",
              "      <th>Номер связки</th>\n",
              "      <th>Текст вопросов</th>\n",
              "      <th>вопросы_препроцессинговые</th>\n",
              "      <th>natasha</th>\n",
              "      <th>deeppavlov</th>\n",
              "    </tr>\n",
              "  </thead>\n",
              "  <tbody>\n",
              "    <tr>\n",
              "      <th>0</th>\n",
              "      <td>57.0</td>\n",
              "      <td>У ребенка в школе продлили каникулы. Могу ли я...</td>\n",
              "      <td>у ребёнок в школа продлить каникулы мочь ли я ...</td>\n",
              "      <td>у ребёнок в школа продлить каникулы мочь ли я ...</td>\n",
              "      <td>у ребёнок в школа продлить каникулы мочь ли я ...</td>\n",
              "    </tr>\n",
              "    <tr>\n",
              "      <th>1</th>\n",
              "      <td>78.0</td>\n",
              "      <td>Где сделать вакцинацию от коронавируса?\\nСущес...</td>\n",
              "      <td>где сделать вакцинация от коронавирус существо...</td>\n",
              "      <td>где сделать вакцинация от коронавирус существо...</td>\n",
              "      <td>где сделать вакцинация от коронавирус существо...</td>\n",
              "    </tr>\n",
              "    <tr>\n",
              "      <th>2</th>\n",
              "      <td>326.0</td>\n",
              "      <td>Сколько стоит сделать вакцину от гриппа?\\nМожн...</td>\n",
              "      <td>сколько стоить сделать вакцина от грипп можно ...</td>\n",
              "      <td>сколько стоить сделать вакцина от грипп можно ...</td>\n",
              "      <td>сколько стоить сделать вакцина от грипп можно ...</td>\n",
              "    </tr>\n",
              "    <tr>\n",
              "      <th>3</th>\n",
              "      <td>327.0</td>\n",
              "      <td>Могу я отказаться от вакцинации?\\nВ каких случ...</td>\n",
              "      <td>мочь я отказаться от вакцинация в какой случай...</td>\n",
              "      <td>мочь я отказаться от вакцинация в какой случай...</td>\n",
              "      <td>мочь я отказаться от вакцинация в какой случай...</td>\n",
              "    </tr>\n",
              "    <tr>\n",
              "      <th>4</th>\n",
              "      <td>328.0</td>\n",
              "      <td>Безопасна ли вакцинация?\\nОпасна ли вакцинация...</td>\n",
              "      <td>безопасный ли вакцинация опасный ли вакцинация...</td>\n",
              "      <td>безопасный ли вакцинация опасный ли вакцинация...</td>\n",
              "      <td>безопасный ли вакцинация опасный ли вакцинация...</td>\n",
              "    </tr>\n",
              "  </tbody>\n",
              "</table>\n",
              "</div>"
            ],
            "text/plain": [
              "   Номер связки  ...                                         deeppavlov\n",
              "0          57.0  ...  у ребёнок в школа продлить каникулы мочь ли я ...\n",
              "1          78.0  ...  где сделать вакцинация от коронавирус существо...\n",
              "2         326.0  ...  сколько стоить сделать вакцина от грипп можно ...\n",
              "3         327.0  ...  мочь я отказаться от вакцинация в какой случай...\n",
              "4         328.0  ...  безопасный ли вакцинация опасный ли вакцинация...\n",
              "\n",
              "[5 rows x 5 columns]"
            ]
          },
          "metadata": {
            "tags": []
          },
          "execution_count": 24
        }
      ]
    },
    {
      "cell_type": "code",
      "metadata": {
        "id": "AhjZhGigW7HE",
        "outputId": "dafc4cbe-ca3d-4f2e-b8fc-9993deb97e57",
        "colab": {
          "base_uri": "https://localhost:8080/",
          "height": 306
        }
      },
      "source": [
        "test.head()"
      ],
      "execution_count": 25,
      "outputs": [
        {
          "output_type": "execute_result",
          "data": {
            "text/html": [
              "<div>\n",
              "<style scoped>\n",
              "    .dataframe tbody tr th:only-of-type {\n",
              "        vertical-align: middle;\n",
              "    }\n",
              "\n",
              "    .dataframe tbody tr th {\n",
              "        vertical-align: top;\n",
              "    }\n",
              "\n",
              "    .dataframe thead th {\n",
              "        text-align: right;\n",
              "    }\n",
              "</style>\n",
              "<table border=\"1\" class=\"dataframe\">\n",
              "  <thead>\n",
              "    <tr style=\"text-align: right;\">\n",
              "      <th></th>\n",
              "      <th>Номер связки</th>\n",
              "      <th>Текст вопросов</th>\n",
              "      <th>вопросы_препроцессинговые</th>\n",
              "      <th>natasha</th>\n",
              "      <th>deeppavlov</th>\n",
              "    </tr>\n",
              "  </thead>\n",
              "  <tbody>\n",
              "    <tr>\n",
              "      <th>1333</th>\n",
              "      <td>308.0</td>\n",
              "      <td>В сентябре, хочу поехать на личном транспорте ...</td>\n",
              "      <td>в сентябрь хотеть поехать на личный транспорт ...</td>\n",
              "      <td>в сентябрь хотеть поехать на личный транспорт ...</td>\n",
              "      <td>в сентябрь хотеть поехать на личный транспорт ...</td>\n",
              "    </tr>\n",
              "    <tr>\n",
              "      <th>1986</th>\n",
              "      <td>308.0</td>\n",
              "      <td>ДОбрый день!\\n\\nя прилетел в воскресенье рано ...</td>\n",
              "      <td>добрый день я прилететь в воскресение рано утр...</td>\n",
              "      <td>добрый день я прилететь в воскресение рано утр...</td>\n",
              "      <td>добрый день я прилететь в воскресение рано утр...</td>\n",
              "    </tr>\n",
              "    <tr>\n",
              "      <th>2282</th>\n",
              "      <td>37.0</td>\n",
              "      <td>Добрый день! Нужна ли справка об отсутствии Ко...</td>\n",
              "      <td>добрый день нужный ли справка о отсутствие ков...</td>\n",
              "      <td>добрый день нужный ли справка о отсутствие при...</td>\n",
              "      <td>добрый день нужный ли справка о отсутствие при...</td>\n",
              "    </tr>\n",
              "    <tr>\n",
              "      <th>810</th>\n",
              "      <td>5.0</td>\n",
              "      <td>Здравствуйте. Я работаю врачем в поликлинике. ...</td>\n",
              "      <td>здравствуйте я работать вракать в поликлиника ...</td>\n",
              "      <td>здравствуйте я работать вракать в поликлиника ...</td>\n",
              "      <td>здравствуйте я работать вракать в поликлиника ...</td>\n",
              "    </tr>\n",
              "    <tr>\n",
              "      <th>2147</th>\n",
              "      <td>1.0</td>\n",
              "      <td>\\nЗдравствуйте!\\nСкажите, пожалуйста, граждани...</td>\n",
              "      <td>здравствуйте сказать пожалуйста гражданин само...</td>\n",
              "      <td>здравствуйте сказать пожалуйста гражданин само...</td>\n",
              "      <td>здравствуйте сказать пожалуйста гражданин само...</td>\n",
              "    </tr>\n",
              "  </tbody>\n",
              "</table>\n",
              "</div>"
            ],
            "text/plain": [
              "      Номер связки  ...                                         deeppavlov\n",
              "1333         308.0  ...  в сентябрь хотеть поехать на личный транспорт ...\n",
              "1986         308.0  ...  добрый день я прилететь в воскресение рано утр...\n",
              "2282          37.0  ...  добрый день нужный ли справка о отсутствие при...\n",
              "810            5.0  ...  здравствуйте я работать вракать в поликлиника ...\n",
              "2147           1.0  ...  здравствуйте сказать пожалуйста гражданин само...\n",
              "\n",
              "[5 rows x 5 columns]"
            ]
          },
          "metadata": {
            "tags": []
          },
          "execution_count": 25
        }
      ]
    },
    {
      "cell_type": "markdown",
      "metadata": {
        "id": "k-Mp4HTDXICr"
      },
      "source": [
        "#### Классификатор"
      ]
    },
    {
      "cell_type": "code",
      "metadata": {
        "id": "-iQHnZUSXJ-X"
      },
      "source": [
        "from sklearn.linear_model import LogisticRegression\n",
        "from sklearn.metrics import f1_score, classification_report, accuracy_score"
      ],
      "execution_count": 26,
      "outputs": []
    },
    {
      "cell_type": "code",
      "metadata": {
        "id": "4UvRrpoQXMWG"
      },
      "source": [
        "from sklearn.feature_extraction.text import TfidfVectorizer"
      ],
      "execution_count": 27,
      "outputs": []
    },
    {
      "cell_type": "code",
      "metadata": {
        "id": "GSlsbGHnagqp"
      },
      "source": [
        "# исключается случаи, когда нестроковый тип данных\n",
        "\n",
        "train['Текст вопросов'] = train['Текст вопросов'].astype(str)\n",
        "train['вопросы_препроцессинговые'] = train['вопросы_препроцессинговые'].astype(str)\n",
        "train['natasha'] = train['natasha'].astype(str) \n",
        "train['deeppavlov'] = train['deeppavlov'].astype(str) \n",
        "test['Текст вопросов'] = test['Текст вопросов'].astype(str)\n",
        "test['вопросы_препроцессинговые'] = test['вопросы_препроцессинговые'].astype(str)\n",
        "test['natasha'] = test['natasha'].astype(str)\n",
        "test['deeppavlov'] = test['deeppavlov'].astype(str)"
      ],
      "execution_count": 28,
      "outputs": []
    },
    {
      "cell_type": "markdown",
      "metadata": {
        "id": "oo-04r3ScN97"
      },
      "source": [
        "##### TF-IDF + Log regression"
      ]
    },
    {
      "cell_type": "code",
      "metadata": {
        "id": "oY6g9HFEXrY0"
      },
      "source": [
        "def tfidf_clf_log(train, test, subset, nums):\n",
        "    tfidf_vectorizer = TfidfVectorizer()\n",
        "    X_train = tfidf_vectorizer.fit_transform(train[subset])\n",
        "    X_test = tfidf_vectorizer.transform(test[subset])\n",
        "\n",
        "    # лог регрессия\n",
        "    model = LogisticRegression().fit(\n",
        "    X_train, train[nums])\n",
        "\n",
        "    y_pred = model.predict(X_test)\n",
        "    \n",
        "    print(classification_report(test[nums], y_pred))\n",
        "\n",
        "    print(f'Accuracy: {accuracy_score(test[nums], y_pred)}')\n",
        "    \n",
        "    return accuracy_score(test[nums], y_pred)"
      ],
      "execution_count": 29,
      "outputs": []
    },
    {
      "cell_type": "code",
      "metadata": {
        "id": "hhGE8IX9YujK",
        "outputId": "d7e898a8-64a1-487d-b24a-872bffa99667",
        "colab": {
          "base_uri": "https://localhost:8080/",
          "height": 700
        }
      },
      "source": [
        "just_text = tfidf_clf_log(train, test, 'Текст вопросов', 'Номер связки')"
      ],
      "execution_count": 30,
      "outputs": [
        {
          "output_type": "stream",
          "text": [
            "              precision    recall  f1-score   support\n",
            "\n",
            "         0.0       0.00      0.00      0.00         3\n",
            "         1.0       0.13      0.23      0.17        39\n",
            "         3.0       0.00      0.00      0.00         7\n",
            "         5.0       0.00      0.00      0.00         5\n",
            "         6.0       0.53      0.46      0.49        93\n",
            "        10.0       0.00      0.00      0.00         2\n",
            "        12.0       0.75      0.38      0.51        39\n",
            "        21.0       0.00      0.00      0.00         2\n",
            "        32.0       0.00      0.00      0.00         1\n",
            "        34.0       0.00      0.00      0.00         1\n",
            "        37.0       0.56      0.16      0.25        56\n",
            "        38.0       0.00      0.00      0.00         3\n",
            "        45.0       0.00      0.00      0.00        12\n",
            "        56.0       0.00      0.00      0.00         1\n",
            "        57.0       0.00      0.00      0.00        10\n",
            "        70.0       1.00      0.08      0.15        12\n",
            "        74.0       0.00      0.00      0.00         1\n",
            "        79.0       0.86      0.35      0.50        17\n",
            "       132.0       0.00      0.00      0.00        10\n",
            "       135.0       1.00      0.18      0.31        22\n",
            "       173.0       0.00      0.00      0.00         3\n",
            "       210.0       0.00      0.00      0.00         1\n",
            "       246.0       0.00      0.00      0.00         3\n",
            "       257.0       0.67      0.05      0.10        38\n",
            "       270.0       0.00      0.00      0.00         1\n",
            "       286.0       0.00      0.00      0.00         6\n",
            "       308.0       0.60      0.99      0.75       296\n",
            "       324.0       0.00      0.00      0.00         5\n",
            "       326.0       0.00      0.00      0.00         1\n",
            "\n",
            "    accuracy                           0.56       690\n",
            "   macro avg       0.21      0.10      0.11       690\n",
            "weighted avg       0.53      0.56      0.48       690\n",
            "\n",
            "Accuracy: 0.5550724637681159\n"
          ],
          "name": "stdout"
        },
        {
          "output_type": "stream",
          "text": [
            "/usr/local/lib/python3.6/dist-packages/sklearn/metrics/_classification.py:1272: UndefinedMetricWarning: Precision and F-score are ill-defined and being set to 0.0 in labels with no predicted samples. Use `zero_division` parameter to control this behavior.\n",
            "  _warn_prf(average, modifier, msg_start, len(result))\n"
          ],
          "name": "stderr"
        }
      ]
    },
    {
      "cell_type": "code",
      "metadata": {
        "id": "PpRUJf8UbgJO",
        "outputId": "bd6254ba-576b-4708-a7f2-310e6cc07fa9",
        "colab": {
          "base_uri": "https://localhost:8080/",
          "height": 700
        }
      },
      "source": [
        "prep_text = tfidf_clf_log(train, test, 'вопросы_препроцессинговые', 'Номер связки')"
      ],
      "execution_count": 31,
      "outputs": [
        {
          "output_type": "stream",
          "text": [
            "              precision    recall  f1-score   support\n",
            "\n",
            "         0.0       0.00      0.00      0.00         3\n",
            "         1.0       0.29      0.64      0.40        39\n",
            "         3.0       0.00      0.00      0.00         7\n",
            "         5.0       0.00      0.00      0.00         5\n",
            "         6.0       0.53      0.65      0.58        93\n",
            "        10.0       0.00      0.00      0.00         2\n",
            "        12.0       0.76      0.49      0.59        39\n",
            "        21.0       0.00      0.00      0.00         2\n",
            "        32.0       0.00      0.00      0.00         1\n",
            "        34.0       0.00      0.00      0.00         1\n",
            "        37.0       0.59      0.34      0.43        56\n",
            "        38.0       0.00      0.00      0.00         3\n",
            "        45.0       0.00      0.00      0.00        12\n",
            "        56.0       0.00      0.00      0.00         1\n",
            "        57.0       0.00      0.00      0.00        10\n",
            "        70.0       0.91      0.83      0.87        12\n",
            "        74.0       0.00      0.00      0.00         1\n",
            "        79.0       0.88      0.41      0.56        17\n",
            "       132.0       0.00      0.00      0.00        10\n",
            "       135.0       1.00      0.23      0.37        22\n",
            "       173.0       0.00      0.00      0.00         3\n",
            "       210.0       0.00      0.00      0.00         1\n",
            "       246.0       0.00      0.00      0.00         3\n",
            "       257.0       0.75      0.08      0.14        38\n",
            "       270.0       0.00      0.00      0.00         1\n",
            "       286.0       0.00      0.00      0.00         6\n",
            "       308.0       0.73      0.99      0.84       296\n",
            "       324.0       0.00      0.00      0.00         5\n",
            "       326.0       0.00      0.00      0.00         1\n",
            "\n",
            "    accuracy                           0.64       690\n",
            "   macro avg       0.22      0.16      0.17       690\n",
            "weighted avg       0.60      0.64      0.58       690\n",
            "\n",
            "Accuracy: 0.6405797101449275\n"
          ],
          "name": "stdout"
        },
        {
          "output_type": "stream",
          "text": [
            "/usr/local/lib/python3.6/dist-packages/sklearn/metrics/_classification.py:1272: UndefinedMetricWarning: Precision and F-score are ill-defined and being set to 0.0 in labels with no predicted samples. Use `zero_division` parameter to control this behavior.\n",
            "  _warn_prf(average, modifier, msg_start, len(result))\n"
          ],
          "name": "stderr"
        }
      ]
    },
    {
      "cell_type": "code",
      "metadata": {
        "id": "A_VspM-ybqyx",
        "outputId": "a29dd215-dbd2-43df-dfdc-05a5a9c33de3",
        "colab": {
          "base_uri": "https://localhost:8080/",
          "height": 700
        }
      },
      "source": [
        "natasha_text = tfidf_clf_log(train, test, 'natasha', 'Номер связки')"
      ],
      "execution_count": 32,
      "outputs": [
        {
          "output_type": "stream",
          "text": [
            "              precision    recall  f1-score   support\n",
            "\n",
            "         0.0       0.00      0.00      0.00         3\n",
            "         1.0       0.28      0.62      0.39        39\n",
            "         3.0       0.00      0.00      0.00         7\n",
            "         5.0       1.00      0.20      0.33         5\n",
            "         6.0       0.51      0.58      0.55        93\n",
            "        10.0       0.00      0.00      0.00         2\n",
            "        12.0       0.77      0.51      0.62        39\n",
            "        21.0       0.00      0.00      0.00         2\n",
            "        32.0       0.00      0.00      0.00         1\n",
            "        34.0       0.00      0.00      0.00         1\n",
            "        37.0       0.47      0.25      0.33        56\n",
            "        38.0       0.00      0.00      0.00         3\n",
            "        45.0       0.00      0.00      0.00        12\n",
            "        56.0       0.00      0.00      0.00         1\n",
            "        57.0       0.00      0.00      0.00        10\n",
            "        70.0       0.91      0.83      0.87        12\n",
            "        74.0       0.00      0.00      0.00         1\n",
            "        79.0       0.88      0.41      0.56        17\n",
            "       132.0       0.00      0.00      0.00        10\n",
            "       135.0       0.83      0.23      0.36        22\n",
            "       173.0       0.00      0.00      0.00         3\n",
            "       210.0       0.00      0.00      0.00         1\n",
            "       246.0       0.00      0.00      0.00         3\n",
            "       257.0       0.80      0.11      0.19        38\n",
            "       270.0       0.00      0.00      0.00         1\n",
            "       286.0       0.00      0.00      0.00         6\n",
            "       308.0       0.70      0.98      0.82       296\n",
            "       324.0       0.00      0.00      0.00         5\n",
            "       326.0       0.00      0.00      0.00         1\n",
            "\n",
            "    accuracy                           0.62       690\n",
            "   macro avg       0.25      0.16      0.17       690\n",
            "weighted avg       0.58      0.62      0.56       690\n",
            "\n",
            "Accuracy: 0.6202898550724638\n"
          ],
          "name": "stdout"
        },
        {
          "output_type": "stream",
          "text": [
            "/usr/local/lib/python3.6/dist-packages/sklearn/metrics/_classification.py:1272: UndefinedMetricWarning: Precision and F-score are ill-defined and being set to 0.0 in labels with no predicted samples. Use `zero_division` parameter to control this behavior.\n",
            "  _warn_prf(average, modifier, msg_start, len(result))\n"
          ],
          "name": "stderr"
        }
      ]
    },
    {
      "cell_type": "code",
      "metadata": {
        "id": "-ZyQxccgbwjy",
        "outputId": "7c66b934-b959-4a8d-bde0-9ae2dc44f5ec",
        "colab": {
          "base_uri": "https://localhost:8080/",
          "height": 700
        }
      },
      "source": [
        "deeppavlov_text = tfidf_clf_log(train, test, 'deeppavlov', 'Номер связки')"
      ],
      "execution_count": 33,
      "outputs": [
        {
          "output_type": "stream",
          "text": [
            "              precision    recall  f1-score   support\n",
            "\n",
            "         0.0       0.00      0.00      0.00         3\n",
            "         1.0       0.27      0.59      0.37        39\n",
            "         3.0       0.00      0.00      0.00         7\n",
            "         5.0       1.00      0.20      0.33         5\n",
            "         6.0       0.56      0.62      0.59        93\n",
            "        10.0       0.00      0.00      0.00         2\n",
            "        12.0       0.83      0.51      0.63        39\n",
            "        21.0       0.00      0.00      0.00         2\n",
            "        32.0       0.00      0.00      0.00         1\n",
            "        34.0       0.00      0.00      0.00         1\n",
            "        37.0       0.35      0.20      0.25        56\n",
            "        38.0       0.00      0.00      0.00         3\n",
            "        45.0       0.00      0.00      0.00        12\n",
            "        56.0       0.00      0.00      0.00         1\n",
            "        57.0       0.00      0.00      0.00        10\n",
            "        70.0       0.91      0.83      0.87        12\n",
            "        74.0       0.00      0.00      0.00         1\n",
            "        79.0       0.78      0.41      0.54        17\n",
            "       132.0       0.00      0.00      0.00        10\n",
            "       135.0       0.83      0.23      0.36        22\n",
            "       173.0       0.00      0.00      0.00         3\n",
            "       210.0       0.00      0.00      0.00         1\n",
            "       246.0       0.00      0.00      0.00         3\n",
            "       257.0       0.83      0.13      0.23        38\n",
            "       270.0       0.00      0.00      0.00         1\n",
            "       286.0       0.00      0.00      0.00         6\n",
            "       308.0       0.70      0.98      0.82       296\n",
            "       324.0       0.00      0.00      0.00         5\n",
            "       326.0       0.00      0.00      0.00         1\n",
            "\n",
            "    accuracy                           0.62       690\n",
            "   macro avg       0.24      0.16      0.17       690\n",
            "weighted avg       0.58      0.62      0.56       690\n",
            "\n",
            "Accuracy: 0.6217391304347826\n"
          ],
          "name": "stdout"
        },
        {
          "output_type": "stream",
          "text": [
            "/usr/local/lib/python3.6/dist-packages/sklearn/metrics/_classification.py:1272: UndefinedMetricWarning: Precision and F-score are ill-defined and being set to 0.0 in labels with no predicted samples. Use `zero_division` parameter to control this behavior.\n",
            "  _warn_prf(average, modifier, msg_start, len(result))\n"
          ],
          "name": "stderr"
        }
      ]
    },
    {
      "cell_type": "markdown",
      "metadata": {
        "id": "ykDLeOcTb23p"
      },
      "source": [
        "\n",
        "\n",
        "---\n",
        "\n",
        "\n",
        "Cамый хороший результат получается на лемматизированных текстах (самый высокий) и на тексте, прошедшим препроцессинг с NER. Таким образом, классификаторы, которые будут тестироваться дальше будут прогоняться через эти два параметра."
      ]
    },
    {
      "cell_type": "markdown",
      "metadata": {
        "id": "t8BV0ueDcSm4"
      },
      "source": [
        "##### TF-IDF (н-граммы) + Log regression update\n",
        "\n",
        "\n",
        "добавляем н-граммы + др. параметры"
      ]
    },
    {
      "cell_type": "code",
      "metadata": {
        "id": "WEvA345TcMVS"
      },
      "source": [
        "def tfidf_clf_log_2(train, test, subset, nums):\n",
        "    tfidf_vectorizer = TfidfVectorizer(analyzer='char_wb',\n",
        "                                        ngram_range=(2, 5),\n",
        "                                        max_df=0.97,\n",
        "                                        min_df=3)\n",
        "    X_train = tfidf_vectorizer.fit_transform(train[subset])\n",
        "    X_test = tfidf_vectorizer.transform(test[subset])\n",
        "\n",
        "    # лог регрессия\n",
        "    model = LogisticRegression(class_weight='balanced',\n",
        "                               solver='liblinear').fit(\n",
        "    X_train, train[nums])\n",
        "\n",
        "    y_pred = model.predict(X_test)\n",
        "    \n",
        "    print(classification_report(test[nums], y_pred))\n",
        "\n",
        "    print(f'Accuracy: {accuracy_score(test[nums], y_pred)}')\n",
        "\n",
        "    return accuracy_score(test[nums], y_pred)"
      ],
      "execution_count": 34,
      "outputs": []
    },
    {
      "cell_type": "code",
      "metadata": {
        "id": "qyuQlvnNcovm",
        "outputId": "169c09f4-8279-47d7-e998-9c27e1f10834",
        "colab": {
          "base_uri": "https://localhost:8080/",
          "height": 802
        }
      },
      "source": [
        "prep_text_2 = tfidf_clf_log_2(train, test, 'вопросы_препроцессинговые', 'Номер связки')"
      ],
      "execution_count": 35,
      "outputs": [
        {
          "output_type": "stream",
          "text": [
            "              precision    recall  f1-score   support\n",
            "\n",
            "         0.0       1.00      0.67      0.80         3\n",
            "         1.0       0.41      0.46      0.43        39\n",
            "         3.0       0.29      0.29      0.29         7\n",
            "         5.0       0.27      0.60      0.37         5\n",
            "         6.0       0.74      0.37      0.49        93\n",
            "        10.0       1.00      1.00      1.00         2\n",
            "        12.0       0.76      0.72      0.74        39\n",
            "        21.0       0.00      0.00      0.00         2\n",
            "        32.0       0.00      0.00      0.00         1\n",
            "        34.0       0.00      0.00      0.00         1\n",
            "        37.0       0.86      0.43      0.57        56\n",
            "        38.0       0.00      0.00      0.00         3\n",
            "        43.0       0.00      0.00      0.00         0\n",
            "        45.0       0.23      0.25      0.24        12\n",
            "        46.0       0.00      0.00      0.00         0\n",
            "        56.0       0.00      0.00      0.00         1\n",
            "        57.0       0.40      1.00      0.57        10\n",
            "        70.0       0.75      1.00      0.86        12\n",
            "        74.0       0.00      0.00      0.00         1\n",
            "        79.0       0.36      0.71      0.48        17\n",
            "       132.0       0.30      0.30      0.30        10\n",
            "       135.0       0.73      0.50      0.59        22\n",
            "       173.0       0.29      0.67      0.40         3\n",
            "       210.0       0.00      0.00      0.00         1\n",
            "       246.0       0.00      0.00      0.00         3\n",
            "       257.0       0.47      0.45      0.46        38\n",
            "       270.0       0.00      0.00      0.00         1\n",
            "       286.0       0.07      0.17      0.10         6\n",
            "       308.0       0.88      0.95      0.91       296\n",
            "       324.0       0.33      1.00      0.50         5\n",
            "       325.0       0.00      0.00      0.00         0\n",
            "       326.0       0.00      0.00      0.00         1\n",
            "       327.0       0.00      0.00      0.00         0\n",
            "\n",
            "    accuracy                           0.68       690\n",
            "   macro avg       0.31      0.35      0.31       690\n",
            "weighted avg       0.71      0.68      0.68       690\n",
            "\n",
            "Accuracy: 0.6797101449275362\n"
          ],
          "name": "stdout"
        },
        {
          "output_type": "stream",
          "text": [
            "/usr/local/lib/python3.6/dist-packages/sklearn/metrics/_classification.py:1272: UndefinedMetricWarning: Precision and F-score are ill-defined and being set to 0.0 in labels with no predicted samples. Use `zero_division` parameter to control this behavior.\n",
            "  _warn_prf(average, modifier, msg_start, len(result))\n",
            "/usr/local/lib/python3.6/dist-packages/sklearn/metrics/_classification.py:1272: UndefinedMetricWarning: Recall and F-score are ill-defined and being set to 0.0 in labels with no true samples. Use `zero_division` parameter to control this behavior.\n",
            "  _warn_prf(average, modifier, msg_start, len(result))\n"
          ],
          "name": "stderr"
        }
      ]
    },
    {
      "cell_type": "code",
      "metadata": {
        "id": "8heWl-Hfclbl",
        "outputId": "7d52dd5b-f8af-48a3-a832-35a48d9797a4",
        "colab": {
          "base_uri": "https://localhost:8080/",
          "height": 785
        }
      },
      "source": [
        "deeppavlov_text_2 = tfidf_clf_log_2(train, test, 'deeppavlov', 'Номер связки')"
      ],
      "execution_count": 36,
      "outputs": [
        {
          "output_type": "stream",
          "text": [
            "              precision    recall  f1-score   support\n",
            "\n",
            "         0.0       0.50      0.67      0.57         3\n",
            "         1.0       0.42      0.51      0.46        39\n",
            "         3.0       0.20      0.29      0.24         7\n",
            "         5.0       0.25      0.60      0.35         5\n",
            "         6.0       0.68      0.34      0.46        93\n",
            "        10.0       0.50      1.00      0.67         2\n",
            "        12.0       0.74      0.67      0.70        39\n",
            "        21.0       0.00      0.00      0.00         2\n",
            "        32.0       0.00      0.00      0.00         1\n",
            "        34.0       0.00      0.00      0.00         1\n",
            "        37.0       0.69      0.20      0.31        56\n",
            "        38.0       0.00      0.00      0.00         3\n",
            "        43.0       0.00      0.00      0.00         0\n",
            "        45.0       0.29      0.33      0.31        12\n",
            "        56.0       0.00      0.00      0.00         1\n",
            "        57.0       0.40      1.00      0.57        10\n",
            "        70.0       0.80      1.00      0.89        12\n",
            "        74.0       0.00      0.00      0.00         1\n",
            "        79.0       0.38      0.71      0.49        17\n",
            "       132.0       0.30      0.30      0.30        10\n",
            "       135.0       0.69      0.50      0.58        22\n",
            "       173.0       0.22      0.67      0.33         3\n",
            "       210.0       0.00      0.00      0.00         1\n",
            "       246.0       0.00      0.00      0.00         3\n",
            "       257.0       0.47      0.37      0.41        38\n",
            "       270.0       0.00      0.00      0.00         1\n",
            "       286.0       0.14      0.33      0.20         6\n",
            "       308.0       0.86      0.92      0.89       296\n",
            "       324.0       0.33      1.00      0.50         5\n",
            "       325.0       0.00      0.00      0.00         0\n",
            "       326.0       0.00      0.00      0.00         1\n",
            "       327.0       0.00      0.00      0.00         0\n",
            "\n",
            "    accuracy                           0.65       690\n",
            "   macro avg       0.28      0.36      0.29       690\n",
            "weighted avg       0.68      0.65      0.64       690\n",
            "\n",
            "Accuracy: 0.6463768115942029\n"
          ],
          "name": "stdout"
        },
        {
          "output_type": "stream",
          "text": [
            "/usr/local/lib/python3.6/dist-packages/sklearn/metrics/_classification.py:1272: UndefinedMetricWarning: Precision and F-score are ill-defined and being set to 0.0 in labels with no predicted samples. Use `zero_division` parameter to control this behavior.\n",
            "  _warn_prf(average, modifier, msg_start, len(result))\n",
            "/usr/local/lib/python3.6/dist-packages/sklearn/metrics/_classification.py:1272: UndefinedMetricWarning: Recall and F-score are ill-defined and being set to 0.0 in labels with no true samples. Use `zero_division` parameter to control this behavior.\n",
            "  _warn_prf(average, modifier, msg_start, len(result))\n"
          ],
          "name": "stderr"
        }
      ]
    },
    {
      "cell_type": "markdown",
      "metadata": {
        "id": "KPkvTj4mdQ3j"
      },
      "source": [
        "Есть значительные улучшения. При добавлении н-грамм и подкручивании параметров логистической регрессии получилось:\n",
        "\n",
        "\n",
        "\n",
        "*   тексты после препроцессинга:\n",
        "\n",
        "\n"
      ]
    },
    {
      "cell_type": "code",
      "metadata": {
        "id": "dbYdZ-EEdhKl",
        "outputId": "8e1e81cc-190a-4a89-e910-1bbff198c4d5",
        "colab": {
          "base_uri": "https://localhost:8080/",
          "height": 34
        }
      },
      "source": [
        "print(prep_text, '-->', prep_text_2)"
      ],
      "execution_count": 37,
      "outputs": [
        {
          "output_type": "stream",
          "text": [
            "0.6405797101449275 --> 0.6797101449275362\n"
          ],
          "name": "stdout"
        }
      ]
    },
    {
      "cell_type": "markdown",
      "metadata": {
        "id": "6GJH5yYsdkAz"
      },
      "source": [
        "*   тексты после препроцессинга с диппавловым: "
      ]
    },
    {
      "cell_type": "code",
      "metadata": {
        "id": "KRvB04UudQZU",
        "outputId": "23a3998b-38fb-4f62-a3f4-8235ac86392e",
        "colab": {
          "base_uri": "https://localhost:8080/",
          "height": 34
        }
      },
      "source": [
        "print(deeppavlov_text, '-->', deeppavlov_text_2)"
      ],
      "execution_count": 38,
      "outputs": [
        {
          "output_type": "stream",
          "text": [
            "0.6217391304347826 --> 0.6463768115942029\n"
          ],
          "name": "stdout"
        }
      ]
    },
    {
      "cell_type": "markdown",
      "metadata": {
        "id": "q-nk9LDgdyK_"
      },
      "source": [
        "##### TF-IDF (н-граммы) + SVC"
      ]
    },
    {
      "cell_type": "code",
      "metadata": {
        "id": "44m1_exDerpO"
      },
      "source": [
        "from sklearn.svm import SVC"
      ],
      "execution_count": 39,
      "outputs": []
    },
    {
      "cell_type": "code",
      "metadata": {
        "id": "IZsPrNhvebSr"
      },
      "source": [
        " def tfidf_clf_svc(train, test, subset, nums):\n",
        "    tfidf_vectorizer = TfidfVectorizer(analyzer='char_wb',\n",
        "                                        ngram_range=(2, 5), max_df=0.97,\n",
        "                                        min_df=3)\n",
        "    X_train = tfidf_vectorizer.fit_transform(train[subset])\n",
        "    X_test = tfidf_vectorizer.transform(test[subset])\n",
        "\n",
        "    model = SVC(kernel='linear',\n",
        "                decision_function_shape='ovo').fit(\n",
        "                    X_train, train[nums])\n",
        "\n",
        "    y_pred = model.predict(X_test)\n",
        "    \n",
        "    print(classification_report(test[nums], y_pred))\n",
        "\n",
        "    print(f'Accuracy: {accuracy_score(test[nums], y_pred)}')\n",
        "    \n",
        "    return accuracy_score(test[nums], y_pred)   "
      ],
      "execution_count": 40,
      "outputs": []
    },
    {
      "cell_type": "code",
      "metadata": {
        "id": "ucTLTkY_etTh",
        "outputId": "ea5e7ac1-29fd-466b-f104-a86dcc44a008",
        "colab": {
          "base_uri": "https://localhost:8080/",
          "height": 700
        }
      },
      "source": [
        "prep_text_3 = tfidf_clf_svc(train, test, 'вопросы_препроцессинговые', 'Номер связки')"
      ],
      "execution_count": 48,
      "outputs": [
        {
          "output_type": "stream",
          "text": [
            "              precision    recall  f1-score   support\n",
            "\n",
            "         0.0       1.00      0.67      0.80         3\n",
            "         1.0       0.27      0.72      0.39        39\n",
            "         3.0       0.00      0.00      0.00         7\n",
            "         5.0       0.67      0.40      0.50         5\n",
            "         6.0       0.60      0.62      0.61        93\n",
            "        10.0       0.00      0.00      0.00         2\n",
            "        12.0       0.86      0.64      0.74        39\n",
            "        21.0       0.00      0.00      0.00         2\n",
            "        32.0       0.00      0.00      0.00         1\n",
            "        34.0       0.00      0.00      0.00         1\n",
            "        37.0       0.59      0.61      0.60        56\n",
            "        38.0       0.00      0.00      0.00         3\n",
            "        45.0       1.00      0.17      0.29        12\n",
            "        56.0       0.00      0.00      0.00         1\n",
            "        57.0       0.50      0.10      0.17        10\n",
            "        70.0       0.91      0.83      0.87        12\n",
            "        74.0       0.00      0.00      0.00         1\n",
            "        79.0       0.61      0.65      0.63        17\n",
            "       132.0       0.00      0.00      0.00        10\n",
            "       135.0       0.88      0.32      0.47        22\n",
            "       173.0       0.00      0.00      0.00         3\n",
            "       210.0       0.00      0.00      0.00         1\n",
            "       246.0       0.00      0.00      0.00         3\n",
            "       257.0       0.75      0.32      0.44        38\n",
            "       270.0       0.00      0.00      0.00         1\n",
            "       286.0       0.20      0.17      0.18         6\n",
            "       308.0       0.85      0.96      0.90       296\n",
            "       324.0       0.75      0.60      0.67         5\n",
            "       326.0       0.00      0.00      0.00         1\n",
            "\n",
            "    accuracy                           0.69       690\n",
            "   macro avg       0.36      0.27      0.28       690\n",
            "weighted avg       0.70      0.69      0.67       690\n",
            "\n",
            "Accuracy: 0.6942028985507246\n"
          ],
          "name": "stdout"
        },
        {
          "output_type": "stream",
          "text": [
            "/usr/local/lib/python3.6/dist-packages/sklearn/metrics/_classification.py:1272: UndefinedMetricWarning: Precision and F-score are ill-defined and being set to 0.0 in labels with no predicted samples. Use `zero_division` parameter to control this behavior.\n",
            "  _warn_prf(average, modifier, msg_start, len(result))\n"
          ],
          "name": "stderr"
        }
      ]
    },
    {
      "cell_type": "code",
      "metadata": {
        "id": "Jd-1fLm_e7xB",
        "outputId": "567d5c93-ae10-4f42-8ae4-ed567b72ca7d",
        "colab": {
          "base_uri": "https://localhost:8080/",
          "height": 700
        }
      },
      "source": [
        "deeppavlov_text_3 = tfidf_clf_svc(train, test, 'deeppavlov', 'Номер связки')"
      ],
      "execution_count": 49,
      "outputs": [
        {
          "output_type": "stream",
          "text": [
            "              precision    recall  f1-score   support\n",
            "\n",
            "         0.0       1.00      0.67      0.80         3\n",
            "         1.0       0.25      0.72      0.37        39\n",
            "         3.0       0.00      0.00      0.00         7\n",
            "         5.0       0.67      0.40      0.50         5\n",
            "         6.0       0.62      0.61      0.62        93\n",
            "        10.0       0.00      0.00      0.00         2\n",
            "        12.0       0.85      0.56      0.68        39\n",
            "        21.0       0.00      0.00      0.00         2\n",
            "        32.0       0.00      0.00      0.00         1\n",
            "        34.0       0.00      0.00      0.00         1\n",
            "        37.0       0.44      0.43      0.43        56\n",
            "        38.0       0.00      0.00      0.00         3\n",
            "        45.0       1.00      0.17      0.29        12\n",
            "        56.0       0.00      0.00      0.00         1\n",
            "        57.0       0.67      0.20      0.31        10\n",
            "        70.0       0.85      0.92      0.88        12\n",
            "        74.0       0.00      0.00      0.00         1\n",
            "        79.0       0.65      0.65      0.65        17\n",
            "       132.0       0.00      0.00      0.00        10\n",
            "       135.0       0.78      0.32      0.45        22\n",
            "       173.0       0.00      0.00      0.00         3\n",
            "       210.0       0.00      0.00      0.00         1\n",
            "       246.0       0.00      0.00      0.00         3\n",
            "       257.0       0.67      0.26      0.38        38\n",
            "       270.0       0.00      0.00      0.00         1\n",
            "       286.0       0.25      0.17      0.20         6\n",
            "       308.0       0.84      0.94      0.89       296\n",
            "       324.0       0.75      0.60      0.67         5\n",
            "       326.0       0.00      0.00      0.00         1\n",
            "\n",
            "    accuracy                           0.67       690\n",
            "   macro avg       0.35      0.26      0.28       690\n",
            "weighted avg       0.68      0.67      0.65       690\n",
            "\n",
            "Accuracy: 0.6666666666666666\n"
          ],
          "name": "stdout"
        },
        {
          "output_type": "stream",
          "text": [
            "/usr/local/lib/python3.6/dist-packages/sklearn/metrics/_classification.py:1272: UndefinedMetricWarning: Precision and F-score are ill-defined and being set to 0.0 in labels with no predicted samples. Use `zero_division` parameter to control this behavior.\n",
            "  _warn_prf(average, modifier, msg_start, len(result))\n"
          ],
          "name": "stderr"
        }
      ]
    },
    {
      "cell_type": "markdown",
      "metadata": {
        "id": "UggThNHYfO6p"
      },
      "source": [
        "После смены модели для классификатора данные улучшились еще больше:\n",
        "\n",
        "(три подпункта: тф-айдф + лог регрессия, тф-айдф + лог регрессия улучшенное и тф-айдф + svc)\n",
        "\n",
        "\n",
        "\n",
        "*   тексты после препроцессинга:\n",
        "\n"
      ]
    },
    {
      "cell_type": "code",
      "metadata": {
        "id": "UPbz6sBYfXJG",
        "outputId": "834628f0-7056-4bb0-ba61-1b38985572c1",
        "colab": {
          "base_uri": "https://localhost:8080/",
          "height": 34
        }
      },
      "source": [
        "print(prep_text, '-->', prep_text_2, '-->', prep_text_3)"
      ],
      "execution_count": 50,
      "outputs": [
        {
          "output_type": "stream",
          "text": [
            "0.6405797101449275 --> 0.6797101449275362 --> 0.6942028985507246\n"
          ],
          "name": "stdout"
        }
      ]
    },
    {
      "cell_type": "markdown",
      "metadata": {
        "id": "YjfuwBlofpQi"
      },
      "source": [
        "\n",
        "\n",
        "*   тексты после препроцессинга с диппавловым: \n"
      ]
    },
    {
      "cell_type": "code",
      "metadata": {
        "id": "2TjbIbnSfohS",
        "outputId": "8924cf0f-a272-4c14-d725-a6672909424d",
        "colab": {
          "base_uri": "https://localhost:8080/",
          "height": 34
        }
      },
      "source": [
        "print(deeppavlov_text, '-->', deeppavlov_text_2, '-->', deeppavlov_text_3)"
      ],
      "execution_count": 51,
      "outputs": [
        {
          "output_type": "stream",
          "text": [
            "0.6217391304347826 --> 0.6463768115942029 --> 0.6666666666666666\n"
          ],
          "name": "stdout"
        }
      ]
    }
  ]
}