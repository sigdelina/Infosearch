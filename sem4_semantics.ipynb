{
  "nbformat": 4,
  "nbformat_minor": 0,
  "metadata": {
    "kernelspec": {
      "display_name": "Python 3",
      "language": "python",
      "name": "python3"
    },
    "language_info": {
      "codemirror_mode": {
        "name": "ipython",
        "version": 3
      },
      "file_extension": ".py",
      "mimetype": "text/x-python",
      "name": "python",
      "nbconvert_exporter": "python",
      "pygments_lexer": "ipython3",
      "version": "3.6.8"
    },
    "colab": {
      "name": "sem4_semantics.ipynb",
      "provenance": []
    },
    "widgets": {
      "application/vnd.jupyter.widget-state+json": {
        "7ebfcdb975fa4f2daa6d3b024e6f59e9": {
          "model_module": "@jupyter-widgets/controls",
          "model_name": "HBoxModel",
          "state": {
            "_view_name": "HBoxView",
            "_dom_classes": [],
            "_model_name": "HBoxModel",
            "_view_module": "@jupyter-widgets/controls",
            "_model_module_version": "1.5.0",
            "_view_count": null,
            "_view_module_version": "1.5.0",
            "box_style": "",
            "layout": "IPY_MODEL_cea7423e940c4c73b268f6c402d3a5b4",
            "_model_module": "@jupyter-widgets/controls",
            "children": [
              "IPY_MODEL_c1963bc12d3f44fcbb4e14d110263a78",
              "IPY_MODEL_a469b25d35bd4e58ac27db6aa785580b"
            ]
          }
        },
        "cea7423e940c4c73b268f6c402d3a5b4": {
          "model_module": "@jupyter-widgets/base",
          "model_name": "LayoutModel",
          "state": {
            "_view_name": "LayoutView",
            "grid_template_rows": null,
            "right": null,
            "justify_content": null,
            "_view_module": "@jupyter-widgets/base",
            "overflow": null,
            "_model_module_version": "1.2.0",
            "_view_count": null,
            "flex_flow": null,
            "width": null,
            "min_width": null,
            "border": null,
            "align_items": null,
            "bottom": null,
            "_model_module": "@jupyter-widgets/base",
            "top": null,
            "grid_column": null,
            "overflow_y": null,
            "overflow_x": null,
            "grid_auto_flow": null,
            "grid_area": null,
            "grid_template_columns": null,
            "flex": null,
            "_model_name": "LayoutModel",
            "justify_items": null,
            "grid_row": null,
            "max_height": null,
            "align_content": null,
            "visibility": null,
            "align_self": null,
            "height": null,
            "min_height": null,
            "padding": null,
            "grid_auto_rows": null,
            "grid_gap": null,
            "max_width": null,
            "order": null,
            "_view_module_version": "1.2.0",
            "grid_template_areas": null,
            "object_position": null,
            "object_fit": null,
            "grid_auto_columns": null,
            "margin": null,
            "display": null,
            "left": null
          }
        },
        "c1963bc12d3f44fcbb4e14d110263a78": {
          "model_module": "@jupyter-widgets/controls",
          "model_name": "FloatProgressModel",
          "state": {
            "_view_name": "ProgressView",
            "style": "IPY_MODEL_5dd257d8da0543cab4549e8ca332dc90",
            "_dom_classes": [],
            "description": "100%",
            "_model_name": "FloatProgressModel",
            "bar_style": "success",
            "max": 1652,
            "_view_module": "@jupyter-widgets/controls",
            "_model_module_version": "1.5.0",
            "value": 1652,
            "_view_count": null,
            "_view_module_version": "1.5.0",
            "orientation": "horizontal",
            "min": 0,
            "description_tooltip": null,
            "_model_module": "@jupyter-widgets/controls",
            "layout": "IPY_MODEL_5c02fca2db3442c297ce97a8d104617d"
          }
        },
        "a469b25d35bd4e58ac27db6aa785580b": {
          "model_module": "@jupyter-widgets/controls",
          "model_name": "HTMLModel",
          "state": {
            "_view_name": "HTMLView",
            "style": "IPY_MODEL_fa35e7a0fac54b308a3f9a9de250ee98",
            "_dom_classes": [],
            "description": "",
            "_model_name": "HTMLModel",
            "placeholder": "​",
            "_view_module": "@jupyter-widgets/controls",
            "_model_module_version": "1.5.0",
            "value": " 1652/1652 [00:03&lt;00:00, 465.43it/s]",
            "_view_count": null,
            "_view_module_version": "1.5.0",
            "description_tooltip": null,
            "_model_module": "@jupyter-widgets/controls",
            "layout": "IPY_MODEL_d85aeac93fd54b9ab78f82cd24f8dfc1"
          }
        },
        "5dd257d8da0543cab4549e8ca332dc90": {
          "model_module": "@jupyter-widgets/controls",
          "model_name": "ProgressStyleModel",
          "state": {
            "_view_name": "StyleView",
            "_model_name": "ProgressStyleModel",
            "description_width": "initial",
            "_view_module": "@jupyter-widgets/base",
            "_model_module_version": "1.5.0",
            "_view_count": null,
            "_view_module_version": "1.2.0",
            "bar_color": null,
            "_model_module": "@jupyter-widgets/controls"
          }
        },
        "5c02fca2db3442c297ce97a8d104617d": {
          "model_module": "@jupyter-widgets/base",
          "model_name": "LayoutModel",
          "state": {
            "_view_name": "LayoutView",
            "grid_template_rows": null,
            "right": null,
            "justify_content": null,
            "_view_module": "@jupyter-widgets/base",
            "overflow": null,
            "_model_module_version": "1.2.0",
            "_view_count": null,
            "flex_flow": null,
            "width": null,
            "min_width": null,
            "border": null,
            "align_items": null,
            "bottom": null,
            "_model_module": "@jupyter-widgets/base",
            "top": null,
            "grid_column": null,
            "overflow_y": null,
            "overflow_x": null,
            "grid_auto_flow": null,
            "grid_area": null,
            "grid_template_columns": null,
            "flex": null,
            "_model_name": "LayoutModel",
            "justify_items": null,
            "grid_row": null,
            "max_height": null,
            "align_content": null,
            "visibility": null,
            "align_self": null,
            "height": null,
            "min_height": null,
            "padding": null,
            "grid_auto_rows": null,
            "grid_gap": null,
            "max_width": null,
            "order": null,
            "_view_module_version": "1.2.0",
            "grid_template_areas": null,
            "object_position": null,
            "object_fit": null,
            "grid_auto_columns": null,
            "margin": null,
            "display": null,
            "left": null
          }
        },
        "fa35e7a0fac54b308a3f9a9de250ee98": {
          "model_module": "@jupyter-widgets/controls",
          "model_name": "DescriptionStyleModel",
          "state": {
            "_view_name": "StyleView",
            "_model_name": "DescriptionStyleModel",
            "description_width": "",
            "_view_module": "@jupyter-widgets/base",
            "_model_module_version": "1.5.0",
            "_view_count": null,
            "_view_module_version": "1.2.0",
            "_model_module": "@jupyter-widgets/controls"
          }
        },
        "d85aeac93fd54b9ab78f82cd24f8dfc1": {
          "model_module": "@jupyter-widgets/base",
          "model_name": "LayoutModel",
          "state": {
            "_view_name": "LayoutView",
            "grid_template_rows": null,
            "right": null,
            "justify_content": null,
            "_view_module": "@jupyter-widgets/base",
            "overflow": null,
            "_model_module_version": "1.2.0",
            "_view_count": null,
            "flex_flow": null,
            "width": null,
            "min_width": null,
            "border": null,
            "align_items": null,
            "bottom": null,
            "_model_module": "@jupyter-widgets/base",
            "top": null,
            "grid_column": null,
            "overflow_y": null,
            "overflow_x": null,
            "grid_auto_flow": null,
            "grid_area": null,
            "grid_template_columns": null,
            "flex": null,
            "_model_name": "LayoutModel",
            "justify_items": null,
            "grid_row": null,
            "max_height": null,
            "align_content": null,
            "visibility": null,
            "align_self": null,
            "height": null,
            "min_height": null,
            "padding": null,
            "grid_auto_rows": null,
            "grid_gap": null,
            "max_width": null,
            "order": null,
            "_view_module_version": "1.2.0",
            "grid_template_areas": null,
            "object_position": null,
            "object_fit": null,
            "grid_auto_columns": null,
            "margin": null,
            "display": null,
            "left": null
          }
        },
        "5bd456a1722b491aac19cc22d29fba0c": {
          "model_module": "@jupyter-widgets/controls",
          "model_name": "HBoxModel",
          "state": {
            "_view_name": "HBoxView",
            "_dom_classes": [],
            "_model_name": "HBoxModel",
            "_view_module": "@jupyter-widgets/controls",
            "_model_module_version": "1.5.0",
            "_view_count": null,
            "_view_module_version": "1.5.0",
            "box_style": "",
            "layout": "IPY_MODEL_8bc0ccbd07724f008a162dce949abf7d",
            "_model_module": "@jupyter-widgets/controls",
            "children": [
              "IPY_MODEL_84a62b7675314ae58bd8f04da70e9118",
              "IPY_MODEL_9b90842d37af4d40af6800396309f8d5"
            ]
          }
        },
        "8bc0ccbd07724f008a162dce949abf7d": {
          "model_module": "@jupyter-widgets/base",
          "model_name": "LayoutModel",
          "state": {
            "_view_name": "LayoutView",
            "grid_template_rows": null,
            "right": null,
            "justify_content": null,
            "_view_module": "@jupyter-widgets/base",
            "overflow": null,
            "_model_module_version": "1.2.0",
            "_view_count": null,
            "flex_flow": null,
            "width": null,
            "min_width": null,
            "border": null,
            "align_items": null,
            "bottom": null,
            "_model_module": "@jupyter-widgets/base",
            "top": null,
            "grid_column": null,
            "overflow_y": null,
            "overflow_x": null,
            "grid_auto_flow": null,
            "grid_area": null,
            "grid_template_columns": null,
            "flex": null,
            "_model_name": "LayoutModel",
            "justify_items": null,
            "grid_row": null,
            "max_height": null,
            "align_content": null,
            "visibility": null,
            "align_self": null,
            "height": null,
            "min_height": null,
            "padding": null,
            "grid_auto_rows": null,
            "grid_gap": null,
            "max_width": null,
            "order": null,
            "_view_module_version": "1.2.0",
            "grid_template_areas": null,
            "object_position": null,
            "object_fit": null,
            "grid_auto_columns": null,
            "margin": null,
            "display": null,
            "left": null
          }
        },
        "84a62b7675314ae58bd8f04da70e9118": {
          "model_module": "@jupyter-widgets/controls",
          "model_name": "FloatProgressModel",
          "state": {
            "_view_name": "ProgressView",
            "style": "IPY_MODEL_b611c060e5b14a6eb7479abf724d0171",
            "_dom_classes": [],
            "description": "100%",
            "_model_name": "FloatProgressModel",
            "bar_style": "success",
            "max": 1652,
            "_view_module": "@jupyter-widgets/controls",
            "_model_module_version": "1.5.0",
            "value": 1652,
            "_view_count": null,
            "_view_module_version": "1.5.0",
            "orientation": "horizontal",
            "min": 0,
            "description_tooltip": null,
            "_model_module": "@jupyter-widgets/controls",
            "layout": "IPY_MODEL_b214161fd21c4fc5903fbdb2d7b01356"
          }
        },
        "9b90842d37af4d40af6800396309f8d5": {
          "model_module": "@jupyter-widgets/controls",
          "model_name": "HTMLModel",
          "state": {
            "_view_name": "HTMLView",
            "style": "IPY_MODEL_6e8e20995dad4bca9f01168f2c44a417",
            "_dom_classes": [],
            "description": "",
            "_model_name": "HTMLModel",
            "placeholder": "​",
            "_view_module": "@jupyter-widgets/controls",
            "_model_module_version": "1.5.0",
            "value": " 1652/1652 [00:11&lt;00:00, 144.31it/s]",
            "_view_count": null,
            "_view_module_version": "1.5.0",
            "description_tooltip": null,
            "_model_module": "@jupyter-widgets/controls",
            "layout": "IPY_MODEL_2508683b2b1c467181272b61afe77f6f"
          }
        },
        "b611c060e5b14a6eb7479abf724d0171": {
          "model_module": "@jupyter-widgets/controls",
          "model_name": "ProgressStyleModel",
          "state": {
            "_view_name": "StyleView",
            "_model_name": "ProgressStyleModel",
            "description_width": "initial",
            "_view_module": "@jupyter-widgets/base",
            "_model_module_version": "1.5.0",
            "_view_count": null,
            "_view_module_version": "1.2.0",
            "bar_color": null,
            "_model_module": "@jupyter-widgets/controls"
          }
        },
        "b214161fd21c4fc5903fbdb2d7b01356": {
          "model_module": "@jupyter-widgets/base",
          "model_name": "LayoutModel",
          "state": {
            "_view_name": "LayoutView",
            "grid_template_rows": null,
            "right": null,
            "justify_content": null,
            "_view_module": "@jupyter-widgets/base",
            "overflow": null,
            "_model_module_version": "1.2.0",
            "_view_count": null,
            "flex_flow": null,
            "width": null,
            "min_width": null,
            "border": null,
            "align_items": null,
            "bottom": null,
            "_model_module": "@jupyter-widgets/base",
            "top": null,
            "grid_column": null,
            "overflow_y": null,
            "overflow_x": null,
            "grid_auto_flow": null,
            "grid_area": null,
            "grid_template_columns": null,
            "flex": null,
            "_model_name": "LayoutModel",
            "justify_items": null,
            "grid_row": null,
            "max_height": null,
            "align_content": null,
            "visibility": null,
            "align_self": null,
            "height": null,
            "min_height": null,
            "padding": null,
            "grid_auto_rows": null,
            "grid_gap": null,
            "max_width": null,
            "order": null,
            "_view_module_version": "1.2.0",
            "grid_template_areas": null,
            "object_position": null,
            "object_fit": null,
            "grid_auto_columns": null,
            "margin": null,
            "display": null,
            "left": null
          }
        },
        "6e8e20995dad4bca9f01168f2c44a417": {
          "model_module": "@jupyter-widgets/controls",
          "model_name": "DescriptionStyleModel",
          "state": {
            "_view_name": "StyleView",
            "_model_name": "DescriptionStyleModel",
            "description_width": "",
            "_view_module": "@jupyter-widgets/base",
            "_model_module_version": "1.5.0",
            "_view_count": null,
            "_view_module_version": "1.2.0",
            "_model_module": "@jupyter-widgets/controls"
          }
        },
        "2508683b2b1c467181272b61afe77f6f": {
          "model_module": "@jupyter-widgets/base",
          "model_name": "LayoutModel",
          "state": {
            "_view_name": "LayoutView",
            "grid_template_rows": null,
            "right": null,
            "justify_content": null,
            "_view_module": "@jupyter-widgets/base",
            "overflow": null,
            "_model_module_version": "1.2.0",
            "_view_count": null,
            "flex_flow": null,
            "width": null,
            "min_width": null,
            "border": null,
            "align_items": null,
            "bottom": null,
            "_model_module": "@jupyter-widgets/base",
            "top": null,
            "grid_column": null,
            "overflow_y": null,
            "overflow_x": null,
            "grid_auto_flow": null,
            "grid_area": null,
            "grid_template_columns": null,
            "flex": null,
            "_model_name": "LayoutModel",
            "justify_items": null,
            "grid_row": null,
            "max_height": null,
            "align_content": null,
            "visibility": null,
            "align_self": null,
            "height": null,
            "min_height": null,
            "padding": null,
            "grid_auto_rows": null,
            "grid_gap": null,
            "max_width": null,
            "order": null,
            "_view_module_version": "1.2.0",
            "grid_template_areas": null,
            "object_position": null,
            "object_fit": null,
            "grid_auto_columns": null,
            "margin": null,
            "display": null,
            "left": null
          }
        },
        "2d210219d84b463cb9aaced0099c0b63": {
          "model_module": "@jupyter-widgets/controls",
          "model_name": "HBoxModel",
          "state": {
            "_view_name": "HBoxView",
            "_dom_classes": [],
            "_model_name": "HBoxModel",
            "_view_module": "@jupyter-widgets/controls",
            "_model_module_version": "1.5.0",
            "_view_count": null,
            "_view_module_version": "1.5.0",
            "box_style": "",
            "layout": "IPY_MODEL_5445bd00033a4f7e8a2588e24b3dbc09",
            "_model_module": "@jupyter-widgets/controls",
            "children": [
              "IPY_MODEL_61d04d964c4342b3bfe1e88fa5dca120",
              "IPY_MODEL_eb9ad94037d643a7b7c46110ad09eec0"
            ]
          }
        },
        "5445bd00033a4f7e8a2588e24b3dbc09": {
          "model_module": "@jupyter-widgets/base",
          "model_name": "LayoutModel",
          "state": {
            "_view_name": "LayoutView",
            "grid_template_rows": null,
            "right": null,
            "justify_content": null,
            "_view_module": "@jupyter-widgets/base",
            "overflow": null,
            "_model_module_version": "1.2.0",
            "_view_count": null,
            "flex_flow": null,
            "width": null,
            "min_width": null,
            "border": null,
            "align_items": null,
            "bottom": null,
            "_model_module": "@jupyter-widgets/base",
            "top": null,
            "grid_column": null,
            "overflow_y": null,
            "overflow_x": null,
            "grid_auto_flow": null,
            "grid_area": null,
            "grid_template_columns": null,
            "flex": null,
            "_model_name": "LayoutModel",
            "justify_items": null,
            "grid_row": null,
            "max_height": null,
            "align_content": null,
            "visibility": null,
            "align_self": null,
            "height": null,
            "min_height": null,
            "padding": null,
            "grid_auto_rows": null,
            "grid_gap": null,
            "max_width": null,
            "order": null,
            "_view_module_version": "1.2.0",
            "grid_template_areas": null,
            "object_position": null,
            "object_fit": null,
            "grid_auto_columns": null,
            "margin": null,
            "display": null,
            "left": null
          }
        },
        "61d04d964c4342b3bfe1e88fa5dca120": {
          "model_module": "@jupyter-widgets/controls",
          "model_name": "FloatProgressModel",
          "state": {
            "_view_name": "ProgressView",
            "style": "IPY_MODEL_5d99867a99fb4dd092dcd9b03decf7dd",
            "_dom_classes": [],
            "description": "100%",
            "_model_name": "FloatProgressModel",
            "bar_style": "success",
            "max": 1652,
            "_view_module": "@jupyter-widgets/controls",
            "_model_module_version": "1.5.0",
            "value": 1652,
            "_view_count": null,
            "_view_module_version": "1.5.0",
            "orientation": "horizontal",
            "min": 0,
            "description_tooltip": null,
            "_model_module": "@jupyter-widgets/controls",
            "layout": "IPY_MODEL_d977b3f05df64a65ae7750d1c7ce9626"
          }
        },
        "eb9ad94037d643a7b7c46110ad09eec0": {
          "model_module": "@jupyter-widgets/controls",
          "model_name": "HTMLModel",
          "state": {
            "_view_name": "HTMLView",
            "style": "IPY_MODEL_e1c7892461d3456da02979efd771e23d",
            "_dom_classes": [],
            "description": "",
            "_model_name": "HTMLModel",
            "placeholder": "​",
            "_view_module": "@jupyter-widgets/controls",
            "_model_module_version": "1.5.0",
            "value": " 1652/1652 [00:05&lt;00:00, 299.52it/s]",
            "_view_count": null,
            "_view_module_version": "1.5.0",
            "description_tooltip": null,
            "_model_module": "@jupyter-widgets/controls",
            "layout": "IPY_MODEL_0bd747bf7aa2466283e211c03c3feb68"
          }
        },
        "5d99867a99fb4dd092dcd9b03decf7dd": {
          "model_module": "@jupyter-widgets/controls",
          "model_name": "ProgressStyleModel",
          "state": {
            "_view_name": "StyleView",
            "_model_name": "ProgressStyleModel",
            "description_width": "initial",
            "_view_module": "@jupyter-widgets/base",
            "_model_module_version": "1.5.0",
            "_view_count": null,
            "_view_module_version": "1.2.0",
            "bar_color": null,
            "_model_module": "@jupyter-widgets/controls"
          }
        },
        "d977b3f05df64a65ae7750d1c7ce9626": {
          "model_module": "@jupyter-widgets/base",
          "model_name": "LayoutModel",
          "state": {
            "_view_name": "LayoutView",
            "grid_template_rows": null,
            "right": null,
            "justify_content": null,
            "_view_module": "@jupyter-widgets/base",
            "overflow": null,
            "_model_module_version": "1.2.0",
            "_view_count": null,
            "flex_flow": null,
            "width": null,
            "min_width": null,
            "border": null,
            "align_items": null,
            "bottom": null,
            "_model_module": "@jupyter-widgets/base",
            "top": null,
            "grid_column": null,
            "overflow_y": null,
            "overflow_x": null,
            "grid_auto_flow": null,
            "grid_area": null,
            "grid_template_columns": null,
            "flex": null,
            "_model_name": "LayoutModel",
            "justify_items": null,
            "grid_row": null,
            "max_height": null,
            "align_content": null,
            "visibility": null,
            "align_self": null,
            "height": null,
            "min_height": null,
            "padding": null,
            "grid_auto_rows": null,
            "grid_gap": null,
            "max_width": null,
            "order": null,
            "_view_module_version": "1.2.0",
            "grid_template_areas": null,
            "object_position": null,
            "object_fit": null,
            "grid_auto_columns": null,
            "margin": null,
            "display": null,
            "left": null
          }
        },
        "e1c7892461d3456da02979efd771e23d": {
          "model_module": "@jupyter-widgets/controls",
          "model_name": "DescriptionStyleModel",
          "state": {
            "_view_name": "StyleView",
            "_model_name": "DescriptionStyleModel",
            "description_width": "",
            "_view_module": "@jupyter-widgets/base",
            "_model_module_version": "1.5.0",
            "_view_count": null,
            "_view_module_version": "1.2.0",
            "_model_module": "@jupyter-widgets/controls"
          }
        },
        "0bd747bf7aa2466283e211c03c3feb68": {
          "model_module": "@jupyter-widgets/base",
          "model_name": "LayoutModel",
          "state": {
            "_view_name": "LayoutView",
            "grid_template_rows": null,
            "right": null,
            "justify_content": null,
            "_view_module": "@jupyter-widgets/base",
            "overflow": null,
            "_model_module_version": "1.2.0",
            "_view_count": null,
            "flex_flow": null,
            "width": null,
            "min_width": null,
            "border": null,
            "align_items": null,
            "bottom": null,
            "_model_module": "@jupyter-widgets/base",
            "top": null,
            "grid_column": null,
            "overflow_y": null,
            "overflow_x": null,
            "grid_auto_flow": null,
            "grid_area": null,
            "grid_template_columns": null,
            "flex": null,
            "_model_name": "LayoutModel",
            "justify_items": null,
            "grid_row": null,
            "max_height": null,
            "align_content": null,
            "visibility": null,
            "align_self": null,
            "height": null,
            "min_height": null,
            "padding": null,
            "grid_auto_rows": null,
            "grid_gap": null,
            "max_width": null,
            "order": null,
            "_view_module_version": "1.2.0",
            "grid_template_areas": null,
            "object_position": null,
            "object_fit": null,
            "grid_auto_columns": null,
            "margin": null,
            "display": null,
            "left": null
          }
        },
        "095987fbaea34d9a8f849a92739bda4c": {
          "model_module": "@jupyter-widgets/controls",
          "model_name": "HBoxModel",
          "state": {
            "_view_name": "HBoxView",
            "_dom_classes": [],
            "_model_name": "HBoxModel",
            "_view_module": "@jupyter-widgets/controls",
            "_model_module_version": "1.5.0",
            "_view_count": null,
            "_view_module_version": "1.5.0",
            "box_style": "",
            "layout": "IPY_MODEL_f060be60ec654bdfade6744e8871e10d",
            "_model_module": "@jupyter-widgets/controls",
            "children": [
              "IPY_MODEL_5560a0d056724da19676c322ef2cf0d2",
              "IPY_MODEL_df3155475eba48dfb07ba0bd3a0a0034"
            ]
          }
        },
        "f060be60ec654bdfade6744e8871e10d": {
          "model_module": "@jupyter-widgets/base",
          "model_name": "LayoutModel",
          "state": {
            "_view_name": "LayoutView",
            "grid_template_rows": null,
            "right": null,
            "justify_content": null,
            "_view_module": "@jupyter-widgets/base",
            "overflow": null,
            "_model_module_version": "1.2.0",
            "_view_count": null,
            "flex_flow": null,
            "width": null,
            "min_width": null,
            "border": null,
            "align_items": null,
            "bottom": null,
            "_model_module": "@jupyter-widgets/base",
            "top": null,
            "grid_column": null,
            "overflow_y": null,
            "overflow_x": null,
            "grid_auto_flow": null,
            "grid_area": null,
            "grid_template_columns": null,
            "flex": null,
            "_model_name": "LayoutModel",
            "justify_items": null,
            "grid_row": null,
            "max_height": null,
            "align_content": null,
            "visibility": null,
            "align_self": null,
            "height": null,
            "min_height": null,
            "padding": null,
            "grid_auto_rows": null,
            "grid_gap": null,
            "max_width": null,
            "order": null,
            "_view_module_version": "1.2.0",
            "grid_template_areas": null,
            "object_position": null,
            "object_fit": null,
            "grid_auto_columns": null,
            "margin": null,
            "display": null,
            "left": null
          }
        },
        "5560a0d056724da19676c322ef2cf0d2": {
          "model_module": "@jupyter-widgets/controls",
          "model_name": "FloatProgressModel",
          "state": {
            "_view_name": "ProgressView",
            "style": "IPY_MODEL_822fa1961b0947babcb9ab01c844f3e5",
            "_dom_classes": [],
            "description": "100%",
            "_model_name": "FloatProgressModel",
            "bar_style": "success",
            "max": 690,
            "_view_module": "@jupyter-widgets/controls",
            "_model_module_version": "1.5.0",
            "value": 690,
            "_view_count": null,
            "_view_module_version": "1.5.0",
            "orientation": "horizontal",
            "min": 0,
            "description_tooltip": null,
            "_model_module": "@jupyter-widgets/controls",
            "layout": "IPY_MODEL_6a3329a051f74eaf91fc63af3f4dd20e"
          }
        },
        "df3155475eba48dfb07ba0bd3a0a0034": {
          "model_module": "@jupyter-widgets/controls",
          "model_name": "HTMLModel",
          "state": {
            "_view_name": "HTMLView",
            "style": "IPY_MODEL_5bba27e0eaa841afbae3513e670a0abf",
            "_dom_classes": [],
            "description": "",
            "_model_name": "HTMLModel",
            "placeholder": "​",
            "_view_module": "@jupyter-widgets/controls",
            "_model_module_version": "1.5.0",
            "value": " 690/690 [00:01&lt;00:00, 444.31it/s]",
            "_view_count": null,
            "_view_module_version": "1.5.0",
            "description_tooltip": null,
            "_model_module": "@jupyter-widgets/controls",
            "layout": "IPY_MODEL_a452c6b3afae41ce87cf583bc7d1fc59"
          }
        },
        "822fa1961b0947babcb9ab01c844f3e5": {
          "model_module": "@jupyter-widgets/controls",
          "model_name": "ProgressStyleModel",
          "state": {
            "_view_name": "StyleView",
            "_model_name": "ProgressStyleModel",
            "description_width": "initial",
            "_view_module": "@jupyter-widgets/base",
            "_model_module_version": "1.5.0",
            "_view_count": null,
            "_view_module_version": "1.2.0",
            "bar_color": null,
            "_model_module": "@jupyter-widgets/controls"
          }
        },
        "6a3329a051f74eaf91fc63af3f4dd20e": {
          "model_module": "@jupyter-widgets/base",
          "model_name": "LayoutModel",
          "state": {
            "_view_name": "LayoutView",
            "grid_template_rows": null,
            "right": null,
            "justify_content": null,
            "_view_module": "@jupyter-widgets/base",
            "overflow": null,
            "_model_module_version": "1.2.0",
            "_view_count": null,
            "flex_flow": null,
            "width": null,
            "min_width": null,
            "border": null,
            "align_items": null,
            "bottom": null,
            "_model_module": "@jupyter-widgets/base",
            "top": null,
            "grid_column": null,
            "overflow_y": null,
            "overflow_x": null,
            "grid_auto_flow": null,
            "grid_area": null,
            "grid_template_columns": null,
            "flex": null,
            "_model_name": "LayoutModel",
            "justify_items": null,
            "grid_row": null,
            "max_height": null,
            "align_content": null,
            "visibility": null,
            "align_self": null,
            "height": null,
            "min_height": null,
            "padding": null,
            "grid_auto_rows": null,
            "grid_gap": null,
            "max_width": null,
            "order": null,
            "_view_module_version": "1.2.0",
            "grid_template_areas": null,
            "object_position": null,
            "object_fit": null,
            "grid_auto_columns": null,
            "margin": null,
            "display": null,
            "left": null
          }
        },
        "5bba27e0eaa841afbae3513e670a0abf": {
          "model_module": "@jupyter-widgets/controls",
          "model_name": "DescriptionStyleModel",
          "state": {
            "_view_name": "StyleView",
            "_model_name": "DescriptionStyleModel",
            "description_width": "",
            "_view_module": "@jupyter-widgets/base",
            "_model_module_version": "1.5.0",
            "_view_count": null,
            "_view_module_version": "1.2.0",
            "_model_module": "@jupyter-widgets/controls"
          }
        },
        "a452c6b3afae41ce87cf583bc7d1fc59": {
          "model_module": "@jupyter-widgets/base",
          "model_name": "LayoutModel",
          "state": {
            "_view_name": "LayoutView",
            "grid_template_rows": null,
            "right": null,
            "justify_content": null,
            "_view_module": "@jupyter-widgets/base",
            "overflow": null,
            "_model_module_version": "1.2.0",
            "_view_count": null,
            "flex_flow": null,
            "width": null,
            "min_width": null,
            "border": null,
            "align_items": null,
            "bottom": null,
            "_model_module": "@jupyter-widgets/base",
            "top": null,
            "grid_column": null,
            "overflow_y": null,
            "overflow_x": null,
            "grid_auto_flow": null,
            "grid_area": null,
            "grid_template_columns": null,
            "flex": null,
            "_model_name": "LayoutModel",
            "justify_items": null,
            "grid_row": null,
            "max_height": null,
            "align_content": null,
            "visibility": null,
            "align_self": null,
            "height": null,
            "min_height": null,
            "padding": null,
            "grid_auto_rows": null,
            "grid_gap": null,
            "max_width": null,
            "order": null,
            "_view_module_version": "1.2.0",
            "grid_template_areas": null,
            "object_position": null,
            "object_fit": null,
            "grid_auto_columns": null,
            "margin": null,
            "display": null,
            "left": null
          }
        },
        "e34b7cf497cf4ffbbb0d7a4bc64a2532": {
          "model_module": "@jupyter-widgets/controls",
          "model_name": "HBoxModel",
          "state": {
            "_view_name": "HBoxView",
            "_dom_classes": [],
            "_model_name": "HBoxModel",
            "_view_module": "@jupyter-widgets/controls",
            "_model_module_version": "1.5.0",
            "_view_count": null,
            "_view_module_version": "1.5.0",
            "box_style": "",
            "layout": "IPY_MODEL_a910dcd6234f46daa729d3444b85965e",
            "_model_module": "@jupyter-widgets/controls",
            "children": [
              "IPY_MODEL_9d48b5a20ae94458af508d1526dce106",
              "IPY_MODEL_552598c7e0d3423db84b90ae95d71962"
            ]
          }
        },
        "a910dcd6234f46daa729d3444b85965e": {
          "model_module": "@jupyter-widgets/base",
          "model_name": "LayoutModel",
          "state": {
            "_view_name": "LayoutView",
            "grid_template_rows": null,
            "right": null,
            "justify_content": null,
            "_view_module": "@jupyter-widgets/base",
            "overflow": null,
            "_model_module_version": "1.2.0",
            "_view_count": null,
            "flex_flow": null,
            "width": null,
            "min_width": null,
            "border": null,
            "align_items": null,
            "bottom": null,
            "_model_module": "@jupyter-widgets/base",
            "top": null,
            "grid_column": null,
            "overflow_y": null,
            "overflow_x": null,
            "grid_auto_flow": null,
            "grid_area": null,
            "grid_template_columns": null,
            "flex": null,
            "_model_name": "LayoutModel",
            "justify_items": null,
            "grid_row": null,
            "max_height": null,
            "align_content": null,
            "visibility": null,
            "align_self": null,
            "height": null,
            "min_height": null,
            "padding": null,
            "grid_auto_rows": null,
            "grid_gap": null,
            "max_width": null,
            "order": null,
            "_view_module_version": "1.2.0",
            "grid_template_areas": null,
            "object_position": null,
            "object_fit": null,
            "grid_auto_columns": null,
            "margin": null,
            "display": null,
            "left": null
          }
        },
        "9d48b5a20ae94458af508d1526dce106": {
          "model_module": "@jupyter-widgets/controls",
          "model_name": "FloatProgressModel",
          "state": {
            "_view_name": "ProgressView",
            "style": "IPY_MODEL_8e8634872a0f41c1aa1fa4f85ba66e2c",
            "_dom_classes": [],
            "description": "100%",
            "_model_name": "FloatProgressModel",
            "bar_style": "success",
            "max": 690,
            "_view_module": "@jupyter-widgets/controls",
            "_model_module_version": "1.5.0",
            "value": 690,
            "_view_count": null,
            "_view_module_version": "1.5.0",
            "orientation": "horizontal",
            "min": 0,
            "description_tooltip": null,
            "_model_module": "@jupyter-widgets/controls",
            "layout": "IPY_MODEL_31d420d9fbc6424882aecd146eb7fae5"
          }
        },
        "552598c7e0d3423db84b90ae95d71962": {
          "model_module": "@jupyter-widgets/controls",
          "model_name": "HTMLModel",
          "state": {
            "_view_name": "HTMLView",
            "style": "IPY_MODEL_4ca04a0bb84443429c6bf732b58dafdc",
            "_dom_classes": [],
            "description": "",
            "_model_name": "HTMLModel",
            "placeholder": "​",
            "_view_module": "@jupyter-widgets/controls",
            "_model_module_version": "1.5.0",
            "value": " 690/690 [00:15&lt;00:00, 44.17it/s]",
            "_view_count": null,
            "_view_module_version": "1.5.0",
            "description_tooltip": null,
            "_model_module": "@jupyter-widgets/controls",
            "layout": "IPY_MODEL_704744584e734549b211b8e99fd5e74f"
          }
        },
        "8e8634872a0f41c1aa1fa4f85ba66e2c": {
          "model_module": "@jupyter-widgets/controls",
          "model_name": "ProgressStyleModel",
          "state": {
            "_view_name": "StyleView",
            "_model_name": "ProgressStyleModel",
            "description_width": "initial",
            "_view_module": "@jupyter-widgets/base",
            "_model_module_version": "1.5.0",
            "_view_count": null,
            "_view_module_version": "1.2.0",
            "bar_color": null,
            "_model_module": "@jupyter-widgets/controls"
          }
        },
        "31d420d9fbc6424882aecd146eb7fae5": {
          "model_module": "@jupyter-widgets/base",
          "model_name": "LayoutModel",
          "state": {
            "_view_name": "LayoutView",
            "grid_template_rows": null,
            "right": null,
            "justify_content": null,
            "_view_module": "@jupyter-widgets/base",
            "overflow": null,
            "_model_module_version": "1.2.0",
            "_view_count": null,
            "flex_flow": null,
            "width": null,
            "min_width": null,
            "border": null,
            "align_items": null,
            "bottom": null,
            "_model_module": "@jupyter-widgets/base",
            "top": null,
            "grid_column": null,
            "overflow_y": null,
            "overflow_x": null,
            "grid_auto_flow": null,
            "grid_area": null,
            "grid_template_columns": null,
            "flex": null,
            "_model_name": "LayoutModel",
            "justify_items": null,
            "grid_row": null,
            "max_height": null,
            "align_content": null,
            "visibility": null,
            "align_self": null,
            "height": null,
            "min_height": null,
            "padding": null,
            "grid_auto_rows": null,
            "grid_gap": null,
            "max_width": null,
            "order": null,
            "_view_module_version": "1.2.0",
            "grid_template_areas": null,
            "object_position": null,
            "object_fit": null,
            "grid_auto_columns": null,
            "margin": null,
            "display": null,
            "left": null
          }
        },
        "4ca04a0bb84443429c6bf732b58dafdc": {
          "model_module": "@jupyter-widgets/controls",
          "model_name": "DescriptionStyleModel",
          "state": {
            "_view_name": "StyleView",
            "_model_name": "DescriptionStyleModel",
            "description_width": "",
            "_view_module": "@jupyter-widgets/base",
            "_model_module_version": "1.5.0",
            "_view_count": null,
            "_view_module_version": "1.2.0",
            "_model_module": "@jupyter-widgets/controls"
          }
        },
        "704744584e734549b211b8e99fd5e74f": {
          "model_module": "@jupyter-widgets/base",
          "model_name": "LayoutModel",
          "state": {
            "_view_name": "LayoutView",
            "grid_template_rows": null,
            "right": null,
            "justify_content": null,
            "_view_module": "@jupyter-widgets/base",
            "overflow": null,
            "_model_module_version": "1.2.0",
            "_view_count": null,
            "flex_flow": null,
            "width": null,
            "min_width": null,
            "border": null,
            "align_items": null,
            "bottom": null,
            "_model_module": "@jupyter-widgets/base",
            "top": null,
            "grid_column": null,
            "overflow_y": null,
            "overflow_x": null,
            "grid_auto_flow": null,
            "grid_area": null,
            "grid_template_columns": null,
            "flex": null,
            "_model_name": "LayoutModel",
            "justify_items": null,
            "grid_row": null,
            "max_height": null,
            "align_content": null,
            "visibility": null,
            "align_self": null,
            "height": null,
            "min_height": null,
            "padding": null,
            "grid_auto_rows": null,
            "grid_gap": null,
            "max_width": null,
            "order": null,
            "_view_module_version": "1.2.0",
            "grid_template_areas": null,
            "object_position": null,
            "object_fit": null,
            "grid_auto_columns": null,
            "margin": null,
            "display": null,
            "left": null
          }
        },
        "0a0e31744c8743a7a69c3e2afcf2bea9": {
          "model_module": "@jupyter-widgets/controls",
          "model_name": "HBoxModel",
          "state": {
            "_view_name": "HBoxView",
            "_dom_classes": [],
            "_model_name": "HBoxModel",
            "_view_module": "@jupyter-widgets/controls",
            "_model_module_version": "1.5.0",
            "_view_count": null,
            "_view_module_version": "1.5.0",
            "box_style": "",
            "layout": "IPY_MODEL_733f13fd5ce84c5eb972fdb737930ebe",
            "_model_module": "@jupyter-widgets/controls",
            "children": [
              "IPY_MODEL_705eee7700da4a00a1a950525e36b8ee",
              "IPY_MODEL_97a9b78ee013442c8334fa09e8c75ac0"
            ]
          }
        },
        "733f13fd5ce84c5eb972fdb737930ebe": {
          "model_module": "@jupyter-widgets/base",
          "model_name": "LayoutModel",
          "state": {
            "_view_name": "LayoutView",
            "grid_template_rows": null,
            "right": null,
            "justify_content": null,
            "_view_module": "@jupyter-widgets/base",
            "overflow": null,
            "_model_module_version": "1.2.0",
            "_view_count": null,
            "flex_flow": null,
            "width": null,
            "min_width": null,
            "border": null,
            "align_items": null,
            "bottom": null,
            "_model_module": "@jupyter-widgets/base",
            "top": null,
            "grid_column": null,
            "overflow_y": null,
            "overflow_x": null,
            "grid_auto_flow": null,
            "grid_area": null,
            "grid_template_columns": null,
            "flex": null,
            "_model_name": "LayoutModel",
            "justify_items": null,
            "grid_row": null,
            "max_height": null,
            "align_content": null,
            "visibility": null,
            "align_self": null,
            "height": null,
            "min_height": null,
            "padding": null,
            "grid_auto_rows": null,
            "grid_gap": null,
            "max_width": null,
            "order": null,
            "_view_module_version": "1.2.0",
            "grid_template_areas": null,
            "object_position": null,
            "object_fit": null,
            "grid_auto_columns": null,
            "margin": null,
            "display": null,
            "left": null
          }
        },
        "705eee7700da4a00a1a950525e36b8ee": {
          "model_module": "@jupyter-widgets/controls",
          "model_name": "FloatProgressModel",
          "state": {
            "_view_name": "ProgressView",
            "style": "IPY_MODEL_d58c4ad9c88c46fbb172e9913631a780",
            "_dom_classes": [],
            "description": "100%",
            "_model_name": "FloatProgressModel",
            "bar_style": "success",
            "max": 690,
            "_view_module": "@jupyter-widgets/controls",
            "_model_module_version": "1.5.0",
            "value": 690,
            "_view_count": null,
            "_view_module_version": "1.5.0",
            "orientation": "horizontal",
            "min": 0,
            "description_tooltip": null,
            "_model_module": "@jupyter-widgets/controls",
            "layout": "IPY_MODEL_ef7c492ae3f74dcb9ad0aefe555da21a"
          }
        },
        "97a9b78ee013442c8334fa09e8c75ac0": {
          "model_module": "@jupyter-widgets/controls",
          "model_name": "HTMLModel",
          "state": {
            "_view_name": "HTMLView",
            "style": "IPY_MODEL_921d6a1a5bfe4bc08b2c02ded9dc4c5a",
            "_dom_classes": [],
            "description": "",
            "_model_name": "HTMLModel",
            "placeholder": "​",
            "_view_module": "@jupyter-widgets/controls",
            "_model_module_version": "1.5.0",
            "value": " 690/690 [00:12&lt;00:00, 55.34it/s]",
            "_view_count": null,
            "_view_module_version": "1.5.0",
            "description_tooltip": null,
            "_model_module": "@jupyter-widgets/controls",
            "layout": "IPY_MODEL_44da8acfae82463db7dd6d75fbff852e"
          }
        },
        "d58c4ad9c88c46fbb172e9913631a780": {
          "model_module": "@jupyter-widgets/controls",
          "model_name": "ProgressStyleModel",
          "state": {
            "_view_name": "StyleView",
            "_model_name": "ProgressStyleModel",
            "description_width": "initial",
            "_view_module": "@jupyter-widgets/base",
            "_model_module_version": "1.5.0",
            "_view_count": null,
            "_view_module_version": "1.2.0",
            "bar_color": null,
            "_model_module": "@jupyter-widgets/controls"
          }
        },
        "ef7c492ae3f74dcb9ad0aefe555da21a": {
          "model_module": "@jupyter-widgets/base",
          "model_name": "LayoutModel",
          "state": {
            "_view_name": "LayoutView",
            "grid_template_rows": null,
            "right": null,
            "justify_content": null,
            "_view_module": "@jupyter-widgets/base",
            "overflow": null,
            "_model_module_version": "1.2.0",
            "_view_count": null,
            "flex_flow": null,
            "width": null,
            "min_width": null,
            "border": null,
            "align_items": null,
            "bottom": null,
            "_model_module": "@jupyter-widgets/base",
            "top": null,
            "grid_column": null,
            "overflow_y": null,
            "overflow_x": null,
            "grid_auto_flow": null,
            "grid_area": null,
            "grid_template_columns": null,
            "flex": null,
            "_model_name": "LayoutModel",
            "justify_items": null,
            "grid_row": null,
            "max_height": null,
            "align_content": null,
            "visibility": null,
            "align_self": null,
            "height": null,
            "min_height": null,
            "padding": null,
            "grid_auto_rows": null,
            "grid_gap": null,
            "max_width": null,
            "order": null,
            "_view_module_version": "1.2.0",
            "grid_template_areas": null,
            "object_position": null,
            "object_fit": null,
            "grid_auto_columns": null,
            "margin": null,
            "display": null,
            "left": null
          }
        },
        "921d6a1a5bfe4bc08b2c02ded9dc4c5a": {
          "model_module": "@jupyter-widgets/controls",
          "model_name": "DescriptionStyleModel",
          "state": {
            "_view_name": "StyleView",
            "_model_name": "DescriptionStyleModel",
            "description_width": "",
            "_view_module": "@jupyter-widgets/base",
            "_model_module_version": "1.5.0",
            "_view_count": null,
            "_view_module_version": "1.2.0",
            "_model_module": "@jupyter-widgets/controls"
          }
        },
        "44da8acfae82463db7dd6d75fbff852e": {
          "model_module": "@jupyter-widgets/base",
          "model_name": "LayoutModel",
          "state": {
            "_view_name": "LayoutView",
            "grid_template_rows": null,
            "right": null,
            "justify_content": null,
            "_view_module": "@jupyter-widgets/base",
            "overflow": null,
            "_model_module_version": "1.2.0",
            "_view_count": null,
            "flex_flow": null,
            "width": null,
            "min_width": null,
            "border": null,
            "align_items": null,
            "bottom": null,
            "_model_module": "@jupyter-widgets/base",
            "top": null,
            "grid_column": null,
            "overflow_y": null,
            "overflow_x": null,
            "grid_auto_flow": null,
            "grid_area": null,
            "grid_template_columns": null,
            "flex": null,
            "_model_name": "LayoutModel",
            "justify_items": null,
            "grid_row": null,
            "max_height": null,
            "align_content": null,
            "visibility": null,
            "align_self": null,
            "height": null,
            "min_height": null,
            "padding": null,
            "grid_auto_rows": null,
            "grid_gap": null,
            "max_width": null,
            "order": null,
            "_view_module_version": "1.2.0",
            "grid_template_areas": null,
            "object_position": null,
            "object_fit": null,
            "grid_auto_columns": null,
            "margin": null,
            "display": null,
            "left": null
          }
        },
        "8749b9980cb34899b8f3ec4661bd85fa": {
          "model_module": "@jupyter-widgets/controls",
          "model_name": "HBoxModel",
          "state": {
            "_view_name": "HBoxView",
            "_dom_classes": [],
            "_model_name": "HBoxModel",
            "_view_module": "@jupyter-widgets/controls",
            "_model_module_version": "1.5.0",
            "_view_count": null,
            "_view_module_version": "1.5.0",
            "box_style": "",
            "layout": "IPY_MODEL_547ef1c7849048d385bfe426abd9c3ff",
            "_model_module": "@jupyter-widgets/controls",
            "children": [
              "IPY_MODEL_9edceaa1f8bf4f29af362700b62969ff",
              "IPY_MODEL_8789886f0c7140a8b639e9fc833f2b72"
            ]
          }
        },
        "547ef1c7849048d385bfe426abd9c3ff": {
          "model_module": "@jupyter-widgets/base",
          "model_name": "LayoutModel",
          "state": {
            "_view_name": "LayoutView",
            "grid_template_rows": null,
            "right": null,
            "justify_content": null,
            "_view_module": "@jupyter-widgets/base",
            "overflow": null,
            "_model_module_version": "1.2.0",
            "_view_count": null,
            "flex_flow": null,
            "width": null,
            "min_width": null,
            "border": null,
            "align_items": null,
            "bottom": null,
            "_model_module": "@jupyter-widgets/base",
            "top": null,
            "grid_column": null,
            "overflow_y": null,
            "overflow_x": null,
            "grid_auto_flow": null,
            "grid_area": null,
            "grid_template_columns": null,
            "flex": null,
            "_model_name": "LayoutModel",
            "justify_items": null,
            "grid_row": null,
            "max_height": null,
            "align_content": null,
            "visibility": null,
            "align_self": null,
            "height": null,
            "min_height": null,
            "padding": null,
            "grid_auto_rows": null,
            "grid_gap": null,
            "max_width": null,
            "order": null,
            "_view_module_version": "1.2.0",
            "grid_template_areas": null,
            "object_position": null,
            "object_fit": null,
            "grid_auto_columns": null,
            "margin": null,
            "display": null,
            "left": null
          }
        },
        "9edceaa1f8bf4f29af362700b62969ff": {
          "model_module": "@jupyter-widgets/controls",
          "model_name": "FloatProgressModel",
          "state": {
            "_view_name": "ProgressView",
            "style": "IPY_MODEL_e9407066dbd0436ca544d8f5ede59447",
            "_dom_classes": [],
            "description": "",
            "_model_name": "FloatProgressModel",
            "bar_style": "success",
            "max": 1,
            "_view_module": "@jupyter-widgets/controls",
            "_model_module_version": "1.5.0",
            "value": 1,
            "_view_count": null,
            "_view_module_version": "1.5.0",
            "orientation": "horizontal",
            "min": 0,
            "description_tooltip": null,
            "_model_module": "@jupyter-widgets/controls",
            "layout": "IPY_MODEL_04321f8318e940469c3f8736844a2a3b"
          }
        },
        "8789886f0c7140a8b639e9fc833f2b72": {
          "model_module": "@jupyter-widgets/controls",
          "model_name": "HTMLModel",
          "state": {
            "_view_name": "HTMLView",
            "style": "IPY_MODEL_47fa1954a7f542abbb0bd0ab54c19348",
            "_dom_classes": [],
            "description": "",
            "_model_name": "HTMLModel",
            "placeholder": "​",
            "_view_module": "@jupyter-widgets/controls",
            "_model_module_version": "1.5.0",
            "value": " 1652/? [00:20&lt;00:00, 82.48it/s]",
            "_view_count": null,
            "_view_module_version": "1.5.0",
            "description_tooltip": null,
            "_model_module": "@jupyter-widgets/controls",
            "layout": "IPY_MODEL_93da7c0817094004b6ebdd63939a34f2"
          }
        },
        "e9407066dbd0436ca544d8f5ede59447": {
          "model_module": "@jupyter-widgets/controls",
          "model_name": "ProgressStyleModel",
          "state": {
            "_view_name": "StyleView",
            "_model_name": "ProgressStyleModel",
            "description_width": "initial",
            "_view_module": "@jupyter-widgets/base",
            "_model_module_version": "1.5.0",
            "_view_count": null,
            "_view_module_version": "1.2.0",
            "bar_color": null,
            "_model_module": "@jupyter-widgets/controls"
          }
        },
        "04321f8318e940469c3f8736844a2a3b": {
          "model_module": "@jupyter-widgets/base",
          "model_name": "LayoutModel",
          "state": {
            "_view_name": "LayoutView",
            "grid_template_rows": null,
            "right": null,
            "justify_content": null,
            "_view_module": "@jupyter-widgets/base",
            "overflow": null,
            "_model_module_version": "1.2.0",
            "_view_count": null,
            "flex_flow": null,
            "width": null,
            "min_width": null,
            "border": null,
            "align_items": null,
            "bottom": null,
            "_model_module": "@jupyter-widgets/base",
            "top": null,
            "grid_column": null,
            "overflow_y": null,
            "overflow_x": null,
            "grid_auto_flow": null,
            "grid_area": null,
            "grid_template_columns": null,
            "flex": null,
            "_model_name": "LayoutModel",
            "justify_items": null,
            "grid_row": null,
            "max_height": null,
            "align_content": null,
            "visibility": null,
            "align_self": null,
            "height": null,
            "min_height": null,
            "padding": null,
            "grid_auto_rows": null,
            "grid_gap": null,
            "max_width": null,
            "order": null,
            "_view_module_version": "1.2.0",
            "grid_template_areas": null,
            "object_position": null,
            "object_fit": null,
            "grid_auto_columns": null,
            "margin": null,
            "display": null,
            "left": null
          }
        },
        "47fa1954a7f542abbb0bd0ab54c19348": {
          "model_module": "@jupyter-widgets/controls",
          "model_name": "DescriptionStyleModel",
          "state": {
            "_view_name": "StyleView",
            "_model_name": "DescriptionStyleModel",
            "description_width": "",
            "_view_module": "@jupyter-widgets/base",
            "_model_module_version": "1.5.0",
            "_view_count": null,
            "_view_module_version": "1.2.0",
            "_model_module": "@jupyter-widgets/controls"
          }
        },
        "93da7c0817094004b6ebdd63939a34f2": {
          "model_module": "@jupyter-widgets/base",
          "model_name": "LayoutModel",
          "state": {
            "_view_name": "LayoutView",
            "grid_template_rows": null,
            "right": null,
            "justify_content": null,
            "_view_module": "@jupyter-widgets/base",
            "overflow": null,
            "_model_module_version": "1.2.0",
            "_view_count": null,
            "flex_flow": null,
            "width": null,
            "min_width": null,
            "border": null,
            "align_items": null,
            "bottom": null,
            "_model_module": "@jupyter-widgets/base",
            "top": null,
            "grid_column": null,
            "overflow_y": null,
            "overflow_x": null,
            "grid_auto_flow": null,
            "grid_area": null,
            "grid_template_columns": null,
            "flex": null,
            "_model_name": "LayoutModel",
            "justify_items": null,
            "grid_row": null,
            "max_height": null,
            "align_content": null,
            "visibility": null,
            "align_self": null,
            "height": null,
            "min_height": null,
            "padding": null,
            "grid_auto_rows": null,
            "grid_gap": null,
            "max_width": null,
            "order": null,
            "_view_module_version": "1.2.0",
            "grid_template_areas": null,
            "object_position": null,
            "object_fit": null,
            "grid_auto_columns": null,
            "margin": null,
            "display": null,
            "left": null
          }
        },
        "83a59d0c3ddb4053b93034fffb557ba4": {
          "model_module": "@jupyter-widgets/controls",
          "model_name": "HBoxModel",
          "state": {
            "_view_name": "HBoxView",
            "_dom_classes": [],
            "_model_name": "HBoxModel",
            "_view_module": "@jupyter-widgets/controls",
            "_model_module_version": "1.5.0",
            "_view_count": null,
            "_view_module_version": "1.5.0",
            "box_style": "",
            "layout": "IPY_MODEL_76e1f8311425480fac008a54313936e7",
            "_model_module": "@jupyter-widgets/controls",
            "children": [
              "IPY_MODEL_a48b74ceef364b15bf8054dc8b035ab8",
              "IPY_MODEL_bd7993536b5a481481dffc5fe9b7fa18"
            ]
          }
        },
        "76e1f8311425480fac008a54313936e7": {
          "model_module": "@jupyter-widgets/base",
          "model_name": "LayoutModel",
          "state": {
            "_view_name": "LayoutView",
            "grid_template_rows": null,
            "right": null,
            "justify_content": null,
            "_view_module": "@jupyter-widgets/base",
            "overflow": null,
            "_model_module_version": "1.2.0",
            "_view_count": null,
            "flex_flow": null,
            "width": null,
            "min_width": null,
            "border": null,
            "align_items": null,
            "bottom": null,
            "_model_module": "@jupyter-widgets/base",
            "top": null,
            "grid_column": null,
            "overflow_y": null,
            "overflow_x": null,
            "grid_auto_flow": null,
            "grid_area": null,
            "grid_template_columns": null,
            "flex": null,
            "_model_name": "LayoutModel",
            "justify_items": null,
            "grid_row": null,
            "max_height": null,
            "align_content": null,
            "visibility": null,
            "align_self": null,
            "height": null,
            "min_height": null,
            "padding": null,
            "grid_auto_rows": null,
            "grid_gap": null,
            "max_width": null,
            "order": null,
            "_view_module_version": "1.2.0",
            "grid_template_areas": null,
            "object_position": null,
            "object_fit": null,
            "grid_auto_columns": null,
            "margin": null,
            "display": null,
            "left": null
          }
        },
        "a48b74ceef364b15bf8054dc8b035ab8": {
          "model_module": "@jupyter-widgets/controls",
          "model_name": "FloatProgressModel",
          "state": {
            "_view_name": "ProgressView",
            "style": "IPY_MODEL_e248e4aa21874ad1a4f4b25cbf7aa6d7",
            "_dom_classes": [],
            "description": "",
            "_model_name": "FloatProgressModel",
            "bar_style": "success",
            "max": 1,
            "_view_module": "@jupyter-widgets/controls",
            "_model_module_version": "1.5.0",
            "value": 1,
            "_view_count": null,
            "_view_module_version": "1.5.0",
            "orientation": "horizontal",
            "min": 0,
            "description_tooltip": null,
            "_model_module": "@jupyter-widgets/controls",
            "layout": "IPY_MODEL_92246db29f4844e5b8a3b63702c44b80"
          }
        },
        "bd7993536b5a481481dffc5fe9b7fa18": {
          "model_module": "@jupyter-widgets/controls",
          "model_name": "HTMLModel",
          "state": {
            "_view_name": "HTMLView",
            "style": "IPY_MODEL_75c76734b126488581dd83801a8f2ea1",
            "_dom_classes": [],
            "description": "",
            "_model_name": "HTMLModel",
            "placeholder": "​",
            "_view_module": "@jupyter-widgets/controls",
            "_model_module_version": "1.5.0",
            "value": " 690/? [03:29&lt;00:00,  3.30it/s]",
            "_view_count": null,
            "_view_module_version": "1.5.0",
            "description_tooltip": null,
            "_model_module": "@jupyter-widgets/controls",
            "layout": "IPY_MODEL_6ee6ec6667bd4d78b89cca8dbfa8b666"
          }
        },
        "e248e4aa21874ad1a4f4b25cbf7aa6d7": {
          "model_module": "@jupyter-widgets/controls",
          "model_name": "ProgressStyleModel",
          "state": {
            "_view_name": "StyleView",
            "_model_name": "ProgressStyleModel",
            "description_width": "initial",
            "_view_module": "@jupyter-widgets/base",
            "_model_module_version": "1.5.0",
            "_view_count": null,
            "_view_module_version": "1.2.0",
            "bar_color": null,
            "_model_module": "@jupyter-widgets/controls"
          }
        },
        "92246db29f4844e5b8a3b63702c44b80": {
          "model_module": "@jupyter-widgets/base",
          "model_name": "LayoutModel",
          "state": {
            "_view_name": "LayoutView",
            "grid_template_rows": null,
            "right": null,
            "justify_content": null,
            "_view_module": "@jupyter-widgets/base",
            "overflow": null,
            "_model_module_version": "1.2.0",
            "_view_count": null,
            "flex_flow": null,
            "width": null,
            "min_width": null,
            "border": null,
            "align_items": null,
            "bottom": null,
            "_model_module": "@jupyter-widgets/base",
            "top": null,
            "grid_column": null,
            "overflow_y": null,
            "overflow_x": null,
            "grid_auto_flow": null,
            "grid_area": null,
            "grid_template_columns": null,
            "flex": null,
            "_model_name": "LayoutModel",
            "justify_items": null,
            "grid_row": null,
            "max_height": null,
            "align_content": null,
            "visibility": null,
            "align_self": null,
            "height": null,
            "min_height": null,
            "padding": null,
            "grid_auto_rows": null,
            "grid_gap": null,
            "max_width": null,
            "order": null,
            "_view_module_version": "1.2.0",
            "grid_template_areas": null,
            "object_position": null,
            "object_fit": null,
            "grid_auto_columns": null,
            "margin": null,
            "display": null,
            "left": null
          }
        },
        "75c76734b126488581dd83801a8f2ea1": {
          "model_module": "@jupyter-widgets/controls",
          "model_name": "DescriptionStyleModel",
          "state": {
            "_view_name": "StyleView",
            "_model_name": "DescriptionStyleModel",
            "description_width": "",
            "_view_module": "@jupyter-widgets/base",
            "_model_module_version": "1.5.0",
            "_view_count": null,
            "_view_module_version": "1.2.0",
            "_model_module": "@jupyter-widgets/controls"
          }
        },
        "6ee6ec6667bd4d78b89cca8dbfa8b666": {
          "model_module": "@jupyter-widgets/base",
          "model_name": "LayoutModel",
          "state": {
            "_view_name": "LayoutView",
            "grid_template_rows": null,
            "right": null,
            "justify_content": null,
            "_view_module": "@jupyter-widgets/base",
            "overflow": null,
            "_model_module_version": "1.2.0",
            "_view_count": null,
            "flex_flow": null,
            "width": null,
            "min_width": null,
            "border": null,
            "align_items": null,
            "bottom": null,
            "_model_module": "@jupyter-widgets/base",
            "top": null,
            "grid_column": null,
            "overflow_y": null,
            "overflow_x": null,
            "grid_auto_flow": null,
            "grid_area": null,
            "grid_template_columns": null,
            "flex": null,
            "_model_name": "LayoutModel",
            "justify_items": null,
            "grid_row": null,
            "max_height": null,
            "align_content": null,
            "visibility": null,
            "align_self": null,
            "height": null,
            "min_height": null,
            "padding": null,
            "grid_auto_rows": null,
            "grid_gap": null,
            "max_width": null,
            "order": null,
            "_view_module_version": "1.2.0",
            "grid_template_areas": null,
            "object_position": null,
            "object_fit": null,
            "grid_auto_columns": null,
            "margin": null,
            "display": null,
            "left": null
          }
        },
        "b1d8e25f0da14ec69a8f3f5af1a2dafe": {
          "model_module": "@jupyter-widgets/controls",
          "model_name": "HBoxModel",
          "state": {
            "_view_name": "HBoxView",
            "_dom_classes": [],
            "_model_name": "HBoxModel",
            "_view_module": "@jupyter-widgets/controls",
            "_model_module_version": "1.5.0",
            "_view_count": null,
            "_view_module_version": "1.5.0",
            "box_style": "",
            "layout": "IPY_MODEL_39221f17f517443e822a5e3398bb0fad",
            "_model_module": "@jupyter-widgets/controls",
            "children": [
              "IPY_MODEL_f289b177c50140c0a7f12a71481643c3",
              "IPY_MODEL_67f57d8f693f4b299db8783f16be9921"
            ]
          }
        },
        "39221f17f517443e822a5e3398bb0fad": {
          "model_module": "@jupyter-widgets/base",
          "model_name": "LayoutModel",
          "state": {
            "_view_name": "LayoutView",
            "grid_template_rows": null,
            "right": null,
            "justify_content": null,
            "_view_module": "@jupyter-widgets/base",
            "overflow": null,
            "_model_module_version": "1.2.0",
            "_view_count": null,
            "flex_flow": null,
            "width": null,
            "min_width": null,
            "border": null,
            "align_items": null,
            "bottom": null,
            "_model_module": "@jupyter-widgets/base",
            "top": null,
            "grid_column": null,
            "overflow_y": null,
            "overflow_x": null,
            "grid_auto_flow": null,
            "grid_area": null,
            "grid_template_columns": null,
            "flex": null,
            "_model_name": "LayoutModel",
            "justify_items": null,
            "grid_row": null,
            "max_height": null,
            "align_content": null,
            "visibility": null,
            "align_self": null,
            "height": null,
            "min_height": null,
            "padding": null,
            "grid_auto_rows": null,
            "grid_gap": null,
            "max_width": null,
            "order": null,
            "_view_module_version": "1.2.0",
            "grid_template_areas": null,
            "object_position": null,
            "object_fit": null,
            "grid_auto_columns": null,
            "margin": null,
            "display": null,
            "left": null
          }
        },
        "f289b177c50140c0a7f12a71481643c3": {
          "model_module": "@jupyter-widgets/controls",
          "model_name": "FloatProgressModel",
          "state": {
            "_view_name": "ProgressView",
            "style": "IPY_MODEL_063e6fe0288f4869979db1421f801173",
            "_dom_classes": [],
            "description": "",
            "_model_name": "FloatProgressModel",
            "bar_style": "success",
            "max": 1,
            "_view_module": "@jupyter-widgets/controls",
            "_model_module_version": "1.5.0",
            "value": 1,
            "_view_count": null,
            "_view_module_version": "1.5.0",
            "orientation": "horizontal",
            "min": 0,
            "description_tooltip": null,
            "_model_module": "@jupyter-widgets/controls",
            "layout": "IPY_MODEL_9bf89ba345e24e01b6b7a450e979e6f4"
          }
        },
        "67f57d8f693f4b299db8783f16be9921": {
          "model_module": "@jupyter-widgets/controls",
          "model_name": "HTMLModel",
          "state": {
            "_view_name": "HTMLView",
            "style": "IPY_MODEL_0dbdd2cac2b84e9aa6dcd1bba6060994",
            "_dom_classes": [],
            "description": "",
            "_model_name": "HTMLModel",
            "placeholder": "​",
            "_view_module": "@jupyter-widgets/controls",
            "_model_module_version": "1.5.0",
            "value": " 1652/? [03:19&lt;00:00,  8.27it/s]",
            "_view_count": null,
            "_view_module_version": "1.5.0",
            "description_tooltip": null,
            "_model_module": "@jupyter-widgets/controls",
            "layout": "IPY_MODEL_bb748154552947099dc07e3e6a8dfc0c"
          }
        },
        "063e6fe0288f4869979db1421f801173": {
          "model_module": "@jupyter-widgets/controls",
          "model_name": "ProgressStyleModel",
          "state": {
            "_view_name": "StyleView",
            "_model_name": "ProgressStyleModel",
            "description_width": "initial",
            "_view_module": "@jupyter-widgets/base",
            "_model_module_version": "1.5.0",
            "_view_count": null,
            "_view_module_version": "1.2.0",
            "bar_color": null,
            "_model_module": "@jupyter-widgets/controls"
          }
        },
        "9bf89ba345e24e01b6b7a450e979e6f4": {
          "model_module": "@jupyter-widgets/base",
          "model_name": "LayoutModel",
          "state": {
            "_view_name": "LayoutView",
            "grid_template_rows": null,
            "right": null,
            "justify_content": null,
            "_view_module": "@jupyter-widgets/base",
            "overflow": null,
            "_model_module_version": "1.2.0",
            "_view_count": null,
            "flex_flow": null,
            "width": null,
            "min_width": null,
            "border": null,
            "align_items": null,
            "bottom": null,
            "_model_module": "@jupyter-widgets/base",
            "top": null,
            "grid_column": null,
            "overflow_y": null,
            "overflow_x": null,
            "grid_auto_flow": null,
            "grid_area": null,
            "grid_template_columns": null,
            "flex": null,
            "_model_name": "LayoutModel",
            "justify_items": null,
            "grid_row": null,
            "max_height": null,
            "align_content": null,
            "visibility": null,
            "align_self": null,
            "height": null,
            "min_height": null,
            "padding": null,
            "grid_auto_rows": null,
            "grid_gap": null,
            "max_width": null,
            "order": null,
            "_view_module_version": "1.2.0",
            "grid_template_areas": null,
            "object_position": null,
            "object_fit": null,
            "grid_auto_columns": null,
            "margin": null,
            "display": null,
            "left": null
          }
        },
        "0dbdd2cac2b84e9aa6dcd1bba6060994": {
          "model_module": "@jupyter-widgets/controls",
          "model_name": "DescriptionStyleModel",
          "state": {
            "_view_name": "StyleView",
            "_model_name": "DescriptionStyleModel",
            "description_width": "",
            "_view_module": "@jupyter-widgets/base",
            "_model_module_version": "1.5.0",
            "_view_count": null,
            "_view_module_version": "1.2.0",
            "_model_module": "@jupyter-widgets/controls"
          }
        },
        "bb748154552947099dc07e3e6a8dfc0c": {
          "model_module": "@jupyter-widgets/base",
          "model_name": "LayoutModel",
          "state": {
            "_view_name": "LayoutView",
            "grid_template_rows": null,
            "right": null,
            "justify_content": null,
            "_view_module": "@jupyter-widgets/base",
            "overflow": null,
            "_model_module_version": "1.2.0",
            "_view_count": null,
            "flex_flow": null,
            "width": null,
            "min_width": null,
            "border": null,
            "align_items": null,
            "bottom": null,
            "_model_module": "@jupyter-widgets/base",
            "top": null,
            "grid_column": null,
            "overflow_y": null,
            "overflow_x": null,
            "grid_auto_flow": null,
            "grid_area": null,
            "grid_template_columns": null,
            "flex": null,
            "_model_name": "LayoutModel",
            "justify_items": null,
            "grid_row": null,
            "max_height": null,
            "align_content": null,
            "visibility": null,
            "align_self": null,
            "height": null,
            "min_height": null,
            "padding": null,
            "grid_auto_rows": null,
            "grid_gap": null,
            "max_width": null,
            "order": null,
            "_view_module_version": "1.2.0",
            "grid_template_areas": null,
            "object_position": null,
            "object_fit": null,
            "grid_auto_columns": null,
            "margin": null,
            "display": null,
            "left": null
          }
        },
        "4bc237a78d5d4fb8adc1ce7d0e22d339": {
          "model_module": "@jupyter-widgets/controls",
          "model_name": "HBoxModel",
          "state": {
            "_view_name": "HBoxView",
            "_dom_classes": [],
            "_model_name": "HBoxModel",
            "_view_module": "@jupyter-widgets/controls",
            "_model_module_version": "1.5.0",
            "_view_count": null,
            "_view_module_version": "1.5.0",
            "box_style": "",
            "layout": "IPY_MODEL_0d9ea20f9da24565baa97703533335d5",
            "_model_module": "@jupyter-widgets/controls",
            "children": [
              "IPY_MODEL_112ccb6b089d4637afe64f5fae3c69f3",
              "IPY_MODEL_01ac21a75dce496f9ffeff5e3f109400"
            ]
          }
        },
        "0d9ea20f9da24565baa97703533335d5": {
          "model_module": "@jupyter-widgets/base",
          "model_name": "LayoutModel",
          "state": {
            "_view_name": "LayoutView",
            "grid_template_rows": null,
            "right": null,
            "justify_content": null,
            "_view_module": "@jupyter-widgets/base",
            "overflow": null,
            "_model_module_version": "1.2.0",
            "_view_count": null,
            "flex_flow": null,
            "width": null,
            "min_width": null,
            "border": null,
            "align_items": null,
            "bottom": null,
            "_model_module": "@jupyter-widgets/base",
            "top": null,
            "grid_column": null,
            "overflow_y": null,
            "overflow_x": null,
            "grid_auto_flow": null,
            "grid_area": null,
            "grid_template_columns": null,
            "flex": null,
            "_model_name": "LayoutModel",
            "justify_items": null,
            "grid_row": null,
            "max_height": null,
            "align_content": null,
            "visibility": null,
            "align_self": null,
            "height": null,
            "min_height": null,
            "padding": null,
            "grid_auto_rows": null,
            "grid_gap": null,
            "max_width": null,
            "order": null,
            "_view_module_version": "1.2.0",
            "grid_template_areas": null,
            "object_position": null,
            "object_fit": null,
            "grid_auto_columns": null,
            "margin": null,
            "display": null,
            "left": null
          }
        },
        "112ccb6b089d4637afe64f5fae3c69f3": {
          "model_module": "@jupyter-widgets/controls",
          "model_name": "FloatProgressModel",
          "state": {
            "_view_name": "ProgressView",
            "style": "IPY_MODEL_ff3d96664e624f0ca32e8acc6242f0d6",
            "_dom_classes": [],
            "description": "",
            "_model_name": "FloatProgressModel",
            "bar_style": "success",
            "max": 1,
            "_view_module": "@jupyter-widgets/controls",
            "_model_module_version": "1.5.0",
            "value": 1,
            "_view_count": null,
            "_view_module_version": "1.5.0",
            "orientation": "horizontal",
            "min": 0,
            "description_tooltip": null,
            "_model_module": "@jupyter-widgets/controls",
            "layout": "IPY_MODEL_327cc6bba82a475a806e6527f4b6efff"
          }
        },
        "01ac21a75dce496f9ffeff5e3f109400": {
          "model_module": "@jupyter-widgets/controls",
          "model_name": "HTMLModel",
          "state": {
            "_view_name": "HTMLView",
            "style": "IPY_MODEL_e525bdb6f5c34b29a5a3bc76182d63f1",
            "_dom_classes": [],
            "description": "",
            "_model_name": "HTMLModel",
            "placeholder": "​",
            "_view_module": "@jupyter-widgets/controls",
            "_model_module_version": "1.5.0",
            "value": " 690/? [03:12&lt;00:00,  3.58it/s]",
            "_view_count": null,
            "_view_module_version": "1.5.0",
            "description_tooltip": null,
            "_model_module": "@jupyter-widgets/controls",
            "layout": "IPY_MODEL_ff69efdaddfb4e2b800a063d4720803b"
          }
        },
        "ff3d96664e624f0ca32e8acc6242f0d6": {
          "model_module": "@jupyter-widgets/controls",
          "model_name": "ProgressStyleModel",
          "state": {
            "_view_name": "StyleView",
            "_model_name": "ProgressStyleModel",
            "description_width": "initial",
            "_view_module": "@jupyter-widgets/base",
            "_model_module_version": "1.5.0",
            "_view_count": null,
            "_view_module_version": "1.2.0",
            "bar_color": null,
            "_model_module": "@jupyter-widgets/controls"
          }
        },
        "327cc6bba82a475a806e6527f4b6efff": {
          "model_module": "@jupyter-widgets/base",
          "model_name": "LayoutModel",
          "state": {
            "_view_name": "LayoutView",
            "grid_template_rows": null,
            "right": null,
            "justify_content": null,
            "_view_module": "@jupyter-widgets/base",
            "overflow": null,
            "_model_module_version": "1.2.0",
            "_view_count": null,
            "flex_flow": null,
            "width": null,
            "min_width": null,
            "border": null,
            "align_items": null,
            "bottom": null,
            "_model_module": "@jupyter-widgets/base",
            "top": null,
            "grid_column": null,
            "overflow_y": null,
            "overflow_x": null,
            "grid_auto_flow": null,
            "grid_area": null,
            "grid_template_columns": null,
            "flex": null,
            "_model_name": "LayoutModel",
            "justify_items": null,
            "grid_row": null,
            "max_height": null,
            "align_content": null,
            "visibility": null,
            "align_self": null,
            "height": null,
            "min_height": null,
            "padding": null,
            "grid_auto_rows": null,
            "grid_gap": null,
            "max_width": null,
            "order": null,
            "_view_module_version": "1.2.0",
            "grid_template_areas": null,
            "object_position": null,
            "object_fit": null,
            "grid_auto_columns": null,
            "margin": null,
            "display": null,
            "left": null
          }
        },
        "e525bdb6f5c34b29a5a3bc76182d63f1": {
          "model_module": "@jupyter-widgets/controls",
          "model_name": "DescriptionStyleModel",
          "state": {
            "_view_name": "StyleView",
            "_model_name": "DescriptionStyleModel",
            "description_width": "",
            "_view_module": "@jupyter-widgets/base",
            "_model_module_version": "1.5.0",
            "_view_count": null,
            "_view_module_version": "1.2.0",
            "_model_module": "@jupyter-widgets/controls"
          }
        },
        "ff69efdaddfb4e2b800a063d4720803b": {
          "model_module": "@jupyter-widgets/base",
          "model_name": "LayoutModel",
          "state": {
            "_view_name": "LayoutView",
            "grid_template_rows": null,
            "right": null,
            "justify_content": null,
            "_view_module": "@jupyter-widgets/base",
            "overflow": null,
            "_model_module_version": "1.2.0",
            "_view_count": null,
            "flex_flow": null,
            "width": null,
            "min_width": null,
            "border": null,
            "align_items": null,
            "bottom": null,
            "_model_module": "@jupyter-widgets/base",
            "top": null,
            "grid_column": null,
            "overflow_y": null,
            "overflow_x": null,
            "grid_auto_flow": null,
            "grid_area": null,
            "grid_template_columns": null,
            "flex": null,
            "_model_name": "LayoutModel",
            "justify_items": null,
            "grid_row": null,
            "max_height": null,
            "align_content": null,
            "visibility": null,
            "align_self": null,
            "height": null,
            "min_height": null,
            "padding": null,
            "grid_auto_rows": null,
            "grid_gap": null,
            "max_width": null,
            "order": null,
            "_view_module_version": "1.2.0",
            "grid_template_areas": null,
            "object_position": null,
            "object_fit": null,
            "grid_auto_columns": null,
            "margin": null,
            "display": null,
            "left": null
          }
        },
        "4812e29ce83f4207844f45d43de0f8c6": {
          "model_module": "@jupyter-widgets/controls",
          "model_name": "HBoxModel",
          "state": {
            "_view_name": "HBoxView",
            "_dom_classes": [],
            "_model_name": "HBoxModel",
            "_view_module": "@jupyter-widgets/controls",
            "_model_module_version": "1.5.0",
            "_view_count": null,
            "_view_module_version": "1.5.0",
            "box_style": "",
            "layout": "IPY_MODEL_947cd43d88af44138710d31c657694f2",
            "_model_module": "@jupyter-widgets/controls",
            "children": [
              "IPY_MODEL_143c0063bff2440894eee2ddbf031ec4",
              "IPY_MODEL_0a421a801a3f4fb69965620613ff6ff6"
            ]
          }
        },
        "947cd43d88af44138710d31c657694f2": {
          "model_module": "@jupyter-widgets/base",
          "model_name": "LayoutModel",
          "state": {
            "_view_name": "LayoutView",
            "grid_template_rows": null,
            "right": null,
            "justify_content": null,
            "_view_module": "@jupyter-widgets/base",
            "overflow": null,
            "_model_module_version": "1.2.0",
            "_view_count": null,
            "flex_flow": null,
            "width": null,
            "min_width": null,
            "border": null,
            "align_items": null,
            "bottom": null,
            "_model_module": "@jupyter-widgets/base",
            "top": null,
            "grid_column": null,
            "overflow_y": null,
            "overflow_x": null,
            "grid_auto_flow": null,
            "grid_area": null,
            "grid_template_columns": null,
            "flex": null,
            "_model_name": "LayoutModel",
            "justify_items": null,
            "grid_row": null,
            "max_height": null,
            "align_content": null,
            "visibility": null,
            "align_self": null,
            "height": null,
            "min_height": null,
            "padding": null,
            "grid_auto_rows": null,
            "grid_gap": null,
            "max_width": null,
            "order": null,
            "_view_module_version": "1.2.0",
            "grid_template_areas": null,
            "object_position": null,
            "object_fit": null,
            "grid_auto_columns": null,
            "margin": null,
            "display": null,
            "left": null
          }
        },
        "143c0063bff2440894eee2ddbf031ec4": {
          "model_module": "@jupyter-widgets/controls",
          "model_name": "FloatProgressModel",
          "state": {
            "_view_name": "ProgressView",
            "style": "IPY_MODEL_9bc92d56d90d4a5bab4f7ace6fc8bce2",
            "_dom_classes": [],
            "description": "",
            "_model_name": "FloatProgressModel",
            "bar_style": "success",
            "max": 1,
            "_view_module": "@jupyter-widgets/controls",
            "_model_module_version": "1.5.0",
            "value": 1,
            "_view_count": null,
            "_view_module_version": "1.5.0",
            "orientation": "horizontal",
            "min": 0,
            "description_tooltip": null,
            "_model_module": "@jupyter-widgets/controls",
            "layout": "IPY_MODEL_45fab775dd0c4f7e95c7c9cadcb8072c"
          }
        },
        "0a421a801a3f4fb69965620613ff6ff6": {
          "model_module": "@jupyter-widgets/controls",
          "model_name": "HTMLModel",
          "state": {
            "_view_name": "HTMLView",
            "style": "IPY_MODEL_ab93ce784fa9491aad49ce1e5ad4d536",
            "_dom_classes": [],
            "description": "",
            "_model_name": "HTMLModel",
            "placeholder": "​",
            "_view_module": "@jupyter-widgets/controls",
            "_model_module_version": "1.5.0",
            "value": " 1652/? [00:06&lt;00:00, 250.01it/s]",
            "_view_count": null,
            "_view_module_version": "1.5.0",
            "description_tooltip": null,
            "_model_module": "@jupyter-widgets/controls",
            "layout": "IPY_MODEL_27c2539e33fb411dac63d87ac450b77c"
          }
        },
        "9bc92d56d90d4a5bab4f7ace6fc8bce2": {
          "model_module": "@jupyter-widgets/controls",
          "model_name": "ProgressStyleModel",
          "state": {
            "_view_name": "StyleView",
            "_model_name": "ProgressStyleModel",
            "description_width": "initial",
            "_view_module": "@jupyter-widgets/base",
            "_model_module_version": "1.5.0",
            "_view_count": null,
            "_view_module_version": "1.2.0",
            "bar_color": null,
            "_model_module": "@jupyter-widgets/controls"
          }
        },
        "45fab775dd0c4f7e95c7c9cadcb8072c": {
          "model_module": "@jupyter-widgets/base",
          "model_name": "LayoutModel",
          "state": {
            "_view_name": "LayoutView",
            "grid_template_rows": null,
            "right": null,
            "justify_content": null,
            "_view_module": "@jupyter-widgets/base",
            "overflow": null,
            "_model_module_version": "1.2.0",
            "_view_count": null,
            "flex_flow": null,
            "width": null,
            "min_width": null,
            "border": null,
            "align_items": null,
            "bottom": null,
            "_model_module": "@jupyter-widgets/base",
            "top": null,
            "grid_column": null,
            "overflow_y": null,
            "overflow_x": null,
            "grid_auto_flow": null,
            "grid_area": null,
            "grid_template_columns": null,
            "flex": null,
            "_model_name": "LayoutModel",
            "justify_items": null,
            "grid_row": null,
            "max_height": null,
            "align_content": null,
            "visibility": null,
            "align_self": null,
            "height": null,
            "min_height": null,
            "padding": null,
            "grid_auto_rows": null,
            "grid_gap": null,
            "max_width": null,
            "order": null,
            "_view_module_version": "1.2.0",
            "grid_template_areas": null,
            "object_position": null,
            "object_fit": null,
            "grid_auto_columns": null,
            "margin": null,
            "display": null,
            "left": null
          }
        },
        "ab93ce784fa9491aad49ce1e5ad4d536": {
          "model_module": "@jupyter-widgets/controls",
          "model_name": "DescriptionStyleModel",
          "state": {
            "_view_name": "StyleView",
            "_model_name": "DescriptionStyleModel",
            "description_width": "",
            "_view_module": "@jupyter-widgets/base",
            "_model_module_version": "1.5.0",
            "_view_count": null,
            "_view_module_version": "1.2.0",
            "_model_module": "@jupyter-widgets/controls"
          }
        },
        "27c2539e33fb411dac63d87ac450b77c": {
          "model_module": "@jupyter-widgets/base",
          "model_name": "LayoutModel",
          "state": {
            "_view_name": "LayoutView",
            "grid_template_rows": null,
            "right": null,
            "justify_content": null,
            "_view_module": "@jupyter-widgets/base",
            "overflow": null,
            "_model_module_version": "1.2.0",
            "_view_count": null,
            "flex_flow": null,
            "width": null,
            "min_width": null,
            "border": null,
            "align_items": null,
            "bottom": null,
            "_model_module": "@jupyter-widgets/base",
            "top": null,
            "grid_column": null,
            "overflow_y": null,
            "overflow_x": null,
            "grid_auto_flow": null,
            "grid_area": null,
            "grid_template_columns": null,
            "flex": null,
            "_model_name": "LayoutModel",
            "justify_items": null,
            "grid_row": null,
            "max_height": null,
            "align_content": null,
            "visibility": null,
            "align_self": null,
            "height": null,
            "min_height": null,
            "padding": null,
            "grid_auto_rows": null,
            "grid_gap": null,
            "max_width": null,
            "order": null,
            "_view_module_version": "1.2.0",
            "grid_template_areas": null,
            "object_position": null,
            "object_fit": null,
            "grid_auto_columns": null,
            "margin": null,
            "display": null,
            "left": null
          }
        },
        "daea81131146467db757664c11c3d050": {
          "model_module": "@jupyter-widgets/controls",
          "model_name": "HBoxModel",
          "state": {
            "_view_name": "HBoxView",
            "_dom_classes": [],
            "_model_name": "HBoxModel",
            "_view_module": "@jupyter-widgets/controls",
            "_model_module_version": "1.5.0",
            "_view_count": null,
            "_view_module_version": "1.5.0",
            "box_style": "",
            "layout": "IPY_MODEL_58387768c06c4fe7a8ae14b4c23b38c7",
            "_model_module": "@jupyter-widgets/controls",
            "children": [
              "IPY_MODEL_621c27363b124df3b3e6785c4a44dbae",
              "IPY_MODEL_6ec1e9d79d724c7187e682927596876d"
            ]
          }
        },
        "58387768c06c4fe7a8ae14b4c23b38c7": {
          "model_module": "@jupyter-widgets/base",
          "model_name": "LayoutModel",
          "state": {
            "_view_name": "LayoutView",
            "grid_template_rows": null,
            "right": null,
            "justify_content": null,
            "_view_module": "@jupyter-widgets/base",
            "overflow": null,
            "_model_module_version": "1.2.0",
            "_view_count": null,
            "flex_flow": null,
            "width": null,
            "min_width": null,
            "border": null,
            "align_items": null,
            "bottom": null,
            "_model_module": "@jupyter-widgets/base",
            "top": null,
            "grid_column": null,
            "overflow_y": null,
            "overflow_x": null,
            "grid_auto_flow": null,
            "grid_area": null,
            "grid_template_columns": null,
            "flex": null,
            "_model_name": "LayoutModel",
            "justify_items": null,
            "grid_row": null,
            "max_height": null,
            "align_content": null,
            "visibility": null,
            "align_self": null,
            "height": null,
            "min_height": null,
            "padding": null,
            "grid_auto_rows": null,
            "grid_gap": null,
            "max_width": null,
            "order": null,
            "_view_module_version": "1.2.0",
            "grid_template_areas": null,
            "object_position": null,
            "object_fit": null,
            "grid_auto_columns": null,
            "margin": null,
            "display": null,
            "left": null
          }
        },
        "621c27363b124df3b3e6785c4a44dbae": {
          "model_module": "@jupyter-widgets/controls",
          "model_name": "FloatProgressModel",
          "state": {
            "_view_name": "ProgressView",
            "style": "IPY_MODEL_2dab4441f95a408781e804bebc6eadc9",
            "_dom_classes": [],
            "description": "",
            "_model_name": "FloatProgressModel",
            "bar_style": "success",
            "max": 1,
            "_view_module": "@jupyter-widgets/controls",
            "_model_module_version": "1.5.0",
            "value": 1,
            "_view_count": null,
            "_view_module_version": "1.5.0",
            "orientation": "horizontal",
            "min": 0,
            "description_tooltip": null,
            "_model_module": "@jupyter-widgets/controls",
            "layout": "IPY_MODEL_8b517c9bab9941ff84833248a367f33e"
          }
        },
        "6ec1e9d79d724c7187e682927596876d": {
          "model_module": "@jupyter-widgets/controls",
          "model_name": "HTMLModel",
          "state": {
            "_view_name": "HTMLView",
            "style": "IPY_MODEL_ca816aa3d8ce462998706e0fd9403e61",
            "_dom_classes": [],
            "description": "",
            "_model_name": "HTMLModel",
            "placeholder": "​",
            "_view_module": "@jupyter-widgets/controls",
            "_model_module_version": "1.5.0",
            "value": " 690/? [00:16&lt;00:00, 41.05it/s]",
            "_view_count": null,
            "_view_module_version": "1.5.0",
            "description_tooltip": null,
            "_model_module": "@jupyter-widgets/controls",
            "layout": "IPY_MODEL_d291f8e7670b4ccf9d4830f284147ff8"
          }
        },
        "2dab4441f95a408781e804bebc6eadc9": {
          "model_module": "@jupyter-widgets/controls",
          "model_name": "ProgressStyleModel",
          "state": {
            "_view_name": "StyleView",
            "_model_name": "ProgressStyleModel",
            "description_width": "initial",
            "_view_module": "@jupyter-widgets/base",
            "_model_module_version": "1.5.0",
            "_view_count": null,
            "_view_module_version": "1.2.0",
            "bar_color": null,
            "_model_module": "@jupyter-widgets/controls"
          }
        },
        "8b517c9bab9941ff84833248a367f33e": {
          "model_module": "@jupyter-widgets/base",
          "model_name": "LayoutModel",
          "state": {
            "_view_name": "LayoutView",
            "grid_template_rows": null,
            "right": null,
            "justify_content": null,
            "_view_module": "@jupyter-widgets/base",
            "overflow": null,
            "_model_module_version": "1.2.0",
            "_view_count": null,
            "flex_flow": null,
            "width": null,
            "min_width": null,
            "border": null,
            "align_items": null,
            "bottom": null,
            "_model_module": "@jupyter-widgets/base",
            "top": null,
            "grid_column": null,
            "overflow_y": null,
            "overflow_x": null,
            "grid_auto_flow": null,
            "grid_area": null,
            "grid_template_columns": null,
            "flex": null,
            "_model_name": "LayoutModel",
            "justify_items": null,
            "grid_row": null,
            "max_height": null,
            "align_content": null,
            "visibility": null,
            "align_self": null,
            "height": null,
            "min_height": null,
            "padding": null,
            "grid_auto_rows": null,
            "grid_gap": null,
            "max_width": null,
            "order": null,
            "_view_module_version": "1.2.0",
            "grid_template_areas": null,
            "object_position": null,
            "object_fit": null,
            "grid_auto_columns": null,
            "margin": null,
            "display": null,
            "left": null
          }
        },
        "ca816aa3d8ce462998706e0fd9403e61": {
          "model_module": "@jupyter-widgets/controls",
          "model_name": "DescriptionStyleModel",
          "state": {
            "_view_name": "StyleView",
            "_model_name": "DescriptionStyleModel",
            "description_width": "",
            "_view_module": "@jupyter-widgets/base",
            "_model_module_version": "1.5.0",
            "_view_count": null,
            "_view_module_version": "1.2.0",
            "_model_module": "@jupyter-widgets/controls"
          }
        },
        "d291f8e7670b4ccf9d4830f284147ff8": {
          "model_module": "@jupyter-widgets/base",
          "model_name": "LayoutModel",
          "state": {
            "_view_name": "LayoutView",
            "grid_template_rows": null,
            "right": null,
            "justify_content": null,
            "_view_module": "@jupyter-widgets/base",
            "overflow": null,
            "_model_module_version": "1.2.0",
            "_view_count": null,
            "flex_flow": null,
            "width": null,
            "min_width": null,
            "border": null,
            "align_items": null,
            "bottom": null,
            "_model_module": "@jupyter-widgets/base",
            "top": null,
            "grid_column": null,
            "overflow_y": null,
            "overflow_x": null,
            "grid_auto_flow": null,
            "grid_area": null,
            "grid_template_columns": null,
            "flex": null,
            "_model_name": "LayoutModel",
            "justify_items": null,
            "grid_row": null,
            "max_height": null,
            "align_content": null,
            "visibility": null,
            "align_self": null,
            "height": null,
            "min_height": null,
            "padding": null,
            "grid_auto_rows": null,
            "grid_gap": null,
            "max_width": null,
            "order": null,
            "_view_module_version": "1.2.0",
            "grid_template_areas": null,
            "object_position": null,
            "object_fit": null,
            "grid_auto_columns": null,
            "margin": null,
            "display": null,
            "left": null
          }
        },
        "8968bdd4fd0f4cd1b1b01ac3502b8891": {
          "model_module": "@jupyter-widgets/controls",
          "model_name": "HBoxModel",
          "state": {
            "_view_name": "HBoxView",
            "_dom_classes": [],
            "_model_name": "HBoxModel",
            "_view_module": "@jupyter-widgets/controls",
            "_model_module_version": "1.5.0",
            "_view_count": null,
            "_view_module_version": "1.5.0",
            "box_style": "",
            "layout": "IPY_MODEL_0ce0a69516634df19ab2e7862f694060",
            "_model_module": "@jupyter-widgets/controls",
            "children": [
              "IPY_MODEL_3bb0e28871854c1eaa0488d44b15b0ad",
              "IPY_MODEL_f513c1dac5c7456d9eef52a002c391ed"
            ]
          }
        },
        "0ce0a69516634df19ab2e7862f694060": {
          "model_module": "@jupyter-widgets/base",
          "model_name": "LayoutModel",
          "state": {
            "_view_name": "LayoutView",
            "grid_template_rows": null,
            "right": null,
            "justify_content": null,
            "_view_module": "@jupyter-widgets/base",
            "overflow": null,
            "_model_module_version": "1.2.0",
            "_view_count": null,
            "flex_flow": null,
            "width": null,
            "min_width": null,
            "border": null,
            "align_items": null,
            "bottom": null,
            "_model_module": "@jupyter-widgets/base",
            "top": null,
            "grid_column": null,
            "overflow_y": null,
            "overflow_x": null,
            "grid_auto_flow": null,
            "grid_area": null,
            "grid_template_columns": null,
            "flex": null,
            "_model_name": "LayoutModel",
            "justify_items": null,
            "grid_row": null,
            "max_height": null,
            "align_content": null,
            "visibility": null,
            "align_self": null,
            "height": null,
            "min_height": null,
            "padding": null,
            "grid_auto_rows": null,
            "grid_gap": null,
            "max_width": null,
            "order": null,
            "_view_module_version": "1.2.0",
            "grid_template_areas": null,
            "object_position": null,
            "object_fit": null,
            "grid_auto_columns": null,
            "margin": null,
            "display": null,
            "left": null
          }
        },
        "3bb0e28871854c1eaa0488d44b15b0ad": {
          "model_module": "@jupyter-widgets/controls",
          "model_name": "FloatProgressModel",
          "state": {
            "_view_name": "ProgressView",
            "style": "IPY_MODEL_a20f4fb804c6451fa89ada173037162f",
            "_dom_classes": [],
            "description": "",
            "_model_name": "FloatProgressModel",
            "bar_style": "success",
            "max": 1,
            "_view_module": "@jupyter-widgets/controls",
            "_model_module_version": "1.5.0",
            "value": 1,
            "_view_count": null,
            "_view_module_version": "1.5.0",
            "orientation": "horizontal",
            "min": 0,
            "description_tooltip": null,
            "_model_module": "@jupyter-widgets/controls",
            "layout": "IPY_MODEL_463f1e08473b49a5a3647e0759cb01d0"
          }
        },
        "f513c1dac5c7456d9eef52a002c391ed": {
          "model_module": "@jupyter-widgets/controls",
          "model_name": "HTMLModel",
          "state": {
            "_view_name": "HTMLView",
            "style": "IPY_MODEL_29a8bafa23b143559fe68899765590b5",
            "_dom_classes": [],
            "description": "",
            "_model_name": "HTMLModel",
            "placeholder": "​",
            "_view_module": "@jupyter-widgets/controls",
            "_model_module_version": "1.5.0",
            "value": " 1652/? [00:01&lt;00:00, 835.78it/s]",
            "_view_count": null,
            "_view_module_version": "1.5.0",
            "description_tooltip": null,
            "_model_module": "@jupyter-widgets/controls",
            "layout": "IPY_MODEL_765cc8df7e3342338a9480047f2a5a4c"
          }
        },
        "a20f4fb804c6451fa89ada173037162f": {
          "model_module": "@jupyter-widgets/controls",
          "model_name": "ProgressStyleModel",
          "state": {
            "_view_name": "StyleView",
            "_model_name": "ProgressStyleModel",
            "description_width": "initial",
            "_view_module": "@jupyter-widgets/base",
            "_model_module_version": "1.5.0",
            "_view_count": null,
            "_view_module_version": "1.2.0",
            "bar_color": null,
            "_model_module": "@jupyter-widgets/controls"
          }
        },
        "463f1e08473b49a5a3647e0759cb01d0": {
          "model_module": "@jupyter-widgets/base",
          "model_name": "LayoutModel",
          "state": {
            "_view_name": "LayoutView",
            "grid_template_rows": null,
            "right": null,
            "justify_content": null,
            "_view_module": "@jupyter-widgets/base",
            "overflow": null,
            "_model_module_version": "1.2.0",
            "_view_count": null,
            "flex_flow": null,
            "width": null,
            "min_width": null,
            "border": null,
            "align_items": null,
            "bottom": null,
            "_model_module": "@jupyter-widgets/base",
            "top": null,
            "grid_column": null,
            "overflow_y": null,
            "overflow_x": null,
            "grid_auto_flow": null,
            "grid_area": null,
            "grid_template_columns": null,
            "flex": null,
            "_model_name": "LayoutModel",
            "justify_items": null,
            "grid_row": null,
            "max_height": null,
            "align_content": null,
            "visibility": null,
            "align_self": null,
            "height": null,
            "min_height": null,
            "padding": null,
            "grid_auto_rows": null,
            "grid_gap": null,
            "max_width": null,
            "order": null,
            "_view_module_version": "1.2.0",
            "grid_template_areas": null,
            "object_position": null,
            "object_fit": null,
            "grid_auto_columns": null,
            "margin": null,
            "display": null,
            "left": null
          }
        },
        "29a8bafa23b143559fe68899765590b5": {
          "model_module": "@jupyter-widgets/controls",
          "model_name": "DescriptionStyleModel",
          "state": {
            "_view_name": "StyleView",
            "_model_name": "DescriptionStyleModel",
            "description_width": "",
            "_view_module": "@jupyter-widgets/base",
            "_model_module_version": "1.5.0",
            "_view_count": null,
            "_view_module_version": "1.2.0",
            "_model_module": "@jupyter-widgets/controls"
          }
        },
        "765cc8df7e3342338a9480047f2a5a4c": {
          "model_module": "@jupyter-widgets/base",
          "model_name": "LayoutModel",
          "state": {
            "_view_name": "LayoutView",
            "grid_template_rows": null,
            "right": null,
            "justify_content": null,
            "_view_module": "@jupyter-widgets/base",
            "overflow": null,
            "_model_module_version": "1.2.0",
            "_view_count": null,
            "flex_flow": null,
            "width": null,
            "min_width": null,
            "border": null,
            "align_items": null,
            "bottom": null,
            "_model_module": "@jupyter-widgets/base",
            "top": null,
            "grid_column": null,
            "overflow_y": null,
            "overflow_x": null,
            "grid_auto_flow": null,
            "grid_area": null,
            "grid_template_columns": null,
            "flex": null,
            "_model_name": "LayoutModel",
            "justify_items": null,
            "grid_row": null,
            "max_height": null,
            "align_content": null,
            "visibility": null,
            "align_self": null,
            "height": null,
            "min_height": null,
            "padding": null,
            "grid_auto_rows": null,
            "grid_gap": null,
            "max_width": null,
            "order": null,
            "_view_module_version": "1.2.0",
            "grid_template_areas": null,
            "object_position": null,
            "object_fit": null,
            "grid_auto_columns": null,
            "margin": null,
            "display": null,
            "left": null
          }
        },
        "2f784182c41a4f8f9887ca720310208c": {
          "model_module": "@jupyter-widgets/controls",
          "model_name": "HBoxModel",
          "state": {
            "_view_name": "HBoxView",
            "_dom_classes": [],
            "_model_name": "HBoxModel",
            "_view_module": "@jupyter-widgets/controls",
            "_model_module_version": "1.5.0",
            "_view_count": null,
            "_view_module_version": "1.5.0",
            "box_style": "",
            "layout": "IPY_MODEL_13a48f5fc8f543e690db8cb4c7960e90",
            "_model_module": "@jupyter-widgets/controls",
            "children": [
              "IPY_MODEL_34f6b62cd729435598e35f25f36251bf",
              "IPY_MODEL_21309c1b896a45f7ba8a9a0fa5390e39"
            ]
          }
        },
        "13a48f5fc8f543e690db8cb4c7960e90": {
          "model_module": "@jupyter-widgets/base",
          "model_name": "LayoutModel",
          "state": {
            "_view_name": "LayoutView",
            "grid_template_rows": null,
            "right": null,
            "justify_content": null,
            "_view_module": "@jupyter-widgets/base",
            "overflow": null,
            "_model_module_version": "1.2.0",
            "_view_count": null,
            "flex_flow": null,
            "width": null,
            "min_width": null,
            "border": null,
            "align_items": null,
            "bottom": null,
            "_model_module": "@jupyter-widgets/base",
            "top": null,
            "grid_column": null,
            "overflow_y": null,
            "overflow_x": null,
            "grid_auto_flow": null,
            "grid_area": null,
            "grid_template_columns": null,
            "flex": null,
            "_model_name": "LayoutModel",
            "justify_items": null,
            "grid_row": null,
            "max_height": null,
            "align_content": null,
            "visibility": null,
            "align_self": null,
            "height": null,
            "min_height": null,
            "padding": null,
            "grid_auto_rows": null,
            "grid_gap": null,
            "max_width": null,
            "order": null,
            "_view_module_version": "1.2.0",
            "grid_template_areas": null,
            "object_position": null,
            "object_fit": null,
            "grid_auto_columns": null,
            "margin": null,
            "display": null,
            "left": null
          }
        },
        "34f6b62cd729435598e35f25f36251bf": {
          "model_module": "@jupyter-widgets/controls",
          "model_name": "FloatProgressModel",
          "state": {
            "_view_name": "ProgressView",
            "style": "IPY_MODEL_64fd1fa5c7c3470aac11d4906f816e4b",
            "_dom_classes": [],
            "description": "",
            "_model_name": "FloatProgressModel",
            "bar_style": "success",
            "max": 1,
            "_view_module": "@jupyter-widgets/controls",
            "_model_module_version": "1.5.0",
            "value": 1,
            "_view_count": null,
            "_view_module_version": "1.5.0",
            "orientation": "horizontal",
            "min": 0,
            "description_tooltip": null,
            "_model_module": "@jupyter-widgets/controls",
            "layout": "IPY_MODEL_033f5333f8d74fce8f5490eb4e56154f"
          }
        },
        "21309c1b896a45f7ba8a9a0fa5390e39": {
          "model_module": "@jupyter-widgets/controls",
          "model_name": "HTMLModel",
          "state": {
            "_view_name": "HTMLView",
            "style": "IPY_MODEL_a14cb803b8064cb1b815cf9d05443d7f",
            "_dom_classes": [],
            "description": "",
            "_model_name": "HTMLModel",
            "placeholder": "​",
            "_view_module": "@jupyter-widgets/controls",
            "_model_module_version": "1.5.0",
            "value": " 690/? [00:01&lt;00:00, 455.82it/s]",
            "_view_count": null,
            "_view_module_version": "1.5.0",
            "description_tooltip": null,
            "_model_module": "@jupyter-widgets/controls",
            "layout": "IPY_MODEL_5b62344868b34ba68d103345384673e3"
          }
        },
        "64fd1fa5c7c3470aac11d4906f816e4b": {
          "model_module": "@jupyter-widgets/controls",
          "model_name": "ProgressStyleModel",
          "state": {
            "_view_name": "StyleView",
            "_model_name": "ProgressStyleModel",
            "description_width": "initial",
            "_view_module": "@jupyter-widgets/base",
            "_model_module_version": "1.5.0",
            "_view_count": null,
            "_view_module_version": "1.2.0",
            "bar_color": null,
            "_model_module": "@jupyter-widgets/controls"
          }
        },
        "033f5333f8d74fce8f5490eb4e56154f": {
          "model_module": "@jupyter-widgets/base",
          "model_name": "LayoutModel",
          "state": {
            "_view_name": "LayoutView",
            "grid_template_rows": null,
            "right": null,
            "justify_content": null,
            "_view_module": "@jupyter-widgets/base",
            "overflow": null,
            "_model_module_version": "1.2.0",
            "_view_count": null,
            "flex_flow": null,
            "width": null,
            "min_width": null,
            "border": null,
            "align_items": null,
            "bottom": null,
            "_model_module": "@jupyter-widgets/base",
            "top": null,
            "grid_column": null,
            "overflow_y": null,
            "overflow_x": null,
            "grid_auto_flow": null,
            "grid_area": null,
            "grid_template_columns": null,
            "flex": null,
            "_model_name": "LayoutModel",
            "justify_items": null,
            "grid_row": null,
            "max_height": null,
            "align_content": null,
            "visibility": null,
            "align_self": null,
            "height": null,
            "min_height": null,
            "padding": null,
            "grid_auto_rows": null,
            "grid_gap": null,
            "max_width": null,
            "order": null,
            "_view_module_version": "1.2.0",
            "grid_template_areas": null,
            "object_position": null,
            "object_fit": null,
            "grid_auto_columns": null,
            "margin": null,
            "display": null,
            "left": null
          }
        },
        "a14cb803b8064cb1b815cf9d05443d7f": {
          "model_module": "@jupyter-widgets/controls",
          "model_name": "DescriptionStyleModel",
          "state": {
            "_view_name": "StyleView",
            "_model_name": "DescriptionStyleModel",
            "description_width": "",
            "_view_module": "@jupyter-widgets/base",
            "_model_module_version": "1.5.0",
            "_view_count": null,
            "_view_module_version": "1.2.0",
            "_model_module": "@jupyter-widgets/controls"
          }
        },
        "5b62344868b34ba68d103345384673e3": {
          "model_module": "@jupyter-widgets/base",
          "model_name": "LayoutModel",
          "state": {
            "_view_name": "LayoutView",
            "grid_template_rows": null,
            "right": null,
            "justify_content": null,
            "_view_module": "@jupyter-widgets/base",
            "overflow": null,
            "_model_module_version": "1.2.0",
            "_view_count": null,
            "flex_flow": null,
            "width": null,
            "min_width": null,
            "border": null,
            "align_items": null,
            "bottom": null,
            "_model_module": "@jupyter-widgets/base",
            "top": null,
            "grid_column": null,
            "overflow_y": null,
            "overflow_x": null,
            "grid_auto_flow": null,
            "grid_area": null,
            "grid_template_columns": null,
            "flex": null,
            "_model_name": "LayoutModel",
            "justify_items": null,
            "grid_row": null,
            "max_height": null,
            "align_content": null,
            "visibility": null,
            "align_self": null,
            "height": null,
            "min_height": null,
            "padding": null,
            "grid_auto_rows": null,
            "grid_gap": null,
            "max_width": null,
            "order": null,
            "_view_module_version": "1.2.0",
            "grid_template_areas": null,
            "object_position": null,
            "object_fit": null,
            "grid_auto_columns": null,
            "margin": null,
            "display": null,
            "left": null
          }
        }
      }
    }
  },
  "cells": [
    {
      "cell_type": "markdown",
      "metadata": {
        "id": "MU0l-BSEqk5g"
      },
      "source": [
        "Будем использовать реализацию Word2vec в библиотеке **Gensim**, а в качестве предобученных моделей возьмем модели Андрея Кутузова и Лизы Кузьменко с сайта [RusVectōrēs.](https://rusvectores.org/ru/models/). "
      ]
    },
    {
      "cell_type": "code",
      "metadata": {
        "id": "rZYGZOioqk5s",
        "outputId": "efa6d7b9-a835-48c2-942d-d9e6b8daee54",
        "colab": {
          "base_uri": "https://localhost:8080/",
          "height": 207
        }
      },
      "source": [
        "!pip install --upgrade gensim"
      ],
      "execution_count": null,
      "outputs": [
        {
          "output_type": "stream",
          "text": [
            "Requirement already up-to-date: gensim in /usr/local/lib/python3.6/dist-packages (3.8.3)\n",
            "Requirement already satisfied, skipping upgrade: scipy>=0.18.1 in /usr/local/lib/python3.6/dist-packages (from gensim) (1.4.1)\n",
            "Requirement already satisfied, skipping upgrade: smart-open>=1.8.1 in /usr/local/lib/python3.6/dist-packages (from gensim) (2.2.0)\n",
            "Requirement already satisfied, skipping upgrade: six>=1.5.0 in /usr/local/lib/python3.6/dist-packages (from gensim) (1.15.0)\n",
            "Requirement already satisfied, skipping upgrade: numpy>=1.11.3 in /usr/local/lib/python3.6/dist-packages (from gensim) (1.18.5)\n",
            "Requirement already satisfied, skipping upgrade: requests in /usr/local/lib/python3.6/dist-packages (from smart-open>=1.8.1->gensim) (2.23.0)\n",
            "Requirement already satisfied, skipping upgrade: urllib3!=1.25.0,!=1.25.1,<1.26,>=1.21.1 in /usr/local/lib/python3.6/dist-packages (from requests->smart-open>=1.8.1->gensim) (1.24.3)\n",
            "Requirement already satisfied, skipping upgrade: idna<3,>=2.5 in /usr/local/lib/python3.6/dist-packages (from requests->smart-open>=1.8.1->gensim) (2.10)\n",
            "Requirement already satisfied, skipping upgrade: chardet<4,>=3.0.2 in /usr/local/lib/python3.6/dist-packages (from requests->smart-open>=1.8.1->gensim) (3.0.4)\n",
            "Requirement already satisfied, skipping upgrade: certifi>=2017.4.17 in /usr/local/lib/python3.6/dist-packages (from requests->smart-open>=1.8.1->gensim) (2020.6.20)\n"
          ],
          "name": "stdout"
        }
      ]
    },
    {
      "cell_type": "code",
      "metadata": {
        "id": "LGx0C3Ulqk5p",
        "outputId": "0948317a-dcc8-4c75-bbee-1c248d2831b8",
        "colab": {
          "base_uri": "https://localhost:8080/",
          "height": 35
        }
      },
      "source": [
        "import gensim\n",
        "gensim.__version__"
      ],
      "execution_count": null,
      "outputs": [
        {
          "output_type": "execute_result",
          "data": {
            "application/vnd.google.colaboratory.intrinsic+json": {
              "type": "string"
            },
            "text/plain": [
              "'3.8.3'"
            ]
          },
          "metadata": {
            "tags": []
          },
          "execution_count": 2
        }
      ]
    },
    {
      "cell_type": "code",
      "metadata": {
        "id": "pdaVKVf4qk5w"
      },
      "source": [
        "%load_ext autoreload\n",
        "\n",
        "from gensim.models import Word2Vec, KeyedVectors"
      ],
      "execution_count": null,
      "outputs": []
    },
    {
      "cell_type": "markdown",
      "metadata": {
        "id": "XXpP9hrJqk5y"
      },
      "source": [
        "В качестве моделей давайте возьмем \n",
        "\n",
        "1) araneum_none_fasttextcbow_300_5_2018 (fasttext) - модель, обученная на интернет-корпусе русского языка\n",
        "\n",
        "\n",
        "2) ruscorpora_upos_skipgram_300_5_2018 (word2vec) - модель, обученная НКРЯ"
      ]
    },
    {
      "cell_type": "markdown",
      "metadata": {
        "id": "08qw_tWKqk5z"
      },
      "source": [
        "## word2vec + fasttext"
      ]
    },
    {
      "cell_type": "markdown",
      "metadata": {
        "id": "yXJoNjLOqk5z"
      },
      "source": [
        "Существуют несколько форматов, в которых могут храниться модели - .vec и .model \n",
        "\n",
        "1) Первый формат считается классическим вариантом модели word2vec. Для загрузки таакой модели надо воспользоваться методом *KeyedVectors.load_word2vec_format*. \n",
        "Модель может быть бинарной, для ее загрузки надо передать параметр binary, равный True. \n",
        "\n",
        "2) Формат .model - собственный формат gensim. Такую модель надо загружать с помощью метода *KeyedVectors.load*."
      ]
    },
    {
      "cell_type": "markdown",
      "metadata": {
        "id": "jNjcvB1Aqk50"
      },
      "source": [
        " **1) если модель без тэгов**"
      ]
    },
    {
      "cell_type": "code",
      "metadata": {
        "id": "sAVM7zizDabG",
        "outputId": "ea19e048-fb7e-4632-e9ad-d9cbd22f0703",
        "colab": {
          "base_uri": "https://localhost:8080/",
          "height": 156
        }
      },
      "source": [
        "!wget -c https://rusvectores.org/static/models/rusvectores4/fasttext/araneum_none_fasttextcbow_300_5_2018.tgz"
      ],
      "execution_count": null,
      "outputs": [
        {
          "output_type": "stream",
          "text": [
            "--2020-10-17 21:43:06--  https://rusvectores.org/static/models/rusvectores4/fasttext/araneum_none_fasttextcbow_300_5_2018.tgz\n",
            "Resolving rusvectores.org (rusvectores.org)... 116.203.104.23\n",
            "Connecting to rusvectores.org (rusvectores.org)|116.203.104.23|:443... connected.\n",
            "HTTP request sent, awaiting response... 416 Requested Range Not Satisfiable\n",
            "\n",
            "    The file is already fully retrieved; nothing to do.\n",
            "\n"
          ],
          "name": "stdout"
        }
      ]
    },
    {
      "cell_type": "code",
      "metadata": {
        "id": "Y_YZDlDNF-6A"
      },
      "source": [
        "!tar -xzf araneum_none_fasttextcbow_300_5_2018.tgz"
      ],
      "execution_count": null,
      "outputs": []
    },
    {
      "cell_type": "code",
      "metadata": {
        "id": "bBuxhXt2qk50"
      },
      "source": [
        "# загрузка модели\n",
        "\n",
        "model_file = 'araneum_none_fasttextcbow_300_5_2018.model'\n",
        "model = KeyedVectors.load(model_file)"
      ],
      "execution_count": null,
      "outputs": []
    },
    {
      "cell_type": "markdown",
      "metadata": {
        "id": "nVMQ7gFaqk6E"
      },
      "source": [
        "## Получение вектора документа\n",
        "\n",
        "Отлично, вектора для слов получены. Что с ними делать дальше? \n",
        "\n",
        "Есть два подхода (а точнее есть один, а второй мы придумали, потому что с одним жить нельзя).\n",
        "> Классика - для получения вектора документа нужно взять и усреднить все вектора его слов\n",
        " \n",
        "$$ vec_{doc} = \\frac {\\sum_{i=0}^{n} vec_i}{len(d)} $$\n"
      ]
    },
    {
      "cell_type": "code",
      "metadata": {
        "id": "S6btdBSQqk6E"
      },
      "source": [
        "import numpy as np\n",
        "\n",
        "# сделали препроцессинг, получили леммы \n",
        "lemmas = ['старинный', 'замок']\n",
        "\n",
        "# создаем вектор-маску\n",
        "lemmas_vectors = np.zeros((len(lemmas), model.vector_size))\n",
        "\n",
        "vec = np.zeros((model.vector_size,))\n",
        "\n",
        "# если слово есть в модели, берем его вектор\n",
        "for idx, lemma in enumerate(lemmas):\n",
        "    if lemma in model:\n",
        "        lemmas_vectors[idx] = model[lemma]\n",
        "        \n",
        "# проверка на случай, если на вход пришел пустой массив\n",
        "if lemmas_vectors.shape[0] is not 0:\n",
        "    vec = np.mean(lemmas_vectors, axis=0)\n"
      ],
      "execution_count": null,
      "outputs": []
    },
    {
      "cell_type": "markdown",
      "metadata": {
        "id": "Qf08qnz0qk6I"
      },
      "source": [
        "> Эксперимент - представим документ не в виде одного уредненного вектора, а как матрицу векторов входящих в него слов\n",
        "\n",
        "```\n",
        " слово1 |  v1_300\n",
        " слово2 |  v2_300\n",
        " слово3 |  v3_300\n",
        " слово4 |  v4_300\n",
        "```\n",
        "\n",
        "> Отлично, теперь каждый документ представлен в виде матрицы векторов своих слов. Но нам надо получить близость матрицы документа в коллекции и матрицы входящего запроса. Как? Умножим две матрицы друг на друга - одна матрица размером d x 300, другая q x 300 - получим попарную близость слов из каждого документа - матрицу размером d x q.\n"
      ]
    },
    {
      "cell_type": "code",
      "metadata": {
        "id": "KfpJnSHLqk6J"
      },
      "source": [
        "# возьмем игрушечный пример кейса\n",
        "\n",
        "text1 = 'турция' \n",
        "text2 = 'нужна справка срочно'\n",
        "query = 'быстрая справка'"
      ],
      "execution_count": null,
      "outputs": []
    },
    {
      "cell_type": "code",
      "metadata": {
        "id": "-bn6iX31qk6L",
        "outputId": "4b83ec43-0473-47cb-da19-33f98d49cb8f",
        "colab": {
          "base_uri": "https://localhost:8080/",
          "height": 105
        }
      },
      "source": [
        "# построим матрицы всех документов\n",
        "\n",
        "def create_doc_matrix(text):\n",
        "    lemmas = text.split()\n",
        "    lemmas_vectors = np.zeros((len(lemmas), model.vector_size))\n",
        "    vec = np.zeros((model.vector_size,))\n",
        "\n",
        "    for idx, lemma in enumerate(lemmas):\n",
        "        if lemma in model.wv:\n",
        "            lemmas_vectors[idx] = normalize_vec(model.wv[lemma])\n",
        "            \n",
        "    return lemmas_vectors    \n",
        "\n",
        "\n",
        "text1_m = create_doc_matrix(text1)\n",
        "text2_m = create_doc_matrix(text2)\n",
        "query_m = create_doc_matrix(query)"
      ],
      "execution_count": null,
      "outputs": [
        {
          "output_type": "stream",
          "text": [
            "/usr/local/lib/python3.6/dist-packages/ipykernel_launcher.py:9: DeprecationWarning: Call to deprecated `wv` (Attribute will be removed in 4.0.0, use self instead).\n",
            "  if __name__ == '__main__':\n",
            "/usr/local/lib/python3.6/dist-packages/ipykernel_launcher.py:10: DeprecationWarning: Call to deprecated `wv` (Attribute will be removed in 4.0.0, use self instead).\n",
            "  # Remove the CWD from sys.path while we load stuff.\n"
          ],
          "name": "stderr"
        }
      ]
    },
    {
      "cell_type": "code",
      "metadata": {
        "id": "Y8V3nmSuqk6O",
        "outputId": "727c7b25-0856-48a5-e2ea-6469422388ae",
        "colab": {
          "base_uri": "https://localhost:8080/",
          "height": 34
        }
      },
      "source": [
        "# размер матрицы как и ожидали\n",
        "query_m.shape"
      ],
      "execution_count": null,
      "outputs": [
        {
          "output_type": "execute_result",
          "data": {
            "text/plain": [
              "(2, 300)"
            ]
          },
          "metadata": {
            "tags": []
          },
          "execution_count": 70
        }
      ]
    },
    {
      "cell_type": "code",
      "metadata": {
        "id": "23AN3Koyqk6Q",
        "outputId": "56ab27c3-830d-4df9-db1c-ccbfdabaa3d9",
        "colab": {
          "base_uri": "https://localhost:8080/",
          "height": 34
        }
      },
      "source": [
        "# посмотрим на близость слов первого текста и слов запроса\n",
        "text1_m.dot(query_m.T)"
      ],
      "execution_count": null,
      "outputs": [
        {
          "output_type": "execute_result",
          "data": {
            "text/plain": [
              "array([[0.09587915, 0.01183069]])"
            ]
          },
          "metadata": {
            "tags": []
          },
          "execution_count": 71
        }
      ]
    },
    {
      "cell_type": "code",
      "metadata": {
        "id": "djHXaouZqk6R",
        "outputId": "de79af3d-6f06-4ca9-a711-a4a620bea79a",
        "colab": {
          "base_uri": "https://localhost:8080/",
          "height": 68
        }
      },
      "source": [
        "# посмотрим на близость слов второго текста и слов запроса\n",
        "text2_m.dot(query_m.T)"
      ],
      "execution_count": null,
      "outputs": [
        {
          "output_type": "execute_result",
          "data": {
            "text/plain": [
              "array([[-0.0260624 ,  0.11607588],\n",
              "       [ 0.01341236,  1.00000011],\n",
              "       [ 0.22505549,  0.33582122]])"
            ]
          },
          "metadata": {
            "tags": []
          },
          "execution_count": 72
        }
      ]
    },
    {
      "cell_type": "code",
      "metadata": {
        "scrolled": true,
        "id": "FNpDuFZhqk6T",
        "outputId": "02c544f8-3a1a-469c-9c8f-7534065d76a7",
        "colab": {
          "base_uri": "https://localhost:8080/",
          "height": 34
        }
      },
      "source": [
        "docs_m = [text2_m, text1_m]\n",
        "\n",
        "    \n",
        "def search_1(docs, query, reduce_func=np.max, axis=0):\n",
        "    sims = []\n",
        "    for doc in docs:\n",
        "        sim = doc.dot(query.T)\n",
        "        sim = reduce_func(sim, axis=axis)\n",
        "        sims.append(sim.sum())\n",
        "    print(sims)\n",
        "    return np.argmax(sims)\n",
        "\n",
        "\n",
        "r = search_1(docs_m, query_m)"
      ],
      "execution_count": null,
      "outputs": [
        {
          "output_type": "stream",
          "text": [
            "[1.225055597288777, 0.10770983955697251]\n"
          ],
          "name": "stdout"
        }
      ]
    },
    {
      "cell_type": "markdown",
      "metadata": {
        "id": "4OvFqmRtqk6Y"
      },
      "source": [
        "## Задание"
      ]
    },
    {
      "cell_type": "markdown",
      "metadata": {
        "id": "U8QzqFxMqk6Y"
      },
      "source": [
        "Реализуйте поиск по нашему стандартному Covid корпусу с помощью модели на Araneum двумя способами:\n",
        "\n",
        "    1. преобразуйте каждый документ в вектор через усреднение векторов его слов и реализуйте поисковик как \n",
        "    обычно через умножение матрицы документов коллекции на вектор запроса \n",
        "    2. экспериментальный способ - реализуйте поиск ближайшего документа в коллекции к запросу, преобразовав \n",
        "    каждый документ в матрицу (количество слов x размер модели)\n",
        "    \n",
        "Посчитайте качество поиска для каждой модели на тех же данных, что и в предыдущем задании. В качестве препроцессинга используйте две версии - с удалением NER и без удаления.  "
      ]
    },
    {
      "cell_type": "markdown",
      "metadata": {
        "id": "6Py2W3HJRt8q"
      },
      "source": [
        "\n",
        "\n",
        "---\n",
        "\n",
        "\n",
        "Во время выполнения домашнего задания 3 я сохранила проепроцессиг с NER в отдельные файлы, поэтому в данном домашнем задании я буду использовать результаты предыдущего дз."
      ]
    },
    {
      "cell_type": "markdown",
      "metadata": {
        "id": "96yA9693c5qg"
      },
      "source": [
        "#### Подготовка: препроцессинг с NER и без него"
      ]
    },
    {
      "cell_type": "code",
      "metadata": {
        "id": "Qhi4nMe3qk6Z"
      },
      "source": [
        "import re\n",
        "import pandas as pd\n",
        "import numpy as np"
      ],
      "execution_count": null,
      "outputs": []
    },
    {
      "cell_type": "code",
      "metadata": {
        "id": "r0TsaBJ6SRzF",
        "outputId": "bc4bc1cf-f2e6-43e2-a17e-77b148a34b8d",
        "colab": {
          "base_uri": "https://localhost:8080/",
          "height": 34
        }
      },
      "source": [
        "from google.colab import drive\n",
        "drive.mount('gdrive')"
      ],
      "execution_count": null,
      "outputs": [
        {
          "output_type": "stream",
          "text": [
            "Drive already mounted at gdrive; to attempt to forcibly remount, call drive.mount(\"gdrive\", force_remount=True).\n"
          ],
          "name": "stdout"
        }
      ]
    },
    {
      "cell_type": "code",
      "metadata": {
        "id": "9J0it5hRSa6B",
        "outputId": "f4a469b5-a45e-420d-811d-559e5a5fc74d",
        "colab": {
          "base_uri": "https://localhost:8080/",
          "height": 34
        }
      },
      "source": [
        "%cd /content/gdrive/My Drive/Вышечка/4 курс/инфопоиск/семинар 4"
      ],
      "execution_count": null,
      "outputs": [
        {
          "output_type": "stream",
          "text": [
            "/content/gdrive/My Drive/Вышечка/4 курс/инфопоиск/семинар 4\n"
          ],
          "name": "stdout"
        }
      ]
    },
    {
      "cell_type": "code",
      "metadata": {
        "id": "TKxIqmJqsmTK"
      },
      "source": [
        "answers = pd.read_csv('answers_new_funcs.csv', delimiter='\\t')\n",
        "queries = pd.read_csv(\"queries_new_funcs.csv\", delimiter='\\t')"
      ],
      "execution_count": null,
      "outputs": []
    },
    {
      "cell_type": "code",
      "metadata": {
        "id": "N3DVDBDXTzL8"
      },
      "source": [
        "queries = queries.fillna(0)"
      ],
      "execution_count": null,
      "outputs": []
    },
    {
      "cell_type": "code",
      "metadata": {
        "id": "lPa_4hu6T0S2"
      },
      "source": [
        "for_queries = queries[['Номер связки\\n', 'Текст вопроса',\n",
        "                       'preprocess_natasha',\t'preprocess_deepmipt']]"
      ],
      "execution_count": null,
      "outputs": []
    },
    {
      "cell_type": "code",
      "metadata": {
        "id": "PWwdny2yT34N",
        "outputId": "7c0bfc2e-c698-4bc0-80db-23029fcf8921",
        "colab": {
          "base_uri": "https://localhost:8080/",
          "height": 122
        }
      },
      "source": [
        "for_queries.rename(columns={'Номер связки\\n': 'Номер связки',\n",
        "                            'Текст вопроса': 'Текст вопросов',\n",
        "                            'preprocess_natasha': 'preprocess_natasha',\n",
        "                            'preprocess_deepmipt': 'preprocess_deepmipt'},\n",
        "                   inplace=True)"
      ],
      "execution_count": null,
      "outputs": [
        {
          "output_type": "stream",
          "text": [
            "/usr/local/lib/python3.6/dist-packages/pandas/core/frame.py:4303: SettingWithCopyWarning: \n",
            "A value is trying to be set on a copy of a slice from a DataFrame\n",
            "\n",
            "See the caveats in the documentation: https://pandas.pydata.org/pandas-docs/stable/user_guide/indexing.html#returning-a-view-versus-a-copy\n",
            "  errors=errors,\n"
          ],
          "name": "stderr"
        }
      ]
    },
    {
      "cell_type": "code",
      "metadata": {
        "id": "g6Wp3LfnUAw-"
      },
      "source": [
        "for_answers = answers[['Номер связки', 'Текст вопросов',\n",
        "                       'preprocess_natasha',\t'preprocess_deepmipt']]"
      ],
      "execution_count": null,
      "outputs": []
    },
    {
      "cell_type": "code",
      "metadata": {
        "id": "OvEineN1s1FG"
      },
      "source": [
        "from sklearn.model_selection import train_test_split\n",
        "\n",
        "RANDOM_STATE = 35\n",
        "\n",
        "train_df, test = train_test_split(for_queries, test_size=0.3,\n",
        "                               random_state=RANDOM_STATE)"
      ],
      "execution_count": null,
      "outputs": []
    },
    {
      "cell_type": "code",
      "metadata": {
        "id": "IuFP9DM8UNSp"
      },
      "source": [
        "train = pd.concat([for_answers, train_df])"
      ],
      "execution_count": null,
      "outputs": []
    },
    {
      "cell_type": "code",
      "metadata": {
        "id": "Y3wieicZUPwe"
      },
      "source": [
        "!pip install --quiet pymorphy2[fast]"
      ],
      "execution_count": null,
      "outputs": []
    },
    {
      "cell_type": "code",
      "metadata": {
        "id": "C-SEsFpvVFqY"
      },
      "source": [
        "from pymorphy2 import MorphAnalyzer\n",
        "\n",
        "\n",
        "morph = MorphAnalyzer()"
      ],
      "execution_count": null,
      "outputs": []
    },
    {
      "cell_type": "code",
      "metadata": {
        "id": "YPRdiyD5VWH0"
      },
      "source": [
        "def preprocessing(data):\n",
        "    data2 = []\n",
        "    cnt = 0\n",
        "    for v in data:\n",
        "        strng = ''\n",
        "        line = \"\".join(l for l in str(v) if l not in (\n",
        "            '.', ',', '?', '!', ':', ';', '—', '--', '<', '>', '\"', '(', ')'))\n",
        "        for word in line.split():\n",
        "            word = re.sub(r'\\ufeff', '', word)\n",
        "            wrd = morph.parse(word)[0]\n",
        "            strng += wrd.normal_form + ' '\n",
        "        data2.append(strng)\n",
        "    return data2"
      ],
      "execution_count": null,
      "outputs": []
    },
    {
      "cell_type": "code",
      "metadata": {
        "id": "VmqwnAguVkjV"
      },
      "source": [
        "from tqdm.auto import tqdm"
      ],
      "execution_count": null,
      "outputs": []
    },
    {
      "cell_type": "code",
      "metadata": {
        "id": "1AmEDatsVY30",
        "outputId": "ec777248-84c2-4354-89c2-e6116abe151d",
        "colab": {
          "base_uri": "https://localhost:8080/",
          "height": 66,
          "referenced_widgets": [
            "7ebfcdb975fa4f2daa6d3b024e6f59e9",
            "cea7423e940c4c73b268f6c402d3a5b4",
            "c1963bc12d3f44fcbb4e14d110263a78",
            "a469b25d35bd4e58ac27db6aa785580b",
            "5dd257d8da0543cab4549e8ca332dc90",
            "5c02fca2db3442c297ce97a8d104617d",
            "fa35e7a0fac54b308a3f9a9de250ee98",
            "d85aeac93fd54b9ab78f82cd24f8dfc1"
          ]
        }
      },
      "source": [
        "lemm_text = preprocessing(tqdm(train['Текст вопросов']))\n",
        "train['вопросы_препроцессинговые'] = lemm_text"
      ],
      "execution_count": null,
      "outputs": [
        {
          "output_type": "display_data",
          "data": {
            "application/vnd.jupyter.widget-view+json": {
              "model_id": "7ebfcdb975fa4f2daa6d3b024e6f59e9",
              "version_minor": 0,
              "version_major": 2
            },
            "text/plain": [
              "HBox(children=(FloatProgress(value=0.0, max=1652.0), HTML(value='')))"
            ]
          },
          "metadata": {
            "tags": []
          }
        },
        {
          "output_type": "stream",
          "text": [
            "\n"
          ],
          "name": "stdout"
        }
      ]
    },
    {
      "cell_type": "code",
      "metadata": {
        "id": "stBA1BVcVr_m",
        "outputId": "db90221f-9f77-408b-89ef-8cab6102eb9c",
        "colab": {
          "base_uri": "https://localhost:8080/",
          "height": 66,
          "referenced_widgets": [
            "5bd456a1722b491aac19cc22d29fba0c",
            "8bc0ccbd07724f008a162dce949abf7d",
            "84a62b7675314ae58bd8f04da70e9118",
            "9b90842d37af4d40af6800396309f8d5",
            "b611c060e5b14a6eb7479abf724d0171",
            "b214161fd21c4fc5903fbdb2d7b01356",
            "6e8e20995dad4bca9f01168f2c44a417",
            "2508683b2b1c467181272b61afe77f6f"
          ]
        }
      },
      "source": [
        "lemm_text2 = preprocessing(tqdm(train['preprocess_deepmipt']))\n",
        "train['deeppavlov'] = lemm_text2"
      ],
      "execution_count": null,
      "outputs": [
        {
          "output_type": "display_data",
          "data": {
            "application/vnd.jupyter.widget-view+json": {
              "model_id": "5bd456a1722b491aac19cc22d29fba0c",
              "version_minor": 0,
              "version_major": 2
            },
            "text/plain": [
              "HBox(children=(FloatProgress(value=0.0, max=1652.0), HTML(value='')))"
            ]
          },
          "metadata": {
            "tags": []
          }
        },
        {
          "output_type": "stream",
          "text": [
            "\n"
          ],
          "name": "stdout"
        }
      ]
    },
    {
      "cell_type": "code",
      "metadata": {
        "id": "dJ0Fnna2l5zF",
        "outputId": "8ec8df79-00fd-409d-fcc5-bd7c71bbfe56",
        "colab": {
          "base_uri": "https://localhost:8080/",
          "height": 66,
          "referenced_widgets": [
            "2d210219d84b463cb9aaced0099c0b63",
            "5445bd00033a4f7e8a2588e24b3dbc09",
            "61d04d964c4342b3bfe1e88fa5dca120",
            "eb9ad94037d643a7b7c46110ad09eec0",
            "5d99867a99fb4dd092dcd9b03decf7dd",
            "d977b3f05df64a65ae7750d1c7ce9626",
            "e1c7892461d3456da02979efd771e23d",
            "0bd747bf7aa2466283e211c03c3feb68"
          ]
        }
      },
      "source": [
        "lemm_text3 = preprocessing(tqdm(train['preprocess_natasha']))\n",
        "train['natasha'] = lemm_text3"
      ],
      "execution_count": null,
      "outputs": [
        {
          "output_type": "display_data",
          "data": {
            "application/vnd.jupyter.widget-view+json": {
              "model_id": "2d210219d84b463cb9aaced0099c0b63",
              "version_minor": 0,
              "version_major": 2
            },
            "text/plain": [
              "HBox(children=(FloatProgress(value=0.0, max=1652.0), HTML(value='')))"
            ]
          },
          "metadata": {
            "tags": []
          }
        },
        {
          "output_type": "stream",
          "text": [
            "\n"
          ],
          "name": "stdout"
        }
      ]
    },
    {
      "cell_type": "code",
      "metadata": {
        "id": "_Jfnn2YyWErA",
        "outputId": "61c3ae81-76f4-48d5-9902-98453d6a7d2f",
        "colab": {
          "base_uri": "https://localhost:8080/",
          "height": 493
        }
      },
      "source": [
        "train.head()"
      ],
      "execution_count": null,
      "outputs": [
        {
          "output_type": "execute_result",
          "data": {
            "text/html": [
              "<div>\n",
              "<style scoped>\n",
              "    .dataframe tbody tr th:only-of-type {\n",
              "        vertical-align: middle;\n",
              "    }\n",
              "\n",
              "    .dataframe tbody tr th {\n",
              "        vertical-align: top;\n",
              "    }\n",
              "\n",
              "    .dataframe thead th {\n",
              "        text-align: right;\n",
              "    }\n",
              "</style>\n",
              "<table border=\"1\" class=\"dataframe\">\n",
              "  <thead>\n",
              "    <tr style=\"text-align: right;\">\n",
              "      <th></th>\n",
              "      <th>Номер связки</th>\n",
              "      <th>Текст вопросов</th>\n",
              "      <th>preprocess_natasha</th>\n",
              "      <th>preprocess_deepmipt</th>\n",
              "      <th>вопросы_препроцессинговые</th>\n",
              "      <th>deeppavlov</th>\n",
              "      <th>natasha</th>\n",
              "    </tr>\n",
              "  </thead>\n",
              "  <tbody>\n",
              "    <tr>\n",
              "      <th>0</th>\n",
              "      <td>57.0</td>\n",
              "      <td>У ребенка в школе продлили каникулы. Могу ли я...</td>\n",
              "      <td>У ребенка в школе продлили каникулы. Могу ли я...</td>\n",
              "      <td>У ребенка в школе продлили каникулы . Могу ли ...</td>\n",
              "      <td>у ребёнок в школа продлить каникулы мочь ли я ...</td>\n",
              "      <td>у ребёнок в школа продлить каникулы мочь ли я ...</td>\n",
              "      <td>у ребёнок в школа продлить каникулы мочь ли я ...</td>\n",
              "    </tr>\n",
              "    <tr>\n",
              "      <th>1</th>\n",
              "      <td>78.0</td>\n",
              "      <td>Где сделать вакцинацию от коронавируса?\\nСущес...</td>\n",
              "      <td>Где сделать вакцинацию от коронавируса?\\nСущес...</td>\n",
              "      <td>Где сделать вакцинацию от коронавируса ? Сущес...</td>\n",
              "      <td>где сделать вакцинация от коронавирус существо...</td>\n",
              "      <td>где сделать вакцинация от коронавирус существо...</td>\n",
              "      <td>где сделать вакцинация от коронавирус существо...</td>\n",
              "    </tr>\n",
              "    <tr>\n",
              "      <th>2</th>\n",
              "      <td>326.0</td>\n",
              "      <td>Сколько стоит сделать вакцину от гриппа?\\nМожн...</td>\n",
              "      <td>Сколько стоит сделать вакцину от гриппа?\\nМожн...</td>\n",
              "      <td>Сколько стоит сделать вакцину от гриппа ? Можн...</td>\n",
              "      <td>сколько стоить сделать вакцина от грипп можно ...</td>\n",
              "      <td>сколько стоить сделать вакцина от грипп можно ...</td>\n",
              "      <td>сколько стоить сделать вакцина от грипп можно ...</td>\n",
              "    </tr>\n",
              "    <tr>\n",
              "      <th>3</th>\n",
              "      <td>327.0</td>\n",
              "      <td>Могу я отказаться от вакцинации?\\nВ каких случ...</td>\n",
              "      <td>Могу я отказаться от вакцинации?\\nВ каких случ...</td>\n",
              "      <td>Могу я отказаться от вакцинации ? В каких случ...</td>\n",
              "      <td>мочь я отказаться от вакцинация в какой случай...</td>\n",
              "      <td>мочь я отказаться от вакцинация в какой случай...</td>\n",
              "      <td>мочь я отказаться от вакцинация в какой случай...</td>\n",
              "    </tr>\n",
              "    <tr>\n",
              "      <th>4</th>\n",
              "      <td>328.0</td>\n",
              "      <td>Безопасна ли вакцинация?\\nОпасна ли вакцинация...</td>\n",
              "      <td>Безопасна ли вакцинация?\\nОпасна ли вакцинация...</td>\n",
              "      <td>Безопасна ли вакцинация ? Опасна ли вакцинация...</td>\n",
              "      <td>безопасный ли вакцинация опасный ли вакцинация...</td>\n",
              "      <td>безопасный ли вакцинация опасный ли вакцинация...</td>\n",
              "      <td>безопасный ли вакцинация опасный ли вакцинация...</td>\n",
              "    </tr>\n",
              "  </tbody>\n",
              "</table>\n",
              "</div>"
            ],
            "text/plain": [
              "   Номер связки  ...                                            natasha\n",
              "0          57.0  ...  у ребёнок в школа продлить каникулы мочь ли я ...\n",
              "1          78.0  ...  где сделать вакцинация от коронавирус существо...\n",
              "2         326.0  ...  сколько стоить сделать вакцина от грипп можно ...\n",
              "3         327.0  ...  мочь я отказаться от вакцинация в какой случай...\n",
              "4         328.0  ...  безопасный ли вакцинация опасный ли вакцинация...\n",
              "\n",
              "[5 rows x 7 columns]"
            ]
          },
          "metadata": {
            "tags": []
          },
          "execution_count": 25
        }
      ]
    },
    {
      "cell_type": "code",
      "metadata": {
        "id": "rig57_AkWNFl",
        "outputId": "ac831c87-bf3f-4bf4-9e13-845365910971",
        "colab": {
          "base_uri": "https://localhost:8080/",
          "height": 188,
          "referenced_widgets": [
            "095987fbaea34d9a8f849a92739bda4c",
            "f060be60ec654bdfade6744e8871e10d",
            "5560a0d056724da19676c322ef2cf0d2",
            "df3155475eba48dfb07ba0bd3a0a0034",
            "822fa1961b0947babcb9ab01c844f3e5",
            "6a3329a051f74eaf91fc63af3f4dd20e",
            "5bba27e0eaa841afbae3513e670a0abf",
            "a452c6b3afae41ce87cf583bc7d1fc59"
          ]
        }
      },
      "source": [
        "lemm_text4 = preprocessing(tqdm(test['Текст вопросов']))\n",
        "test['вопросы_препроцессинговые'] = lemm_text4"
      ],
      "execution_count": null,
      "outputs": [
        {
          "output_type": "display_data",
          "data": {
            "application/vnd.jupyter.widget-view+json": {
              "model_id": "095987fbaea34d9a8f849a92739bda4c",
              "version_minor": 0,
              "version_major": 2
            },
            "text/plain": [
              "HBox(children=(FloatProgress(value=0.0, max=690.0), HTML(value='')))"
            ]
          },
          "metadata": {
            "tags": []
          }
        },
        {
          "output_type": "stream",
          "text": [
            "\n"
          ],
          "name": "stdout"
        },
        {
          "output_type": "stream",
          "text": [
            "/usr/local/lib/python3.6/dist-packages/ipykernel_launcher.py:2: SettingWithCopyWarning: \n",
            "A value is trying to be set on a copy of a slice from a DataFrame.\n",
            "Try using .loc[row_indexer,col_indexer] = value instead\n",
            "\n",
            "See the caveats in the documentation: https://pandas.pydata.org/pandas-docs/stable/user_guide/indexing.html#returning-a-view-versus-a-copy\n",
            "  \n"
          ],
          "name": "stderr"
        }
      ]
    },
    {
      "cell_type": "code",
      "metadata": {
        "id": "T79x36XTWQbv",
        "outputId": "2cf7efad-b9eb-440a-ffb6-cb3a8e0790e2",
        "colab": {
          "base_uri": "https://localhost:8080/",
          "height": 188,
          "referenced_widgets": [
            "e34b7cf497cf4ffbbb0d7a4bc64a2532",
            "a910dcd6234f46daa729d3444b85965e",
            "9d48b5a20ae94458af508d1526dce106",
            "552598c7e0d3423db84b90ae95d71962",
            "8e8634872a0f41c1aa1fa4f85ba66e2c",
            "31d420d9fbc6424882aecd146eb7fae5",
            "4ca04a0bb84443429c6bf732b58dafdc",
            "704744584e734549b211b8e99fd5e74f"
          ]
        }
      },
      "source": [
        "lemm_text5 = preprocessing(tqdm(test['preprocess_deepmipt']))\n",
        "test['deeppavlov'] = lemm_text5"
      ],
      "execution_count": null,
      "outputs": [
        {
          "output_type": "display_data",
          "data": {
            "application/vnd.jupyter.widget-view+json": {
              "model_id": "e34b7cf497cf4ffbbb0d7a4bc64a2532",
              "version_minor": 0,
              "version_major": 2
            },
            "text/plain": [
              "HBox(children=(FloatProgress(value=0.0, max=690.0), HTML(value='')))"
            ]
          },
          "metadata": {
            "tags": []
          }
        },
        {
          "output_type": "stream",
          "text": [
            "\n"
          ],
          "name": "stdout"
        },
        {
          "output_type": "stream",
          "text": [
            "/usr/local/lib/python3.6/dist-packages/ipykernel_launcher.py:2: SettingWithCopyWarning: \n",
            "A value is trying to be set on a copy of a slice from a DataFrame.\n",
            "Try using .loc[row_indexer,col_indexer] = value instead\n",
            "\n",
            "See the caveats in the documentation: https://pandas.pydata.org/pandas-docs/stable/user_guide/indexing.html#returning-a-view-versus-a-copy\n",
            "  \n"
          ],
          "name": "stderr"
        }
      ]
    },
    {
      "cell_type": "code",
      "metadata": {
        "id": "M7hlyuyWmIKf",
        "outputId": "3d6b3494-4e84-492f-9933-b29344ffc064",
        "colab": {
          "base_uri": "https://localhost:8080/",
          "height": 188,
          "referenced_widgets": [
            "0a0e31744c8743a7a69c3e2afcf2bea9",
            "733f13fd5ce84c5eb972fdb737930ebe",
            "705eee7700da4a00a1a950525e36b8ee",
            "97a9b78ee013442c8334fa09e8c75ac0",
            "d58c4ad9c88c46fbb172e9913631a780",
            "ef7c492ae3f74dcb9ad0aefe555da21a",
            "921d6a1a5bfe4bc08b2c02ded9dc4c5a",
            "44da8acfae82463db7dd6d75fbff852e"
          ]
        }
      },
      "source": [
        "lemm_text6 = preprocessing(tqdm(test['preprocess_natasha']))\n",
        "test['natasha'] = lemm_text6"
      ],
      "execution_count": null,
      "outputs": [
        {
          "output_type": "display_data",
          "data": {
            "application/vnd.jupyter.widget-view+json": {
              "model_id": "0a0e31744c8743a7a69c3e2afcf2bea9",
              "version_minor": 0,
              "version_major": 2
            },
            "text/plain": [
              "HBox(children=(FloatProgress(value=0.0, max=690.0), HTML(value='')))"
            ]
          },
          "metadata": {
            "tags": []
          }
        },
        {
          "output_type": "stream",
          "text": [
            "\n"
          ],
          "name": "stdout"
        },
        {
          "output_type": "stream",
          "text": [
            "/usr/local/lib/python3.6/dist-packages/ipykernel_launcher.py:2: SettingWithCopyWarning: \n",
            "A value is trying to be set on a copy of a slice from a DataFrame.\n",
            "Try using .loc[row_indexer,col_indexer] = value instead\n",
            "\n",
            "See the caveats in the documentation: https://pandas.pydata.org/pandas-docs/stable/user_guide/indexing.html#returning-a-view-versus-a-copy\n",
            "  \n"
          ],
          "name": "stderr"
        }
      ]
    },
    {
      "cell_type": "code",
      "metadata": {
        "id": "LynC4ZrbWVoE",
        "outputId": "fd6fe45e-ddcd-45f0-ed27-66a0e6c64d35",
        "colab": {
          "base_uri": "https://localhost:8080/",
          "height": 581
        }
      },
      "source": [
        "test.head()"
      ],
      "execution_count": null,
      "outputs": [
        {
          "output_type": "execute_result",
          "data": {
            "text/html": [
              "<div>\n",
              "<style scoped>\n",
              "    .dataframe tbody tr th:only-of-type {\n",
              "        vertical-align: middle;\n",
              "    }\n",
              "\n",
              "    .dataframe tbody tr th {\n",
              "        vertical-align: top;\n",
              "    }\n",
              "\n",
              "    .dataframe thead th {\n",
              "        text-align: right;\n",
              "    }\n",
              "</style>\n",
              "<table border=\"1\" class=\"dataframe\">\n",
              "  <thead>\n",
              "    <tr style=\"text-align: right;\">\n",
              "      <th></th>\n",
              "      <th>Номер связки</th>\n",
              "      <th>Текст вопросов</th>\n",
              "      <th>preprocess_natasha</th>\n",
              "      <th>preprocess_deepmipt</th>\n",
              "      <th>вопросы_препроцессинговые</th>\n",
              "      <th>deeppavlov</th>\n",
              "      <th>natasha</th>\n",
              "    </tr>\n",
              "  </thead>\n",
              "  <tbody>\n",
              "    <tr>\n",
              "      <th>1333</th>\n",
              "      <td>308.0</td>\n",
              "      <td>В сентябре, хочу поехать на личном транспорте ...</td>\n",
              "      <td>В сентябре, хочу поехать на личном транспорте ...</td>\n",
              "      <td>В сентябре , хочу поехать на личном транспорте...</td>\n",
              "      <td>в сентябрь хотеть поехать на личный транспорт ...</td>\n",
              "      <td>в сентябрь хотеть поехать на личный транспорт ...</td>\n",
              "      <td>в сентябрь хотеть поехать на личный транспорт ...</td>\n",
              "    </tr>\n",
              "    <tr>\n",
              "      <th>1986</th>\n",
              "      <td>308.0</td>\n",
              "      <td>ДОбрый день!\\n\\nя прилетел в воскресенье рано ...</td>\n",
              "      <td>ДОбрый день!\\n\\nя прилетел в воскресенье рано ...</td>\n",
              "      <td>ДОбрый день ! \\n \\n я прилетел в воскресенье р...</td>\n",
              "      <td>добрый день я прилететь в воскресение рано утр...</td>\n",
              "      <td>добрый день я прилететь в воскресение рано утр...</td>\n",
              "      <td>добрый день я прилететь в воскресение рано утр...</td>\n",
              "    </tr>\n",
              "    <tr>\n",
              "      <th>2282</th>\n",
              "      <td>37.0</td>\n",
              "      <td>Добрый день! Нужна ли справка об отсутствии Ко...</td>\n",
              "      <td>Добрый день! Нужна ли справка об отсутствии  п...</td>\n",
              "      <td>Добрый день ! Нужна ли справка об отсутствии п...</td>\n",
              "      <td>добрый день нужный ли справка о отсутствие ков...</td>\n",
              "      <td>добрый день нужный ли справка о отсутствие при...</td>\n",
              "      <td>добрый день нужный ли справка о отсутствие при...</td>\n",
              "    </tr>\n",
              "    <tr>\n",
              "      <th>810</th>\n",
              "      <td>5.0</td>\n",
              "      <td>Здравствуйте. Я работаю врачем в поликлинике. ...</td>\n",
              "      <td>Здравствуйте. Я работаю врачем в поликлинике. ...</td>\n",
              "      <td>Здравствуйте . Я работаю врачем в поликлинике ...</td>\n",
              "      <td>здравствуйте я работать вракать в поликлиника ...</td>\n",
              "      <td>здравствуйте я работать вракать в поликлиника ...</td>\n",
              "      <td>здравствуйте я работать вракать в поликлиника ...</td>\n",
              "    </tr>\n",
              "    <tr>\n",
              "      <th>2147</th>\n",
              "      <td>1.0</td>\n",
              "      <td>\\nЗдравствуйте!\\nСкажите, пожалуйста, граждани...</td>\n",
              "      <td>\\nЗдравствуйте!\\nСкажите, пожалуйста, граждани...</td>\n",
              "      <td>Здравствуйте ! Скажите , пожалуйста , граждани...</td>\n",
              "      <td>здравствуйте сказать пожалуйста гражданин само...</td>\n",
              "      <td>здравствуйте сказать пожалуйста гражданин само...</td>\n",
              "      <td>здравствуйте сказать пожалуйста гражданин само...</td>\n",
              "    </tr>\n",
              "  </tbody>\n",
              "</table>\n",
              "</div>"
            ],
            "text/plain": [
              "      Номер связки  ...                                            natasha\n",
              "1333         308.0  ...  в сентябрь хотеть поехать на личный транспорт ...\n",
              "1986         308.0  ...  добрый день я прилететь в воскресение рано утр...\n",
              "2282          37.0  ...  добрый день нужный ли справка о отсутствие при...\n",
              "810            5.0  ...  здравствуйте я работать вракать в поликлиника ...\n",
              "2147           1.0  ...  здравствуйте сказать пожалуйста гражданин само...\n",
              "\n",
              "[5 rows x 7 columns]"
            ]
          },
          "metadata": {
            "tags": []
          },
          "execution_count": 29
        }
      ]
    },
    {
      "cell_type": "markdown",
      "metadata": {
        "id": "RmyTuxQ5dBGr"
      },
      "source": [
        "#### Матрицы"
      ]
    },
    {
      "cell_type": "code",
      "metadata": {
        "id": "iXe7EZvub3uG"
      },
      "source": [
        "def normalize_vec(v):\n",
        "     return v / np.sqrt(np.sum(v ** 2))"
      ],
      "execution_count": null,
      "outputs": []
    },
    {
      "cell_type": "code",
      "metadata": {
        "id": "QyZhKKeXWZMG"
      },
      "source": [
        "def create_doc_matrix(text):\n",
        "    lemmas = text.split()\n",
        "    lemmas_vectors = np.zeros((len(lemmas), model.vector_size))\n",
        "    vec = np.zeros((model.vector_size,))\n",
        "\n",
        "    for idx, lemma in enumerate(lemmas):\n",
        "        if lemma in model.wv:\n",
        "            lemmas_vectors[idx] = normalize_vec(model.wv[lemma])\n",
        "            \n",
        "    return lemmas_vectors "
      ],
      "execution_count": null,
      "outputs": []
    },
    {
      "cell_type": "markdown",
      "metadata": {
        "id": "ALju87ErdMrq"
      },
      "source": [
        "##### Препроцессинг без NER"
      ]
    },
    {
      "cell_type": "code",
      "metadata": {
        "id": "FPc58hAAb57t",
        "outputId": "5c468eab-3055-4b96-8952-19ca14da9841",
        "colab": {
          "base_uri": "https://localhost:8080/",
          "height": 154,
          "referenced_widgets": [
            "8749b9980cb34899b8f3ec4661bd85fa",
            "547ef1c7849048d385bfe426abd9c3ff",
            "9edceaa1f8bf4f29af362700b62969ff",
            "8789886f0c7140a8b639e9fc833f2b72",
            "e9407066dbd0436ca544d8f5ede59447",
            "04321f8318e940469c3f8736844a2a3b",
            "47fa1954a7f542abbb0bd0ab54c19348",
            "93da7c0817094004b6ebdd63939a34f2"
          ]
        }
      },
      "source": [
        "vec_train = []\n",
        "for index, row in tqdm(train.iterrows()):\n",
        "    text1 = create_doc_matrix(row['вопросы_препроцессинговые'])\n",
        "    vec_train.append(text1)"
      ],
      "execution_count": null,
      "outputs": [
        {
          "output_type": "display_data",
          "data": {
            "application/vnd.jupyter.widget-view+json": {
              "model_id": "8749b9980cb34899b8f3ec4661bd85fa",
              "version_minor": 0,
              "version_major": 2
            },
            "text/plain": [
              "HBox(children=(FloatProgress(value=1.0, bar_style='info', max=1.0), HTML(value='')))"
            ]
          },
          "metadata": {
            "tags": []
          }
        },
        {
          "output_type": "stream",
          "text": [
            "/usr/local/lib/python3.6/dist-packages/ipykernel_launcher.py:7: DeprecationWarning: Call to deprecated `wv` (Attribute will be removed in 4.0.0, use self instead).\n",
            "  import sys\n",
            "/usr/local/lib/python3.6/dist-packages/ipykernel_launcher.py:8: DeprecationWarning: Call to deprecated `wv` (Attribute will be removed in 4.0.0, use self instead).\n",
            "  \n"
          ],
          "name": "stderr"
        },
        {
          "output_type": "stream",
          "text": [
            "\n"
          ],
          "name": "stdout"
        }
      ]
    },
    {
      "cell_type": "code",
      "metadata": {
        "id": "nvzkjtnWdvxQ"
      },
      "source": [
        "def search(docs, query_m, reduce_func=np.max, axis=0):\n",
        "    sims = []\n",
        "    query = create_doc_matrix(query_m)\n",
        "    for doc in docs:\n",
        "        sim = doc.dot(query.T)\n",
        "        sim = reduce_func(sim, axis=axis)\n",
        "        sims.append(sim.sum())\n",
        "    return sims"
      ],
      "execution_count": null,
      "outputs": []
    },
    {
      "cell_type": "code",
      "metadata": {
        "id": "0A6yhT0mfHXV"
      },
      "source": [
        "n_conn = train['Номер связки'].tolist()"
      ],
      "execution_count": null,
      "outputs": []
    },
    {
      "cell_type": "code",
      "metadata": {
        "id": "WY2G1KucfE3l"
      },
      "source": [
        "import operator"
      ],
      "execution_count": null,
      "outputs": []
    },
    {
      "cell_type": "code",
      "metadata": {
        "id": "gUQyoQzLeP-a"
      },
      "source": [
        "def ranging_simple(text):\n",
        "    cnt = np.argmax(text)\n",
        "    return n_conn[cnt]"
      ],
      "execution_count": null,
      "outputs": []
    },
    {
      "cell_type": "code",
      "metadata": {
        "id": "dD3KnPaSfMNW",
        "outputId": "155312f7-4107-49c2-8de5-724142121a08",
        "colab": {
          "base_uri": "https://localhost:8080/",
          "height": 154,
          "referenced_widgets": [
            "83a59d0c3ddb4053b93034fffb557ba4",
            "76e1f8311425480fac008a54313936e7",
            "a48b74ceef364b15bf8054dc8b035ab8",
            "bd7993536b5a481481dffc5fe9b7fa18",
            "e248e4aa21874ad1a4f4b25cbf7aa6d7",
            "92246db29f4844e5b8a3b63702c44b80",
            "75c76734b126488581dd83801a8f2ea1",
            "6ee6ec6667bd4d78b89cca8dbfa8b666"
          ]
        }
      },
      "source": [
        "for_no_prep = []\n",
        "for index, row in tqdm(test.iterrows()):\n",
        "    fin = search(vec_train, row['вопросы_препроцессинговые'])\n",
        "    for_no_prep.append(ranging_simple(fin))"
      ],
      "execution_count": null,
      "outputs": [
        {
          "output_type": "display_data",
          "data": {
            "application/vnd.jupyter.widget-view+json": {
              "model_id": "83a59d0c3ddb4053b93034fffb557ba4",
              "version_minor": 0,
              "version_major": 2
            },
            "text/plain": [
              "HBox(children=(FloatProgress(value=1.0, bar_style='info', max=1.0), HTML(value='')))"
            ]
          },
          "metadata": {
            "tags": []
          }
        },
        {
          "output_type": "stream",
          "text": [
            "/usr/local/lib/python3.6/dist-packages/ipykernel_launcher.py:7: DeprecationWarning: Call to deprecated `wv` (Attribute will be removed in 4.0.0, use self instead).\n",
            "  import sys\n",
            "/usr/local/lib/python3.6/dist-packages/ipykernel_launcher.py:8: DeprecationWarning: Call to deprecated `wv` (Attribute will be removed in 4.0.0, use self instead).\n",
            "  \n"
          ],
          "name": "stderr"
        },
        {
          "output_type": "stream",
          "text": [
            "\n"
          ],
          "name": "stdout"
        }
      ]
    },
    {
      "cell_type": "code",
      "metadata": {
        "id": "N0f39-j6gLEm",
        "outputId": "d362d795-8f5b-4db4-90ca-e0f706c6b4b2",
        "colab": {
          "base_uri": "https://localhost:8080/",
          "height": 139
        }
      },
      "source": [
        "test['no_prep_res'] = for_no_prep"
      ],
      "execution_count": null,
      "outputs": [
        {
          "output_type": "stream",
          "text": [
            "/usr/local/lib/python3.6/dist-packages/ipykernel_launcher.py:1: SettingWithCopyWarning: \n",
            "A value is trying to be set on a copy of a slice from a DataFrame.\n",
            "Try using .loc[row_indexer,col_indexer] = value instead\n",
            "\n",
            "See the caveats in the documentation: https://pandas.pydata.org/pandas-docs/stable/user_guide/indexing.html#returning-a-view-versus-a-copy\n",
            "  \"\"\"Entry point for launching an IPython kernel.\n"
          ],
          "name": "stderr"
        }
      ]
    },
    {
      "cell_type": "code",
      "metadata": {
        "id": "zwhUmDw8glS1",
        "outputId": "be2769f6-f769-4f97-e533-3c6cf97f785e",
        "colab": {
          "base_uri": "https://localhost:8080/",
          "height": 496
        }
      },
      "source": [
        "test.tail()"
      ],
      "execution_count": null,
      "outputs": [
        {
          "output_type": "execute_result",
          "data": {
            "text/html": [
              "<div>\n",
              "<style scoped>\n",
              "    .dataframe tbody tr th:only-of-type {\n",
              "        vertical-align: middle;\n",
              "    }\n",
              "\n",
              "    .dataframe tbody tr th {\n",
              "        vertical-align: top;\n",
              "    }\n",
              "\n",
              "    .dataframe thead th {\n",
              "        text-align: right;\n",
              "    }\n",
              "</style>\n",
              "<table border=\"1\" class=\"dataframe\">\n",
              "  <thead>\n",
              "    <tr style=\"text-align: right;\">\n",
              "      <th></th>\n",
              "      <th>Номер связки</th>\n",
              "      <th>Текст вопросов</th>\n",
              "      <th>preprocess_natasha</th>\n",
              "      <th>preprocess_deepmipt</th>\n",
              "      <th>вопросы_препроцессинговые</th>\n",
              "      <th>deeppavlov</th>\n",
              "      <th>natasha</th>\n",
              "      <th>no_prep_res</th>\n",
              "    </tr>\n",
              "  </thead>\n",
              "  <tbody>\n",
              "    <tr>\n",
              "      <th>479</th>\n",
              "      <td>57.0</td>\n",
              "      <td>Здравствуйте! Я работаю в больнице, нас закрыв...</td>\n",
              "      <td>Здравствуйте! Я работаю в больнице, нас закрыв...</td>\n",
              "      <td>Здравствуйте ! Я работаю в больнице , нас закр...</td>\n",
              "      <td>здравствуйте я работать в больница мы закрыват...</td>\n",
              "      <td>здравствуйте я работать в больница мы закрыват...</td>\n",
              "      <td>здравствуйте я работать в больница мы закрыват...</td>\n",
              "      <td>308.0</td>\n",
              "    </tr>\n",
              "    <tr>\n",
              "      <th>1545</th>\n",
              "      <td>257.0</td>\n",
              "      <td>Добрый день, с 07.08.2020 года почувствовал не...</td>\n",
              "      <td>Добрый день, с 07.08.2020 года почувствовал не...</td>\n",
              "      <td>Добрый день , с 07 . 08 . 2020 года почувствов...</td>\n",
              "      <td>добрый день с 07082020 год почувствовать недом...</td>\n",
              "      <td>добрый день с 07 08 2020 год почувствовать нед...</td>\n",
              "      <td>добрый день с 07082020 год почувствовать недом...</td>\n",
              "      <td>308.0</td>\n",
              "    </tr>\n",
              "    <tr>\n",
              "      <th>1473</th>\n",
              "      <td>308.0</td>\n",
              "      <td>Добрый день! \\nСкажите пожалуйста, может ли пр...</td>\n",
              "      <td>Добрый день! \\nСкажите пожалуйста, может ли пр...</td>\n",
              "      <td>Добрый день ! Скажите пожалуйста , может ли пр...</td>\n",
              "      <td>добрый день сказать пожалуйста мочь ли прилете...</td>\n",
              "      <td>добрый день сказать пожалуйста мочь ли прилете...</td>\n",
              "      <td>добрый день сказать пожалуйста мочь ли прилете...</td>\n",
              "      <td>308.0</td>\n",
              "    </tr>\n",
              "    <tr>\n",
              "      <th>278</th>\n",
              "      <td>12.0</td>\n",
              "      <td>Добрый день!        \\n        \\nВыдано постано...</td>\n",
              "      <td>Добрый день!        \\n        \\nВыдано постано...</td>\n",
              "      <td>Добрый день ! \\n \\n Выдано постановление на 14...</td>\n",
              "      <td>добрый день выдать постановление на 14 день як...</td>\n",
              "      <td>добрый день выдать постановление на 14 день як...</td>\n",
              "      <td>добрый день выдать постановление на 14 день як...</td>\n",
              "      <td>308.0</td>\n",
              "    </tr>\n",
              "    <tr>\n",
              "      <th>1348</th>\n",
              "      <td>326.0</td>\n",
              "      <td>Как сделать прививку от гриппа?\\n</td>\n",
              "      <td>Как сделать прививку от гриппа?\\n</td>\n",
              "      <td>Как сделать прививку от гриппа ?</td>\n",
              "      <td>как сделать прививка от грипп</td>\n",
              "      <td>как сделать прививка от грипп</td>\n",
              "      <td>как сделать прививка от грипп</td>\n",
              "      <td>327.0</td>\n",
              "    </tr>\n",
              "  </tbody>\n",
              "</table>\n",
              "</div>"
            ],
            "text/plain": [
              "      Номер связки  ... no_prep_res\n",
              "479           57.0  ...       308.0\n",
              "1545         257.0  ...       308.0\n",
              "1473         308.0  ...       308.0\n",
              "278           12.0  ...       308.0\n",
              "1348         326.0  ...       327.0\n",
              "\n",
              "[5 rows x 8 columns]"
            ]
          },
          "metadata": {
            "tags": []
          },
          "execution_count": 40
        }
      ]
    },
    {
      "cell_type": "markdown",
      "metadata": {
        "id": "n-QTenVFgT3J"
      },
      "source": [
        "###### Оценивание качества"
      ]
    },
    {
      "cell_type": "code",
      "metadata": {
        "id": "_F_HIl7ggTT8"
      },
      "source": [
        "from sklearn.metrics import accuracy_score"
      ],
      "execution_count": null,
      "outputs": []
    },
    {
      "cell_type": "code",
      "metadata": {
        "id": "R1lC6oAugYoB",
        "outputId": "4bd6c76f-2926-4c2c-dcd2-d39d6c9c5987",
        "colab": {
          "base_uri": "https://localhost:8080/",
          "height": 34
        }
      },
      "source": [
        "accuracy_score(test['Номер связки'], test['no_prep_res'])"
      ],
      "execution_count": null,
      "outputs": [
        {
          "output_type": "execute_result",
          "data": {
            "text/plain": [
              "0.47246376811594204"
            ]
          },
          "metadata": {
            "tags": []
          },
          "execution_count": 42
        }
      ]
    },
    {
      "cell_type": "markdown",
      "metadata": {
        "id": "q1khGF5tdSWU"
      },
      "source": [
        "##### Препроцессинг c NER"
      ]
    },
    {
      "cell_type": "code",
      "metadata": {
        "id": "2eFBdQ25jvAN",
        "outputId": "4e9d3bd8-f7d1-48ca-ee9d-7f25598e4c3e",
        "colab": {
          "base_uri": "https://localhost:8080/",
          "height": 154,
          "referenced_widgets": [
            "b1d8e25f0da14ec69a8f3f5af1a2dafe",
            "39221f17f517443e822a5e3398bb0fad",
            "f289b177c50140c0a7f12a71481643c3",
            "67f57d8f693f4b299db8783f16be9921",
            "063e6fe0288f4869979db1421f801173",
            "9bf89ba345e24e01b6b7a450e979e6f4",
            "0dbdd2cac2b84e9aa6dcd1bba6060994",
            "bb748154552947099dc07e3e6a8dfc0c"
          ]
        }
      },
      "source": [
        "vec_train_ner = []\n",
        "for index, row in tqdm(train.iterrows()):\n",
        "    text2 = create_doc_matrix(row['natasha'])\n",
        "    vec_train_ner.append(text2)"
      ],
      "execution_count": null,
      "outputs": [
        {
          "output_type": "display_data",
          "data": {
            "application/vnd.jupyter.widget-view+json": {
              "model_id": "b1d8e25f0da14ec69a8f3f5af1a2dafe",
              "version_minor": 0,
              "version_major": 2
            },
            "text/plain": [
              "HBox(children=(FloatProgress(value=1.0, bar_style='info', max=1.0), HTML(value='')))"
            ]
          },
          "metadata": {
            "tags": []
          }
        },
        {
          "output_type": "stream",
          "text": [
            "/usr/local/lib/python3.6/dist-packages/ipykernel_launcher.py:7: DeprecationWarning: Call to deprecated `wv` (Attribute will be removed in 4.0.0, use self instead).\n",
            "  import sys\n",
            "/usr/local/lib/python3.6/dist-packages/ipykernel_launcher.py:8: DeprecationWarning: Call to deprecated `wv` (Attribute will be removed in 4.0.0, use self instead).\n",
            "  \n"
          ],
          "name": "stderr"
        },
        {
          "output_type": "stream",
          "text": [
            "\n"
          ],
          "name": "stdout"
        }
      ]
    },
    {
      "cell_type": "code",
      "metadata": {
        "id": "t46Xn8QLj5OM",
        "outputId": "0e003957-07d6-4d31-9a12-aaa0d440eb60",
        "colab": {
          "base_uri": "https://localhost:8080/",
          "height": 154,
          "referenced_widgets": [
            "4bc237a78d5d4fb8adc1ce7d0e22d339",
            "0d9ea20f9da24565baa97703533335d5",
            "112ccb6b089d4637afe64f5fae3c69f3",
            "01ac21a75dce496f9ffeff5e3f109400",
            "ff3d96664e624f0ca32e8acc6242f0d6",
            "327cc6bba82a475a806e6527f4b6efff",
            "e525bdb6f5c34b29a5a3bc76182d63f1",
            "ff69efdaddfb4e2b800a063d4720803b"
          ]
        }
      },
      "source": [
        "for_ner = []\n",
        "for index, row in tqdm(test.iterrows()):\n",
        "    fin = search(vec_train_ner, row['natasha'])\n",
        "    for_ner.append(ranging_simple(fin))"
      ],
      "execution_count": null,
      "outputs": [
        {
          "output_type": "display_data",
          "data": {
            "application/vnd.jupyter.widget-view+json": {
              "model_id": "4bc237a78d5d4fb8adc1ce7d0e22d339",
              "version_minor": 0,
              "version_major": 2
            },
            "text/plain": [
              "HBox(children=(FloatProgress(value=1.0, bar_style='info', max=1.0), HTML(value='')))"
            ]
          },
          "metadata": {
            "tags": []
          }
        },
        {
          "output_type": "stream",
          "text": [
            "/usr/local/lib/python3.6/dist-packages/ipykernel_launcher.py:7: DeprecationWarning: Call to deprecated `wv` (Attribute will be removed in 4.0.0, use self instead).\n",
            "  import sys\n",
            "/usr/local/lib/python3.6/dist-packages/ipykernel_launcher.py:8: DeprecationWarning: Call to deprecated `wv` (Attribute will be removed in 4.0.0, use self instead).\n",
            "  \n"
          ],
          "name": "stderr"
        },
        {
          "output_type": "stream",
          "text": [
            "\n"
          ],
          "name": "stdout"
        }
      ]
    },
    {
      "cell_type": "code",
      "metadata": {
        "id": "3ZIT0OaDgekz",
        "outputId": "2af41e0c-e6a9-46d3-dbb1-91b790519d70",
        "colab": {
          "base_uri": "https://localhost:8080/",
          "height": 139
        }
      },
      "source": [
        "test['ner_res'] = for_ner"
      ],
      "execution_count": null,
      "outputs": [
        {
          "output_type": "stream",
          "text": [
            "/usr/local/lib/python3.6/dist-packages/ipykernel_launcher.py:1: SettingWithCopyWarning: \n",
            "A value is trying to be set on a copy of a slice from a DataFrame.\n",
            "Try using .loc[row_indexer,col_indexer] = value instead\n",
            "\n",
            "See the caveats in the documentation: https://pandas.pydata.org/pandas-docs/stable/user_guide/indexing.html#returning-a-view-versus-a-copy\n",
            "  \"\"\"Entry point for launching an IPython kernel.\n"
          ],
          "name": "stderr"
        }
      ]
    },
    {
      "cell_type": "code",
      "metadata": {
        "id": "R2mTUeA9lTKL",
        "outputId": "8c77081d-e993-4fb9-93f9-c937cffb63b4",
        "colab": {
          "base_uri": "https://localhost:8080/",
          "height": 581
        }
      },
      "source": [
        "test.head()"
      ],
      "execution_count": null,
      "outputs": [
        {
          "output_type": "execute_result",
          "data": {
            "text/html": [
              "<div>\n",
              "<style scoped>\n",
              "    .dataframe tbody tr th:only-of-type {\n",
              "        vertical-align: middle;\n",
              "    }\n",
              "\n",
              "    .dataframe tbody tr th {\n",
              "        vertical-align: top;\n",
              "    }\n",
              "\n",
              "    .dataframe thead th {\n",
              "        text-align: right;\n",
              "    }\n",
              "</style>\n",
              "<table border=\"1\" class=\"dataframe\">\n",
              "  <thead>\n",
              "    <tr style=\"text-align: right;\">\n",
              "      <th></th>\n",
              "      <th>Номер связки</th>\n",
              "      <th>Текст вопросов</th>\n",
              "      <th>preprocess_natasha</th>\n",
              "      <th>preprocess_deepmipt</th>\n",
              "      <th>вопросы_препроцессинговые</th>\n",
              "      <th>deeppavlov</th>\n",
              "      <th>natasha</th>\n",
              "      <th>no_prep_res</th>\n",
              "      <th>ner_res</th>\n",
              "    </tr>\n",
              "  </thead>\n",
              "  <tbody>\n",
              "    <tr>\n",
              "      <th>1333</th>\n",
              "      <td>308.0</td>\n",
              "      <td>В сентябре, хочу поехать на личном транспорте ...</td>\n",
              "      <td>В сентябре, хочу поехать на личном транспорте ...</td>\n",
              "      <td>В сентябре , хочу поехать на личном транспорте...</td>\n",
              "      <td>в сентябрь хотеть поехать на личный транспорт ...</td>\n",
              "      <td>в сентябрь хотеть поехать на личный транспорт ...</td>\n",
              "      <td>в сентябрь хотеть поехать на личный транспорт ...</td>\n",
              "      <td>308.0</td>\n",
              "      <td>308.0</td>\n",
              "    </tr>\n",
              "    <tr>\n",
              "      <th>1986</th>\n",
              "      <td>308.0</td>\n",
              "      <td>ДОбрый день!\\n\\nя прилетел в воскресенье рано ...</td>\n",
              "      <td>ДОбрый день!\\n\\nя прилетел в воскресенье рано ...</td>\n",
              "      <td>ДОбрый день ! \\n \\n я прилетел в воскресенье р...</td>\n",
              "      <td>добрый день я прилететь в воскресение рано утр...</td>\n",
              "      <td>добрый день я прилететь в воскресение рано утр...</td>\n",
              "      <td>добрый день я прилететь в воскресение рано утр...</td>\n",
              "      <td>308.0</td>\n",
              "      <td>308.0</td>\n",
              "    </tr>\n",
              "    <tr>\n",
              "      <th>2282</th>\n",
              "      <td>37.0</td>\n",
              "      <td>Добрый день! Нужна ли справка об отсутствии Ко...</td>\n",
              "      <td>Добрый день! Нужна ли справка об отсутствии  п...</td>\n",
              "      <td>Добрый день ! Нужна ли справка об отсутствии п...</td>\n",
              "      <td>добрый день нужный ли справка о отсутствие ков...</td>\n",
              "      <td>добрый день нужный ли справка о отсутствие при...</td>\n",
              "      <td>добрый день нужный ли справка о отсутствие при...</td>\n",
              "      <td>308.0</td>\n",
              "      <td>308.0</td>\n",
              "    </tr>\n",
              "    <tr>\n",
              "      <th>810</th>\n",
              "      <td>5.0</td>\n",
              "      <td>Здравствуйте. Я работаю врачем в поликлинике. ...</td>\n",
              "      <td>Здравствуйте. Я работаю врачем в поликлинике. ...</td>\n",
              "      <td>Здравствуйте . Я работаю врачем в поликлинике ...</td>\n",
              "      <td>здравствуйте я работать вракать в поликлиника ...</td>\n",
              "      <td>здравствуйте я работать вракать в поликлиника ...</td>\n",
              "      <td>здравствуйте я работать вракать в поликлиника ...</td>\n",
              "      <td>308.0</td>\n",
              "      <td>12.0</td>\n",
              "    </tr>\n",
              "    <tr>\n",
              "      <th>2147</th>\n",
              "      <td>1.0</td>\n",
              "      <td>\\nЗдравствуйте!\\nСкажите, пожалуйста, граждани...</td>\n",
              "      <td>\\nЗдравствуйте!\\nСкажите, пожалуйста, граждани...</td>\n",
              "      <td>Здравствуйте ! Скажите , пожалуйста , граждани...</td>\n",
              "      <td>здравствуйте сказать пожалуйста гражданин само...</td>\n",
              "      <td>здравствуйте сказать пожалуйста гражданин само...</td>\n",
              "      <td>здравствуйте сказать пожалуйста гражданин само...</td>\n",
              "      <td>308.0</td>\n",
              "      <td>308.0</td>\n",
              "    </tr>\n",
              "  </tbody>\n",
              "</table>\n",
              "</div>"
            ],
            "text/plain": [
              "      Номер связки  ... ner_res\n",
              "1333         308.0  ...   308.0\n",
              "1986         308.0  ...   308.0\n",
              "2282          37.0  ...   308.0\n",
              "810            5.0  ...    12.0\n",
              "2147           1.0  ...   308.0\n",
              "\n",
              "[5 rows x 9 columns]"
            ]
          },
          "metadata": {
            "tags": []
          },
          "execution_count": 46
        }
      ]
    },
    {
      "cell_type": "markdown",
      "metadata": {
        "id": "u6qWXcFpggGQ"
      },
      "source": [
        "###### Оценивание качества"
      ]
    },
    {
      "cell_type": "code",
      "metadata": {
        "id": "HD5WPJuFgdQb",
        "outputId": "f2b58efe-da3d-46c3-ccc4-b0e1b1f256d8",
        "colab": {
          "base_uri": "https://localhost:8080/",
          "height": 34
        }
      },
      "source": [
        "accuracy_score(test['Номер связки'], test['ner_res'])"
      ],
      "execution_count": null,
      "outputs": [
        {
          "output_type": "execute_result",
          "data": {
            "text/plain": [
              "0.46956521739130436"
            ]
          },
          "metadata": {
            "tags": []
          },
          "execution_count": 47
        }
      ]
    },
    {
      "cell_type": "markdown",
      "metadata": {
        "id": "yWTYpJFNnnYK"
      },
      "source": [
        "#### Вектора"
      ]
    },
    {
      "cell_type": "markdown",
      "metadata": {
        "id": "Og-ctrzCnvIF"
      },
      "source": [
        "##### Препроцессинг без NER"
      ]
    },
    {
      "cell_type": "code",
      "metadata": {
        "id": "TEZfYx8enyZT"
      },
      "source": [
        "def doc_vector(text):\n",
        "\n",
        "    # сделали препроцессинг, получили леммы \n",
        "    lemmas = text.split()\n",
        "\n",
        "    # создаем вектор-маску\n",
        "    lemmas_vectors = np.zeros((len(lemmas), model.vector_size))\n",
        "\n",
        "    vec = np.zeros((model.vector_size,))\n",
        "\n",
        "    # если слово есть в модели, берем его вектор\n",
        "    for idx, lemma in enumerate(lemmas):\n",
        "        if lemma in model:\n",
        "            lemmas_vectors[idx] = model[lemma]\n",
        "            \n",
        "    # проверка на случай, если на вход пришел пустой массив\n",
        "    if lemmas_vectors.shape[0] is not 0:\n",
        "        vec = np.mean(lemmas_vectors, axis=0)\n",
        "\n",
        "    return vec"
      ],
      "execution_count": null,
      "outputs": []
    },
    {
      "cell_type": "code",
      "metadata": {
        "id": "jjUKJhy15FkI",
        "outputId": "34f32a4c-0778-485a-8d57-0c18766d5b33",
        "colab": {
          "base_uri": "https://localhost:8080/",
          "height": 66,
          "referenced_widgets": [
            "4812e29ce83f4207844f45d43de0f8c6",
            "947cd43d88af44138710d31c657694f2",
            "143c0063bff2440894eee2ddbf031ec4",
            "0a421a801a3f4fb69965620613ff6ff6",
            "9bc92d56d90d4a5bab4f7ace6fc8bce2",
            "45fab775dd0c4f7e95c7c9cadcb8072c",
            "ab93ce784fa9491aad49ce1e5ad4d536",
            "27c2539e33fb411dac63d87ac450b77c"
          ]
        }
      },
      "source": [
        "for_wth_pr = []\n",
        "\n",
        "for index, row in tqdm(train.iterrows()):\n",
        "    fin = doc_vector(row['вопросы_препроцессинговые'])\n",
        "    for_wth_pr.append(fin)"
      ],
      "execution_count": null,
      "outputs": [
        {
          "output_type": "display_data",
          "data": {
            "application/vnd.jupyter.widget-view+json": {
              "model_id": "4812e29ce83f4207844f45d43de0f8c6",
              "version_minor": 0,
              "version_major": 2
            },
            "text/plain": [
              "HBox(children=(FloatProgress(value=1.0, bar_style='info', max=1.0), HTML(value='')))"
            ]
          },
          "metadata": {
            "tags": []
          }
        },
        {
          "output_type": "stream",
          "text": [
            "\n"
          ],
          "name": "stdout"
        }
      ]
    },
    {
      "cell_type": "code",
      "metadata": {
        "id": "TaWmjPwvKn8E"
      },
      "source": [
        "matr = np.array(for_wth_pr)"
      ],
      "execution_count": null,
      "outputs": []
    },
    {
      "cell_type": "code",
      "metadata": {
        "id": "s1UWLaXrKrec",
        "outputId": "c7605a1b-215f-4c0a-f5a9-f74293dc66ba",
        "colab": {
          "base_uri": "https://localhost:8080/",
          "height": 238
        }
      },
      "source": [
        "matr"
      ],
      "execution_count": null,
      "outputs": [
        {
          "output_type": "execute_result",
          "data": {
            "text/plain": [
              "array([[ 2.23672804e-03, -2.17186045e-03, -3.41002626e-03, ...,\n",
              "        -1.45199773e-02, -1.64375294e-02,  8.40735414e-03],\n",
              "       [ 1.63319891e-02,  2.02807782e-03, -1.78900048e-02, ...,\n",
              "        -5.28378613e-03, -1.68341290e-02,  1.50303873e-02],\n",
              "       [-6.57991433e-03,  1.05927216e-03, -4.98276202e-02, ...,\n",
              "        -2.78183716e-03, -1.70985675e-02,  8.21309801e-04],\n",
              "       ...,\n",
              "       [-6.39109254e-05, -2.14970064e-03, -7.54865662e-03, ...,\n",
              "        -1.84923101e-02, -4.94445486e-03,  3.18986492e-03],\n",
              "       [ 1.87827135e-03,  1.46083817e-02, -1.29370776e-02, ...,\n",
              "        -8.87880108e-03, -2.20178599e-02, -2.45389090e-02],\n",
              "       [-4.06607019e-03,  9.61641722e-03, -1.24281991e-02, ...,\n",
              "        -4.75241503e-03, -4.51762839e-03,  1.45307012e-02]])"
            ]
          },
          "metadata": {
            "tags": []
          },
          "execution_count": 51
        }
      ]
    },
    {
      "cell_type": "code",
      "metadata": {
        "id": "DFjsLCYGKa_c"
      },
      "source": [
        "def sim_vectors(matr, query):\n",
        "  doc = doc_vector(query)\n",
        "  sim = matr.dot(doc.T)\n",
        "  return sim"
      ],
      "execution_count": null,
      "outputs": []
    },
    {
      "cell_type": "code",
      "metadata": {
        "id": "xxEnaJliKDwv",
        "outputId": "2823f47a-1b7d-4569-ff7a-a81621abea62",
        "colab": {
          "base_uri": "https://localhost:8080/",
          "height": 66,
          "referenced_widgets": [
            "daea81131146467db757664c11c3d050",
            "58387768c06c4fe7a8ae14b4c23b38c7",
            "621c27363b124df3b3e6785c4a44dbae",
            "6ec1e9d79d724c7187e682927596876d",
            "2dab4441f95a408781e804bebc6eadc9",
            "8b517c9bab9941ff84833248a367f33e",
            "ca816aa3d8ce462998706e0fd9403e61",
            "d291f8e7670b4ccf9d4830f284147ff8"
          ]
        }
      },
      "source": [
        "for_pre_test = []\n",
        "for index, row in tqdm(test.iterrows()):\n",
        "    fin = sim_vectors(matr, row['вопросы_препроцессинговые'])\n",
        "    for_pre_test.append(ranging_simple(fin))"
      ],
      "execution_count": null,
      "outputs": [
        {
          "output_type": "display_data",
          "data": {
            "application/vnd.jupyter.widget-view+json": {
              "model_id": "daea81131146467db757664c11c3d050",
              "version_minor": 0,
              "version_major": 2
            },
            "text/plain": [
              "HBox(children=(FloatProgress(value=1.0, bar_style='info', max=1.0), HTML(value='')))"
            ]
          },
          "metadata": {
            "tags": []
          }
        },
        {
          "output_type": "stream",
          "text": [
            "\n"
          ],
          "name": "stdout"
        }
      ]
    },
    {
      "cell_type": "code",
      "metadata": {
        "id": "vy0IZ5rKM3Ep",
        "outputId": "cf26c849-f508-4053-c899-6783291e4852",
        "colab": {
          "base_uri": "https://localhost:8080/",
          "height": 139
        }
      },
      "source": [
        "test['vec_sim_no_prep'] = for_pre_test"
      ],
      "execution_count": null,
      "outputs": [
        {
          "output_type": "stream",
          "text": [
            "/usr/local/lib/python3.6/dist-packages/ipykernel_launcher.py:1: SettingWithCopyWarning: \n",
            "A value is trying to be set on a copy of a slice from a DataFrame.\n",
            "Try using .loc[row_indexer,col_indexer] = value instead\n",
            "\n",
            "See the caveats in the documentation: https://pandas.pydata.org/pandas-docs/stable/user_guide/indexing.html#returning-a-view-versus-a-copy\n",
            "  \"\"\"Entry point for launching an IPython kernel.\n"
          ],
          "name": "stderr"
        }
      ]
    },
    {
      "cell_type": "code",
      "metadata": {
        "id": "EhvkJwDrNBMv",
        "outputId": "15526837-e40d-478a-844b-7b2304141b18",
        "colab": {
          "base_uri": "https://localhost:8080/",
          "height": 581
        }
      },
      "source": [
        "test.head()"
      ],
      "execution_count": null,
      "outputs": [
        {
          "output_type": "execute_result",
          "data": {
            "text/html": [
              "<div>\n",
              "<style scoped>\n",
              "    .dataframe tbody tr th:only-of-type {\n",
              "        vertical-align: middle;\n",
              "    }\n",
              "\n",
              "    .dataframe tbody tr th {\n",
              "        vertical-align: top;\n",
              "    }\n",
              "\n",
              "    .dataframe thead th {\n",
              "        text-align: right;\n",
              "    }\n",
              "</style>\n",
              "<table border=\"1\" class=\"dataframe\">\n",
              "  <thead>\n",
              "    <tr style=\"text-align: right;\">\n",
              "      <th></th>\n",
              "      <th>Номер связки</th>\n",
              "      <th>Текст вопросов</th>\n",
              "      <th>preprocess_natasha</th>\n",
              "      <th>preprocess_deepmipt</th>\n",
              "      <th>вопросы_препроцессинговые</th>\n",
              "      <th>deeppavlov</th>\n",
              "      <th>natasha</th>\n",
              "      <th>no_prep_res</th>\n",
              "      <th>ner_res</th>\n",
              "      <th>vec_sim_no_prep</th>\n",
              "    </tr>\n",
              "  </thead>\n",
              "  <tbody>\n",
              "    <tr>\n",
              "      <th>1333</th>\n",
              "      <td>308.0</td>\n",
              "      <td>В сентябре, хочу поехать на личном транспорте ...</td>\n",
              "      <td>В сентябре, хочу поехать на личном транспорте ...</td>\n",
              "      <td>В сентябре , хочу поехать на личном транспорте...</td>\n",
              "      <td>в сентябрь хотеть поехать на личный транспорт ...</td>\n",
              "      <td>в сентябрь хотеть поехать на личный транспорт ...</td>\n",
              "      <td>в сентябрь хотеть поехать на личный транспорт ...</td>\n",
              "      <td>308.0</td>\n",
              "      <td>308.0</td>\n",
              "      <td>89.0</td>\n",
              "    </tr>\n",
              "    <tr>\n",
              "      <th>1986</th>\n",
              "      <td>308.0</td>\n",
              "      <td>ДОбрый день!\\n\\nя прилетел в воскресенье рано ...</td>\n",
              "      <td>ДОбрый день!\\n\\nя прилетел в воскресенье рано ...</td>\n",
              "      <td>ДОбрый день ! \\n \\n я прилетел в воскресенье р...</td>\n",
              "      <td>добрый день я прилететь в воскресение рано утр...</td>\n",
              "      <td>добрый день я прилететь в воскресение рано утр...</td>\n",
              "      <td>добрый день я прилететь в воскресение рано утр...</td>\n",
              "      <td>308.0</td>\n",
              "      <td>308.0</td>\n",
              "      <td>327.0</td>\n",
              "    </tr>\n",
              "    <tr>\n",
              "      <th>2282</th>\n",
              "      <td>37.0</td>\n",
              "      <td>Добрый день! Нужна ли справка об отсутствии Ко...</td>\n",
              "      <td>Добрый день! Нужна ли справка об отсутствии  п...</td>\n",
              "      <td>Добрый день ! Нужна ли справка об отсутствии п...</td>\n",
              "      <td>добрый день нужный ли справка о отсутствие ков...</td>\n",
              "      <td>добрый день нужный ли справка о отсутствие при...</td>\n",
              "      <td>добрый день нужный ли справка о отсутствие при...</td>\n",
              "      <td>308.0</td>\n",
              "      <td>308.0</td>\n",
              "      <td>89.0</td>\n",
              "    </tr>\n",
              "    <tr>\n",
              "      <th>810</th>\n",
              "      <td>5.0</td>\n",
              "      <td>Здравствуйте. Я работаю врачем в поликлинике. ...</td>\n",
              "      <td>Здравствуйте. Я работаю врачем в поликлинике. ...</td>\n",
              "      <td>Здравствуйте . Я работаю врачем в поликлинике ...</td>\n",
              "      <td>здравствуйте я работать вракать в поликлиника ...</td>\n",
              "      <td>здравствуйте я работать вракать в поликлиника ...</td>\n",
              "      <td>здравствуйте я работать вракать в поликлиника ...</td>\n",
              "      <td>308.0</td>\n",
              "      <td>12.0</td>\n",
              "      <td>327.0</td>\n",
              "    </tr>\n",
              "    <tr>\n",
              "      <th>2147</th>\n",
              "      <td>1.0</td>\n",
              "      <td>\\nЗдравствуйте!\\nСкажите, пожалуйста, граждани...</td>\n",
              "      <td>\\nЗдравствуйте!\\nСкажите, пожалуйста, граждани...</td>\n",
              "      <td>Здравствуйте ! Скажите , пожалуйста , граждани...</td>\n",
              "      <td>здравствуйте сказать пожалуйста гражданин само...</td>\n",
              "      <td>здравствуйте сказать пожалуйста гражданин само...</td>\n",
              "      <td>здравствуйте сказать пожалуйста гражданин само...</td>\n",
              "      <td>308.0</td>\n",
              "      <td>308.0</td>\n",
              "      <td>327.0</td>\n",
              "    </tr>\n",
              "  </tbody>\n",
              "</table>\n",
              "</div>"
            ],
            "text/plain": [
              "      Номер связки  ... vec_sim_no_prep\n",
              "1333         308.0  ...            89.0\n",
              "1986         308.0  ...           327.0\n",
              "2282          37.0  ...            89.0\n",
              "810            5.0  ...           327.0\n",
              "2147           1.0  ...           327.0\n",
              "\n",
              "[5 rows x 10 columns]"
            ]
          },
          "metadata": {
            "tags": []
          },
          "execution_count": 55
        }
      ]
    },
    {
      "cell_type": "markdown",
      "metadata": {
        "id": "S-FDdCoMnv1_"
      },
      "source": [
        "###### Оценивание качества"
      ]
    },
    {
      "cell_type": "code",
      "metadata": {
        "id": "TX9paoxq4LiO",
        "outputId": "933a1ac0-fea1-4df8-aa5f-8b7683333040",
        "colab": {
          "base_uri": "https://localhost:8080/",
          "height": 34
        }
      },
      "source": [
        "accuracy_score(test['Номер связки'], test['vec_sim_no_prep'])"
      ],
      "execution_count": null,
      "outputs": [
        {
          "output_type": "execute_result",
          "data": {
            "text/plain": [
              "0.09420289855072464"
            ]
          },
          "metadata": {
            "tags": []
          },
          "execution_count": 56
        }
      ]
    },
    {
      "cell_type": "markdown",
      "metadata": {
        "id": "SEwd5Roon22V"
      },
      "source": [
        "##### Препроцессинг c NER"
      ]
    },
    {
      "cell_type": "markdown",
      "metadata": {
        "id": "zmj6oA2anxz7"
      },
      "source": [
        "###### Оценивание качества"
      ]
    },
    {
      "cell_type": "code",
      "metadata": {
        "id": "uihbUG78Nl81",
        "outputId": "1fc60ebe-d5a4-4b0f-d627-2707584d072e",
        "colab": {
          "base_uri": "https://localhost:8080/",
          "height": 66,
          "referenced_widgets": [
            "8968bdd4fd0f4cd1b1b01ac3502b8891",
            "0ce0a69516634df19ab2e7862f694060",
            "3bb0e28871854c1eaa0488d44b15b0ad",
            "f513c1dac5c7456d9eef52a002c391ed",
            "a20f4fb804c6451fa89ada173037162f",
            "463f1e08473b49a5a3647e0759cb01d0",
            "29a8bafa23b143559fe68899765590b5",
            "765cc8df7e3342338a9480047f2a5a4c"
          ]
        }
      },
      "source": [
        "for_vec_ner = []\n",
        "\n",
        "for index, row in tqdm(train.iterrows()):\n",
        "    fin = doc_vector(row['natasha'])\n",
        "    for_vec_ner.append(fin)"
      ],
      "execution_count": null,
      "outputs": [
        {
          "output_type": "display_data",
          "data": {
            "application/vnd.jupyter.widget-view+json": {
              "model_id": "8968bdd4fd0f4cd1b1b01ac3502b8891",
              "version_minor": 0,
              "version_major": 2
            },
            "text/plain": [
              "HBox(children=(FloatProgress(value=1.0, bar_style='info', max=1.0), HTML(value='')))"
            ]
          },
          "metadata": {
            "tags": []
          }
        },
        {
          "output_type": "stream",
          "text": [
            "\n"
          ],
          "name": "stdout"
        }
      ]
    },
    {
      "cell_type": "code",
      "metadata": {
        "id": "p1rgKFuWNxPD"
      },
      "source": [
        "matr_2 = np.array(for_vec_ner)"
      ],
      "execution_count": null,
      "outputs": []
    },
    {
      "cell_type": "code",
      "metadata": {
        "id": "FEgzl71HN2pH",
        "outputId": "a6397bf7-1162-42bd-aee4-6b17dc527463",
        "colab": {
          "base_uri": "https://localhost:8080/",
          "height": 34
        }
      },
      "source": [
        "matr_2.shape"
      ],
      "execution_count": null,
      "outputs": [
        {
          "output_type": "execute_result",
          "data": {
            "text/plain": [
              "(1652, 300)"
            ]
          },
          "metadata": {
            "tags": []
          },
          "execution_count": 59
        }
      ]
    },
    {
      "cell_type": "code",
      "metadata": {
        "id": "c4COWwKjN7ue",
        "outputId": "1eb1521d-db52-4e4c-e74d-270cd608d9ed",
        "colab": {
          "base_uri": "https://localhost:8080/",
          "height": 66,
          "referenced_widgets": [
            "2f784182c41a4f8f9887ca720310208c",
            "13a48f5fc8f543e690db8cb4c7960e90",
            "34f6b62cd729435598e35f25f36251bf",
            "21309c1b896a45f7ba8a9a0fa5390e39",
            "64fd1fa5c7c3470aac11d4906f816e4b",
            "033f5333f8d74fce8f5490eb4e56154f",
            "a14cb803b8064cb1b815cf9d05443d7f",
            "5b62344868b34ba68d103345384673e3"
          ]
        }
      },
      "source": [
        "for_ner_test = []\n",
        "\n",
        "for index, row in tqdm(test.iterrows()):\n",
        "    fin = sim_vectors(matr_2, row['natasha'])\n",
        "    for_ner_test.append(ranging_simple(fin))"
      ],
      "execution_count": null,
      "outputs": [
        {
          "output_type": "display_data",
          "data": {
            "application/vnd.jupyter.widget-view+json": {
              "model_id": "2f784182c41a4f8f9887ca720310208c",
              "version_minor": 0,
              "version_major": 2
            },
            "text/plain": [
              "HBox(children=(FloatProgress(value=1.0, bar_style='info', max=1.0), HTML(value='')))"
            ]
          },
          "metadata": {
            "tags": []
          }
        },
        {
          "output_type": "stream",
          "text": [
            "\n"
          ],
          "name": "stdout"
        }
      ]
    },
    {
      "cell_type": "code",
      "metadata": {
        "id": "wt8YZIyZOGCp",
        "outputId": "0ac15415-7a47-4eaa-ebb8-c4f61daefd4b",
        "colab": {
          "base_uri": "https://localhost:8080/",
          "height": 139
        }
      },
      "source": [
        "test['vec_sim_ner'] = for_ner_test"
      ],
      "execution_count": null,
      "outputs": [
        {
          "output_type": "stream",
          "text": [
            "/usr/local/lib/python3.6/dist-packages/ipykernel_launcher.py:1: SettingWithCopyWarning: \n",
            "A value is trying to be set on a copy of a slice from a DataFrame.\n",
            "Try using .loc[row_indexer,col_indexer] = value instead\n",
            "\n",
            "See the caveats in the documentation: https://pandas.pydata.org/pandas-docs/stable/user_guide/indexing.html#returning-a-view-versus-a-copy\n",
            "  \"\"\"Entry point for launching an IPython kernel.\n"
          ],
          "name": "stderr"
        }
      ]
    },
    {
      "cell_type": "code",
      "metadata": {
        "id": "430uk2PsOL7P",
        "outputId": "d2e84cf0-0565-499c-8cad-fd40e36562fc",
        "colab": {
          "base_uri": "https://localhost:8080/",
          "height": 496
        }
      },
      "source": [
        "test.tail()"
      ],
      "execution_count": null,
      "outputs": [
        {
          "output_type": "execute_result",
          "data": {
            "text/html": [
              "<div>\n",
              "<style scoped>\n",
              "    .dataframe tbody tr th:only-of-type {\n",
              "        vertical-align: middle;\n",
              "    }\n",
              "\n",
              "    .dataframe tbody tr th {\n",
              "        vertical-align: top;\n",
              "    }\n",
              "\n",
              "    .dataframe thead th {\n",
              "        text-align: right;\n",
              "    }\n",
              "</style>\n",
              "<table border=\"1\" class=\"dataframe\">\n",
              "  <thead>\n",
              "    <tr style=\"text-align: right;\">\n",
              "      <th></th>\n",
              "      <th>Номер связки</th>\n",
              "      <th>Текст вопросов</th>\n",
              "      <th>preprocess_natasha</th>\n",
              "      <th>preprocess_deepmipt</th>\n",
              "      <th>вопросы_препроцессинговые</th>\n",
              "      <th>deeppavlov</th>\n",
              "      <th>natasha</th>\n",
              "      <th>no_prep_res</th>\n",
              "      <th>ner_res</th>\n",
              "      <th>vec_sim_no_prep</th>\n",
              "      <th>vec_sim_ner</th>\n",
              "    </tr>\n",
              "  </thead>\n",
              "  <tbody>\n",
              "    <tr>\n",
              "      <th>479</th>\n",
              "      <td>57.0</td>\n",
              "      <td>Здравствуйте! Я работаю в больнице, нас закрыв...</td>\n",
              "      <td>Здравствуйте! Я работаю в больнице, нас закрыв...</td>\n",
              "      <td>Здравствуйте ! Я работаю в больнице , нас закр...</td>\n",
              "      <td>здравствуйте я работать в больница мы закрыват...</td>\n",
              "      <td>здравствуйте я работать в больница мы закрыват...</td>\n",
              "      <td>здравствуйте я работать в больница мы закрыват...</td>\n",
              "      <td>308.0</td>\n",
              "      <td>308.0</td>\n",
              "      <td>12.0</td>\n",
              "      <td>12.0</td>\n",
              "    </tr>\n",
              "    <tr>\n",
              "      <th>1545</th>\n",
              "      <td>257.0</td>\n",
              "      <td>Добрый день, с 07.08.2020 года почувствовал не...</td>\n",
              "      <td>Добрый день, с 07.08.2020 года почувствовал не...</td>\n",
              "      <td>Добрый день , с 07 . 08 . 2020 года почувствов...</td>\n",
              "      <td>добрый день с 07082020 год почувствовать недом...</td>\n",
              "      <td>добрый день с 07 08 2020 год почувствовать нед...</td>\n",
              "      <td>добрый день с 07082020 год почувствовать недом...</td>\n",
              "      <td>308.0</td>\n",
              "      <td>308.0</td>\n",
              "      <td>327.0</td>\n",
              "      <td>327.0</td>\n",
              "    </tr>\n",
              "    <tr>\n",
              "      <th>1473</th>\n",
              "      <td>308.0</td>\n",
              "      <td>Добрый день! \\nСкажите пожалуйста, может ли пр...</td>\n",
              "      <td>Добрый день! \\nСкажите пожалуйста, может ли пр...</td>\n",
              "      <td>Добрый день ! Скажите пожалуйста , может ли пр...</td>\n",
              "      <td>добрый день сказать пожалуйста мочь ли прилете...</td>\n",
              "      <td>добрый день сказать пожалуйста мочь ли прилете...</td>\n",
              "      <td>добрый день сказать пожалуйста мочь ли прилете...</td>\n",
              "      <td>308.0</td>\n",
              "      <td>308.0</td>\n",
              "      <td>37.0</td>\n",
              "      <td>12.0</td>\n",
              "    </tr>\n",
              "    <tr>\n",
              "      <th>278</th>\n",
              "      <td>12.0</td>\n",
              "      <td>Добрый день!        \\n        \\nВыдано постано...</td>\n",
              "      <td>Добрый день!        \\n        \\nВыдано постано...</td>\n",
              "      <td>Добрый день ! \\n \\n Выдано постановление на 14...</td>\n",
              "      <td>добрый день выдать постановление на 14 день як...</td>\n",
              "      <td>добрый день выдать постановление на 14 день як...</td>\n",
              "      <td>добрый день выдать постановление на 14 день як...</td>\n",
              "      <td>308.0</td>\n",
              "      <td>308.0</td>\n",
              "      <td>327.0</td>\n",
              "      <td>327.0</td>\n",
              "    </tr>\n",
              "    <tr>\n",
              "      <th>1348</th>\n",
              "      <td>326.0</td>\n",
              "      <td>Как сделать прививку от гриппа?\\n</td>\n",
              "      <td>Как сделать прививку от гриппа?\\n</td>\n",
              "      <td>Как сделать прививку от гриппа ?</td>\n",
              "      <td>как сделать прививка от грипп</td>\n",
              "      <td>как сделать прививка от грипп</td>\n",
              "      <td>как сделать прививка от грипп</td>\n",
              "      <td>327.0</td>\n",
              "      <td>327.0</td>\n",
              "      <td>78.0</td>\n",
              "      <td>78.0</td>\n",
              "    </tr>\n",
              "  </tbody>\n",
              "</table>\n",
              "</div>"
            ],
            "text/plain": [
              "      Номер связки  ... vec_sim_ner\n",
              "479           57.0  ...        12.0\n",
              "1545         257.0  ...       327.0\n",
              "1473         308.0  ...        12.0\n",
              "278           12.0  ...       327.0\n",
              "1348         326.0  ...        78.0\n",
              "\n",
              "[5 rows x 11 columns]"
            ]
          },
          "metadata": {
            "tags": []
          },
          "execution_count": 62
        }
      ]
    },
    {
      "cell_type": "code",
      "metadata": {
        "id": "-ku55Msv4MPS",
        "outputId": "1aae4d45-9ea8-4a7c-b6ba-89acefd43e51",
        "colab": {
          "base_uri": "https://localhost:8080/",
          "height": 34
        }
      },
      "source": [
        "accuracy_score(test['Номер связки'], test['vec_sim_ner'])"
      ],
      "execution_count": null,
      "outputs": [
        {
          "output_type": "execute_result",
          "data": {
            "text/plain": [
              "0.12173913043478261"
            ]
          },
          "metadata": {
            "tags": []
          },
          "execution_count": 63
        }
      ]
    }
  ]
}